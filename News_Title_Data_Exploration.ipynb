{
  "nbformat": 4,
  "nbformat_minor": 0,
  "metadata": {
    "colab": {
      "name": "News Title Data Exploration.ipynb",
      "provenance": [],
      "collapsed_sections": [],
      "toc_visible": true,
      "authorship_tag": "ABX9TyP/fLwHfUWKz64QwQMrbhms",
      "include_colab_link": true
    },
    "kernelspec": {
      "name": "python3",
      "display_name": "Python 3"
    },
    "language_info": {
      "name": "python"
    }
  },
  "cells": [
    {
      "cell_type": "markdown",
      "metadata": {
        "id": "view-in-github",
        "colab_type": "text"
      },
      "source": [
        "<a href=\"https://colab.research.google.com/github/Amit-GH/NewsDataExploration/blob/mainline/News_Title_Data_Exploration.ipynb\" target=\"_parent\"><img src=\"https://colab.research.google.com/assets/colab-badge.svg\" alt=\"Open In Colab\"/></a>"
      ]
    },
    {
      "cell_type": "markdown",
      "metadata": {
        "id": "NvooHxpSd5Z4"
      },
      "source": [
        "# Data Analysis on News Titles dataset\n",
        "\n",
        "Note:\n",
        "* In our analysis we read through the data multiple times. In a production setting this is not efficient and can be improved. Many steps can be performed at once like finding vocabulary size and creating in-memory index. But we keep it separate to make the analysis easier to understand and show the natural progress done in the work."
      ]
    },
    {
      "cell_type": "markdown",
      "metadata": {
        "id": "1rC64wV2flnX"
      },
      "source": [
        "## Infrastructure and library setup"
      ]
    },
    {
      "cell_type": "code",
      "metadata": {
        "id": "gIyJan_oYoWo"
      },
      "source": [
        "import pathlib\n",
        "import pandas as pd\n",
        "import numpy as np\n",
        "import matplotlib.pyplot as plt\n",
        "import re\n",
        "import nltk\n",
        "import scipy\n",
        "import os\n",
        "import pickle"
      ],
      "execution_count": 1,
      "outputs": []
    },
    {
      "cell_type": "code",
      "metadata": {
        "colab": {
          "base_uri": "https://localhost:8080/"
        },
        "id": "-aiIHwmNSH6d",
        "outputId": "3541ea63-0f4c-4159-f37b-f03f3f4c047f"
      },
      "source": [
        "# Load the Drive helper and mount\n",
        "from google.colab import drive\n",
        "drive.mount('/content/drive')"
      ],
      "execution_count": 2,
      "outputs": [
        {
          "output_type": "stream",
          "text": [
            "Mounted at /content/drive\n"
          ],
          "name": "stdout"
        }
      ]
    },
    {
      "cell_type": "code",
      "metadata": {
        "colab": {
          "base_uri": "https://localhost:8080/"
        },
        "id": "XHDGsBwAYwxb",
        "outputId": "5bee9669-dad4-4b54-923d-87387c3d2a11"
      },
      "source": [
        "cd drive/MyDrive/Eluvio\\ Dataset"
      ],
      "execution_count": 3,
      "outputs": [
        {
          "output_type": "stream",
          "text": [
            "/content/drive/MyDrive/Eluvio Dataset\n"
          ],
          "name": "stdout"
        }
      ]
    },
    {
      "cell_type": "code",
      "metadata": {
        "colab": {
          "base_uri": "https://localhost:8080/"
        },
        "id": "8yNfGJJCY2dk",
        "outputId": "d0986865-63c7-472c-ead0-c75e852ab977"
      },
      "source": [
        "path = pathlib.Path().absolute()\n",
        "print(path)"
      ],
      "execution_count": 4,
      "outputs": [
        {
          "output_type": "stream",
          "text": [
            "/content/drive/MyDrive/Eluvio Dataset\n"
          ],
          "name": "stdout"
        }
      ]
    },
    {
      "cell_type": "code",
      "metadata": {
        "id": "K_RRvH6aWfAc"
      },
      "source": [
        "assert str(path) == '/content/drive/MyDrive/Eluvio Dataset' or str(path) == '/content/drive/My Drive/Eluvio Dataset'"
      ],
      "execution_count": 5,
      "outputs": []
    },
    {
      "cell_type": "code",
      "metadata": {
        "colab": {
          "base_uri": "https://localhost:8080/"
        },
        "id": "n50y49kubiqM",
        "outputId": "490a7d75-4c7c-4409-9cd4-9020e6321b38"
      },
      "source": [
        "'''\n",
        "Look at few rows of the data to understand the data types, rows and columns.\n",
        "Create a high level sense of the data to pose questions later on.\n",
        "'''\n",
        "\n",
        "filename = 'Eluvio_DS_Challenge.csv'\n",
        "\n",
        "# print partial data and all column names.\n",
        "for chunk in pd.read_csv(filename, sep=',', header=0, chunksize=5):\n",
        "    print(chunk)\n",
        "    print(chunk.columns)\n",
        "    break"
      ],
      "execution_count": 6,
      "outputs": [
        {
          "output_type": "stream",
          "text": [
            "   time_created date_created  up_votes  ...  over_18    author   category\n",
            "0    1201232046   2008-01-25         3  ...    False     polar  worldnews\n",
            "1    1201232075   2008-01-25         2  ...    False     polar  worldnews\n",
            "2    1201232523   2008-01-25         3  ...    False     polar  worldnews\n",
            "3    1201233290   2008-01-25         1  ...    False   fadi420  worldnews\n",
            "4    1201274720   2008-01-25         4  ...    False  mhermans  worldnews\n",
            "\n",
            "[5 rows x 8 columns]\n",
            "Index(['time_created', 'date_created', 'up_votes', 'down_votes', 'title',\n",
            "       'over_18', 'author', 'category'],\n",
            "      dtype='object')\n"
          ],
          "name": "stdout"
        }
      ]
    },
    {
      "cell_type": "markdown",
      "metadata": {
        "id": "3MzYbk_JgHpb"
      },
      "source": [
        "## Identify relevant and irrelevant fields.\n",
        "\n",
        "Not all fields are relevant. If a particular field has only cardinality=1, then it is unhelpful for most types of analysis (if any)."
      ]
    },
    {
      "cell_type": "code",
      "metadata": {
        "id": "QUGekAVgdjHP"
      },
      "source": [
        "categories = set()\n",
        "author_stats = {} # key = author name, value = [count, upvotes, downvotes]\n",
        "downvotes_set = set()\n",
        "max_upvotes = 0\n",
        "\n",
        "# Read the file in paginated way as it can be big.\n",
        "for chunk in pd.read_csv(filename, sep=',', header=0, chunksize=100000):\n",
        "    categories.update(chunk['category'])\n",
        "\n",
        "    for author, upvotes, downvotes in zip(chunk['author'], chunk['up_votes'], chunk['down_votes']):\n",
        "        author_stats[author] = author_stats.get(author, np.zeros((3, ))) + np.array([1, upvotes, downvotes])\n",
        "        max_upvotes = max(max_upvotes, upvotes)\n",
        "    downvotes_set.update(chunk['down_votes'])"
      ],
      "execution_count": 7,
      "outputs": []
    },
    {
      "cell_type": "code",
      "metadata": {
        "colab": {
          "base_uri": "https://localhost:8080/"
        },
        "id": "uMw9faR5iXaV",
        "outputId": "aa793ac9-d8c7-4bd6-ad87-b09a57ea4d4e"
      },
      "source": [
        "print('Unique type of downvotes = {}'.format(len(downvotes_set)))\n",
        "print('categories: size = {}, content = {}\\n'.format(len(categories), categories))\n",
        "print('\\nBased on data, categories and content columns don\\'t help at all as there is no variability.')"
      ],
      "execution_count": 8,
      "outputs": [
        {
          "output_type": "stream",
          "text": [
            "Unique type of downvotes = 1\n",
            "categories: size = 1, content = {'worldnews'}\n",
            "\n",
            "\n",
            "Based on data, categories and content columns don't help at all as there is no variability.\n"
          ],
          "name": "stdout"
        }
      ]
    },
    {
      "cell_type": "markdown",
      "metadata": {
        "id": "dWkDFEEjip25"
      },
      "source": [
        "## Authors statistics and quality\n",
        "We pose three questions and try to answer them from the data.\n",
        "1. Who are authors that have written the most number of news articles?\n",
        "1. Who are the authors that write very popular articles? We can use upvotes data to answer this question.\n",
        "1. Which authors write quality articles that are most likely to be upvoted by people?"
      ]
    },
    {
      "cell_type": "code",
      "metadata": {
        "colab": {
          "base_uri": "https://localhost:8080/"
        },
        "id": "W6ewyRfXe4tx",
        "outputId": "c95ba124-8ebc-45a2-95aa-876c161b05d5"
      },
      "source": [
        "print('unique authors = {}\\n'.format(len(author_stats)))\n",
        "author_stats_list = list(author_stats.items())\n",
        "\n",
        "# sort authors by their count\n",
        "author_stats_list.sort(key=lambda a:a[1][0], reverse=True)\n",
        "print('Top 10 authors by counts are:')\n",
        "for i, (author, stat) in enumerate(author_stats_list[:10]):\n",
        "    print('  {} -> {} : {}'.format(i+1, author, stat[0]))\n",
        "\n",
        "# sort authors by upvotes\n",
        "author_stats_list.sort(key=lambda a:a[1][1], reverse=True)\n",
        "print('\\nTop 10 authors by upvotes are:')\n",
        "for i, (author, stat) in enumerate(author_stats_list[:10]):\n",
        "    print('  {} -> {} : {}'.format(i+1, author, stat[1]))\n",
        "\n",
        "# sort authors by upvotes per count\n",
        "author_stats_list.sort(key=lambda a:a[1][1]/a[1][0], reverse=True)\n",
        "print('\\nTop 10 authors by upvotes per count are:')\n",
        "for i, (author, stat) in enumerate(author_stats_list[:10]):\n",
        "    print('  {} -> {} : {}'.format(i+1, author, stat[1]/stat[0]))"
      ],
      "execution_count": 9,
      "outputs": [
        {
          "output_type": "stream",
          "text": [
            "unique authors = 85838\n",
            "\n",
            "Top 10 authors by counts are:\n",
            "  1 -> davidreiss666 : 8897.0\n",
            "  2 -> anutensil : 5730.0\n",
            "  3 -> DoremusJessup : 5037.0\n",
            "  4 -> maxwellhill : 4023.0\n",
            "  5 -> igeldard : 4013.0\n",
            "  6 -> readerseven : 3170.0\n",
            "  7 -> twolf1 : 2923.0\n",
            "  8 -> madam1 : 2658.0\n",
            "  9 -> nimobo : 2564.0\n",
            "  10 -> madazzahatter : 2503.0\n",
            "\n",
            "Top 10 authors by upvotes are:\n",
            "  1 -> maxwellhill : 1985416.0\n",
            "  2 -> anutensil : 1531544.0\n",
            "  3 -> Libertatea : 832102.0\n",
            "  4 -> DoremusJessup : 584380.0\n",
            "  5 -> Wagamaga : 580121.0\n",
            "  6 -> NinjaDiscoJesus : 492582.0\n",
            "  7 -> madazzahatter : 428966.0\n",
            "  8 -> madam1 : 390541.0\n",
            "  9 -> davidreiss666 : 338306.0\n",
            "  10 -> kulkke : 333311.0\n",
            "\n",
            "Top 10 authors by upvotes per count are:\n",
            "  1 -> navysealassulter : 12333.0\n",
            "  2 -> seapiglet : 11288.0\n",
            "  3 -> DawgsOnTopUGA : 10515.0\n",
            "  4 -> Flamo_the_Idiot_Boy : 10289.0\n",
            "  5 -> haunted_cheesecake : 9408.0\n",
            "  6 -> bendertheoffender22 : 8781.0\n",
            "  7 -> crippledrejex : 8601.0\n",
            "  8 -> FlandersNed : 8446.0\n",
            "  9 -> lesseva96 : 8404.0\n",
            "  10 -> sverdrupian : 8262.0\n"
          ],
          "name": "stdout"
        }
      ]
    },
    {
      "cell_type": "markdown",
      "metadata": {
        "id": "lf-lmSMTkAO0"
      },
      "source": [
        "## Data pre-processing\n",
        "* We pre-process the `title` data which is a string of English language text.\n",
        "* We find vocabulary size to get an idea about the diversity of text."
      ]
    },
    {
      "cell_type": "code",
      "metadata": {
        "colab": {
          "base_uri": "https://localhost:8080/"
        },
        "id": "bwEwC6TVnbW-",
        "outputId": "db9d72b2-17fa-4105-8933-1aaa1b350d4d"
      },
      "source": [
        "# Downloads the stop words data.\n",
        "nltk.download('stopwords')\n",
        "\n",
        "# Using the stopwords.\n",
        "from nltk.corpus import stopwords\n",
        "\n",
        "# Initialize the stopwords for English language.\n",
        "stop_words = set(stopwords.words('english'))\n",
        "print(len(stop_words))"
      ],
      "execution_count": 10,
      "outputs": [
        {
          "output_type": "stream",
          "text": [
            "[nltk_data] Downloading package stopwords to /root/nltk_data...\n",
            "[nltk_data]   Unzipping corpora/stopwords.zip.\n",
            "179\n"
          ],
          "name": "stdout"
        }
      ]
    },
    {
      "cell_type": "code",
      "metadata": {
        "id": "aJOemxEnw7kM"
      },
      "source": [
        "'''\n",
        "Input: a string sentence (a news title in our case)\n",
        "Returns:\n",
        "    a list of words present in the sentence after pre-processing.\n",
        "'''\n",
        "def pre_process_sentence_to_list(sentence):\n",
        "    # sent = re.sub(r'[^\\w\\s]', ' ', sentence)\n",
        "    sentence = sentence.lower()\n",
        "    sent = re.sub(r'[^\\w ]', ' ', sentence)\n",
        "    words = sent.split(' ')\n",
        "    words_nostop = [word for word in words if word not in stop_words and len(word) > 1]\n",
        "    return words_nostop"
      ],
      "execution_count": 11,
      "outputs": []
    },
    {
      "cell_type": "code",
      "metadata": {
        "id": "wZVt_tTTcOQG"
      },
      "source": [
        "# Read all titles, prune the data and find number of unique words.\n",
        "all_unique_words = set()\n",
        "\n",
        "for chunk in pd.read_csv(filename, sep=',', header=0, chunksize=100000):\n",
        "    for title in chunk['title']:\n",
        "        words_list = pre_process_sentence_to_list(title)\n",
        "        words_set = set(words_list)\n",
        "        all_unique_words.update(words_set)"
      ],
      "execution_count": 12,
      "outputs": []
    },
    {
      "cell_type": "code",
      "metadata": {
        "colab": {
          "base_uri": "https://localhost:8080/"
        },
        "id": "EJKezgIEmPYc",
        "outputId": "23a48f99-4f3c-47c6-e21c-6eb3f370169a"
      },
      "source": [
        "print('Vocabulary size: {}.'.format(len(all_unique_words)))\n",
        "print('Printing random 10 words from the vocabulary:')\n",
        "for i, word in enumerate(all_unique_words):\n",
        "    print(word, )\n",
        "    if i == 10:\n",
        "        break"
      ],
      "execution_count": 13,
      "outputs": [
        {
          "output_type": "stream",
          "text": [
            "Vocabulary size: 87835.\n",
            "Printing random 10 words from the vocabulary:\n",
            "arab\n",
            "польша\n",
            "dirce\n",
            "275\n",
            "cfr\n",
            "congresswoman\n",
            "deathless\n",
            "hawaii\n",
            "waverider\n",
            "baltics\n",
            "généraux\n"
          ],
          "name": "stdout"
        }
      ]
    },
    {
      "cell_type": "markdown",
      "metadata": {
        "id": "5Dat_UcorY4t"
      },
      "source": [
        "## Inverted Index creation\n",
        "\n",
        "In document ranking and processing tasks, an inverted index is a very helpful data structure. For large document collection it is saved on disk.\n",
        "It maps every word on the collection to a posting list. The posting list can be of a variety of types. We create a count inverted index where the posting list for a word consists of a dictionary where key is title_id and value is the number of times the word appears in the title string.\n",
        "\n",
        "`index = {word : {title_id : count}}`"
      ]
    },
    {
      "cell_type": "code",
      "metadata": {
        "id": "hyupJY6ZnoB1"
      },
      "source": [
        "'''\n",
        "Create in-memory reverse index from the titles. Index can be saved on file if it is too big.\n",
        "Here we skip that part and use in-memory index for our analysis.\n",
        "\n",
        "Create some more helper data structures described below.\n",
        "\n",
        "inMemoryIndex - the in-memory index data structure.\n",
        "title_len - a dict where key is title_id and value is number of words in the title string.\n",
        "avgtl - average title length across the dataset.\n",
        "num_titles - Total number of titles or rows in the dataset.\n",
        "'''\n",
        "\n",
        "inMemoryIndex = {}\n",
        "title_index = 0\n",
        "\n",
        "title_len = {}\n",
        "avgtl = 0\n",
        "# total number of terms present in the collection including repetition.\n",
        "sumtl = 0\n",
        "\n",
        "for chunk in pd.read_csv(filename, sep=',', header=0, chunksize=50000):\n",
        "    for i, title in enumerate(chunk['title']):\n",
        "        title_id = title_index + i\n",
        "        words_list = pre_process_sentence_to_list(title)\n",
        "        \n",
        "        title_len[title_id] = len(words_list)\n",
        "        sumtl += len(words_list)\n",
        "\n",
        "        for word in words_list:\n",
        "            inMemoryIndex[word] = inMemoryIndex.get(word, {})\n",
        "            title_id_to_count = inMemoryIndex[word]\n",
        "            title_id_to_count[title_id] = title_id_to_count.get(title_id, 0)\n",
        "            title_id_to_count[title_id] += 1\n",
        "    title_index += chunk.shape[0]\n",
        "\n",
        "num_titles = title_index\n",
        "\n",
        "avgtl = sumtl / num_titles"
      ],
      "execution_count": 14,
      "outputs": []
    },
    {
      "cell_type": "markdown",
      "metadata": {
        "id": "-2uYCu5Jmn3l"
      },
      "source": [
        "## Find news titles that match the most for a word\n",
        "\n",
        "Given a word, find the top $k$ news titles based on the number of occurence of that word in the title."
      ]
    },
    {
      "cell_type": "code",
      "metadata": {
        "id": "FXt2MqHgwxea"
      },
      "source": [
        "'''\n",
        "Given a word, find at most k titles having the word most number of times.\n",
        "Returns a list of title ids. Most matched titles are placed first.\n",
        "'''\n",
        "def give_matching_title_ids(word, k):\n",
        "    title_id_count_list = list(inMemoryIndex.get(word, {}).items())\n",
        "    title_id_count_list.sort(key=lambda a:a[1], reverse=True)\n",
        "    title_id_list = []\n",
        "    for tid_count in title_id_count_list[:k]:\n",
        "        title_id_list.append(tid_count[0])\n",
        "    return title_id_list\n",
        "\n",
        "'''\n",
        "Given a list of sorted title_ids, returns a list of title strings.\n",
        "This is a private helper function for the generic method which allows non-sorted input.\n",
        "'''\n",
        "def _title_id_to_title(title_id_list):\n",
        "    title_index = 0\n",
        "    titles = []\n",
        "    \n",
        "    if len(title_id_list) == 0:\n",
        "        return titles\n",
        "    \n",
        "    tid_index = 0\n",
        "    done = False\n",
        "    for chunk in pd.read_csv(filename, sep=',', header=0, chunksize=50000):\n",
        "        for i, title in enumerate(chunk['title']):\n",
        "            title_id = i + title_index\n",
        "            if title_id == title_id_list[tid_index]:\n",
        "                titles.append(title)\n",
        "                tid_index += 1\n",
        "                if tid_index == len(title_id_list):\n",
        "                    done = True\n",
        "                    break\n",
        "        if done == True:\n",
        "            break\n",
        "        title_index += chunk.shape[0]\n",
        "    return titles\n",
        "\n",
        "'''\n",
        "Given a list of title_ids (may not be sorted), returns a list of title strings.\n",
        "'''\n",
        "def title_id_to_title(title_id_list):\n",
        "    if len(title_id_list) == 0:\n",
        "        return []\n",
        "    \n",
        "    title_id_list = np.array(title_id_list)\n",
        "    sorted_tids_index = np.argsort(title_id_list)\n",
        "    matching_titles = _title_id_to_title(title_id_list[sorted_tids_index])\n",
        "    pos_arr = np.zeros(len(title_id_list), dtype=np.int8)\n",
        "    for pos, ind in enumerate(sorted_tids_index):\n",
        "        pos_arr[ind] = pos\n",
        "    ret_list = []\n",
        "    for pos in pos_arr:\n",
        "        ret_list.append(matching_titles[pos])\n",
        "    return ret_list"
      ],
      "execution_count": 15,
      "outputs": []
    },
    {
      "cell_type": "code",
      "metadata": {
        "id": "VSHyvfEy8onp"
      },
      "source": [
        "'''\n",
        "Given a word and k, prints the top k titles that have the word in them the most\n",
        "number of times.\n",
        "'''\n",
        "def print_matching_titles(word, k):\n",
        "    word = pre_process_sentence_to_list(word)[0]\n",
        "    matching_tids = np.array(give_matching_title_ids(word, k))\n",
        "    # print(matching_tids)\n",
        "    matching_titles = title_id_to_title(matching_tids)\n",
        "    print('Top {} titles for word \\'{}\\' based on frequency of occurence of the word.'.format(k, word))\n",
        "    print('  Rank -> title_id : title string')\n",
        "    for i, (tid, title) in enumerate(zip(matching_tids, matching_titles)):\n",
        "        print('  {} -> {} : {}'.format(i+1, tid, title))"
      ],
      "execution_count": 16,
      "outputs": []
    },
    {
      "cell_type": "markdown",
      "metadata": {
        "id": "7sHVGnkSnInz"
      },
      "source": [
        "### Example\n",
        "\n",
        "1. Find top titles for word 'Prison'\n",
        "1. Find top titles for word 'turkish'."
      ]
    },
    {
      "cell_type": "code",
      "metadata": {
        "colab": {
          "base_uri": "https://localhost:8080/"
        },
        "id": "DHqXZjHmNJVX",
        "outputId": "a23da20c-6d90-4c31-f9ec-e21cef0ed580"
      },
      "source": [
        "print_matching_titles('Prison', 5)\n",
        "print()\n",
        "print_matching_titles('turkish', 5)"
      ],
      "execution_count": 17,
      "outputs": [
        {
          "output_type": "stream",
          "text": [
            "Top 5 titles for word 'prison' based on frequency of occurence of the word.\n",
            "  Rank -> title_id : title string\n",
            "  1 -> 48641 : How my father went from the prison of the shah to the prison of Khamenei. Right now, he is in solitary confinement in Evin prison in Tehran\n",
            "  2 -> 108093 : France sends ex-dictator Noriega to prison in native Panama - After more than 20 years in prison and being passed from country to country, former Panamanian strongman Manuel Noriega has returned home to serve out prison sentences for crimes committed during his dictatorship.\n",
            "  3 -> 188209 : 9 Escaped, 2 Guards Killed in Mexico Prison Attack. The attackers opened fire on prison guard towers early on Sunday before entering the prison’s territory and releasing several prisoners.\n",
            "  4 -> 232103 : Islamist women and girls receive heavy prison sentences for Egypt protests  ...Among them were seven girls ages 15 and 16, who were sentenced to prison terms until they turn 18. The rest — most ages 18 to 22 — were sentenced to 11 years in prison. \n",
            "  5 -> 11779 : More than a dozen Italian police officers, prison guards and doctors have been given prison sentences after being found guilty of brutality at a G8 summit in 2001. None will serve any time.\n",
            "\n",
            "Top 5 titles for word 'turkish' based on frequency of occurence of the word.\n",
            "  Rank -> title_id : title string\n",
            "  1 -> 52369 :  It s Time for Turkey to Snap Out of Its Self-Delusion  - Turkish Prime Minister Recep Tayyip Erdogan has once again suggested that Germany establish Turkish-language high schools for its immigrant population of Turkish descent. Regardless of the idea s merits, it is unlikely to endear him to Merkel\n",
            "  2 -> 58041 : Turkish Prez Erdogan: Israel Will Pay For Flotilla Raid - A week after the Israeli commando raid on a Gaza-bound Turkish ship, which left nine people dead, Turkish Prime Minister Recep Tayyip Erdogan said he would  no longer be silent on Gaza becoming a giant prison. \n",
            "  3 -> 98393 : Turkish airstrike campaign  killed 160 Kurdish rebels  -- Turkish jets bombed Kurdish rebel bases in northern Iraq in a series of air strikes last week which killed up to 160 rebels, Turkish officials say.\n",
            "  4 -> 133788 : In Turkish border city, Erdogan s backing of Syrian rebels draws ire:  In the city of Antakya on the Turkish-Syrian border, Turkish government support for the Syrian opposition has unnerved locals belonging to the same Shiite sect as President Assad.\n",
            "  5 -> 167447 : Around 1000 Turkish nationals will protest against the Dutch fostercare for placing Turkish children in the care of gay and non-Muslim couples. The protest will coincide with Turkish PM Erdogan s visit to The Netherlands on Thursday. [x-post from r/europe]\n"
          ],
          "name": "stdout"
        }
      ]
    },
    {
      "cell_type": "markdown",
      "metadata": {
        "id": "MdeZkvKboP5K"
      },
      "source": [
        "## Zipf distribution verification\n",
        "\n",
        "In a document or collection of documents, the distribution of frequencies of different words roughly follow a pattern. This distribution is described by the *Zipf's Law* which states that the rank of a word ($r$) is inversely proportional to this frequency ($f$). i.e. $r \\propto \\frac{1}{f}$. Alternatively, the rank of a word times its frequency is a constant ($k$). \n",
        "\n",
        "$$r . f = k$$\n",
        "\n",
        "Another way to state the Zipf's Law is to use the probability of terms instead of frequency. For that we need to divide frequency by the total number of terms in the document(s). We get,\n",
        "\n",
        "$$r. P_r = c$$\n",
        "\n",
        "where, $P_r$ is the probability of the word having rank $r$, and $c$ is a new contant which is essentially the constant $k$ divided by the total number of words.\n",
        "\n",
        "Taking $\\log$ on both sides, \n",
        "\n",
        "$$\\log r + \\log P_r = \\log c$$\n",
        "\n",
        "We show the existence of this distribution by plotting a graph between $\\log r$ (the log of the word rank) and $\\log P_r$ (the log of the probability of a word) for all words."
      ]
    },
    {
      "cell_type": "code",
      "metadata": {
        "id": "RlrMYC9u17BA"
      },
      "source": [
        "'''\n",
        "We can find if the words in the titles follow zipf distribution.\n",
        "rank * term probability should almost be equal for all words. We will investigate\n",
        "top k words.\n",
        "\n",
        "Input:\n",
        "    k - number of top-k words we want to know.\n",
        "    index - the in-memory count index.\n",
        "Returns:\n",
        "    terms - list of k terms.\n",
        "    term_probs - prob of each term in descending order.\n",
        "    r_term_probs - rank * term_prob for every term.\n",
        "'''\n",
        "\n",
        "from queue import PriorityQueue\n",
        "\n",
        "def zipf(k, index):\n",
        "    total_term_count = 0\n",
        "    q = PriorityQueue()\n",
        "\n",
        "    for term in index:\n",
        "        tid_count_list = list(index[term].items())\n",
        "        term_count = 0\n",
        "        for tid, count in tid_count_list:\n",
        "            term_count += count\n",
        "        total_term_count += term_count\n",
        "\n",
        "        q.put((term_count, term))\n",
        "        if q.qsize() > k:\n",
        "            q.get()\n",
        "    \n",
        "    terms = []\n",
        "    term_probs = []\n",
        "    while not q.empty():\n",
        "        term_count, term = q.get()\n",
        "        terms.append(term)\n",
        "        term_probs.append(term_count / total_term_count)\n",
        "    terms.reverse()\n",
        "    term_probs.reverse()\n",
        "\n",
        "    r_term_probs = []\n",
        "    for r, tp in enumerate(term_probs):\n",
        "        r_term_probs.append((r + 1) * tp)\n",
        "    \n",
        "    return terms, term_probs, r_term_probs"
      ],
      "execution_count": 18,
      "outputs": []
    },
    {
      "cell_type": "code",
      "metadata": {
        "colab": {
          "base_uri": "https://localhost:8080/"
        },
        "id": "pIqVd7pyB9Av",
        "outputId": "212b22fc-223c-4b98-b466-64b97f6fdf90"
      },
      "source": [
        "terms, term_probs, r_term_probs = zipf(10, inMemoryIndex)\n",
        "print(terms)\n",
        "print(r_term_probs)"
      ],
      "execution_count": 19,
      "outputs": [
        {
          "output_type": "stream",
          "text": [
            "['china', 'says', 'us', 'new', 'syria', 'russia', 'world', 'police', 'government', 'israel']\n",
            "[0.005093094599548515, 0.00981381080090297, 0.014423199367149664, 0.018050126377124776, 0.018351694997009397, 0.021724517162206487, 0.02443361824461209, 0.025706071890254492, 0.02831329950413861, 0.030963360280923807]\n"
          ],
          "name": "stdout"
        }
      ]
    },
    {
      "cell_type": "code",
      "metadata": {
        "colab": {
          "base_uri": "https://localhost:8080/",
          "height": 425
        },
        "id": "RU8hHTVVCEJp",
        "outputId": "4d4df722-504f-41c1-a15e-8710f7099043"
      },
      "source": [
        "max_rank = len(inMemoryIndex)\n",
        "terms, term_probs, r_term_probs = zipf(len(inMemoryIndex), inMemoryIndex)\n",
        "\n",
        "fig = plt.figure(figsize=(6, 6))\n",
        "ax = fig.add_subplot(1, 1, 1)\n",
        "ax.plot(\n",
        "    np.log(np.arange(max_rank) + 1),\n",
        "    np.log(term_probs[:max_rank]),\n",
        "    color='red',\n",
        "    label=''\n",
        ")\n",
        "ax.legend()\n",
        "ax.set(\n",
        "    xlabel=r'$\\log(rank)$',\n",
        "    ylabel=r'$\\log(P_r)$',\n",
        "    title=\"Zipf's Law demonstration\",\n",
        ")\n",
        "plt.show()"
      ],
      "execution_count": 20,
      "outputs": [
        {
          "output_type": "stream",
          "text": [
            "No handles with labels found to put in legend.\n"
          ],
          "name": "stderr"
        },
        {
          "output_type": "display_data",
          "data": {
            "image/png": "[encoded data removed]",
            "text/plain": [
              "<Figure size 432x432 with 1 Axes>"
            ]
          },
          "metadata": {
            "tags": [],
            "needs_background": "light"
          }
        }
      ]
    },
    {
      "cell_type": "markdown",
      "metadata": {
        "id": "zey264k7tLAA"
      },
      "source": [
        "## Most popular news titles\n",
        " "
      ]
    },
    {
      "cell_type": "code",
      "metadata": {
        "id": "687PHVtgDS8P"
      },
      "source": [
        "'''\n",
        "Returns a list of tuple where each entry is (upvotes, author, title) and sorted\n",
        "by the number of upvotes.\n",
        "'''\n",
        "def most_upvoted_title(k):\n",
        "    q = PriorityQueue()\n",
        "    for chunk in pd.read_csv(filename, sep=',', header=0, chunksize=50000):\n",
        "        for upvotes, author, title in zip(chunk['up_votes'], chunk['author'], chunk['title']):\n",
        "            q.put((upvotes, author, title))\n",
        "            if q.qsize() > k:\n",
        "                q.get()\n",
        "    \n",
        "    ret_list = []\n",
        "    while not q.empty():\n",
        "        (upvotes, author, title) = q.get()\n",
        "        ret_list.append((upvotes, author, title))\n",
        "    ret_list.reverse()\n",
        "\n",
        "    return ret_list"
      ],
      "execution_count": 21,
      "outputs": []
    },
    {
      "cell_type": "code",
      "metadata": {
        "colab": {
          "base_uri": "https://localhost:8080/"
        },
        "id": "7hUwzko8Ep9d",
        "outputId": "4f458ed6-2fa1-43b2-cfc8-2e86b70c4a63"
      },
      "source": [
        "print('List of most upvoted news titles along with upvotes and respective author.')\n",
        "print('  rank -> author : upvotes : title string')\n",
        "for i, (upvotes, author, title) in enumerate(most_upvoted_title(10)):\n",
        "    print(' {} -> {} : {} : {}'.format(i+1, author, upvotes, title))"
      ],
      "execution_count": 22,
      "outputs": [
        {
          "output_type": "stream",
          "text": [
            "List of most upvoted news titles along with upvotes and respective author.\n",
            "  rank -> author : upvotes : title string\n",
            " 1 -> KRISHNA53 : 21253 : A biotech startup has managed to 3-D print fake rhino horns that carry the same genetic fingerprint as the actual horn. The company plans to flood Chinese rhino horn market at one-eighth of the price of the original, undercutting the price poachers can get and forcing them out eventually.\n",
            " 2 -> joeyoungblood : 13435 : Twitter has forced 30 websites that archive politician s deleted tweets to shut down, removing an effective tool to keep politicians honest\n",
            " 3 -> mister_geaux : 13244 : 2.6 terabyte leak of Panamanian shell company data reveals  how a global industry led by major banks, legal firms, and asset management companies secretly manages the estates of politicians, Fifa officials, fraudsters and drug smugglers, celebrities and professional athletes. \n",
            " 4 -> navysealassulter : 12333 : The police officer who leaked the footage of the surfers paradise police brutality, where the victims blood was washed away by officers, has been criminally charged for bringing it to the publics view. Officers who did the bashing get nothing.\n",
            " 5 -> seapiglet : 11288 : Paris shooting survivor suing French media for giving away his location while he hid from shooters\n",
            " 6 -> Xiroth : 11108 : Hundreds of thousands of leaked emails reveal massively widespread corruption in global oil industry\n",
            " 7 -> DoremusJessup : 10922 : Brazil s Supreme Court has banned corporate contributions to political campaigns and parties\n",
            " 8 -> DawgsOnTopUGA : 10515 : ISIS beheads 81-year-old pioneer archaeologist and foremost scholar on ancient Syria. Held captive for 1 month, he refused to tell ISIS the location of the treasures of Palmyra unto death.\n",
            " 9 -> mvea : 10394 : Feeding cows seaweed could slash global greenhouse gas emissions, researchers say:  They discovered adding a small amount of dried seaweed to a cow s diet can reduce the amount of methane a cow produces by up to 99 per cent. \n",
            " 10 -> fiffers : 10377 : Brazilian radio host famous for exposing corruption in his city murdered while broadcasting live on the air by two gunmen.\n"
          ],
          "name": "stdout"
        }
      ]
    },
    {
      "cell_type": "markdown",
      "metadata": {
        "id": "WopnxEABuLVb"
      },
      "source": [
        "## BM25 model for document ranking\n",
        "\n",
        "BM25 is a popular non-binary probabilistic document ranking model. It takes in a query string and returns a ranked list of documents that match the most for the input query. There were many earlier version of the BM model. We use the final version which has shown the best performance over a variety of document ranking tasks.\n",
        "\n",
        "To make the below code understandable, we mention the formula for completeness.\n",
        "$$score(q,p) = \\sum_{w \\in {q \\cap p}} \\frac{(k_1+1) count(w,p)}{k_1(1-b+b(\\frac{|p|}{avgdl})) + count(w,p)} ln\\frac{|C|-df(w)+0.5}{df(w)+0.5}$$\n",
        "\n",
        "\n",
        "$score(q,p)$ - score assigned to a passage $p$ for a query $q$\n",
        "\n",
        "$count(w,p)$ - number of times term $w$ occurs in passage $p$ \n",
        "\n",
        "$b$ - set this to 0.75 (can be tuned based on the task)\n",
        "\n",
        "$|p|$ - Number of terms in passage $p$\n",
        "\n",
        "$avgdl$ - Average number of terms in passages in collection\n",
        "\n",
        "$|C|$ - number of passages in collection $C$\n",
        "\n",
        "$df(w)$ - number of passages containing term $w$\n",
        "\n",
        "$k_1$ - set to 1.2 (can be fine-tuned)"
      ]
    },
    {
      "cell_type": "code",
      "metadata": {
        "id": "kyG74M6t4MWc"
      },
      "source": [
        "'''\n",
        "Create a document frequency dict where key is word and value is the number of titles\n",
        "containing that word.\n",
        "Input:\n",
        "    index - in-memory index.\n",
        "Returns:\n",
        "    title_freq - a document frequency dict where key is word and value is the number of titles\n",
        "        containing that word.\n",
        "'''\n",
        "def create_title_freq(index):\n",
        "    title_freq = {}\n",
        "    for word in index:\n",
        "        title_freq[word] = len(index[word])\n",
        "    return title_freq\n",
        "\n",
        "title_freq = create_title_freq(inMemoryIndex)"
      ],
      "execution_count": 23,
      "outputs": []
    },
    {
      "cell_type": "code",
      "metadata": {
        "id": "pNTw3n5fEsPC"
      },
      "source": [
        "'''\n",
        "Given a query (a sentence/title), we will find the top k matching titles.\n",
        "\n",
        "Input:\n",
        "    query - a sentence string.\n",
        "    index - in-memory count index.\n",
        "    num_titles - total number of titles in the dataset.\n",
        "    title_len - a dict where key is title_id and value is number of words in the title string.\n",
        "    k - number of matching titles to find.\n",
        "Returns:\n",
        "    ranking_bm25 - A list of (bm25_score, title_id, time_created, up_votes) tuples.\n",
        "'''\n",
        "def bm25(query, index, num_titles, title_len, k):\n",
        "    # A list of (bm25_score, title_id, time_created, up_votes) tuples.\n",
        "    ranking_bm25 = []\n",
        "    \n",
        "    title_index = 0\n",
        "    pq = PriorityQueue()\n",
        "    for chunk in pd.read_csv(filename, sep=',', header=0, chunksize=100000):\n",
        "        for i, (title, time_c, up_votes) in enumerate(zip(chunk['title'], chunk['time_created'], chunk['up_votes'])):\n",
        "            title_id = i + title_index\n",
        "            score = bm25_score(query, title, num_titles, index, avgtl)\n",
        "            pq.put((score, title_id, time_c, up_votes))\n",
        "            if pq.qsize() > k:\n",
        "                pq.get()\n",
        "        title_index += chunk.shape[0]\n",
        "\n",
        "    score_tid_list = []\n",
        "    while not pq.empty():\n",
        "        score_tid_list.append(pq.get())\n",
        "    score_tid_list.reverse()\n",
        "\n",
        "    return score_tid_list\n",
        "\n",
        "def bm25_score(query, title, num_titles, index, avgtl):\n",
        "    q_words = pre_process_sentence_to_list(query)\n",
        "    t_words = pre_process_sentence_to_list(title)\n",
        "    common_words = set(q_words).intersection(set(t_words))\n",
        "\n",
        "    if len(common_words) == 0:\n",
        "        return -np.inf\n",
        "    \n",
        "    t_words_count = {}\n",
        "    for word in t_words:\n",
        "        t_words_count[word] = t_words_count.get(word, 0) + 1\n",
        "    \n",
        "    score = 0\n",
        "    k1 = 1.2 # hyperparameter\n",
        "    b = 0.75 # hyperparameter\n",
        "    for word in common_words:\n",
        "        n1 = (k1 + 1) * t_words_count.get(word, 0)\n",
        "        if n1 == 0:\n",
        "            continue\n",
        "        \n",
        "        d1 = k1 * (1 - b + b * (len(t_words)/avgtl)) + t_words_count.get(word, 0)\n",
        "        n2 = num_titles - title_freq[word] + 0.5\n",
        "        d2 = title_freq[word] + 0.5\n",
        "\n",
        "        score += (n1 / d1) * np.log(n2 / d2)\n",
        "    return score"
      ],
      "execution_count": 24,
      "outputs": []
    },
    {
      "cell_type": "markdown",
      "metadata": {
        "id": "waEj_P40wBFX"
      },
      "source": [
        "### Examples for BM25 ranking\n",
        "\n",
        "Given a query string, we find the top $k$ most relevant titles. Use-cases:\n",
        "1. The query is set to an existing `title` and we wish to find other news titles that match with this one. \n",
        "1. The query can be any user given string (search term) and we find the most relevant new titles for that user. "
      ]
    },
    {
      "cell_type": "code",
      "metadata": {
        "id": "37IX8WruJfSJ"
      },
      "source": [
        "def print_top_titles_bm25(query, k):\n",
        "    score_tid_list = bm25(query, inMemoryIndex, num_titles, title_len, k)\n",
        "    title_id_list = [tid for score, tid, _, _ in score_tid_list]\n",
        "    titles = title_id_to_title(title_id_list)\n",
        "\n",
        "    print('Matching titles for query \\'{}\\' are:'.format(query))\n",
        "    print('  rank -> title_id : title string')\n",
        "    for i, title in enumerate(titles):\n",
        "        print('  {} -> {} : {}'.format(i + 1, title_id_list[i], title))"
      ],
      "execution_count": 25,
      "outputs": []
    },
    {
      "cell_type": "code",
      "metadata": {
        "colab": {
          "base_uri": "https://localhost:8080/"
        },
        "id": "2aCKt3jlKAja",
        "outputId": "fb000766-b757-4ad8-c767-fc8ddf985f2a"
      },
      "source": [
        "test_query = 'EU Commission declines comment on Microsoft-Yahoo' # This is an existing title.\n",
        "print_top_titles_bm25(test_query, 10)"
      ],
      "execution_count": 26,
      "outputs": [
        {
          "output_type": "stream",
          "text": [
            "Matching titles for query 'EU Commission declines comment on Microsoft-Yahoo' are:\n",
            "  rank -> title_id : title string\n",
            "  1 -> 28 : EU Commission declines comment on Microsoft-Yahoo\n",
            "  2 -> 5915 : Russia declines to comment on U.S. military attache expulsions\n",
            "  3 -> 20153 : Google Laughs at Yahoo! and Microsoft \n",
            "  4 -> 6851 : Microsoft Wants A Deal With Yahoo, Again!\n",
            "  5 -> 5898 : The Yahoo – Microsoft drama is going to make a Better Yahoo\n",
            "  6 -> 353317 : Kremlin declines to comment on report on Putin s absence from Moscow\n",
            "  7 -> 5459 : Microsoft-Yahoo Bid, Sequence of Events\n",
            "  8 -> 395489 : Kremlin declines comment on question of Russian troops inside Syria\n",
            "  9 -> 347184 : NSA chief declines comment on spyware reports, says program are lawful\n",
            "  10 -> 2288 : Why Microsoft s MSN is bending to China s wishes on Tibet: China could block Microsoft s acquisition of Yahoo.\n"
          ],
          "name": "stdout"
        }
      ]
    },
    {
      "cell_type": "code",
      "metadata": {
        "colab": {
          "base_uri": "https://localhost:8080/"
        },
        "id": "REiwfriUKTBu",
        "outputId": "aaf38de7-df83-4312-cc4b-5bc01edefd29"
      },
      "source": [
        "# This is also an existing title so we expect the same title to be the most matched one\n",
        "# followed by other relevant titles.\n",
        "test_query = 'Mass Evacuations Continue  in Kenya'\n",
        "print_top_titles_bm25(test_query, 5)"
      ],
      "execution_count": 27,
      "outputs": [
        {
          "output_type": "stream",
          "text": [
            "Matching titles for query 'Mass Evacuations Continue  in Kenya' are:\n",
            "  rank -> title_id : title string\n",
            "  1 -> 16 : Mass Evacuations Continue  in Kenya\n",
            "  2 -> 454190 : Mass evacuations after Japan quake\n",
            "  3 -> 358600 : Yemen conflict: Evacuations continue as fighting intensifies\n",
            "  4 -> 357822 : Fire in London has caused mass evacuations of buildings\n",
            "  5 -> 219986 : Major Cyclone Causes Mass Evacuations in India\n"
          ],
          "name": "stdout"
        }
      ]
    },
    {
      "cell_type": "code",
      "metadata": {
        "colab": {
          "base_uri": "https://localhost:8080/"
        },
        "id": "o9GnWud0Kaij",
        "outputId": "b1e22f49-a79e-427a-900a-5fbf3f08fe73"
      },
      "source": [
        "test_query = 'Jihadi John Unmasked For The First Time In New Video'\n",
        "print_top_titles_bm25(test_query, 5)"
      ],
      "execution_count": 28,
      "outputs": [
        {
          "output_type": "stream",
          "text": [
            "Matching titles for query 'Jihadi John Unmasked For The First Time In New Video' are:\n",
            "  rank -> title_id : title string\n",
            "  1 -> 391399 : Jihadi John Unmasked For The First Time In New Video\n",
            "  2 -> 348600 :  Jihadi John  Unmasked: First Picture of Mohammed Emwazi as an Adult Emerges\n",
            "  3 -> 348293 :  Jihadi John  killer from Islamic State beheading videos unmasked as Londoner\n",
            "  4 -> 428051 :  New Jihadi John  appears in ISIL execution video\n",
            "  5 -> 391357 : ISIL executioner  Jihadi John  filmed unmasked, vows to return to Britain to continue killings\n"
          ],
          "name": "stdout"
        }
      ]
    },
    {
      "cell_type": "code",
      "metadata": {
        "colab": {
          "base_uri": "https://localhost:8080/"
        },
        "id": "6FIHm6vrw_V5",
        "outputId": "e1acae83-479a-4fbc-8864-b9c09e1a1511"
      },
      "source": [
        "# This is a random user string.\n",
        "user_string = 'baseball match score between boston and seattle'\n",
        "print_top_titles_bm25(user_string, 5)"
      ],
      "execution_count": 29,
      "outputs": [
        {
          "output_type": "stream",
          "text": [
            "Matching titles for query 'baseball match score between boston and seattle' are:\n",
            "  rank -> title_id : title string\n",
            "  1 -> 333141 : Inside the Mafia-Run World of Baseball Match-Fixing in Taiwan\n",
            "  2 -> 29869 : Goodbye, Seattle P-I\n",
            "  3 -> 30578 : World Baseball Classic\n",
            "  4 -> 373227 : The Honduras U20 national soccer team is under investigation for match-fixing, after irregular betting patterns were noticed on a shock 3-0 loss to Fiji where they  didn t appear to want to score \n",
            "  5 -> 96185 : Baseball bats are selling out in the UK\n"
          ],
          "name": "stdout"
        }
      ]
    },
    {
      "cell_type": "markdown",
      "metadata": {
        "id": "Vtrlqv6Hxe5W"
      },
      "source": [
        "## Improving BM25 Model by using time/recency information\n",
        "\n",
        "Instead of just showing the top-k titles by matching score, the user might be interested in the most recent titles as these are news articles. We create a hybrid model where we first fetch a lot of documents (~10 times) using the BM25 model and then sort them based on time. We select a subset (one third) of those titles and then sort them based on popularity before showing the final (k) results.\n",
        "\n",
        "More complicated schemes can be used and fine-tuned based on the dataset. \n",
        "\n",
        "We run the model on the same queries as above and can see the difference in results."
      ]
    },
    {
      "cell_type": "code",
      "metadata": {
        "id": "vBqgNdmFi1z2"
      },
      "source": [
        "'''\n",
        "We can use a better ranking model by combining BM25 with upvotes and time created information.\n",
        "First we find 10*k relevant titles using the BM25 model. Then we sort them based on\n",
        "time created and pick 3*k most recent titles. Then we sort them based on number of \n",
        "upvotes and pick top k which is the final result.\n",
        "'''\n",
        "def print_top_titles_bm25_recent(query, k):\n",
        "    # Get 10*k models using BM25.\n",
        "    score_tid_list = bm25(query, inMemoryIndex, num_titles, title_len, k*10)\n",
        "    # sort based on time created\n",
        "    score_tid_list.sort(key=lambda a:a[2], reverse=True)\n",
        "    most_recent = score_tid_list[:3*k]\n",
        "    # sort based on upvotes\n",
        "    most_recent.sort(key=lambda a:a[3], reverse=True)\n",
        "    most_upvoted = most_recent[:k]\n",
        "\n",
        "    title_id_list = [tid for _, tid, _, _ in most_upvoted]\n",
        "    # only use k titles\n",
        "    titles = title_id_to_title(title_id_list)\n",
        "\n",
        "    print('Matching recent titles for query \\'{}\\' are:'.format(query))\n",
        "    print('  rank -> title_id : title string')\n",
        "    for i, (tid, title) in enumerate(zip(title_id_list, titles)):\n",
        "        print('  {} -> {} : {}'.format(i+1, tid, title))"
      ],
      "execution_count": 30,
      "outputs": []
    },
    {
      "cell_type": "code",
      "metadata": {
        "colab": {
          "base_uri": "https://localhost:8080/"
        },
        "id": "68XMmlyNzfQJ",
        "outputId": "b0b58c45-e1d6-4e06-b7f3-2c4348de353b"
      },
      "source": [
        "test_query = 'EU Commission declines comment on Microsoft-Yahoo'\n",
        "print_top_titles_bm25_recent(test_query, 10)"
      ],
      "execution_count": 31,
      "outputs": [
        {
          "output_type": "stream",
          "text": [
            "Matching recent titles for query 'EU Commission declines comment on Microsoft-Yahoo' are:\n",
            "  rank -> title_id : title string\n",
            "  1 -> 496048 : Watching pirate streams isn t illegal, EU Commission argues\n",
            "  2 -> 475249 : India’s top court ordered Google, Yahoo, and Microsoft to ban ads for pre-birth gender tests\n",
            "  3 -> 477378 : Diesel Emissions: EU Commission Has Known for Years about Manipluation\n",
            "  4 -> 465772 : Facebook, Twitter, Microsoft and YouTube adopt EU hate speech rules\n",
            "  5 -> 504793 : China slams EU Commissioner s  slitty eyes  comment\n",
            "  6 -> 475106 : India s Supreme Court tells Google, Yahoo and Microsoft to stop hosting sex selection ads\n",
            "  7 -> 506199 : Turkey  backsliding  in bid to join EU, says Commission\n",
            "  8 -> 475393 : EU Commission Seeks Sanctions on Spain, Portugal Over Deficits\n",
            "  9 -> 465435 : Facebook, Twitter, YouTube, Microsoft back EU hate speech rules\n",
            "  10 -> 474313 : EU leaders on collision course with Commission over CETA\n"
          ],
          "name": "stdout"
        }
      ]
    },
    {
      "cell_type": "code",
      "metadata": {
        "colab": {
          "base_uri": "https://localhost:8080/"
        },
        "id": "IoaLYcrLlqVl",
        "outputId": "44100eea-9a26-4b79-bce0-8fd48f4f837b"
      },
      "source": [
        "test_query = 'Mass Evacuations Continue  in Kenya'\n",
        "print_top_titles_bm25_recent(test_query, 5)"
      ],
      "execution_count": 32,
      "outputs": [
        {
          "output_type": "stream",
          "text": [
            "Matching recent titles for query 'Mass Evacuations Continue  in Kenya' are:\n",
            "  rank -> title_id : title string\n",
            "  1 -> 380364 : Mass arrests in The Hague as clashes over death in police custody continue\n",
            "  2 -> 389622 : Mass evacuations underway in Tianjin as fires reignite, causing further blasts\n",
            "  3 -> 450354 : Evacuations after huge explosion in central Paris\n",
            "  4 -> 357822 : Fire in London has caused mass evacuations of buildings\n",
            "  5 -> 496170 : Mexico s erupting Colima volcano triggers evacuations\n"
          ],
          "name": "stdout"
        }
      ]
    },
    {
      "cell_type": "code",
      "metadata": {
        "colab": {
          "base_uri": "https://localhost:8080/"
        },
        "id": "69pIkT7EzsTr",
        "outputId": "069ebc72-207d-47fd-8cc4-a154b686854f"
      },
      "source": [
        "# This is a random user string.\n",
        "user_string = 'baseball match score between boston and seattle'\n",
        "print_top_titles_bm25_recent(user_string, 5)"
      ],
      "execution_count": 33,
      "outputs": [
        {
          "output_type": "stream",
          "text": [
            "Matching recent titles for query 'baseball match score between boston and seattle' are:\n",
            "  rank -> title_id : title string\n",
            "  1 -> 364823 : Senior female ISIS agent unmasked and traced to Seattle\n",
            "  2 -> 333141 : Inside the Mafia-Run World of Baseball Match-Fixing in Taiwan\n",
            "  3 -> 451152 : Canadian conservatives score big victory in Saskatchewan\n",
            "  4 -> 287644 : Seattle s pot store opens: It s time to ‘free the weed \n",
            "  5 -> 500511 : After officials crack down on game-fixing, baseball makes a comeback in Taiwan\n"
          ],
          "name": "stdout"
        }
      ]
    },
    {
      "cell_type": "markdown",
      "metadata": {
        "id": "IBkabLwF0Rxt"
      },
      "source": [
        "### Comparing frequency based, BM25 and BM25+time models for single word queries."
      ]
    },
    {
      "cell_type": "code",
      "metadata": {
        "colab": {
          "base_uri": "https://localhost:8080/"
        },
        "id": "6pHNHdEsz8Ln",
        "outputId": "9f411877-6a55-4671-a73f-25c3c7276d89"
      },
      "source": [
        "'''\n",
        "The BM25 model is stronger and flexible than the single word model. Even for single\n",
        "words, we can see the difference between both the models.\n",
        "'''\n",
        "query_word = 'India'\n",
        "print_matching_titles(query_word, 5)\n",
        "print()\n",
        "print_top_titles_bm25(query_word, 5)\n",
        "print()\n",
        "print_top_titles_bm25_recent(query_word, 5)"
      ],
      "execution_count": 34,
      "outputs": [
        {
          "output_type": "stream",
          "text": [
            "Top 5 titles for word 'india' based on frequency of occurence of the word.\n",
            "  Rank -> title_id : title string\n",
            "  1 -> 25654 : India to Pak: Make Mumbai probe report public-India-The Times of India\n",
            "  2 -> 45803 : Millions of Foreigners in India - Bangladesh is Poor India s woe. Famine in Bangladesh and its effect in North-East India as incessant immigration continues unabated.\n",
            "  3 -> 62088 : Half of India’s population lives below the poverty line.  According to an Oxford University study, 55 percent of India’s population of 1.1 billion, or 645 million people, are living in poverty. Using a newly-developed index, the study found that about one-third of the world’s poor live in India. \n",
            "  4 -> 65199 :  A bumpier but freer road - India s growth should soon outstrip China s, because India has a younger population and a freer economy. But can India can stay ahead, given its poor infrastructure, low skills, bad schools, patchy government?\n",
            "  5 -> 84159 : India court grants bail to India activist Binayak Sen: India s Supreme Court has granted bail to leading public health specialist and human rights activist, Dr Binayak Sen.\n",
            "\n",
            "Matching titles for query 'India' are:\n",
            "  rank -> title_id : title string\n",
            "  1 -> 154300 : AGAIN India? \n",
            "  2 -> 25654 : India to Pak: Make Mumbai probe report public-India-The Times of India\n",
            "  3 -> 161377 : Apple TV, now in India! - All apple products now in India.\n",
            "  4 -> 78577 : Hyderabad IT Company | India IT Outsourcing | India IT Solutions\n",
            "  5 -> 66844 : Namaste India - What India wants, what Obama wants.\n",
            "\n",
            "Matching recent titles for query 'India' are:\n",
            "  rank -> title_id : title string\n",
            "  1 -> 427214 : From Jan 1, UK to stop financial aid to India - Times of India\n",
            "  2 -> 503382 : India offers to buy 200 foreign combat jets - if they re Made-in-India\n",
            "  3 -> 392248 : India PM Modi: ‘India has eliminated maternal and neonatal tetanus’\n",
            "  4 -> 503485 : India offers to buy 200 foreign combat jets, if they re  made-in-India \n",
            "  5 -> 467458 : US-India Agree To Construct 6 Nuclear Reactors In India\n"
          ],
          "name": "stdout"
        }
      ]
    },
    {
      "cell_type": "markdown",
      "metadata": {
        "id": "_8G-8P-x0egA"
      },
      "source": [
        "## Visualize upvotes information\n",
        "\n",
        "The upvotes data seems to be very uneven. We visualize it using a histogram and successively zoom into the relevant regions to find some patterns in the data and then make conclusions.\n",
        "\n",
        "Based on the below graphs, we can say:\n",
        "1. More than 93% of the data has upvotes $\\lt 1000$. This tells that most news titles are not upvoted by users. This tells us at relying on upvotes for identifying sentiment of the news is not a good idea. Most probably people just read the news and move on without caring to upvote.\n",
        "1. For 1k-10k upvotes, the number of titles are inversely proportional to the number of upvotes. If we want to perform any analysis based on `upvotes`, we should pick the titles falling this this range as they have a good distribution. They are not part of the outliers.\n",
        "1. There are limited titles that have more than 10k upvotes. These are the extreme outliers and probably the most citied/viral news titles. "
      ]
    },
    {
      "cell_type": "code",
      "metadata": {
        "id": "8qNUhB3IL1K2"
      },
      "source": [
        "'''\n",
        "Visualize upvotes distribution\n",
        "'''\n",
        "upvotes_list = []\n",
        "\n",
        "for chunk in pd.read_csv(filename, sep=',', header=0, chunksize=100000):\n",
        "    upvotes_list += list(chunk['up_votes'])"
      ],
      "execution_count": 35,
      "outputs": []
    },
    {
      "cell_type": "code",
      "metadata": {
        "colab": {
          "base_uri": "https://localhost:8080/",
          "height": 421
        },
        "id": "2JTEdz_lWhj1",
        "outputId": "6cde4ea6-91ed-462a-e98d-1c7f47994e20"
      },
      "source": [
        "n_bins = 100\n",
        "fig = plt.figure(figsize=(12, 6))\n",
        "axs = fig.add_subplot(1, 1, 1)\n",
        "axs.legend()\n",
        "axs.set(\n",
        "    xlabel=r'upvotes',\n",
        "    ylabel=r'number of titles',\n",
        "    title=\"Distribution of upvotes among all titles\",\n",
        ")\n",
        "axs.minorticks_on()\n",
        "axs.hist(\n",
        "    upvotes_list,\n",
        "    bins=n_bins,\n",
        "    label=''\n",
        ")\n",
        "plt.show()"
      ],
      "execution_count": 36,
      "outputs": [
        {
          "output_type": "stream",
          "text": [
            "No handles with labels found to put in legend.\n"
          ],
          "name": "stderr"
        },
        {
          "output_type": "display_data",
          "data": {
            "image/png": "[encoded data removed]",
            "text/plain": [
              "<Figure size 864x432 with 1 Axes>"
            ]
          },
          "metadata": {
            "tags": [],
            "needs_background": "light"
          }
        }
      ]
    },
    {
      "cell_type": "code",
      "metadata": {
        "colab": {
          "base_uri": "https://localhost:8080/",
          "height": 421
        },
        "id": "1XqVMwfwbHIP",
        "outputId": "0bc1aed1-e6de-4e7f-d844-f2e4da9d9cb4"
      },
      "source": [
        "'''\n",
        "The above graph shows that most of the titles have obtained upvotes <1000. So we remove\n",
        "such upvotes and then replot the graph to see the distribution in the other region.\n",
        "'''\n",
        "upvotes_list_trimmed_1000 = [upvotes for upvotes in upvotes_list if upvotes >= 1000]\n",
        "\n",
        "fig = plt.figure(figsize=(12, 6))\n",
        "axs = fig.add_subplot(1, 1, 1)\n",
        "axs.legend()\n",
        "axs.set(\n",
        "    xlabel=r'upvotes',\n",
        "    ylabel=r'number of titles',\n",
        "    title=\"Distribution of >=1000 upvotes among all titles\",\n",
        ")\n",
        "axs.minorticks_on()\n",
        "axs.hist(\n",
        "    upvotes_list_trimmed_1000,\n",
        "    bins=n_bins,\n",
        "    label=''\n",
        ")\n",
        "plt.show()"
      ],
      "execution_count": 37,
      "outputs": [
        {
          "output_type": "stream",
          "text": [
            "No handles with labels found to put in legend.\n"
          ],
          "name": "stderr"
        },
        {
          "output_type": "display_data",
          "data": {
            "image/png": "[encoded data removed]",
            "text/plain": [
              "<Figure size 864x432 with 1 Axes>"
            ]
          },
          "metadata": {
            "tags": [],
            "needs_background": "light"
          }
        }
      ]
    },
    {
      "cell_type": "code",
      "metadata": {
        "colab": {
          "base_uri": "https://localhost:8080/",
          "height": 421
        },
        "id": "-8NwLG8Kb1Zm",
        "outputId": "93a0f002-521c-455b-b528-16ced09dbd05"
      },
      "source": [
        "'''\n",
        "The above graph shows that most of the titles have obtained upvotes <1000. So we remove\n",
        "such upvotes and then replot the graph to see the distribution in the other region.\n",
        "'''\n",
        "upvotes_list_trimmed_10000 = [upvotes for upvotes in upvotes_list_trimmed_1000 if upvotes >= 10000]\n",
        "\n",
        "fig = plt.figure(figsize=(12, 6))\n",
        "axs = fig.add_subplot(1, 1, 1)\n",
        "axs.legend()\n",
        "axs.set(\n",
        "    xlabel=r'upvotes',\n",
        "    ylabel=r'number of titles',\n",
        "    title=\"Distribution of >=10,000 upvotes among all titles\",\n",
        ")\n",
        "axs.minorticks_on()\n",
        "axs.hist(\n",
        "    upvotes_list_trimmed_10000,\n",
        "    bins=n_bins,\n",
        "    label=''\n",
        ")\n",
        "plt.show()"
      ],
      "execution_count": 38,
      "outputs": [
        {
          "output_type": "stream",
          "text": [
            "No handles with labels found to put in legend.\n"
          ],
          "name": "stderr"
        },
        {
          "output_type": "display_data",
          "data": {
            "image/png": "[encoded data removed]",
            "text/plain": [
              "<Figure size 864x432 with 1 Axes>"
            ]
          },
          "metadata": {
            "tags": [],
            "needs_background": "light"
          }
        }
      ]
    },
    {
      "cell_type": "markdown",
      "metadata": {
        "id": "DatvZH0n230l"
      },
      "source": [
        "## Analysing over_18 data column\n",
        "\n",
        "Conclusions from this analysis are:\n",
        "1. Only a handful (320) of news articles are marked as over_18. They form just over 0.06% of the entire dataset.\n",
        "1. We find authors with the most number of over18 articles."
      ]
    },
    {
      "cell_type": "code",
      "metadata": {
        "colab": {
          "base_uri": "https://localhost:8080/"
        },
        "id": "-MEAgPw2CPND",
        "outputId": "7a0a1a1f-8f69-4207-ede8-9e26f60793b9"
      },
      "source": [
        "'''\n",
        "Statistics around over_18 column.\n",
        "'''\n",
        "over_18_count = {True: 0, False: 0}\n",
        "# A dict that saves the author as key and number of over_18 titles as value.\n",
        "author_count_over_18 = {}\n",
        "\n",
        "for chunk in pd.read_csv(filename, sep=',', header=0, chunksize=100_000):\n",
        "    for over_18, author in zip(chunk['over_18'], chunk['author']):\n",
        "        over_18_count[over_18] += 1\n",
        "        if over_18:\n",
        "            author_count_over_18[author] = author_count_over_18.get(author, 0) + 1\n",
        "\n",
        "print('Over 18 stats:', over_18_count)\n",
        "author_count_over_18_list = list(author_count_over_18.items())\n",
        "author_count_over_18_list.sort(key=lambda a:a[1], reverse=True)\n",
        "\n",
        "print('\\nAuthors with most over18 articles are:')\n",
        "for author, count in author_count_over_18_list[:10]:\n",
        "    print('  {}, count={}'.format(author, count))"
      ],
      "execution_count": 39,
      "outputs": [
        {
          "output_type": "stream",
          "text": [
            "Over 18 stats: {True: 320, False: 508916}\n",
            "\n",
            "Authors with most over18 articles are:\n",
            "  readerseven, count=6\n",
            "  ScotiaTide, count=4\n",
            "  SyrianGuy, count=4\n",
            "  Rocker13666, count=4\n",
            "  downtown14, count=3\n",
            "  uptodatepronto, count=3\n",
            "  misterAction, count=3\n",
            "  orangeflower2015, count=3\n",
            "  alllie, count=2\n",
            "  stesch, count=2\n"
          ],
          "name": "stdout"
        }
      ]
    },
    {
      "cell_type": "markdown",
      "metadata": {
        "id": "TI3xude03ytY"
      },
      "source": [
        "## Document Clustering using K-Means\n",
        "\n",
        "The over18 articles are limited and a good candidate for clustering. We use k-means clustering to identify different types of over18 articles. For each cluster we then print some top documents to manully name/identify the cluster."
      ]
    },
    {
      "cell_type": "code",
      "metadata": {
        "colab": {
          "base_uri": "https://localhost:8080/"
        },
        "id": "kkqOcSs8C43I",
        "outputId": "47e2d59b-8e99-4484-929f-9ad3566780ec"
      },
      "source": [
        "'''\n",
        "Since number of over18 articles are less, we can try clustering those titles and\n",
        "see if we can find categories of titles that are over18.\n",
        "'''\n",
        "over_18_corpus = []\n",
        "for chunk in pd.read_csv(filename, sep=',', header=0, chunksize=100_000):\n",
        "    for over_18, title in zip(chunk['over_18'], chunk['title']):\n",
        "        if over_18:\n",
        "            title = re.sub(r'[^\\w ]', ' ', title)\n",
        "            over_18_corpus.append(title)\n",
        "\n",
        "print(len(over_18_corpus))"
      ],
      "execution_count": 40,
      "outputs": [
        {
          "output_type": "stream",
          "text": [
            "320\n"
          ],
          "name": "stdout"
        }
      ]
    },
    {
      "cell_type": "code",
      "metadata": {
        "colab": {
          "base_uri": "https://localhost:8080/"
        },
        "id": "HsxaXaHlJNIC",
        "outputId": "dd3aa203-8030-4a29-eb54-8a57fd967c77"
      },
      "source": [
        "from sklearn.feature_extraction.text import TfidfVectorizer\n",
        "\n",
        "# Since number of examples are less (320) we use less features (50).\n",
        "vectorizer = TfidfVectorizer(stop_words=stop_words, max_features=50)\n",
        "X = vectorizer.fit_transform(over_18_corpus)\n",
        "print(vectorizer.get_feature_names())\n",
        "print(len(vectorizer.get_feature_names()))\n",
        "print(X.shape)"
      ],
      "execution_count": 41,
      "outputs": [
        {
          "output_type": "stream",
          "text": [
            "['activists', 'al', 'attack', 'bahrain', 'bodies', 'child', 'chinese', 'dead', 'death', 'femen', 'footage', 'forces', 'found', 'graphic', 'group', 'head', 'images', 'isis', 'killed', 'man', 'naked', 'new', 'nsfl', 'nsfw', 'old', 'paris', 'people', 'photo', 'photos', 'pics', 'pictures', 'police', 'protest', 'protester', 'protesters', 'sex', 'shot', 'shows', 'soldiers', 'syria', 'syrian', 'topless', 'ukraine', 'victims', 'video', 'warning', 'woman', 'women', 'world', 'year']\n",
            "50\n",
            "(320, 50)\n"
          ],
          "name": "stdout"
        }
      ]
    },
    {
      "cell_type": "code",
      "metadata": {
        "id": "OL0qjIDEKpE8"
      },
      "source": [
        "# We use mini-batch k-means which is useful if the entire training data cannot be loaded at once.\n",
        "from sklearn.cluster import MiniBatchKMeans"
      ],
      "execution_count": 42,
      "outputs": []
    },
    {
      "cell_type": "markdown",
      "metadata": {
        "id": "sqcIu8Q_6DAs"
      },
      "source": [
        "### Cluster similarity metrics\n",
        "\n",
        "To quantify the quality of the cluster formed, we use intra cluster distance metric. Our target should be to have minimum intra cluster distance. But note that an arbitrarily high number of clusters will always give low intra cluster distance. It has two variants:\n",
        "\n",
        "1. Average distance between any two points in a cluster.\n",
        "$$Score_C = \\frac{1}{\\vert C\\vert \\vert 1-C\\vert} \\sum_{x, y \\in C, x \\neq y} distance(x, y)$$\n",
        "$$Score = \\frac{1}{K} \\sum_{C \\in \\Omega} Score_C$$\n",
        "where,\n",
        "\n",
        "$x, y$ are data points in the cluster $C$\n",
        "\n",
        "$\\vert C\\vert$ is the size of cluster\n",
        "\n",
        "$distance(x, y)$ is the euclidean distance between points $x$ and $y$\n",
        "\n",
        "$\\Omega$ is the set of all clusters and has size $K$.\n",
        "\n",
        "2. Average distance between a point and centroid in a cluster.\n",
        "\n",
        "$$Score_C = \\frac{1}{\\vert C\\vert}\\sum_{x\\in C}distance(x, centroid(C))$$\n",
        "$$Score = \\frac{1}{K} \\sum_{C \\in \\Omega} Score_C$$\n",
        "\n",
        "where,\n",
        "\n",
        "$centroid(C)$ is the centroid vector of cluster $C$.\n",
        "\n",
        "Another metric could be to use inter-cluster similarity/distance metric where we compare two different clusters with each other. There the target should be to have maximum average inter-cluster distance. We don't this metric in our analysis."
      ]
    },
    {
      "cell_type": "code",
      "metadata": {
        "id": "_vS1kyZfLX5V"
      },
      "source": [
        "'''\n",
        "Input:\n",
        "    X - numpy 2D float matrix representation of data where each row is a title/sentence.\n",
        "    labels (list)- labels of each input data as formed by kmeans algorithm.\n",
        "    num_clusters - the number of clusters used while running k-means.\n",
        "Returns:\n",
        "    A numpy list where ith index represents the intra-cluster distance of the ith cluster.\n",
        "    Size of list is equal to num_clusters. \n",
        "'''\n",
        "def intra_cluster_distance(X, labels, num_clusters):\n",
        "    dist_score = np.zeros(num_clusters)\n",
        "    k_to_tid_list = {}\n",
        "    for i in range(num_clusters):\n",
        "        k_to_tid_list[i] = []\n",
        "    for tid, label in enumerate(labels):\n",
        "        k_to_tid_list[label].append(tid)\n",
        "    # print(k_to_tid_list)\n",
        "\n",
        "    for cid, tid_list in k_to_tid_list.items():\n",
        "        sum_dist = 0\n",
        "        for i in range(len(tid_list)):\n",
        "            for j in range(i+1, len(tid_list)):\n",
        "                xi = X[tid_list[i], :]\n",
        "                xj = X[tid_list[j], :]\n",
        "                sum_dist += np.square(scipy.sparse.linalg.norm(xi - xj))\n",
        "        sum_dist *= 2 # because (i, j) and (j, i) distances are equal\n",
        "        dist_score[cid] = 1/(len(tid_list) * (len(tid_list) - 1)) * sum_dist if len(tid_list) > 1 else 0\n",
        "    \n",
        "    return dist_score"
      ],
      "execution_count": 43,
      "outputs": []
    },
    {
      "cell_type": "code",
      "metadata": {
        "id": "mwSjAtVuBD7t"
      },
      "source": [
        "def load_list(filename):\n",
        "    pickle_off = open (filename, \"rb\")\n",
        "    myList = pickle.load(pickle_off)\n",
        "    return myList\n",
        "\n",
        "def save_list(filename, myList):\n",
        "    with open(filename, 'wb') as fh:\n",
        "        pickle.dump(myList, fh)"
      ],
      "execution_count": 44,
      "outputs": []
    },
    {
      "cell_type": "code",
      "metadata": {
        "id": "oaNWWtTER-FT"
      },
      "source": [
        "'''\n",
        "Find optimal number of clusters based on intra cluster distance b/w points. This method\n",
        "is very slow because of quadratic number of comparisons in every cluster.\n",
        "'''\n",
        "\n",
        "# A list of tuple (num_clusters, avg_score)\n",
        "avg_intra_cluster_scores = []\n",
        "\n",
        "avg_ics_filename = 'avg_intra_cluster_scores.txt'\n",
        "if os.path.isfile('avg_intra_cluster_scores.txt'):\n",
        "    avg_intra_cluster_scores = load_list(avg_ics_filename)\n",
        "else:\n",
        "    print('Pickled file not found. Will create again.')\n",
        "    for num_clusters in range(2, 30):\n",
        "        kmeans = MiniBatchKMeans(n_clusters=num_clusters, random_state=0, batch_size=100, max_iter=10)\n",
        "        kmeans = kmeans.fit(X)\n",
        "\n",
        "        dist_score = intra_cluster_distance(X, kmeans.labels_, num_clusters)\n",
        "        avg_intra_cluster_scores.append((num_clusters, np.average(dist_score)))\n",
        "    save_list(avg_ics_filename, avg_intra_cluster_scores)"
      ],
      "execution_count": 45,
      "outputs": []
    },
    {
      "cell_type": "markdown",
      "metadata": {
        "id": "JxumNrc3-Cp1"
      },
      "source": [
        "### How to choose k?\n",
        "\n",
        "We plot a graph between number of clusters and intra-cluster distance and pick the k where the graph forms an `elbow`. Such an elbow curve may not be always visible clearly."
      ]
    },
    {
      "cell_type": "code",
      "metadata": {
        "colab": {
          "base_uri": "https://localhost:8080/",
          "height": 421
        },
        "id": "W3P4pHOTUvJ_",
        "outputId": "d970c6ae-d1ee-4eb4-cbd9-1fd5ff67e044"
      },
      "source": [
        "fig = plt.figure(figsize=(6, 6))\n",
        "axs = fig.add_subplot(1, 1, 1)\n",
        "axs.plot(\n",
        "    [num_clusters for num_clusters, score in avg_intra_cluster_scores],\n",
        "    [score for num_clusters, score in avg_intra_cluster_scores],\n",
        "    color='red',\n",
        "    label=''\n",
        ")\n",
        "axs.legend()\n",
        "axs.set(\n",
        "    xlabel=r'number of clusters (k)',\n",
        "    ylabel=r'average intra cluster distance',\n",
        "    title='k vs avg intra cluster distance',\n",
        ")\n",
        "plt.show()"
      ],
      "execution_count": 46,
      "outputs": [
        {
          "output_type": "stream",
          "text": [
            "No handles with labels found to put in legend.\n"
          ],
          "name": "stderr"
        },
        {
          "output_type": "display_data",
          "data": {
            "image/png": "[encoded data removed]",
            "text/plain": [
              "<Figure size 432x432 with 1 Axes>"
            ]
          },
          "metadata": {
            "tags": [],
            "needs_background": "light"
          }
        }
      ]
    },
    {
      "cell_type": "code",
      "metadata": {
        "id": "or0D_QZeWbOt"
      },
      "source": [
        "'''\n",
        "Another distance metric for intra cluster distance is to use distance from cluster\n",
        "centre.\n",
        "'''\n",
        "def intra_cluster_distance_from_centroid(X, labels, num_clusters, cluster_centers):\n",
        "    dist_score = np.zeros(num_clusters)\n",
        "    k_to_tid_list = {}\n",
        "    for i in range(num_clusters):\n",
        "        k_to_tid_list[i] = []\n",
        "    for tid, label in enumerate(labels):\n",
        "        k_to_tid_list[label].append(tid)\n",
        "    \n",
        "    for cid, tid_list in k_to_tid_list.items():\n",
        "        sum_dist = 0\n",
        "        for tid in tid_list:\n",
        "            x = X[tid, :]\n",
        "            sum_dist += np.square(np.linalg.norm(x - cluster_centers[cid]))\n",
        "        dist_score[cid] = sum_dist\n",
        "\n",
        "    return dist_score"
      ],
      "execution_count": 47,
      "outputs": []
    },
    {
      "cell_type": "code",
      "metadata": {
        "id": "DvUC2c7IalJV"
      },
      "source": [
        "'''\n",
        "Find optimal number of clusters based on intra cluster distance from centroid.\n",
        "This method will be faster than the previous one due to linear number of computations\n",
        "in every cluster.\n",
        "'''\n",
        "\n",
        "# A list of tuple (num_clusters, avg_score)\n",
        "avg_intra_cluster_scores_centroid = []\n",
        "\n",
        "for num_clusters in range(2, 30):\n",
        "    kmeans = MiniBatchKMeans(n_clusters=num_clusters, random_state=0, batch_size=100, max_iter=10)\n",
        "    kmeans = kmeans.fit(X)\n",
        "\n",
        "    dist_score = intra_cluster_distance_from_centroid(X, kmeans.labels_, num_clusters, kmeans.cluster_centers_)\n",
        "    avg_intra_cluster_scores_centroid.append((num_clusters, np.average(dist_score)))"
      ],
      "execution_count": 48,
      "outputs": []
    },
    {
      "cell_type": "code",
      "metadata": {
        "colab": {
          "base_uri": "https://localhost:8080/",
          "height": 421
        },
        "id": "lFRUA-rmbIAE",
        "outputId": "032c0652-07c8-4b85-dce3-d1ff2489ba1a"
      },
      "source": [
        "fig = plt.figure(figsize=(6, 6))\n",
        "axs = fig.add_subplot(1, 1, 1)\n",
        "axs.plot(\n",
        "    [num_clusters for num_clusters, score in avg_intra_cluster_scores_centroid],\n",
        "    [score for num_clusters, score in avg_intra_cluster_scores_centroid],\n",
        "    color='red',\n",
        "    label=''\n",
        ")\n",
        "axs.legend()\n",
        "axs.minorticks_on()\n",
        "axs.set(\n",
        "    xlabel=r'number of clusters (k)',\n",
        "    ylabel=r'average intra cluster distance from centroid',\n",
        "    title='k vs avg intra cluster distance from centroid',\n",
        ")\n",
        "plt.show()"
      ],
      "execution_count": 49,
      "outputs": [
        {
          "output_type": "stream",
          "text": [
            "No handles with labels found to put in legend.\n"
          ],
          "name": "stderr"
        },
        {
          "output_type": "display_data",
          "data": {
            "image/png": "[encoded data removed]",
            "text/plain": [
              "<Figure size 432x432 with 1 Axes>"
            ]
          },
          "metadata": {
            "tags": [],
            "needs_background": "light"
          }
        }
      ]
    },
    {
      "cell_type": "markdown",
      "metadata": {
        "id": "a5bzNuyE_EJj"
      },
      "source": [
        "### Printing Clusters\n",
        "\n",
        "From the above 2 graphs, we see that calculating distances from centroid gives a better curve (in less time). We can choose 6-8 as the optimal number of clusters.\n",
        "\n",
        "To print every cluster, we print top k (3 or 5) titles from every cluster that are the closest to the cluster centre.\n",
        "\n",
        "From the observed clusters, it is rather difficult to name the cluster into a well-defined category. We might have to look into more examples (>10)."
      ]
    },
    {
      "cell_type": "code",
      "metadata": {
        "id": "7v7m7BYzfOpP"
      },
      "source": [
        "def print_centroid_titles(X, labels, num_clusters, cluster_centers, corpus, titles_per_c):\n",
        "    cid_to_tid_dist_list = {}\n",
        "    for cid in range(num_clusters):\n",
        "        cid_to_tid_dist_list[cid] = []\n",
        "\n",
        "    for tid, cid in enumerate(labels):\n",
        "        dist = np.linalg.norm(cluster_centers[cid] - X[tid, :])\n",
        "        cid_to_tid_dist_list[cid].append((tid, dist))\n",
        "    \n",
        "    for cid, tid_dist_list in cid_to_tid_dist_list.items():\n",
        "        print('Cluster no. {}'.format(cid))\n",
        "        tid_dist_list.sort(key=lambda a:a[1])\n",
        "        for i, tid_dist in enumerate(tid_dist_list[:titles_per_c]):\n",
        "            print('  {} -> {}'.format(i+1, corpus[tid_dist[0]]))\n",
        "        print()"
      ],
      "execution_count": 50,
      "outputs": []
    },
    {
      "cell_type": "code",
      "metadata": {
        "colab": {
          "base_uri": "https://localhost:8080/"
        },
        "id": "QpS4qghj_pdn",
        "outputId": "53f3dbbb-f85e-47e9-ae87-5b50055fe3ef"
      },
      "source": [
        "'''\n",
        "When using intra-cluster distance from centroid, we a get curve where we can see\n",
        "elbow at around 5. So we can take num_clusters as 5.\n",
        "\n",
        "Now we will print titles_per_c titles from each cluster.\n",
        "'''\n",
        "\n",
        "optimal_num_clusters = 5\n",
        "titles_per_c = 5\n",
        "kmeans = MiniBatchKMeans(n_clusters=optimal_num_clusters, random_state=0, batch_size=100, max_iter=10)\n",
        "kmeans = kmeans.fit(X)\n",
        "print_centroid_titles(X, kmeans.labels_, optimal_num_clusters, kmeans.cluster_centers_, over_18_corpus, titles_per_c)"
      ],
      "execution_count": 51,
      "outputs": [
        {
          "output_type": "stream",
          "text": [
            "Cluster no. 0\n",
            "  1 -> BBC News   Phone hacking  Brooks steps down over phone hacking\n",
            "  2 -> Five Moroccan self immolations \n",
            "  3 -> Special Report  Brazil s gringo problem  its borders \n",
            "  4 -> Slovakian prime minister says his public s patience with European rescue measures has run out\n",
            "  5 -> Mans penis stolen by thieves in China\n",
            "\n",
            "Cluster no. 1\n",
            "  1 -> Tabloid Horrifies Germany  Poland s Yellow Press Turns Blood Red  if you follow the link to the gallery  4th picture is NSFW in the US \n",
            "  2 -> Love Parade Dortmund  Techno Festival Breaks Record with 1 6 Million  with a 90x90 px NSFW thumbnail \n",
            "  3 -> IDF kills young Palestinian boy  Potentially NSFW \n",
            "  4 -> Eye Opening Montage about the Gaza Massacre  NSFW \n",
            "  5 -> NSFW  Taliban Barbers Frequently Sever Customer s Heads \n",
            "\n",
            "Cluster no. 2\n",
            "  1 -> Journalism Face Off  Russian Shadiness vs  American  Objectivity    Interesting Look at the Underbelly of Journalism  incl NSFW video \n",
            "  2 -> Google didn t comply with Argentina s request to remove NSFW video of president\n",
            "  3 -> Dog meat mafia fuels Thailand s canine trade   video NSFW\n",
            "  4 ->  VIDEO  Aftermath of journalist Michael Hastings car crash  Possibly NSFW \n",
            "  5 -> The video of the murder of the 2 Golden Dawn members  NSFW \n",
            "\n",
            "Cluster no. 3\n",
            "  1 -> More bang for your buck   technology changing the world s oldest profession\n",
            "  2 -> Indian renowned Sand Artist  Sudarshan Pattnaik creates world s tallest Santa Claus  hopes to break Guinness world record of Ted Siebert of United States\n",
            "  3 -> photographs that have changed the world \n",
            "  4 -> Bums bared in bid to break world record for the largest nude ocean swim  NSFW serious \n",
            "  5 -> Horrific scenes as bull stabbed and beaten to death at Colombian festival   World news   The Guardian\n",
            "\n",
            "Cluster no. 4\n",
            "  1 -> Having gotten my fill of NSFL watching all the posted videos of Libyan carnage  here is something banal and completely unrelated   Thailand seizes one ton of smuggled elephant tusks \n",
            "  2 -> ITV report from war torn Misrata  NSFL  \n",
            "  3 -> After being held hostage 33 days by the FARC  Roméo Langlois presents his report  slighly nsfl \n",
            "  4 -> and you thought you had a rough life       NSFW NSFL \n",
            "  5 ->  NSFL   graphic content  Motorist mows down dozens of cyclists at high speed in Porto Algere Brasil  Feb 25 2011 \n",
            "\n"
          ],
          "name": "stdout"
        }
      ]
    },
    {
      "cell_type": "markdown",
      "metadata": {
        "id": "EEzEUi-vTXGC"
      },
      "source": [
        "## Classification Model for over-18 titles"
      ]
    },
    {
      "cell_type": "markdown",
      "metadata": {
        "id": "E1gup656gG4-"
      },
      "source": [
        "### Using (Glove) Word Embeddings\n",
        "\n",
        "In the previous section, we created word representation from the given dataset. But this is not possible if the dataset is online. It is better to use an already trained word representation. We use GloVe embeddings which are pre-trained word vectors on a very large dataset.\n",
        "\n",
        "We use 100 length embedding given the size of our model."
      ]
    },
    {
      "cell_type": "code",
      "metadata": {
        "colab": {
          "base_uri": "https://localhost:8080/"
        },
        "id": "5bQSAHcqgLwl",
        "outputId": "152006ea-a725-4dfe-ef41-5c038dc14404"
      },
      "source": [
        "%%shell\n",
        "\n",
        "# Download Glove embeddings if they do not already exist.\n",
        "FILE='glove.6B.zip'\n",
        "if test -f \"$FILE\"; then\n",
        "    echo \"$FILE already exists.\"\n",
        "else\n",
        "    !wget http://nlp.stanford.edu/data/glove.6B.zip\n",
        "    !unzip glove.6B.zip\n",
        "fi"
      ],
      "execution_count": 103,
      "outputs": [
        {
          "output_type": "stream",
          "text": [
            "glove.6B.zip already exists.\n"
          ],
          "name": "stdout"
        },
        {
          "output_type": "execute_result",
          "data": {
            "text/plain": [
              ""
            ]
          },
          "metadata": {
            "tags": []
          },
          "execution_count": 103
        }
      ]
    },
    {
      "cell_type": "code",
      "metadata": {
        "id": "hA73jCoJhU3K"
      },
      "source": [
        "'''\n",
        "Class to create Glove embeddings for a given sentence. Each word of a sentence is\n",
        "converted to a fixed length vector. The vector representation of a sentence is the \n",
        "element wise mean of the vectors of each individual word in that sentence.\n",
        "Input:\n",
        "    embedding_size (int): determines the embedding size of the sentence. It can take\n",
        "        value from [50, 100, 200, 3000].\n",
        "'''\n",
        "class GloveVectorizer:\n",
        "    def __init__(self, embedding_size):\n",
        "        if embedding_size not in [50, 100, 200, 300]:\n",
        "            raise Exception('{} embedding_size is not allowed.'.format(embedding_size))\n",
        "        \n",
        "        # load in pre-trained word vectors\n",
        "        print('Loading word vectors...')\n",
        "        word2vec = {}\n",
        "        embedding = []\n",
        "        idx2word = []\n",
        "        filename = 'glove.6B.' + str(embedding_size) + 'd.txt'\n",
        "        with open(filename) as f:\n",
        "            # is just a space-separated text file in the format:\n",
        "            # word vec[0] vec[1] vec[2] ...\n",
        "            for line in f:\n",
        "                values = line.split()\n",
        "                word = values[0]\n",
        "                vec = np.asarray(values[1:], dtype='float32')\n",
        "                word2vec[word] = vec\n",
        "                embedding.append(vec)\n",
        "                idx2word.append(word)\n",
        "        print('Found %s word vectors.' % len(word2vec))\n",
        "\n",
        "        # save for later\n",
        "        self.word2vec = word2vec\n",
        "        self.embedding = np.array(embedding)\n",
        "        self.word2idx = {v: k for k, v in enumerate(idx2word)}\n",
        "        self.V, self.D = self.embedding.shape\n",
        "\n",
        "    def fit(self, data):\n",
        "        pass\n",
        "\n",
        "    def transform(self, data):\n",
        "        X = np.zeros((len(data), self.D))\n",
        "        n = 0\n",
        "        emptycount = 0\n",
        "        for sentence in data:\n",
        "            tokens = sentence.lower().split()\n",
        "            vecs = []\n",
        "            for word in tokens:\n",
        "                if word in self.word2vec:\n",
        "                    vec = self.word2vec[word]\n",
        "                    vecs.append(vec)\n",
        "            if len(vecs) > 0:\n",
        "                vecs = np.array(vecs)\n",
        "                X[n] = vecs.mean(axis=0)\n",
        "            else:\n",
        "                emptycount += 1\n",
        "            n += 1\n",
        "        print(\"Numer of samples with no words found: %s / %s\" % (emptycount, len(data)))\n",
        "        return X\n",
        "\n",
        "    def fit_transform(self, data):\n",
        "        self.fit(data)\n",
        "        return self.transform(data)"
      ],
      "execution_count": 104,
      "outputs": []
    },
    {
      "cell_type": "code",
      "metadata": {
        "colab": {
          "base_uri": "https://localhost:8080/"
        },
        "id": "v_Uwm4jAlDGO",
        "outputId": "d4986ff9-d1a5-44bf-8ea9-393417e0d5d7"
      },
      "source": [
        "vectorizer = GloveVectorizer(embedding_size=100)"
      ],
      "execution_count": 105,
      "outputs": [
        {
          "output_type": "stream",
          "text": [
            "Loading word vectors...\n",
            "Found 400000 word vectors.\n"
          ],
          "name": "stdout"
        }
      ]
    },
    {
      "cell_type": "code",
      "metadata": {
        "colab": {
          "base_uri": "https://localhost:8080/"
        },
        "id": "XkKSh9wylILV",
        "outputId": "b801ee72-6d12-4bc7-a763-b82954a268c6"
      },
      "source": [
        "# Check how many woords from our vocabulary are present in the glove embeddings\n",
        "print('Unique words from dataset: {}'.format(len(all_unique_words)))\n",
        "glove_words = set(vectorizer.word2vec.keys())\n",
        "dataset_and_glove = all_unique_words.intersection(glove_words)\n",
        "print('Dataset words present in Glove embeddings: {}'.format(len(dataset_and_glove)))"
      ],
      "execution_count": 106,
      "outputs": [
        {
          "output_type": "stream",
          "text": [
            "Unique words from dataset: 87835\n",
            "Dataset words present in Glove embeddings: 71041\n"
          ],
          "name": "stdout"
        }
      ]
    },
    {
      "cell_type": "code",
      "metadata": {
        "colab": {
          "base_uri": "https://localhost:8080/",
          "height": 108
        },
        "id": "RW-6uAK7lZ72",
        "outputId": "94c519fc-0a57-4dfe-9423-3b980d0fe2e7"
      },
      "source": [
        "# To see what sort of words are part of the dataset but not present in glove embeddings.\n",
        "not_in_glove = all_unique_words - glove_words\n",
        "print(not_in_glove)\n",
        "\n",
        "'''\n",
        "Words that are not present in the glove embeddings fall into one of the below categories:\n",
        "1. misspelt words\n",
        "2. foreign language words\n",
        "3. digits\n",
        "4. concatenation of two words\n",
        "5. unofficial words\n",
        "6. other reasons.\n",
        "\n",
        "We will use zero array embeddings [0, 0, ... , 0] for such words.\n",
        "'''"
      ],
      "execution_count": 107,
      "outputs": [
        {
          "output_type": "stream",
          "text": [
            "{'searnings', 'польша', 'kony2012', 'cybe', 'ribeauville', '110deg', 'crowdmap', 'dyngjujökull', 'galantgate', 'daif', 'xiaobos', '08bdaho', 'holande', 'toet', 'daraprim', 'diaf', 'tricorders', 'verdians', 'marsé', 'araab', 'corelink', 'pertubuhan', 'honer', 'econom', 'j0100', 'cavirtex', 'bitcurex', '21mil', 'abbruzzo', 'burdus', '126m', 'hadquarters', 'molotow', '71m', 'platorm', 'stronauts', 'fonop', 'andordered', 'saraqeb', 'mcgarahan', 'kaffana', 'atols', 'blythman', 'interrail', 'cyer', 'skepticblog', 'apprises', 'tokushukai', 'fearin', 'sonogo', 'instagrams', 'simbikangwa', 'rampion', 'srael', 'shitbomb', 'haricuts', 'newsdash', 'duaa', 'crowdmapped', 'lebara', '240k', '3128', 'unshredded', 'serêkaniyê', 'notibly', 'مع', '8997', 'украиной', 'jancso', 'demirtaş', 'boozefest', '14yo', 'straya', 'seneb', 'livefeed', 'corporatocracy', 'showden', 'alepposchildren', 'nized', 'duckface', '65mi', 'shotspotter', 'epujkipkvymeswg4', 'queenstreet', 'alyokhin', 'webrazzi', 'supertunnel', 'sukampon', 'maalei', 'hammertoss', '82k', 'igushetia', 'naipauls', 'finnbay', 'kolomoiskyi', 'lahava', 'anonymizing', 'sheeter', 'kermadecs', 'sextremist', 'kanyarucinya', 'postwoman', 'theladbible', 'discarged', 'clusterbombs', 'biohacking', 'mateichenko', 'mallouhi', 'cosied', '351m', 'radioaktive', 'ogita', 'pastebin', 'eureopean', 'baryalei', 'amabassador', 'kabbal', 'wazungu', 'hassaka', 'chicagotribune', 'kuwairis', 'legitimatise', 'kamlaris', 'awsome', 'wellbores', 'zekejmiller', 'invded', 'trolltunga', 'visokoi', 'kilimajanro', 'gendercide', 'gobanle', 'kakehi', 'zueter', 'hectacres', 'nickelsdorf', 'strongtium', 'craftswomen', '770lb', 'berlesconi', 'egyption', 'eatocracy', 'etiske', 'schuks', '1061c', 'frite', 'immortalise', 'trojanow', 'helmund', 'ixzz3oixz8dvu', '15girls', 'yetki', 'dominionist', 'bodyboarder', 'dnews', 'hallobus', 'qaddhafi', 'shujayea', 'mincome', '700kg', '000lb', 'u212', 'rort', 'keosavang', '5eur', 'iphone4', 'ameristalgia', '_helping_', 'stresser', 'norgerhaven', 'ismayilli', 'guillaum', 'allahdadi', 'arredted', 'homocides', 'vaxevanis', 'conferenc', 'sheikhdeclared', 'trollin', 'apartemen', 'ashers', 'goethem', 'flabbergasts', 'misterious', 'вработува', 'goyet', 'arcópoli', '550km', 'familily', 'departemente', '19yo', 'tregaro', 'yousufza', 'tazed', 'btutality', 'iwanow', '41am', 'sportsjoe', 'astroid', 'perfomace', 'radioacive', 'futs', 'vafamehr', 'junoodul', 'shcool', 'palmyran', 'rishanara', 'pára', 'ukmps', 'politicain', 'vanin', 'gayed', 'portugul', 'badré', 'aspergers', 'organisstion', 'ochsenreiter', 'misarata', 'miyeni', 'eurodad', 'ranjay', 'severes', '10thehague108', 'transforma', 'globalselfie', 'guerrilas', 'chilred', 'israeil', 'regeni', 'cryptocratic', 'retalitation', 'moeldoko', 'megasolar', 'gallary', 'islandic', '440pts', 'setectors', 'falciano', 'mozayik', 'fuuuuuuuuuuuuu', 'gadult', 'wegotbinladen', 'coduri', 'tradtional', 'muniba', 'prestigiously', 'problemi', 'queesnland', 'jeifu', 'karpelès', 'pelters', '190000', '369k', 'duplitecture', 'weihnachten', 'swaffelen', '263kmh', 'poision', 'blesa', 'khandihar', 'leïla', 'putlandia', 'farkhunda', 'lsx', 'kidanapping', 'prostitue', 'planemaking', 'boaty', 'irawaddy', 'nigalidze', 'bandaid', 'khodahafez', 'spaceline', 'wüstenrot', 'huida', 'expropiates', 'ibnlive', 'independent_ie', 'airtasker', '34mon', 'downinternational', 'maragret', 'kippas', 'erres', 'astrebla', 'murhaf', 'fintech', 'tavecchio', 'penyagon', 'coinye', 'bakhomious', '0319', 'nivolumab', 'helicoptor', 'mosche', 'opusa', 'grabat', 'steelcare', 'waterbomb', '77b', 'harnum', 'machli', 'ghatra', 'ihlam', 'parisislife', 'commento', 'lowbirth', 'bagramian', 'norway_65756308', 'dubmest', 'holtorf', 'sibirosaurus', 'bitmain', 'aletho', '2992051', 'stalininsm', 'nadhari', 'kindergarden', 'tasintha', 'dh798', 'solevu', 'keijzer', 'azebaijan', 'freeston', 'daveed', 'refinancers', 'money2money', 'allafrica', '160mph', 'nside', 'yonggi', 'outbreaknews', '143m', 'transdnester', 'michálek', 'eartquake', 'vermisst', 'lababidi', 'gangrape', 'whithhold', '068', 'strugglig', 'angriffe', 'couchsurfers', '900gw', 'оf', 'youhannabad', 'assimiliation', 'sarcko', 'silala', 'mediène', 'hassakeh', 'sochi2014', 'webdesigning', 'reviws', 'supertide', 'worlpolitics', 'rebekha', 'bubakar', 'jahbat', 'unamenable', 'serova', 'millitant', 'gharibi', 'breslan', 'nbcnews', 'niiza', 'namungoona', 'evacuted', 'hypermiling', 'geatan', 'chernovil', 'dashcams', 'subreddits', 'masmud', 'replants', 'strology', 'clairin', 'petróleo', 'bellingcat', 'prossimo', 'af55', 'rosaviation', 'nemstov', 'secy', 'graffitists', 'belmina', 'neautrality', 'freakier', 'paranoá', 'chauris', 'cf18s', 'loool', 'mujercito', '300ft', 'telegony', 'ovit', 'gasprom', '440million', 'hablod', '382k', 'bradistan', 'insultos', 'mikmaq', 'harddisks', '87b', 'shahtrughan', 'marietje', 'r5oo', 'azariv', 'gcaptain', 'doxed', 'deigo', 'juffali', 'evoluzione', 'approva', '2017ish', 'betsa', 'rinf', 'torz', 'mironivske', 'qaher', '226m', 'kichijoji', 'bassis', 'us29', 'nuclear_power_station_explodes_in_lmad34kud0536cb4hsafmp', 'mongabay', 'strongarms', '22y', 'askacop', 'ea189', 'riesending', 'territor', 'kicsi', 'doften', 'marayong', 'span3', 'bankrobbers', 'novanto', 'subioco', '51pm', 'مصر', 'sharrouf', 'u212s', 'laurate', 'hempology', 'ammirare', 'ameristrailia', 'peldge', 'cyberthreat', 'londonriots', 'hatzir', 'beheader', 'drian', 'booktv', 'vunidogoloa', 'zaroulia', 'msfw', 'gangbanged', 'anbang', 'binmen', 'ninguém', 'uapr', 'chrisitian', 'sh72', 'apnews', 'steinmeir', 'traveles', 'questione', 'efsm', 'nursa', 'salqin', 'svalvard', 'imans', 'desempleados', 'cirujano', 'killled', 'yerkel', 'kreuningen', 'geminids', 'grambo', '15se', 'myhomemove', 'safonacc', 'galhau', 'faciities', 'eurowide', 'dailytech', 'mansplaining', 'exclusif', 'karroum', 'vorratsdatenspeicherung', 'ayahtolla', 'zafke', 'yukanin', 'actinidiae', 'us550', 'fortov', 'kalynda', 'nawalnys', 'senteced', 'professora', 'destinantion', 'esawiyya', 'moonbats', 'ofunato', 'lungworm', 'skvorecky', 'wikicreek', 'sotji', 'dhs21', 'guriev', 'motazz', 'gundown', 'washiqur', 'operationtakedown', 'coptics', 'thengar', 'kurochkina', 'aliasaskhab', 'wape', 'nesd', 'qsd', 'khnp', 'pp0277', 'migaloo', 'rableh', 'atrributed', 'petrostates', 'grímsvötn', 'sillicon', 'gurib', 'bunyadi', 'russisa', '7news', 'atsani', 'qaraqosh', 'bavar', 'anandiben', 'hababi', 'vyapam', '175bn', 'tunesian', 'opression', 'sussing', 'sekkingstad', 'nirbhay', '510b', 'shurat', 'chirst', 'kartuş', 'freepost', 'profitizing', 'nypost', 'gased', 'laosat', 'armagedon', 'adbdulhadi', 'amariyat', 'astropad', 'mcgreavy', 'milovanov', 'bugün', 'livestreams', 'norweigen', 'kurtulmus', '25bn', 'assuré', 'bwrecks', 'matrimonials', 'qkd', 'rammsy', '46mw', 'faltawi', 'lubtiz', 'remeber', 'lagravere', '1700km', 'communit', 'whitstleblower', 'goooo', 'josefo', 'ecohouse', 'nigde', 'stirol', 'bilgiç', 'peshmarga', 'officail', 'jccc', 'touman', 'pershmerga', 'bbqs', 'fusionman', '26cm', 'jaj', 'grduates', 'grigorii', 'auslin', 'bookbindings', 'chirkov', 'rasdhoo', 'switzlerand', 'rechtlichen', 'cimbaljevic', 'sewel', 'shyrokyne', 'galaxiia', 'thretening', 'oscs', 'leshi', '39k', 'spart', '130mph', 'essayas', 'pelestinians', 'hyperurbanization', 'ventriloquise', 'channel4', 'cattenom', 'leitura', 'anonymize', 'unvetted', 'undeterrable', 'lankanewsweb', 'fakhra', 'ahtesham', 'seuf', 'newsfrettir', 'rm93k', 'misguides', 'istanbully', 'spanakos', 'sarzoky', 'exatidão', '330kg', 'totul', 'pelka', 'campolongo', 'omeri', 'woma', 'gás', 'mancave', 'freedomday', 'falkehed', 'iul', 'bennedict', 'microbots', 'adguru', '1yr', '67bn', 'democracywatch', 'perevalnoyia', 'kuridsh', 'y6', 'pupper', 'daik', 'anonops', 'bringt', 'siluhd', 'dulyadeyn', 'hamedi', 'korryn', 'villifying', 'sernapesca', 'bottlecap', 'bondswap', 'muamar', 'securocrats', 'posedion', 'hackergate', 'hodeidah', 'bitnation', 'sovernty', 'republishes', 'nairab', 'ایرانی', 'skicka', '101bn', '621mi', 'opbahrain', 'oestrogens', 'bugan', 'tapauch', 'pentaquark', 'sp200', 'europiean', 'ungoogleable', 'khvichava', 'aamoda', 'símbolos', 'airmailing', '25tn', 'youarenotwelcome', 'qayara', 'shujai', '500billion', '105k', 'iranien', 'migrationary', 'bidhya', 'isider', 'xuecun', 'theonion', 'casd', 'chaverim', 'uberclass', '7nm', 'aushwitz', '122f', 'alfath', 'diafpc', 'sohae', 'kangbashi', '88bn', 'azher', 'dh52', 'pulpín', 'fereidoun', 'appartamenti', 'chiuso', 'novim', 'shitface', 'azevêdo', 'исламское', 'boglarka', '567bn', 'ferienwohnungen', 'shanghaiist', 'kubajima', 'amazonbusiness', 'nhks', 'shtypi', 'alwach', 'gerechercheerd', 'ultrawealthy', 'kososvo', 'chobani', '100billion', 'timesofmalta', 'xiabo', 'dzanga', 'koppad', 'vayner', 'isreaeli', 'somkul', '258000', 'declaw', 'superchilled', 'frexit', 'kapris', 'bzu', 'tebartz', 'yesbecause', 'pandoravirus', 'hamong', 'philipinian', 'dearoma', 'ah1020', 'iwd', 'marahoue', 'samoilis', '137m', 'zshare', 'loxion', 'trendhunter', '58f', 'emal', '144kph', 'owlhaven', 'uknova', 'refugiado', '7269', 'bajpayee', 'mascho', 'resneck', 'asutria', 'recrutiment', 'noynoying', 'remainers', 'madiosn', 'mortages', 'world911truth', 'pediphile', 'iranâ', 'ströbele', 'qatifaan', 'rasicm', 'villiages', 'montmajour', 'jreij', 'hefazat', 'multidimensionally', 'reffering', 'boig', 'hq124', 'shweiz', 'gorrostieta', 'hatla', 'qz', 'sattelites', 'datapoints', 'keynsian', 'khatar', 'butthurt', 'uncrackable', 'girlss', 'diasarm', 'accout', 'cybersnooping', 'conficting', 'betrothral', 'electroshocked', 'sceme', 'qenamun', 'citizentube', 'sausi', 'perspectivehere', '650kms', 'yousufzai', 'wardz', 'usd700million', 'xingú', 'microterrorism', 'triggeres', '257ft', 'exgirlfriends', 'meditaranean', 'discoverynews', 'accustion', 'architeture', 'dridex', 'syrica', 'unneccessarily', 'lamara', 'mukarama', '49m', 'kizimen', 'wangyang', '25bps', 'foodbowl', 'militatnts', 'neuralus', 'impt', 'cyberwall', 'nirodh', '105mph', '15ft', '500kv', 'leviosa', 'alloul', 'hauchard', 'urmann', 'womem', 'dh35', 'mizrahis', 'gwec', 'chemal', 'posizione', 'balsokra', 'mankinis', 'buyuk', 'tolou', 'arabiasaudi', 'rebeaches', 'fetu', 'shughour', 'fishermem', 'integratal', 'haikui', 'muaza', 'blackphone', 'letterspacing', '20yr', 'gazas', '14mn', '266bn', 'ghizzawi', 'cukurs', 'pharmacorps', 'oxi', 'supertax', 'exeo', 'specatular', 'bantleman', 'fox5', 'shaharuddin', 'straujuma', 'wtftitle', 'fatberg', 'uncosted', 'novip', 'famouos', 'zephany', 'gründer', 'saleena', 'rahinah', 'ondar', 'guangzhu', '315kmh', 'ganglord', 'mydressmychoice', 'killallwhitemen', '2leaders', 'damscus', 'journaled', 'respose', 'pootle', 'theeconomist', 'mivd', 'aquires', 'meaa', 'arutzsheva_en', 'chemtrail', 'immolants', 'gormezi', 'ástþór', 'sumail', 'tedxvolcano', 'bumbum', 'broadscale', 'fy14', 'impropmtu', 'cadidates', 'pdc2008', 'parrikar', 'jounalist', 'fidelix', 'wawee', 'obamanomics', 'iguanodontia', 'barracaded', 'allibyia', 'gioa', 'golovnina', 'mlyaf', 'britishisms', 'hisun', 'meikhtila', 'okongo', '100kph', 'associatedpress', 'humanises', 'mazraat', 'heukhyeong', 'depuratore', 'peaceandconflict', '12qn', 'koşaner', 'upsidedown', 'eylisli', 'gairsoppa', '200ft', 'kibibi', 'kurecik', 'megabecquerels', 'sedol', '870m', 'zhisong', 'ravjaa', 'as2', 'rubberit', 'liberland', 'alcapulco', 'cassagnes', 'zombicon', 'whells', '16tn', 'du30', 'emplyed', '90x90', 'kohsar', 'intructional', 'tengrinews', '27o', 'atme', 'bloppis', 'הסרת', 'mossack', 'deciminalised', 'dtek50', 'crappening', 'alatash', '700k', 'sofosbuvir', 'bolasie', 'byone', 'permutter', 'ghoncheh', 'ahsrafi', 'assocpress', 'kouddous', 'londola', 'middot', 'zakarpattya', 'attacksw', 'cacks', 'ahmadinehad', 'cohep', 'percute', 'adreyevka', 'burnswark', '000bpd', 'naltar', 'shopsoiled', '150bn', 'ipredator', 'part2', 'altunin', 'irseali', 'cybertroopers', 'froelicher', 'kangroo', 'égypte', 'h10n8', 'okmeydanı', 'crapped', 'jylma', 'pirces', 'ceasefine', 'harardheere', 'volence', 'indigineous', 'easkey', '390mn', 'yourslf', 'elminate', 'weebly', 'biolimb', 'smoleńsk', 'girlâ', 'hoongle', 'kennth', 'r140m', 'tarsey', '91000', 'holzindustrie', 'megarif', '122m', 'tebu', 'fn6', 'tokmakjian', 'dandjinou', 'dakhi', 'transpant', 'dusssshtbin', 'iranto', '13800', 'airwarves', '582bn', 'stultify', 'wireupdate', 'altundağ', 'controverisally', 'rubberstamps', 'torbryan', 'upvoted', 'eroticisism', 'cringeworthy', 'sasot', 'x02', 'eu27', 'satcaster', 'fracks', 'azperger', 'rs0', 'skippaz', 'bitcoinbillionaire', 'supergovernment', 'toures', 'senwosret', 'illovaisk', 'aqilah', 'ixzz3ak6s08rs', 'jan28', 'bratusek', 'cfk', 'acousticphrenia', 'enclava', 'kolomovsky', 'tuitionfees', 'pliss', '19k', 'soleymani', 'dashcam', 'alkhawaja', 'wikirebels', '1mn', 'khayala', 'archiveteam', 'mediteranean', 'rothkos', 'помощь', 'dukezong', 'ramelli', 'intoday', 'pipebombs', 'trolach', 'kuanda', 'gurizada', 'shengnu', 'bombies', 'jérome', 'quadaffi', 'hamdemic', 'wölk', 'peipah', 'in2400', 'rabatpress', 'stupide', 'madonsela', 'crashola', 'tawergha', '96km', '507lbs', 'irnss', 'bgw', 'prayut', 'aleppans', 'shkreli', 'cashgate', 'toskana', 'mcconvilles', 'globalhealth', 'vanuata', 'appology', 'pungesti', 'fearmonger', 'neutralises', 'victis', 'sabertooths', 'mesomelas', 'malvertising', 'narcosphere', 'warground', 'rmb2', 'nanorobot', 'hameedi', 'realz', 'sunderhaus', 'impingements', 'cheptoyek', 'pressuresing', 'prosecut', 'panatag', 'avtips', 'elizete', 'occupylsx', 'troeh', 'mboyo', 'hemorrage', 'bluehenge', 'beiber', 'omaree', 'gazzar', 'murbark', 'бесплатно', 'ziab', 'afsha', 'giyus', 'fjordman', 'indycamp', 'spycables', '5trn', 'asuta', 'followersof', 'sevdet', 'uswebdaily', 'swatiskas', '278km', 'apoligizes', 'beia', 'anchanbutr', '707k', 'gipsi', 'bdlive', 'zlitan', 'onoine', 'papadimos', '9136', 'saeqeh', 'excremented', '000lbs', 'gareev', 'criirad', 'dipuo', '60ft', 'battir', 'megapussi', 'beated', 'demobilizes', 'youssi', 'targest', 'overfond', 'bienkowska', 'fucktard', 'ruchun', '900mila', 'brokeup', 'thavisha', 'snoweden', 'hebrón', 'djingareyber', '274m', 'psychiatrization', 'fargoed', 'basmah', 'palestiniians', 'mnths', 'ggvernment', 'chf650', 'poretti', 'goreslavsky', 'rockard', 'convit', 'dungeonlike', 'feedzilla', 'intelbrief', 'trasmesso', 'ghandoura', 'tubectomy', 'oinihol', 'menstruates', 'forze', '16000km', 'roborant', 'ethercamp', '68bn', 'vendita', 'domenique', 'karipbek', '1mln', 'intégristes', 'ayoreo', 'cje', 'camelicious', 'lír', 'bulgarisk', 'kochneva', 'themepark', 'misinformer', 'tibets', '753bc', 'essebsi', 'kuntia', 'uncrewed', 'zeus3', 'ausralian', 'dzud', 'hellstorm', 'terrawatt', 'schtum', 'logicsupport', 'arives', 'househas', 'fx15', 'sciarpelletti', 'ps4s', 'almudevar', 'isawiyya', 'chllng', 'robucab', 'russisan', 'montalván', 'big6', 'tagrisso', 'ghannoushi', 'smoiking', 'pollonium', 'droneship', 'rusingoryx', 'eikaiwa', 'kplt', 'bakraoui', 'pfrda', 'pyonghattan', 'kamuntu', 'fairlife', 'awassi', 'hopeover', 'nubl', 'zmapp', 'servic', 'blashphemous', '25mn', 'doxxing', 'threathen', 'vegitable', 'pensano', 'eeds', 'cantile', 'lobling', 'lionaid', 'almesryoon', 'unfriend', 'antiregime', 'globalfocusthe', 'halgan', 'mayir', 'cystal', 'harstein', '25x', 'prorogata', 'puppys', 'postquake', 'familiale', 'rugurika', 'khalezin', 'democratandchronicle', 'mandhare', 'ghoga', 'withint', 'ای', 'bunkerization', 'lawdar', 'currption', 'irriversible', 'boutell', 'alinejad', '500mw', 'unpacified', 'ignoto', 'nanananananana', 'kahira', 'gabjil', 'gundev', 'sawasiah', 'maryinka', 'bushmea', 'khalfi', 'gunmaking', 'cannabalise', 'arrrests', 'kyrian', '7billion', 'cybermilitias', '4bln', 'domminich', 'kaching', '40lbs', 'freetrade', 'scalpal', 'nthiwa', '000bn', 'berehulak', 'aboutcroatia', 'perthus', 'khameni', 'yaacou', 'tawakkul', 'hamyd', 'catchya', 'gurbax', 'vaxxer', 'bitmesine', 'vaquitas', 'suleja', 'dikeh', 'riotpolice', 'bahra', 'shirtfront', 'unoffended', 'kuweit', 'ac624', 'n319tw', 'filesharers', 'livestreamed', 'chaambi', 'umarali', 'aerovelo', 'tisp', 'miister', 'elsenburg', 'intepretation', 'snowblog', 'womenonweb', 'downmoding', 'youstink', 'chernyaev', 'zhengjia', 'uppdrag', '703990', 'narcostate', 'pipelin', 'joycott', 'jaisha', 'pudasjärvi', 'violenct', 'indroduce', 'aknowledges', 'schwesig', 'prorussian', '590ft', 'kanhdahar', 'fastft', 'antisectarian', 'shillinglaw', 'borader', 'liveaid', 'trapwire', 'izadis', 'acov', 'iraque', 'hygeine', 'wailevu', 'magarief', 'karakayev', 'pyschiatry', 'garottes', 'tetney', 'mafarji', 'portavoce', 'todaysthv', 'putka', 'yazigi', 'becciu', 'hundnut', 'mudering', '13mln', 'chicoms', '1bs', 'riiiight', '30years', 'etias', 'coalición', 'weihnachtsstimmung', 'galleze', 'thiefs', '938bn', 'semakau', 'hongsibao', 'veteren', 'dispen', 'the_intercept', 'diseater', 'jewelley', 'binisti', 'sj50', '2ku', 'maturità', 'bobonazarova', 'glorifiers', 'бадминтон', 'uighars', '220k', 'pajapita', 'rokudenashiko', 'maylasian', 'cyberwarrior', 'zica', '71usd', 'degang', 'almowqef', 'juyou', 'tazmanian', 'roudi', 'theguardian', 'catapulty', 'resurgance', '65p', 'florentijn', 'ignatief', 'gaddafism', 'primeminister', 'rifiuti', 'enshede', 'chernobly', 'kreshnik', 'fdo', 'mashrou', 'dhanuson', 'rmeilan', 'suhan', 'solariums', 'mpinga', 'ourexplorer', 'balistic', 'mashuko', 'jual', 'sabeen', 'erwiana', '275kg', 'abkhorak', 'savethemastiffs', '2887701', 'puda', 'aljazzera', 'posioned', 'ibtimes', 'bakirat', 'inmediate', 'brothehood', 'هاهستیم', 'sayfildin', 'öffentlich', 'mingqutnguaq', 'chenais', 'ciggaretes', 'marcala', 'shehrbano', 'delcares', 'funster', '15940', 'rekt', 'bitterlemons', 'hunternews', '47m', 'berlusconist', 'cyberalliance', 'wapsi', 'wayra', 'salery', 'facebooku', 'barbivai', 'aibang', '107k', 'prothese', 'multidecade', 'zle', 'punising', 'settelments', 'virutal', 'fineable', 'vuantua', 'dalelven', 'hasakeh', 'sexlessness', 'hmeymim', 'wp1408', 'löfven', 'dorich', 'sarcoptic', 'wasanother', 'impris', 'bodycam', 'sickies', 'millisievert', 'photoshow', 'torygraph', 'mubarack', 'equitalia', 'opson', 'taxloophole', 'shanas', 'jiawan', 'buenosairesherald', 'banistan', 'onyebuchi', 'marwaha', 'phoneys', 'asiaaor', 'lehava', '571m', 'bangaladeshi', 'realclearworld', 'gilgel', 'hroisman', 'dsgmc', 'alleruzzo', 'spheniscus', 'greeheads', 'iew', 'nxious', 'primte', 'montelukast', 'a249', 'telecon', 'pelosis', 'gaurikund', 'westernise', 'empréstimos', 'gorvernment', 'lpddr4', 'sangkar', 'cbank', 'gligorovich', 'kimetto', 'vorayuth', '83bn', '600ft', 'attr', 'tongfei', 'profanes', 'kasparav', 'draughtiest', 'upnr', 'auuuuuggghhhh', 'muheisini', 'insemmination', 'microbiotherapy', 'majhthana', 'lahouaiej', 'overindebtedness', 'purdani', 'rnw', 'khdeir', 'shomi', 'guarni', 'kawahiva', 'hüda', 'obid', '500mbit', 'ashya', 'therealnews', 'çavuşoğlu', 'malindo', 'qamishlo', 'maqdis', 'kotsenburg', 'supersalty', 'aholics', 'economie', 'radonski', '9m38', 'namaaz', 'egypair', 'voiceofrussia', '05pm', 'commments', 'tianenmen', 'fox43tv', '067', 'pushp', 'dejaeger', 'recordered', 'domaineers', '065', 'fallstreak', 'fillerbust', 'suryadharma', 'societyism', 'djihadisme', 'kesinovic', 'beyar', 'simlar', 'zhuling', 'walbran', 'ecretary', 'flâneurs', 'bockholt', 'heyheybookmark', 'hellenestic', 'kelakh', 'atttempt', 'risorse', 'prostests', 'massispost', 'starbacks', 'sq368', 'invece', '900pc', 'kaminis', 'euracism', 'reapplies', 'huugjilt', 'iydu', 'reznoresque', 'recives', '600km', 'bioethicsts', 'svaar', 'arulantham', 'fordow', 'saadiya', 'baught', 'uprighted', 'abedrabbo', 'metgasco', 'badasses', 'antigov', 'trarieux', 'peacekeeers', 'gtst', 'dalaeen', '15mbps', 'seepwater', 'haftar', 'oked', 'overpopulating', 'sydsvenskan', 'intoscana', 'shitstorm', 'sobelev', '68m', 'chirok', 'rorting', 'libnan', 'pastfarians', 'yonsa', 'lesezeichen', 'kulanu', 'xatuniye', 'soulik', '250kmph', 'unlikey', 'speartooth', 'radio4', 'bezler', 'mezerhane', 'ziplines', 'kd500', 'default_headline', 'veinotte', 'solanezumab', 'cop21', 'amcu', 'pavlensky', 'aitizaz', 'bamuser', '16mar2011', 'estalker', 'pggm', 'electricial', 'afeke', '30bil', 'mujawar', 'rusada', 'telesalud', 'hazukay', 'dunsborough', 'labirint', 'alledgedly', 'dagha', 'ultarope', 'indonesias', 'undecillion', 'segreant', 'schneiderlin', 'bransons', 'rimsha', 'upyd', 'chromebit', 'towlette', 'halappanavar', 'doctorsgirlsbymiminajh9', 'هرشل', 'octopusses', 'qf28', 'muriwai', 'qalamun', 'cholili', 'baazar', 'slaughted', 'janukonis', 'edcomm', 'redwell', 'zwrot', 'onard', 'rejiggers', 'retweeters', '900kg', 'velocimetro', 'hisdeath', 'alshabaab', '157m', 'dailysource', 'rakibul', 'shaddadi', 'conserning', 'maroccans', 'plebgate', 'bilderbergers', '862m', 'nishimiya', 'dzhankoy', 'waferless', 'diputed', 'cyberattackers', 'equinet', 'boochani', 'tehranbureau', 'vänsterman', 'foua', 'goodgame', 'cigarest', 'horiffic', '21000', 'anhar', '30sm', 'nutjobs', 'intervation', 'débrouillardise', 'fasliya', 'choppergate', '13tn', 'iranium', 'londonshire', 'ettlement', 'abosrb', 'elopements', 'eshchenko', 'chabba', 'horlivka', 'linkwell', 'tibetian', '35bn', 'sopravvivere', 'archaeorama', 'loefven', 'yachtshop', 'defenseisrael', 'gheradini', 'cop20', 'opanontrademark', 'fatherlands', '27bn', 'palestrnians', 'mashco', 'benyu', 'obamastation', 'telstras', 'warmbier', 'abrini', 'le280', 'superfetation', '300years', 'swisspartners', 'fy2016', 'pentawere', 'puplit', 'indiannavy', 'karlovka', 'sbeineh', 'dissapearence', '1mdb', 'spruik', 'coundown', 'principais', 'metroxpress', 'miminum', '2926935', 'broterhood', 'ftse100', 'critizising', 'ukrenergo', 'trophie', 'ukw', '340m', 'mosasaurus', 'pahariya', 'jonaton', 'palestinean', 'expresss', 'pissin', 'yarmouck', 'deathring', 'québéc', 'emprestimo', 'gassmonopoly', 'pechenkin', 'fetö', 'gyffin', 'jerusalemonline', '60bn', 'struempfel', 'eurpea', 'afgahnistan', '0221', 'morissey', 'africa704150', 'zoomlion', 'freezeway', 'itop', 'malasyia', '8yo', 'rm180m', 'undeletable', 'yakhont', 'bagy', 'philipinos', '34kg', 'etoro', 'gareyev', 'akov', '21h45', 'tymosjenko', 'touadera', 'depraving', 'devaltseve', 'carbanak', '127f', 'reddtors', 'кто', 'hurle', 'hamdiyeh', 'falkands', 'khoshroo', 'geekquinox', 'qz8501', 'extratorrent', 'constructionweekonline', 'pleitgen', 'russeurope', 'malyasia', 'wankers', 'cormann', 'avijit', 'aggiornata', 'tunisa', 'derfner', 'kafila', 'xenopobia', 'euthanise', 'us10bn', 'kutbi', 'regaliceratops', 'ghcq', 'tornup', 'henious', 'izadi', 'yoğunluğu', '83m', 'الشعبية', 'pocoyo', 'kaikias', 'bandladesh', 'cprk', 'lammily', 'amerium', 'misfold', 'unenjoyed', 'shtorm', 'kumolo', '240kg', 'conferentia', 'renewes', 'coligation', 'cilivian', 'sygenta', 'eaeu', 'propagandas', 'diichi', 'madrina', 'kidero', 'neverseconds', 'disapear', 'beliving', '331kg', 'retainment', 'warâ', 'techuk', 'isdafix', '323kg', 'tjahaja', 'cosies', 'ajalpan', 'rossinger', 'chupakabra', 'woulsd', 'raiswell', 'wepad', 'bruseels', 'govermant', 'prosyndicate', 'murdochia', '666th', 'ваc', 'haberleri', 'foreigns', 'lvarez', 'sharmine', 'dzhalaldinov', 'lasagnas', 'mailpile', 'tribù', 'clug', 'eremeev', 'firefish', 'quelccaya', 'στο', 'nankoku', 'bulhan', 'sextremists', 'pinxox', 'prisonment', 'abledanger', 'packbots', 'c51', 'mosscow', 'paxvax', 'kucherena', '7344', 'ellamey', 'trashgate', 'jeoh', 'hasannounced', '82c', 'madagali', 'quryna', 'recentralise', 'downvotes', 'krygyz', '72c', 'illegalize', 'fttn', 'astrosat', 'syrien', 'critisizes', 'bytestyle', 'bakata', 'tepojaco', 'kurish', 'seattlepi', 'restavek', 'iplcricket', 'pen15', 'clanism', 'tgte', '303bn', 'zaqout', 'amayreh', 'gbp1bn', 'jiujingzhuang', 'superbubble', '76km', 'gshq', '04am', 'invasional', 'tedtalks', 'cayyad', 'miskovic', 'caraho', 'tsetkova', 'keralan', 'barðarbunga', 'recebt', 'blocus', '380k', 'almanasfi', 'yukihisa', 'prepays', 'rrussian', 'slaviansk', 'cehicles', 'alfusainey', '18bn', 'predetermines', 'bishwas', 'iscd', 'egept', 'interoperably', 'unapoligetic', '520m', 'comert', 'chiniese', 'facespook', 'dubes', 'aboutalebi', 'straddler', 'travalena', 'uutiset', 'atmachaithanya', 'ratifiers', 'manseutudeness', 'inflaters', 'nyakeraka', 'fromyefren', 'ramciel', 'mukasei', 'malandros', 'akinleye', 'mayassa', 'spekulation', 'kassig', 'rozov', 'mychannel', '3news', 'open2study', 'desal', 'sinchuan', 'başlıyor', 'erdoganists', 'evrona', 'jinkosolar', 'angolo', 'mcguyver', 'gipa', 'foxcon', 'mishtenur', 'schibbye', 'thunderf00t', 'lexit', 'gupc', 'снг', '8trn', '79m', '690m', 'upvote', 'southfront', 'see321', 'kavuludi', 'byallaccounts', '307bn', '77m', '1trn', 'keunikan', '18tn', 'piebke', 'witswatersand', 'ceylanpinar', 'meseum', '20tln', '95bn', 'conomics', 'emps', 'ł1', 'brutalise', 'televisivo', 'adblocking', 'ghebbi', '800bn', 'earther', 'puracal', 'octocopters', 'gards', 'hackeny', 'abdelmassih', 'deehani', 'mcse', 'shitting', 'pyriproxyfen', '57c', 'mayorial', 'shoughour', 'nigeriain', 'pinczowski', 'ndlangamandla', 'unanotecalles', 'assang', 'yurubcheno', '209kg', '1y', '1000x500', '65ft', 'siluanov', 'aggedon', 'spaceil', 'letthemstay', 'yafran', 'alemarah', 'laundroid', 'botwana', 'akouedo', 'aactive', 'chunying', 'biotrial', 'verwalten', 'libdems', 'moranbong', 'ustaadkhan', 'ekathimerini', 'terabecquerels', '15lb', 'christianista', 'carrriers', 'talibanistan', 'juanta', 'matusov', 'blisty', 'ssempa', 'keppe', 'zaslon', 'nawsha', 'hoogerland', 'mlna', 'ogmqn3bh', 'carbonize', 'zochrot', 'scambio', '00000000', 'askreddit', 'fonyo', '34k', 'chalgari', 'speakthai', 'seifeddine', '410000', 'moksunov', 'graincorp', 'minhai', 'spoerry', 'otista', 'usiu', 'unlooted', 'estudo', 'hishem', 'soleful', 'flavifrons', 'katrinas', 'jb2', 'safajoo', 'ogp', 'poitín', '4486', 'brotherston', 'nailclippers', '21110', 'bishoy', 'downvote', 'lonton', 'cybercensors', 'kuandian', 'spellchecj', 'işlerimin', 'insightcrime', 'lukashevich', 'jarablos', 'exhiben', 'robock', 'temeperatures', 'grifs', 'threatpost', 'superhacker', 'didiyev', 'danemark', 'toktomushev', 'surayaba', 'mczs', 'tlatlaya', 'maghasneh', 'interxion', '94m', 'programer', 'smartbloggerz', 'leakymails', '1000kg', 'vsbv', 'flashdrives', 'bohomoth', 'втб', 'adumimm', 'exprópiese', 'diafiltered', 'anonhq', 'paksiatn', 'asshat', 'répression', 'scoodlypooping', '400ft', '50cr', 'deradicalisation', 'reoport', 'postrefracism', 'hokule', 'barricardes', 'copenhagenization', 'overrespond', 'beyts', 'qussair', 'tiennamen', 'razvozzhayev', 'rs1bn', '15billion', 'deregisters', 'frémainville', 'govindachamy', 'trasport', 'linqiong', 'cizire', 'dersi', 'manderly', 'membershipprensa', 'thecamorra', 'benchmarch', 'upac', 'revaccinates', 'invités', 'watchhouse', 'csatáry', 'varoufakis', 'witchcraf', '51bil', '8mph', 'templarios', 'petropar', 'kzt', 'doggerland', 'amputates', 'mleiha', '769lbs', 'microsemi', 'rössing', 'jissbon', 'bilyi', 'giftbags', 'ukraninan', 'tanaiste', 'fifas', 'tawakul', 'deliah', 'idolitry', 'usd31m', 'bbbased', 'ikal', '35i', 'zangariya', 'carelssly', '7tn', 'skeem', '2850705', 'majlinda', '91yr', 'souief', 'freeweibo', 'ariha', '7months', 'gorgazde', 'viagras', 'assiya', '350mn', '52b', 'unifiorms', 'tazering', 'rootworms', '180mn', 'scuccia', 'madate', 'secusmart', 'uberpop', 'allaghi', 'taminflu', 'hoesung', 'typhaine', 'nonostante', 'phumpanmuang', 'adokiye', 'splutters', 'unfetters', 'fastidiosa', 'harga', 'elshinawy', '465m', 'dhale', 'misgoverned', 'krejcir', 'autoplays', 'wodarg', 'woahrldnews', 'golstone', 'hamfisted', 'unitlateral', 'arschloch', 'russiatoday', 'globish', 'mueen', 'piiiiiiiissed', 'techhive', 'ahramonline', 'japenese', 'sedef', 'chemtrails', 'idomeni', 'incudes', 'bitwalking', '41c', 'tology', 'lamjarred', 'lubala', 'unconsumed', 'candiature', 'pertz', 'du30s', 'pengagon', 'apologieses', 'ucavs', 'crameri', 'kernes', 'mashru', 'qaryatain', 'pychologist', 'hammarström', 'labelers', 'gyama', 'dh140', 'doog', 'ho3', '157mi', 'knowlegde', 'nacahuil', 'bateeh', 'cryonically', '71km', 'prominant', 'steimatzky', 'efterskoler', '1017603406', 'gauseva', 'amirahmadi', 'centrak', 'punditfact', 'chornomornaftahaz', 'janicke', 'chamenei', '15mph', 'azd9291', 'iranair', 'dalali', '133160', 'skygreece', 'superhenge', 'explitive', 'relica', 'colllect', '100bn', 'arrestato', 'xeros', '543lb', 'polution', 'robocoin', 'zuckerbergs', 'proview', 'testting', '195b', 'seatoun', 'ofis', 'achche', 'stefonknee', 'posibility', 'agrofuels', 'duranadam', 'ochra', 'nangua', '139km', 'nataruk', 'stragetic', 'hyeonseo', 'letzgo', 'middle_east', 'geohashing', 'azerbajian', 'khattala', 'phiyega', 'zumamustfall', 'rorced', 'us5000', 'pacnet', 'seedpod', 'silbo', 'selfdrivingcars', '30pm', 'zeiter', 'grandstanders', 'hwr', 'okryu', 'högsta', '59am', 'niggerhead', 'fairwell', 'kyab', 'inciter', 'xinxinyu', 'zenroren', 'microsieverts', 'desegration', 'tamualipas', 'erpac', 'kabb', 'atarib', 'poreammeet', '61suspects', 'inceneritore', 'mchamish', 'bostonherald', 'khilifa', 'pigai', 'komentáře', 'tundre', 'dolkun', 'batboat', 'dehorning', 'bangulzai', 'importart', 'igam', 'vinecast', 'unhackable', 'narenda', 'tomboyism', 'edwrd', 'gafa', 'songa', 'outstay', '4channer', 'mdash', 'rulun', 'iveri', 'soundtracked', 'ecquador', 'acanac', 'hellim', 'sayaff', 'qutrits', 'fotros', 'militas', 'newscientist', 'mohau', 'egptian', 'saked', 'bengahzi', 'disinterring', 'shanghvi', 'luxembourgery', 'zamuda', 'künast', 'sackable', 'shikhari', 'chossudovsky', 'forrestjanh', 'multicopter', '12½', 'freshner', 'brilhac', 'göbekli', 'condemnded', 'underware', 'datacell', 'chukdoos', 'egyptâ', 'qobba', '48c', 'gmoinfo', 'confrontatinoal', 'magharibah', 'unha', 'psycopathic', 'padgate', 'moniter', 'billio', 'mammatus', 'registery', 'pithos', 'blockupy', 'tsjc', 'dagdelen', 'thisisacoup', 'wongso', 'rafele', 'decriminalizes', 'selina_b', 'bienfaits', 'micropigs', 'akhgari', 'gobekli', 'kharoub', 'shingal', 'warmist', 'amostras', '338m', 'rapfogel', 'orphanges', 'elci', 'sotu', 'ghessen', '1tn', '19million', 'sunusi', 'qaedastan', 'bayırbucak', 'stoppovertynow', 'millioniare', 'rs26', 'fodbold', 'euractive', 'tymchuk', 'archaelogist', 'groysman', 'hackable', 'theafghanistan', 'repsa', 'ameneh', 'çobanlik', 'wahnapitae', 'alasitas', 'urinator', 'inures', 'askhelon', 'legebokoff', 'stratfort', '31239', '105f', 'hsyk', 'esseghaier', 'harrouff', 'protitutes', 'bugaighis', 'ghurkha', 'preditced', '330zh', 'cybersleuths', 'antisec', 'mass_article_control', '700kpm', 'rmb1tn', 'ukie', 'granades', 'kachikwu', '62km', 'dowses', 'geoviu', 'şah', 'ated', 'threatenting', 'alawaji', 'zaider', 'jokowi', 'ualberta', 'squirrelling', 'missilies', 'creds', 'peopke', 'jhpiego', 'elasmar', '007s', 'granmother', 'qalebani', 'batongbacal', 'blacklistednews', 'helmland', 'manjha', 'venuzuela', 'wuse', 'schloter', 'ify', 'gawp', 'buurtlink', 'kirsehir', 'majour', 'mtgox', 'gebelein', 'apsp', 'ghariyals', 'billlionaire', '10mbps', 'paylasim', 'nieklajeu', 'fsokx', 'bolsonaro', 'wangshi', 'jarmaq', 'unifl', 'porokoshenko', 'mexicoke', 'frizl', 'jpost', 'pressgo', '35million', 'edital', '553mph', 'mordzinski', 'iccl', '12bn', '50ft', 'ġgantija', 'budapests', 'businness', 'horreur', '500e', 'rohingyan', 'assalaamu', 'ghonim', 'declairs', 'niyamas', 'countermaidan', 'intex', 'pritzl', 'meterologists', '13mn', 'sexualize', 'ellsburg', 'irbms', 'sdgs', 'flamewar', 'finallly', 'sambisa', 'lanks', 'shouty', 'riformista', 'crackstarter', 'supersizes', 'schlebusches', 'gamaliya', 'lebanonized', 'apocalyptical', 'driru', 'caribean', '72k', 'islamifying', 'kiyomura', 'towm', 'rukhsar', '10gbit', 'zschaepe', 'densus', 'justhost', 'roanu', 'chaori', 'bribetaking', 'blissflul', 'raqqah', 'vepr', 'pegimon', 'iraqmagzi', 'yarada', 'websitest', 'alawhite', 'hernagi', 'ials', 'roastie', 'mossos', 'danilenko', 'frutarom', 'shafiqullah', 'ckers', 'muggabe', 'kshenuka', 'revieving', 'molembeek', 'mercuria', 'mashjari', 'yaigojé', 'bahoz', '437k', 'merkozy', 'demiraj', 'farion', 'starpharma', 'archatect', 'fligh', 'menús', 'g8s', '3euro', 'conceptualise', 'typehi', 'nyaope', 'ausralia', 'putyin', 'youtubed', 'swisse', 'istan', 'jarablus', 'mukwege', 'qayyarah', '2534748', 'kuashev', 'hashabbat', 'moday', 'steelwinter', 'varkensgriepgekte', 'repairment', 'delcídio', 'matehuala', 'miffing', 'pénitence', 'emperical', 'unrectified', 'hisoar', 'stundents', '152tn', 'griseous', 'brigage', 'deschisa', 'ek201', 'kerepakupai', 'ādaži', 'solarin', 'klymenko', '11story', 'kansascity', 'mazed', 'kharkhiv', 'ntangusa', 'queerty', 'kirobo', 'conflics', 'breadbaskets', 'renegged', 'tightwire', 'monetised', 'phillippine', 'motd', 'f05', 'remaps', 'doenças', 'kgl9268', 'banrain', 'shapelle', '790ft', 'encage', 'db11', 'shadey', 'adebolajo', 'cryoseisms', 'atvod', '30mag', 'fiverr', 'gelbuddin', 'pajich', 'governate', 'bilderburgers', 'zitiste', 'spokeperson', 'classifed', 'eges', 'thhrough', 'qwalish', 'gouv', 'tmall', 'poezie', 'simonovis', 'hidroaysén', 'cognotec', 'kahanist', 'youdon', 'ótima', 'drdgold', 'pinksen', 'birdflu', 'yify', 'abenomics', 'donguan', 'asaabeaa', 'reevolt', 'ritterhude', 'recriminalises', '34million', 'khmeimim', 'duthel', 'undrunk', 'brexit', 'condannato', 'rühe', 'reshelve', 'aother', 'cartophiles', 'politicitians', 'miyah', 'otsuchi', 'impoves', 'genitoplasty', '35k', 'agroisleña', 'shaileshkumar', 'doublechecked', 'nicklinson', 'yingcong', 'juztice', 'pornification', 'cyberfraud', 'bahah', 'chrisitians', 'reults', 'effectivly', 'refat', 'stillis', 'handcyclist', 'marestail', 'counries', 'stephanopoulis', 'seeqpod', '13yrold', 'waitaminute', 'oceanagold', 'savajani', 'nuaymi', 'artez', 'apostatises', 'ladyboys', 'arbeitsplatzverlust', 'strucks', 'maksakova', '196m', 'remainians', 'agrofuel', 'turyare', 'trochez', 'splurgers', 'nochildleftbehind', 'sitem', 'flightwas', 'vinnytsya', 'kasjin', 'qasrawi', 'miskitu', 'hongkongisnotchina', 'meetng', 'superdraco', 'supportyemen', 'misconstrues', 'českénoviny', 'temelkuran', 'zawr', 'weaponising', 'acampamento', '124km', '100pc', 'willenbring', 'domnica', 'tarakji', 'junling', 'federalised', 'yasuní', 'washaya', 'opressed', 'teodorin', 'wederell', 'pessoal', 'antediluvians', 'us8000', 'buratai', 'jan30', 'askjpm', 'collaery', 'northpole', 'egpyt', 'foued', 'creepshots', 'custume', '90º', 'participiated', 'vitalievich', 'chinease', 'silvioberlusconi', 'eurobrand', 'freeeeedom', 'kijev', 'nawrouz', 'bludgers', 'notams', 'almadhoun', 'vitalization', 'fiere', 'bombardmen', '20150220', 'barcoded', 'plutin', 'kuzentsov', 'youyou', 'sarisuluk', 'burkinis', '2idf', 'wikleaks', 'facebooking', 'soldeirs', 'chareg', '100mw', 'gaidan', 'schair', 'touil', 'ukrainin', 'mekar', 'lovelocks', 'amature', 'compulsary', 'israelization', 'hostmonstor', 'serwan', 'staatssicherheit', 'jobmatch', '206m', 'itman', 'auroch', 'jsop', 'maksat', '9268', 'crim3s', '0fees', 'tanap', 'sarkaar', 'héma', 'unmiss', 'kazakhstanis', '105bn', 'mmj', 'viktator', 'jakmania', '123km', 'psunami', 'alhor', '50bps', 'dahi3444', 'ghavami', 'tomdispatch', 'irfaq', '49pm', 'immigrati', 'leadsom', '17bn', 'occupa', 'kumunda', 'zamg', 'promptc', 'twitterstorm', '402c', 'allup', 'crispr', 'wooha', 'deso', 'kuns', 'bnef', 'lills', 'maryana', 'ironnnnnnnny', 'yayladagi', '214m', 'suigle', '10u', 'multisectarian', 'disproporionate', 'yarosh', 'surui', 'redigi', 'pujiharjo', 'gauntanamo', 'habasha', 'jonthan', 'anonymise', 'harretz', '8280', 'jamalizadeh', 'vaxxers', 'shchetinin', 'tvshack', 'anetta', 'yongcun', 'floatilla', 'pcdj', 'sayedee', 'vergleichstest', 'yarışmanın', '8n', 'farmakonisi', 'amrpt', 'gudziak', 'baken', 'definitief', 'competitiva', 'nabiam', 'stanbul', 'tsuruhashi', 'biryulyovo', 'dissapointment', 'assult', 'crivella', 'thokozile', 'geekosystem', 'darnah', 'sr100', 'warrumbungles', 'eurasianet', 'minusma', 'fagirad', 'reliqniquish', 'beneifit', 'döpfner', 'solidiers', 'ومكروهات', 'derbas', 'sxp', 'fukashima', 'instambul', 'henselmann', 'sosha', '672m', 'cajititlan', 'comapanies', 'twatwa', 'breadlines', 'mubark', 'mopra', 'rezainejad', '99l', 'weakests', 'mrsk', 'gerrmany', 'quida', 'shits', 'mahkmour', 'swisspost', '46ºc', 'antiscience', '200lb', 'khayyal', '137cm', 'biadasz', 'r744', 'decisons', 'yaduveer', 'dh1', 'amokrane', 'dhaqabo', 'automaidan', 'megafloods', 'abdulcemil', 'betpak', 'weightloss', '4bn', 'lapshyn', 'warfares', 'nipplage', 'phelekezela', '28bn', '4quake', 'lunacies', 'refinary', 'glaciologically', 'giboulot', 'ixzz2fesdihci', 'bodyslammed', 'aftere', 'islams', 'glühwein', 'elctions', 'tweetbot', '15bil', 'abraj', 'credibleindia', 'keytruda', '冬季慶典的天堂生活', 'tejado', 'mistakingly', 'bershidsky', 'supertank', 'infowars', 'hopebreak', 'asyraf', 'epedemic', '069', 'lockeddown', 'settlemen', 'almathea', 'goergian', 'r65', 'israelpalestinewar', 'oxitec', 'blueskym', '58bn', 'nativeamericans', '2½', 'urquia', 'blagging', 'livemint', '78m', 'mq1', 'trup', 'panglish', '53s', 'careem', 'holohoax', 'yapeng', 'hitwomen', 'jeudaism', 'mayila', '811mn', 'regrexit', 'botmaster', 'thedc', 'saane', '204bn', 'zaabal', 'keratea', 'bickram', 'gukovo', 'plevneliev', 'nrpa', '6bln', 'presedential', 'againts', 'jewsh', 'malinconico', 'shahran', '382bn', 'habagat', 'hawkesbay', 'speak2tweet', 'mroiskypoisky', 'hejji', 'kayayo', '98b', 'delicateness', 'kinnar', 'nugeneration', 'eritea', '140k', 'bubenchik', 'idpc', 'gorusinghe', 'amnestyusa', 'dharmaratnam', '22mn', 'shawabka', 'refromer', 'kazachaya', 'htened', 'drudging', 'antimigrant', 'rosomak', 'nciipc', 'eknelygoda', 'fhritp', 'eletions', 'imprimis', 'syumar', 'mh192', 'munyori', '500l', 'sevim', 'foodbev', 'strumenti', 'muburak', 'tsarni', 'winterlight', 'lakkhikanto', 'kwementyaye', 'infero', '11kg', 'stouder', 'kolleh', 'unpublishes', 'excellus', 'evasio', 'matada', 'galeao', '11female', 'cosmico', 'indialinks', 'soputan', 'surfering', 'kolchenko', 'pujalte', 'emals', 'narcodata', 'horrorcellar', 'unsubmitted', 'facebookis10', 'oddstuff', 'fireeyes', 'bulgaries', 'assasinate', 'dumbass', 'awoonor', 'homeguard', '88f', 'tokyp', 'infaltion', 'ibbenbueren', 'quinstreet', 'moahmar', 'guriyev', 'sakkas', 'insurgencts', 'nucleaer', 'samdariya', 'neyret', 'overgenomen', 'ge2015', 'turb', 'sweatpant', 'jesuischarlie', 'baracay', 'wanlaweyn', 'ghostsec', 'macet', 'chibatão', 'tarfiya', 'chengyong', 'ahmadinijad', 'basistunnel', 'hymenoplasty', 'blogsites', 'trudeauâ', 'kerevan', 'kurdahi', 'sulangan', 'fadelalah', 'ert3', 'camillia', 'o_o', 'toblerones', 'blubbing', 'sidibouzid', 'gitga', 'ogatsu', 'serifo', 'maskirovka', '136bn', 'polician', 'ballonist', 'chargse', 'tengarra', 'popocatapetl', 'sanal', 'mosnews', 'wisdumb', 'elumelu', 'nubilous', 'importância', 'meisa', 'desribes', 'twanky', 'immolates', 'heraldnet', 'monotheisms', 'kushimoto', 'vezuela', 'terrorst', 'drumlines', 'chodorkowski', 'odss', 'ethnosphere', 'undertexter', 'beltagi', '100kva', 'woouldn', 'delhiites', 'sanitiser', '57ºc', 'ardmona', 'foreogn', 'faintheartedness', 'klahoma', 'takahē', 'antivax', 'dorowa', 'fication', 'wanza', 'leakeage', 'emoji', 'rapotteur', 'sanba', 'bouke', 'titstorm', 'autós', 'dubust', 'paedo', 'englan', 'terrororist', 'defrocks', 'londongrad', '6gb', 'mehleb', 'acquifers', 'disapply', 'hinduistic', 'afraids', 'halappavanar', 'libcom', 'redstar', '867m', '280lb', 'bynz', '116bn', 'forign', 'kyak', '90million', 'askdermer', 'romaniei', 'dutchs', 'welovethenhs', 'socialmedia', 'globetrack', '5000mw', 'spraypaint', 'afirs', 'dislosed', 'labraq', 'kaliati', '7680x4320', 'sloviansk', 'jorebon', '245b', 'bathtime', 'hostiges', 'narigón', 'neonazis', 'blogspam', 'capturig', 'mataelpino', 'unbans', '225lb', 'aliexpress', 'controversively', 'bhayani', 'sucides', 'armeniaviolated', 'viedeo', 'grdelica', 'munic', 'багат', 'tsetan', 'approvaed', 'prageeth', 'thery', 'aptamil', 'wonded', 'puttingal', 'maiziére', 'transhipments', 'ecall', 'harambe', 'scotcoin', 'konduga', 'airbarg', 'coiuples', 'aviationherald', 'bushvilles', 'bureaucrazy', 'mustashar', 'maiteeq', '5yrs', '137million', '39bn', 'celac', '742m', 'nasibova', 'nightjack', 'usenext', 'sadzius', 'gatestone', '270k', 'ministesaid', 'shanghaidaily', 'rappeller', 'fanbois', 'programmeas', 'marack', 'skytruck', 'bernholz', 'tsimpidas', 'pruoduct', 'anaiyur', 'chaouqui', 'bgas', 'képesblog', 'harperman', 'freuds', 'schrems', 'villefrance', 'robosourcing', 'backdoored', 'ww111', 'devastasting', 'ceferin', 'piccinin', 'losership', 'newsworldmiddle', 'facebookâ', 'inaugarates', 'patriotica', 'baldetti', 'komunistyczna', 'deash', 'drugpolicy', 'pppa', 'ichirin', 'haitain', 'musharra', 'printthe', 'seaching', 'fukuppy', 'likudnik', '940ad', 'testam', 'abadam', 'umonitor', 'securest', 'mademoiselles', 'mendela', 'alutgama', 'comunitaria', 'форекс', 'burundanga', 'sbujwa', 'mayito', 'uhoh', 'decommunisation', '41m', 'batshit', 'multiculti', 'gotho', 'retrafficking', 'provadia', 'secre', 'canadianpolitics', 'odnoklassniki', 'proliferatio', 'rs25', 'expo2015', 'olimpics', 'billlon', 'sciencedaily', 'vampiring', 'withybush', 'malekpour', 'idolise', 'jinglong', '6tn', 'ausfinance', 'beirao', 'zunera', 'mahilal', 'bobrovskaya', 'nexux', '43b', 'chayo', 'oilwatch', 'granitnoie', 'inhabitat', 'crz', 'doctorswithoutborders', 'jouejati', 'misratah', '3bcm', 'shindake', 'coverting', 'amuptees', 'ellections', 'ugandian', '13ths', 'mployees', 'eveil', '3mn', 'yayhe', '842mm', 'menjustifikasi', 'jianmei', 'caryle', 'tugce', 'adorus', 'resortwhich', 'unblushingly', '1447523', 'qled', 'svyatohirsk', 'gobran', 'tvnewslies', 'bagdadi', 'greendom', 'pornfilter', 'librotraficantes', 'ansaru', 'supernetworks', 'iy626', 'flexjet', 'ausstoß', '9m38m1', 'jaz33ra', 'gesucht', 'cesefire', 'movila', 'overissuance', '6ths', 'zawya', 'stormcoming', 'tweetmap', 'bibic', 'aacimh', 'kizner', 'millenials', '34000', 'wheechair', 'shukrallah', 'limpidly', 'rivoluzione', '280bn', '279m', 'ix35', 'tziganes', 'zeekrewards', 'göss', 'soueif', 'shufat', 'expo2020', 'tantalised', '535k', 'venezuel', 'bansky', 'diabeetus', 'poulation', 'verbytsky', 'booyakasha', 'hardik', 'earch', 'dworzysko', 'sibor', 'palistenan', 'eurocracy', 'arthaud', '356m', 'xmossad', 'deployer', 'cdpc', 'issueing', 'wadossene', 'corpwatch', 'rejecteed', '92bn', 'grillwalker', 'jarban', 'pilop', '91mn', 'dholavira', '6yrs', 'heidenau', 'donwload', 'chiran', 'lundsberg', 'lousie', 'sacrebleu', 'freebb', 'weyaar', 'ttribesmen', 'yousafzaiâ', 'unlelected', 'kaptembwa', 'donisha', 'gerami', 'niqabi', 'kamaleswaran', 'microbloggers', 'marilaneda', 'mapgate', 'hundrets', 'bridenapping', 'mogheer', 'jalazun', 'draait', 'iraniens', 'canacon', 'theives', 'anggit', 'bday', 'cispablackout', 'batkid', 'kepulanuan', 'sudans', 'immortalises', 'stolenberg', 'fungibles', 'deshun', 'walport', 'nersa', 'dernieres', 'phished', 'proesting', 'alloun', 'onfido', 'decarbonization', 'sudanjan30', 'fadnavis', 'ostkraft', 'globalwarming', 'kyonju', '72m', 'incentivises', 'edomex', 'holyween', '242k', 'wirklich', 'otawa', 'tochio', 'ochenja', 'rhrealitycheck', 'munayev', 'croizon', 'auhtorities', '122ft', 'notel', 'dauria', 'formaly', 'libraires', 'q6b7ucaf', 'malcolmturnbull', 'condomnation', 'mukallah', 'weinhofen', '51km', 'brilhante', '1645gmt', 'milions', 'wpost', 'escaletes', 'unfriended', 'optimstic', 'rm12mil', 'ainbow', 'fddnp', 'occupygezi', 'britich', 'rombolodjradiodragon', 'asefash', 'athelete', 'waughnabes', 'miniaturisation', 'csmonitor', 'cphpost', 'schlissel', 'chatzimarkakis', 'sarjeh', 'pharanoic', 'pesotsky', '15bn', 'minamisoma', 'gartenstein', 'ipop', 'kizigure', 'yrvind', 'canalys', 'batteryless', 'alpari', 'swearbot', 'liveafrica', 'krasnodarsky', 'baqdadi', 'mahafarid', 'ivrcl', 'bluebox', 'sompie', '140mph', 'mistranslate', 'loudspoken', 'glaxosmithklein', 'chindian', 'darayya', 'thenational', 'naijh', 'mystry', 'hawl', 'enterpreneurship', 'isael', 'wirathu', 'harah', 'tzela', 'qadhdhafi', 'domiziana', 'lz1', 'kammerlander', 'caughtflying', 'ittah', 'xishun', 'enewspaper', 'chirstchurch', 'jaza', 'mirved', 'flakka', 'somayya', 'iov', 'chynow', 'opposation', 'horsesh', 'turnbacks', 'omaba', 'occupynigeria', 'sultanhaikal', 'thethe', 'fundemental', 'breaksploding', 'comcec', 'aviationist', 'carreto', 'lunchalot', 'uktrademinister', 'sheeple', 'hoody', 'haziq', '24y', 'jirjis', 'cyberdefense', 'jozip', 'shahina', 'feruzi', 'meterology', 'sehwerert', 'dh730b', 'lham', 'businessinsider', 'icebucketchallenge', 'ballonfahrt', 'tongmyong', 'macmillen', 'steigt', '779m', 'protestes', 'cybertechnology', 'vaxx', 'nationalistically', 'θρίλερ', 'ducarme', 'ageidin', 'declered', 'emobile', 'damboa', 'azazy', 'mulka', 'bahaja', 'selflies', '440mln', 'z11', 'highter', 'toliets', '250million', 'schepmans', 'frenc', 'mamnoon', 'bitstrips', 'unprecidented', 'massico', 'authouristes', 'movem', 'zhupanovsky', '062', '310killed', 'deathbeds', 'vulernable', 'arafin', 'coriam', 'omniscan', 'gastropubs', 'bulc', '2mil', 'pitango', 'roadfill', 'yamgan', 'latalia', 'decomcarcy', 'fu2', 'orthadox', 'redoctober', 'u102', 'entrys', 'béji', '130years', 'peadophiles', '1991e', 'posmesalto', 'thenationaluae', 'kocsi', 'shujoyi', 'bettervest', 'johani', 'jonnnie', 'satyarti', 'mordaza', 'mliswa', 'aleksijevitj', 'microchipping', 'supressive', 'adityanath', 'sonderheimer', 'الكريم', 'بـالخائن', 'löfvén', 'methylamphetamine', 'swerus', 'intenet', 'excorcist', '84k', 'deescalations', 'ttip', 'raythorne', 'rancadore', '142g', 'janseong', 'hostake', 'dwn', 'islamtist', 'offrono', 'simultaniously', 'humanrights', 'dibrani', 'jollier', 'conflictofinterest', 'hikianalia', 'editition', 'ecudaor', 'lp560', 'cmon', 'sinz', 'alizza', 'russial', 'seires', 'marriiage', 'ultraua', 'renditioned', 'protonmail', '45kg', 'flipkart', '51m', 'afgantsy', 'sertichi', 'yibada', 'sangchu', 'turkstream', 'tourch', '70pc', 'tweeps', 'cyberhacks', 'hmmmmmmmmmmm', 'tadmur', 'commondreams', 'ryugyong', 'radicalizers', 'engery', 'masihm', '234bn', 'forcades', 'vatcan', 'aphantasia', '420km', 'brankica', 'ettech', 'isperm', 'suemesaudi', 'daylife', 'slavansk', 'southe', 'bissan', 'towarsds', 'nonidiot', 'homoseksual', 'maharshtra', 'sarjeet', 'tumblrs', 'jamacian', 'havesi', 'clsr', 'fukushimia', 'zubur', 'mythbusting', 'attemp', 'capetonians', 'darqad', 'porteouverte', 'opensourced', 'yatsenuk', 'zabiulla', 'telica', 'ateas', 'longjian', 'kammenos', 'seismography', 'frogfoot', 'alacahöyük', 'heson', 'tushaar', 'pargwal', 'lbgt', 'jerkasaurus', 'pritvate', 'kleissner', 'igrc', 'vitual', 'joué', 'shamiwitness', 'yottayears', 'recognizion', 'bohica', '51bn', '135b', 'kerkwitz', 'alagöz', 'bathroon', 'yaobin', 'dalelv', '000new', '537m', '431m', 'popebars', 'pbsnewshour', 'nastygram', 'fibreoptic', 'kroenig', 'photobombed', 'livestation', 'israeliparty', 'sqare', 'yevtushenkov', 'bowdery', 'survelliance', 'solvakia', '18million', 'poltics', 'ddosed', 'englishrussia', 'clusterbomb', 'novograd', 'arınç', 'hmu111', 'utm_medium', '88yo', 'daby', 'unflushed', 'fingds', 'xkeyscore', 'lockeed', 'syrforty', 'whoexit', 'borther', 'llibert', 'awwamiyyah', 'pettiest', 'govet', 'sholakia', 'undiscover', 'ec3', 'writetothem', 'approvrs', 'dustcart', 'piratebay', 'roosegaarde', 'haafiz', 'tirtzakh', 'demonstraion', 'homoerotica', 'bluebra', 'naderev', 'iflscience', 'ibig', 'crowdmapping', 'timurlengia', 'seceretary', 'mililtary', 'civillians', 'thinkprogress', 'aducanumab', '45ft', 'phillipine', 'tocquevillian', 'clarfield', 'apparantley', 'yiz', 'opisis', 'plurielles', 'lorrys', 'madibeng', 'rediculous', 'caeruleonothus', 'sweady', 'abbronzati', 'carfentanil', 'deutschebank', 'takeuswithyouscotland', 'citie', 'tawadros', 'postie', 'idealogy', 'bacchá', 'quraqosh', 'spectrial', 'hahaha', 'impechment', 'antivenene', 'rokotomalala', 'zschäpe', 'denaturalisation', 'analemmatic', 'ohsumi', 'israreli', 'ngyen', 'sorth', 'phonetap', 'buglé', 'maswings', 'hijackes', 'bsod', 'marrige', 'diduga', 'reallyvirtual', 'bucketload', 'azwai', 'dimantle', 'j4p', 'basicincome', 'naamen', 'dhakah', 'shackelton', 'madof', 'razorwire', 'pikachus', '上海日报', 'bhuwan', 'landgrabs', 'lesus', 'pakista', 'icbk', 'ufodata', 'camini', 'тот', 'psykiatric', '800mw', 'azouli', 'tadateru', 'nakhoney', 'hassabis', 'qamrul', 'indubai', 'demonetisation', 'globalresearch', 'biiiiig', 'sydneystorm', 'ccording', 'tagouri', 'unpatentable', 'babsaheb', 'matahara', 'portglenone', 'gewinne', 'motherfucking', 'bushmasters', 'syamozero', 'aboot', 'الثورة', 'evangelii', 'hassajik', 'riddselius', '137bn', 'awating', 'givedirectly', 'kyeb', 'viacyte', 'murabitoun', 'infoplease', 'dh200', 'tidex', 'goldminers', 'sanergy', 'cybertheft', 'zaelke', 'unweaponized', '3oz', 'jolani', 'imperilling', 'anaesthetised', 'harmoush', 'karach', '138m', 'nyanya', 'moonquakes', 'ienca', '785m', 'britsih', 'tegera', 'boxen', 'baekryong', '150ft', 'ruyati', 'zembiec', 'sévaré', 'marinaleda', '12801', 'araqip', '61bn', 'tobira', '154mn', 'algeira', 'ukrainianconflict', 'chaphekar', 'flouter', '237bn', 'passengersâ', 'mocality', 'errr', 'daisanshokan', 'solarcitizens', '536m', '280m', 'contraversial', 'nc500', '50bn', 'mccarthyist', '34km', 'humayqani', 'locais', 'beastiality', 'poxy', 'zeyid', 'bertand', 'khodorkhovsky', 'krichevsky', 'paitent', 'romaninan', 'tskhivnali', 'listicle', 'contoversial', 'naveedghazi', 'nanolight', 'dreched', 'khurais', '15090', '90bn', 'rember', 'abumagnet', 'tresspass', 'xchanging', 'christianmingle', 'daleau', 'puic', 'attuso', 'easer', 'alcator', 'meccah', 'trierweiler', 'globalnews', 'ikatan', 'prableen', '492nd', 'infosecurity', 'tüm', 'reques', 'unshipped', 'cristoforetti', '6trn', 'developingafrica', 'latticeworks', 'qameez', 'déline', 'iifas', 'imeche', 'finable', 'röttgen', 'people_', 'dududu', 'slobodjanuk', 'terrafugia', 'nierop', 'molewa', 'kuksi', 'risalah', 'huronia', 'mehajer', 'nowthatchersdead', 'positve', 'radfem2013', 'iidate', 'socialiast', 'raly', 'photograher', 'conspiration', 'snowdens', 'onthursday', 'emwazi', 'uighar', 'argentenian', 'wilpers', 'miniduke', 'westfries', 'nusra', 'yemni', 'wendsor', 'füssli', 'zida', 'welshed', 'flinger', '164b', 'movments', 'lewyellen', '22m3', 'вконтакте', 'recogize', 'czornobaj', 'sydicate', 'kehua', '40cm', 'zangmu', 'rhazoui', '43bn', 'makwambala', 'loskutov', 'invesments', 'cyberczar', 'slapdown', 'chibok', 'm336', 'birfday', 'gustl', 'arrêté', 'nwoya', 'devilsâ', 'xcandidate', '396kg', 'presumtion', 'afterschock', 'soryu', 'meganomics', 'bcps', 'trawlerman', '140bn', 'filettino', 'shahel', 'qaouk', 'ersal', 'collegetown', 'firbosis', 'inventhelp', 'sumbit', 'nudong', '9to5mac', 'pilion', 'lutfur', 'falkenham', '167817', 'niru', 'betmore', '2013a', 'guache', 'intk', 'heitmeyer', 'assma', 'breastbag', 'tininess', 'stellite', 'mistrale', 'ixzz3sivuz84c', 'responsibiilty', 'ophel', 'basindawa', '83th', 'specalist', 'nabiré', 'reservior', '64b', 'disapointment', 'nickelsville', 'turquie', 'octogenerian', 'yemencrisis', 'juntong', 'danczuk', 'angonoka', 'masectomy', 'pluri', 'jevgeni', 'faithworld', 'reciveing', 'éveille', 'track2', 'parlano', 'onanism', 'ł20', 'firescanister', 'wifes', 'beansprouts', 'magnanini', 'bajorat', 'timelapse', 'boukadida', 'laojiao', 'demonination', 'uossm', 'hongkonger', 'savageness', 'mithaka', 'mohenjo', '44pc', 'mergin', '438b', 'chaddar', 'extremeists', 'bxvi', 'cgtc', 'londonattack', 'heinekens', 'steytlerville', 'shadadi', 'dh250', 'megalolz', 'selfdefence', 'internetavgift', 'brai', 'duqu', '387m', 'kotylak', 'pivi', 'kiejkuty', '17000km', 'killlings', 'bloodlands', 'finspy', 'cacher', 'schwartländer', 'fugure', 'austistic', 'riiiiiiiiiight', 'misurata', 'electicity', 'gwoza', 'herongate', 'hassanrouhani', 'innit', 'malukan', 'manwho', 'owour', 'sinwar', 'joubar', 'sinodinos', 'paletinian', 'cristales', 'garajonay', 'twitterer', 'megadroughts', 'dailymail', 'enxet', 'rogozov', 'tangyan', 'openai', 'communise', 'gudiness', 'желает', 'caval', 'encypt', 'odzala', 'transgendereds', 'flowthroughistanbul', 'brewtroleum', 'mytreedom', 'roozi', 'salmodin', 'refule', 'monister', 'nooooooooo', 'suspec', 'parches', 'resetthenet', 'leiba', 'abdaslam', 'enisa', 'canowindra', 'abaran', 'elmau', 'fekky', 'larayed', 'seralini', 'syrianfreepress', 'freegazaorg', 'webdesign', 'bombingg', 'marinivka', 'opsavegaza', '13yo', 'katine', 'h6n1', 'unexplainedly', '135m', 'mohyeldin', 'vigoureux', 'hammah', 'kakdwip', 'weaponise', '170g', 'iav', 'srijana', 'illegitimates', '20yrs', '46b', 'partyâ', 'warrentless', 'pulluvila', 'målfrid', 'slideshare', 'stepwell', 'argentinia', '150mw', 'evanina', 'foxnewsfacts', 'ultrarich', 'gulftoday', 'seungjin', 'yechuri', 'bossnapping', 'baobian', 'paeodphile', 'blitzkreig', 'houithis', 'saqba', 'appication', 'daqubang', 'sadomonetarist', 'airbusa321', 'arroya', 'smoulders', 'whistleblow', 'hvpgyrjk', 'redflags', 'sheregesh', 'dogfighters', 'kuaidi', 'unvalidated', 'awols', 'worldpay', 'ssnlf', '190bn', 'bycicle', 'uselful', 'khaama', 'seriosuly', 'igeneration', 'basseley', 'reprehensibly', 'maclains', 'хостел', 'sacom', 'guesso', 'istancool', 'xilal', 'sussia', '60billion', 'halala', 'snoutbreak', 'soolmans', 'stuckinyemen', 'olinguito', 'nalmefene', 'pornban', 'abdirahmaan', 'ecchr', 'pauperized', 'ozexit', 'ruqia', 'sysadmin', 'atifete', 'chimpy', 'holloween', 'curaçaose', 'tawakol', 'recced', 'zaitouneh', 'novlast', 'passioni', 'agoris', 'jihadicare', 'stephjoy', '767th', '12billion', 'sandana', 'vocab', 'minsuk', 'trillionaire', 'zibdin', 'lound', 'prayforsyria', 'crowdfund', 'quietens', 'igraa', '500mn', 'jilaa', 'joumaa', 'toiday', 'ah5017', 'tachell', 'deshchytsia', 'diastrous', 'sportslog', 'fippa', 'momentously', 'توسط', 'oishinbo', 'nucler', 'plime', 'seppelt', 'unmalicious', '8217', 'nailbomb', 'groundreport', 'highjack', 'cnte', 'leats', 'bcim', 'findface', 'ntcu', 'mauritani', 'lahariya', 'europhobe', 'mitsibushi', 'sunked', '079', 'sexter', 'mulrunji', 'rugland', 'schwarzeneggers', 'chinalaw', 'stoneygate', 'qiyi', 'familylinks', 'armywide', '886k', 'passovers', 'selfie', 'orenanews', 'belguim', 'bamu', 'trumр', '3yrs', 'fracked', 'onise', 'unfollows', 'ixzz2rrcuh2o6', 'incentivizes', 'schelvis', 'ww3', 'yvrac', 'wasent', 'guist', 'suicider', 'buybackpalooza', 'sigolène', 'clearfelling', 'poloz', 'detalis', 'ghamsharik', 'accidentaly', 'hinduize', 'mustac', 'jeapordised', 'sokolovsy', 'foschepoth', '53k', 'mactalk', 'jeiju', '005930', 'flutrackers', 'muzzammil', 'ł53', 'nambar', 'argleton', 'ghezaia', 'غول', 'naom', 'grecko', 'zalah', 'irishnews', 'anpanman', '15mn', '2015d', 'mediacriticism', 'zakyzaky', '422bn', 'owakudani', 'hirvisaari', 'thialand', 'shabbab', '75k', 'boolea', 'bobolas', 'euromaydan', 'fourni', 'acquifiers', 'kigeli', 'naplam', 'renesys', 'natcore', 'indigeous', 'paperclips', 'downvoted', 'milosevics', 'saudo', 'nkdb', 'douchebags', 'giakoumakis', 'hareidi', 'fukushimachronicles', 'tazahorat', 'fy2020', 'britishisation', 'ectasy', 'hiyam', 'ungass', 'twitterati', '00h', '4mn', 'shleter', 'helsten', 'tappings', 'pichanaki', 'spanishrevolution', 'securty', 'loujain', 'wateres', 'hoboob', '74500', 'destinazioni', 'magnitsk', 'baengyang', 'lynemouth', 'watchseries', 'dimanno', '082', 'bergolio', 'breathalyze', 'reposts', 'odnodnevniki', 'exosuit', 'mams', 'fileshare', 'setenced', 'especailly', 'monestaries', 'indynews', 'ninewa', 'dynalinks', '80mn', '63f', 'massandra', 'vartanyan', 'terbol', 'kuwalek', 'sweeden', 'sosdd', 'cornioley', 'nanocity', 'ethnicism', 'superland', 'broseta', 'uqayla', 'rosgvardiya', '2011post', 'messinis', 'domstolen', 'zhyznevsky', 'cariforum', 'ylivieska', '200heavily', 'baaaack', 'bullions', 'priavcy', 'publicaly', 'duvair', 'zettabytes', 'miut3', 'manboobs', 'snapdeal', 'mamoń', 'calcifies', 'werkstatt', '259b', 'permyakov', '164m', 'sadhvi', 'casburn', '264m', 'bárcenas', 'raung', 'unnews', 'crisiv', 'subi', 'zoophiles', 'minnpost', 'pongreungrong', 'professsor', 'ukrnafta', 'darocas', '3bln', 'ixzz3hfhvvlso', 'yenibosna', 'parmitano', 'hediye', 'drugabusers', 'iama', 'honardoost', 'lifestraw', 'strkie', 'mumbay', 'basurin', 'âł25m', 'urabeños', 'weiboscope', 'mummar', 'libyas', 'sorig', 'ttiest', 'swaroopanand', '360m', 'splendori', 'complected', 'raqa', 'trollface', 'wasington', 'brideless', 'evento', 'masrour', 'altikriti', 'membraneless', '220km', 'etext', '25mph', 'nafousa', 'kırımoğlu', 'roomate', 'aircra', '1000mw', 'pk756', 'marinka', 'kickasstorrents', 'traficker', 'condemmed', 'daraya', 'desterilize', 'uninons', 'bankster', 'nationaltribune', 'cyberthreats', 'tabinda', 'natalius', 'concordian', 'proveglia', 'rio2016', 'irishcentral', 'dissarray', 'konstantinovka', 'kargopoltsev', 'zcommunications', 'lnkd', 'cbcj', 'motasim', 'psychatric', 'leaningest', 'bulundu', 'hamily', 'rezaian', 'rischio', 'internetnz', 'gathafi', 'jingchuan', 'lumileds', 'nxe5jgio', 'impiedica', 'jack_nelle', 'comigel', 'khazzani', 'caludio', 'hdbk', 'shatah', 'kryminform', 'انتخبوا_العرص', 'pancis', 'holigost', 'masculinist', 'sealfies', 'downmoded', 'hydrazin', 'shujaiyeh', 'passeth', 'bhuddist', 'zarca', 'cakeage', 'jamrah', 'theranos', '1030960837', 'islendigaapp', 'itheft', 'schewick', 'bondolfi', 'o54ma', 'karbasian', 'montbrial', 'islamiphobic', 'supernationalist', 'pmw', 'mozam', 'corieltavi', '300er', 'policitician', 'nishibori', 'j1407b', 'bikya', 'delber', 'fessenheim', 'aslat', 'millionwarns', 'iraqui', 'eldi', 'aprovados', 'shortraker', 'donot', 'imlygic', 'zawiyah', 'blacklivesmatter', 'indianexpress', 'reichsfuhrer', 'd00dz', 'federatio', 'andancas', 'slym', 'eur2', 'armyman', 'kirovgrad', 'epnvsinternet', 'flashist', 'vemula', 'luzor', 'captuerd', 'pageg', 'firechat', 'autofill', 'хранения', 'theplaidzebra', 'heforshe', 'frein', '2182', 'cyberspies', 'deupty', 'kouachi', 'yongyang', 'alqudsi', 'yria', 'imgur', 'ł1billion', 'roscomnadzor', 'bikie', 'accumlate', 'talke', '58m', 'spox', 'tawakkol', 'heâ', 'commmon', '60hrs', 'burschenschaften', 'conindustria', '369m', 'triess', 'photobombing', 'veyrac', 'antigoverment', 'işten', 'komoyedov', 'suffrajitsu', '200bn', '2214', 'kaltenegger', 'alijeee', 'ikhlayel', '9kg', '600lb', 'zhaleh', 'sians', 'raceabout', '155m', 'interweb', 'mannoubia', '198m', 'i4i', 'dimplomat', 'arrestata', 'kaafjord', 'lokodo', 'wakeupfromyourslumber', 'allgauer', 'intitative', 'wanndy', 'pinoys', 'editorializes', 'reuqested', 'entral', 'cyberspying', 'qingyue', 'fiyaz', 'hizbulah', 'newsshow', 'xaltocan', 'wotties', 'qaddfi', 'natcen', '840k', 'antimalaria', 'hissies', 'flatpack', 'kamaliya', '45x', 'consituencies', 'healthpop', 'ahdaf', 'ahmadinajed', 'readfearn', 'eurocrisis', 'slavyanks', 'mauritiania', 'amedy', 'robodog', 'icelands', 'rafeal', 'tasing', 'haidary', 'wanghin', 'ge222', 'muhafdha', '150bps', 'dsking', 'ridiculousy', 'kosterlitz', 'qasioun', 'strategeic', 'covincing', 'shabbiha', 'dooa', 'habertürk', 'kamleh', 'assanges', 'pagalungan', 'zerohedge', 'europhobes', 'chamberlainwas', 'hahahahaha', 'bhagvad', 'xiake', 'syri', 'shephards', 'callsebola', 'christogram', 'bodyscanners', 'stemulite', 'alcoreza', 'shchastya', 'guantanimo', 'avergae', 'nugen', 'pitella', 'abosolve', 'loonwatch', 'rjtv', 'ncrb', '1flies', '549m', 'transtroemer', 'heartspring', 'kepari', 'socyberty', 'haveat', 'ajdir', 'informasi', 'yongda', 'hungariform', 'smartporn', 'laabidi', 'brickies', 'newscred', 'kraker', 'moonitin', 'cemeterie', 'upvotes', '120mn', 'bossou', 'sulut', 'firtst', 'myanmmar', 'fostercare', 'sevoke', 'megastorms', 'cushworth', 'puttlam', 'reposnse', 'feckonomics', 'shokalskiy', 'tasering', 'chinazis', 'hitmans', 'gavekal', 'slavelike', 'nchi', '452m', 'millitäry', 'skrivadur', 'grybauskaitė', 'eurjpy', '90pc', '000s', 'madhorubagan', 'guttenplag', 'rosechasm', 'vrae', 'beleives', '700bil', '180mb', 'capslock', 'tppa', 'leggeri', 'krgv', 'biraz', 'kielos', 'kyii', 'leaba', 'egames', 'muchelney', 'nationofchange', 'forgettability', 'babeland', 'apsos', 'kksv', 'lechers', 'ζωντανα', 'soverignity', 'mafialeaks', 'spionaggio', 'squaddies', 'pwn2own', 'balitistan', 'rámila', '87mln', 'poopo', 'mancheguito', 'interfence', 'belance', 'utexas', 'shrc', '00hrs', 'moneylaundering', 'desfigurada', 'photoblog', 'desmund', 'kakrapar', 'chapulling', 'greyjing', 'fektes', 'fouo', 'picoux', 'camp2', 'crimeopen', 'bedourie', 'tawarga', 'wajiha', 'lollapolooza', '80ft', 'israelli', 'alamuddin', 'beedroom', 'spactacular', 'vitnamese', '892mm', 'aktivisten', 'golbarnezhad', 'mumbaikar', '42b', 'fireing', 'bubal', 'guarantedd', 'iiraq', 'molchanova', 'kamizake', 'fashi', '470m', 'cafferkey', 'trebs', 'payá', 'sustentável', 'corporial', 'samjung', 'newsisrael', 'proxied', 'dermatologcal', 'outmanoeuvres', 'العرب', 'cambiemos', 'heyats', '120b', 'dd4bc', 'caisne', '100ds', '323bn', 'tgn267', 'javea', 'receita', 'thejournal', 'kyivpost', 'droidjack', 'swiftkey', 'offshores', 'liveupdates', 'shufflebottom', 'shache', 'ottobre', 'ixzz3qtsciw8h', 'nekkaz', '318m', 'f18s', 'direngeziparkı', 'unnur', 'tureibil', 'f1880', 'yansong', 'bali9', 'aggad', 'dayamani', 'w50', 'politovskaya', '97m', 'temelín', 'ecosocialism', 'genebank', '81m', 'özgürlüğü', 'welesa', 'swaccha', '860m', '57bn', 'tppr', 'shinmoedake', 'ixzz2jpz7qqjp', 'taftanaz', 'sacrosanctity', 'superphone', '1800mw', 'bootees', 'vergé', 'encontradas', 'cantebury', 'hallucigenia', 'demchok', 'manitakis', 'coha', 'exascale', 'halq', '29million', 'flashearth', 'shafia', 'damasak', 'agencys', 'usuga', 'dholera', '25lb', 'av8b', 'newspapper', 'irams', 'broomsfield', '3ft', 'የሻው', 'amundi', 'acheives', 'oopjen', 'icarda', 'beggers', 'chatayev', 'petshop', 'kamışlı', 'greatjon', '960th', 'karabus', 'afrodescendent', 'konto', 'salesnexus', 'redditers', 'yehonatan', 'burried', 'farzat', 'guccifer', 'drizzlers', 'antitretroviral', 'solowheel', 'strenously', 'aktuálně', 'ontake', 'strategywhat', 'muserum', 'yaretzi', 'manquehue', 'nacionalismos', 'meribashvili', 'avalancha', 'reinvites', 'aushadhi', 'aggiornamento', 'forsane', '4182', 'jaild', 'aleqa', 'orangefest', 'snizhne', 'fisaaa', 'esperancita', 'usterity', 'kickass', 'rastrojos', 'burcuoğlu', 'handstander', 'itvnewsindia', 'haswiya', 'wednesda', 'muslimi', 'chainsawed', 'pbuh', 'royalnavy', 'shanghui', 'scottishness', 'lefist', 'nafza', 'countersurge', 'chiefdefended', 'us30', 'copahue', 'skywatching', 'wilpert', 'häagen', 'russsians', 'brahami', 'koubra', 'leaderleader', 'crelan', 'medicane', 'chapulin', 'femminists', 'piigs', '2040s', 'waaaay', 'yekuana', 'bitspin', 'daldykan', 'crisi', 'fightland', 'tinyowl', 'zhenghu', 'somolia', '172b', 'suvretta', 'palmahim', 'rabbou', 'aplauden', '73m', 'fastracked', 'osamaland', 'nicolรกs', 'specnaz', 'errian', 'representaive', 'plagerism', 'abbassia', '305kmh', 'pimi', 'bushwalker', 'supervillian', 'beziehung', 'htr', 'abulkhair', 'fangshen', 'infosy', 'ghalioun', 'renald', '761m', 'pronography', 'photobombs', '65000', '175v', '40kg', '109bn', 'ferals', 'sandoway', 'dh500', 'jamla', 'женские', 'odorle', 'halonens', 'løvold', 'sirni', 'seajacking', '600ha', 'contintent', '229kg', 'tedxcairo', 'taqba', 'interoute', 'zorbing', 'rubbber', 'indexreach', 'usbs', 'rechargable', 'hodnotě', 'nihrc', 'copenhagena', 'parechovirus', 'evoting', 'ninghang', 'caldéron', 'szigetvar', 'sharmeen', 'garena', 'bouchart', 'parlaments', 'shoeman', '600c', '17mm', 'bchr', 'torrenting', 'innospec', 'prespective', 'changfa', '98000', 'bonebreaker', 'mfolozi', 'скончался', 'khaps', 'haffeh', 'calledit', '39trillion', 'dougiestan', 'sukphol', 'immobiliser', 'adresses', 'excecutives', 'qarawiyyin', 'pastafarian', 'congé', 'gtek', '78000', '47b', 'ardah', 'xrays', 'mariatu', 'skymet', 'crappiest', 'quasyr', 'caixin', 'germa', 'banksters', '4real', 'pyeonyang', 'nyrabia', 'brenson', 'pronographers', 'nyenswah', 'museyin', 'hamkyung', 'mayoâ', 'relected', 'fahita', 'nfiu', 'ndahindurwa', 'baofung', 'prêtres', 'amidts', 'deathworld', 'shithouse', 'uruknet', 'fsanz', 'afriversity', 'bonil', 'greste', 'svyatski', 'speeks', 'mujao', 'drunkie', '113m', 'joarder', 'junlinghu', 'оазис', 'atxurra', 'yeliang', 'webpronews', 'yingcai', '170000', 'shavendra', 'thorco', 'confims', 'iist', 'dorudzan', 'shimaru', 'nakusa', 'hooorrraaaayyyy', 'yaroshevsky', 'embarrased', 'microformers', 'blogar', '10cr', '078', 'cyperspies', 'sanamein', 'lethebo', 'avakov', 'dmitrichenko', 'capzised', 'econophysicist', 'rishangaha', 'antún', 'kalja', 'responsabile', 'katriuk', 'wedgetail', 'namoro', 'frehner', 'forskningsinstitut', '7708', 'circumbinary', 'airfrance', 'tebus', 'pubished', 'jewification', 'ridiculious', 'kanaykin', 'chrmn', 'maalula', 'mensalão', 'cbcnews', 'fieds', 'gauguins', 'palihapitiya', 'спасибо', 'lightsail', 'synadinos', 'usolsky', 'concertmasters', 'cs300', 'offerring', 'urpilainen', '65bn', '158tn', 'afgani', 'overcentralization', 'a98', 'natarsha', 'contenstant', 'principalist', 'kakaotalk', 'steelie', 'hanbit', '230km', 'gbp35', 'vmw', 'allepo', 'chinkaras', 'ellada', '4shbab', '039b', 'involvemen', 'craigpva', 'delitti', '380m', 'modrich', 'art_living', 'rapings', 'adressess', 'splainer', 'everyones', 'wsuspected', 'enthusias', 'sobhy', 'abromovich', '750bn', 'adultry', 'bahrun', '113bn', 'iceburg', 'perevalnoye', 'engie', 'farsnews', 'renewdly', 'vietmanese', 'mahfooz', 'comfirmed', 'washingtonpost', 'silmer', 'cylone', 'brillliant', 'freep', 'muath', 'zuvor', 'shamima', 'palestinianr', '4yo', 'labourland', '130k', 'fidaa', 'barrillete', 'kybele', 'bilirki', 'ismayilova', 'szamuely', '204m', 'nyti', 'sexualising', 'haverbeck', 'cablegate', 'hyrbyair', 'distroyed', 'japn', 'kalibr', 'conditii', '12tn', 'us2m', 'chikudu', 'encription', 'communitydns', 'af953', '11k', 'contines', 'infomap', 'idevices', 'jdir', 'tahor', 'instagrammed', 'stenersgata', 'fanb', 'astroblem', '124kg', 'gaddafis', 'sprey', 'canikli', 'currynierin', 'ebates', 'twazzup', 'caligulan', 'megachat', 'dzd', 'scuttlling', 'muhmmad', 'jamala', '000mph', 'shinshinsharoo', 'teksavvy', 'rearms', 'carsi', '598ft', 'µsv', 'booter', 'yam天空部落', 'salahudeen', 'verdia', 'amoroured', 'yakka', 'zahef', 'swasika', 'diaglogue', 'pattisson', 'dealnews', 'balyoz', 'editorialised', 'fdws', 'sharka', 'liftime', 'kosako', 'dieselgate', 'assas', 'incures', 'winstrup', 'shawarmageddon', '2000ft', 'goodest', 'intevene', 'draftkings', 'cyberscam', 'muwafi', 'reyhanlı', 'newsworhty', 'usd20', 'inmigration', 'indystar', 'proescutor', 'providência', 'mspy', 'agrosuper', 'condems', 'aimplb', 'fadiliya', 'corruptistan', 'sextortion', 'towbar', 'knifemouth', 'çıkarmaya', 'golfgate', 'bucayan', 'nightastic', 'purwo', 'mankini', 'westbahnhof', 'arianto', '5526', '27ins', 'apponents', 'nadella', 'bolotnaya', 'kaiya', 'folorunsho', 'anthipathy', 'spookception', 'radioastron', 'embalmment', '136m', 'troppi', 'quadruiser', 'huszar', 'golpistas', 'conditio', 'wikileakd', '345million', 'chopps', 'overfields', 'negoitations', '10gw', 'jaljalat', 'komla', 'regsitry', 'jepardy', 'evergreening', 'adawia', 'worldnewsreddit', 'headbut', 'lulz', 'eli5', '120bn', 'chabcha', 'stuckler', 'thenews', 'pixelate', 'sajith', 'matsotska', 'mohammadian', 'meyiwa', 'blokey', 'geosweep', 'airblades', 'seedbox', 'capracotta', 'ge13', 'isaevaich', 'abuelaish', 'us67', 'surival', 'deforesation', 'techpresident', 'preferrence', 'decommunization', 'queule', 'angkang', 'milão', 'kamiar', 'meldonium', 'guantรกnamo', 'megacanyon', 'eubusiness', 'mcboatface', 'outoing', 'hrsdc', 'horizinte', 'powerpacks', 'mandip', 'supercut', 'fireeye', '400km', 'intreatable', '07baku1268', 'explosionen', 'jagalingou', 'vestager', 'offensve', 'laspe', 'veiwing', 'gulenists', 'fffffuuuuu', 'bughaighis', 'forewarns', 'vietnemese', 'bitcash', 'devestating', 'atmeh', 'concresco', 'tabunok', 'wallström', 'ennahada', 'monsegur', 'jobus', 'basji', 'nov5th', 'mangarahara', 'massdebate', '0008', 'fauja', 'prodedure', 'organisatons', 'erdogans', 'rhetoritc', 'mathari', 'fredinburg', 'osbcure', 'slenderman', 'firecest', 'labévière', '25ft', 'ayria', 'ridonkulous', 'alawwamiyya', 'jugaad', 'wajeha', 'aparthaid', '15mar2011', 'imputato', 'unicyclist', 'nerendra', 'c8000', '65yo', 'enitre', 'yournet', 'talvivaara', '4day', 'maracheva', 'shipriders', 'foodworks', 'beautugly', 'russophobic', 'broadcase', 'hashlamoun', 'raïd', 'agoin', 'enca', 'streetfights', 'isil', '9525', 'aircon', 'subreddit', 'markino', 'mlevludin', 'kitsault', 'shitposts', 'úsuga', 'rasai', 'facecrook', 'kenbi', 'sapprft', 'chicagoians', '74billion', 'washpost', 'auricolare', '214bn', 'dialogued', 'tarifs', 'farsi1', 'lostprophet', 'hellscape', 'grusome', 'siemoniak', 'hooning', 'nammo', '3mln', 'sayturkmenistan', 'opaustralia', 'snorkeller', 'dmaa', 'trancript', 'muadhamiya', 'marref', 'pirateleaks', 'ufb', 'thenewsherald', 'pukefest', '98bn', 'nangar', 'roskomnadzor', '9mn', 'x47b', 'xiâs', '293km', 'googleberg', 'ecrs', '60mph', 'livethread', 'socialistisk', 'zueitina', 'campest', 'unterwegs', 'chanelled', '4061', 'kiboshes', 'xxxxxxxxxxxxxxxxxxxxxxxxxxxxxxxxxxxxxxxxxxxxxx', 'kunitha', 'pizzly', '3tn', 'ecah', 'bitruble', 'dumbdee', 'wirapol', 'camcopter', 'karachigate', '1800kg', 'fairfaxi', 'halalgoogling', 'slier', 'motherf', 'jack3d', 'palenstine', '22tn', 'mohhammed', 'keyrings', 'qussour', 'nmn', 'budhrai', 'terrorities', 'treedom', 'puigdemont', 'krautchan', 'andersdotter', 'jóhannesson', 'dauwe', 'hayword', 'letv', '18298', 'bayworld', 'amagá', '20150201', 'nambian', 'scanerio', 'nealry', '1001casablog', 'eveywhere', 'gastarbeiters', 'lebannon', 'rahtaeh', 'sociaist', '20kph', 'colisitin', 'baqil', '1300bst', 'y362', 'ehang', 'hazzm', 'politwoops', 'blashpemous', 'darkcoin', 'эрси', 'vetadas', 'cioloș', 'spellcheck', 'deradicalise', '94k', 'poklonskaya', 'mfaa', 'mobina', 'yeshaw', 'gadafy', 'suspicous', 'scruitinise', '250mph', 'peaceup', 'cyberweapons', 'geohazards', 'meatgrinder', 'solvakian', 'hinglish', 'institutionalising', 'h5n6', 'condannata', 'iusf', 'zelie', 'australia_', 'siezes', 'aurthority', 'ukgc', 'bocatín', 'javadekar', 'overbuying', 'shafipour', 'hyperinflating', '846m', 'leaksource', '8mil', 'rachayel', 'aseemanand', 'hellin', 'brakevan', '000gwh', 'shetye', 'pation', 'sargara', 'tearg', 'santebañes', 'segration', 'photoshops', 'tradizione', 'palastinian', 'mäder', 'dailyfinance', 'sfgate', 'onagwa', 'foreigh', 'ezzedeen', 'tinombala', 'strikesincluding', 'keepass', 'esfehan', 'sortor', 'elife', 'mithivirdi', 'diaoyutais', 'kleptocracies', 'dolartoday', '2596', 'resreve', '218m', 'submarince', 'jordantimes', 'rustemzade', '117k', 'sopravista', '1ft', 'cbsnews', 'alawhites', 'masrata', 'wency', 'itsself', 'satnavs', 'népszabadság', 'jusreign', 'agreeme', 'attackâ', 'saponificatrice', 'lgbts', 'rambold', 'dfait', 'jóźwik', 'sumangali', 'seyayongka', 'divorcées', 'anale', 'auxit', 'atlaoui', 'badjek', 'mh360', 'article2u', 'hatif', 'crruption', 'askenazi', 'selbstcoaching', 'amaq', 'canditate', 'artwork_images_424121842_202362_alphonse', 'yafo', 'sashko', 'mammeries', 'bthousands', 'científica', 'darkmail', 'clicktale', '4488', 'comnap', 'steralization', '220000', 'tatlises', 'longari', 'passanger', 'mclnerney', '5pc', 'vindskip', 'forjas', 'zeenews', 'yunokyvich', 'piratesniper', 'unvented', 'avad', 'kbzk', 'mudoch', '7mn', 'sorun', 'tuhao', 'tsakalotos', 'lajamanu', 'uhy', 'ukad', 'fogeys', 'fuckface', 'baddabing', 'makdissi', '8kg', 'sabiny', '34bn', 'thuesday', 'novità', '684kg', 'xacc', 'fieg', 'nznews', 'minamikojima', 'nevatim', 'intesify', 'aproved', 'unsubsidised', 'vechile', 'geobiologist', 'alstrom', '51am', 'mâché', 'superinjunctions', 'bringbackourgirls', 'babchenko', 'kanakanavu', 'quneitera', 'xayabury', 'wahrscheinlich', 'cyberarmy', 'c28', 'sureveillance', 'arroub', 'celebgate', 'halola', '400bn', 'skanks', 'utvika', 'parnia', 'loompa', 'tedtalk', 'nationalisrael', 'guktha', 'woupsy', 'turla', 'santuary', 'poonanny', 'whdt', 'rwfugee', 'erradication', '519billion', 'puñal', 'porbeagles', 'crapser', '72bn', 'kachehri', 'foreignpolicy', 'gleision', '916m', 'feck', '85bn', 'susiya', 'ecopop', 'gritter', '40ft', 'venezuelanalysis', 'carricks', 'outh', 'rxte', 'habacuc', 'dh30', 'shamsah', 'maghre', 'kvirikashvilis', 'collosal', 'rastrojo', 'pharmacyclics', 'newswallah', 'rawagede', 'leniata', 'zookal', 'fizza', 'facists', 'nestoil', 'kaaryah', '52k', '217495', 'lampdedusa', 'feili', 'immolator', 'siliana', 'tfta', 'ab1', 'damburst', 'kobani', 'slackjawed', 'aaaw', 'autodefensas', 'republikáni', 'arhitekti', 'brüderle', 'mutum', '230lbs', 'alomnside', 'aed9', 'berkett', 'osnabrücker', 'bashiqa', 'kdx', '7416', 'mldadic', 'whistlebower', 'gouta', 'erodgan', 'babykins', 'helmin', 'dooring', 'cockup', 'giesbrecht', 'kooloonbung', 'skinful', '753m', 'wirken', 'sttas', 'ascencion', 'ngyuen', 'catoons', 'marrriages', 'jacenko', 'ingaro', '10lbs', 'tamkoutat', 'aliaa', 'blogy', 'ł17million', 'ejectable', 'dovrà', 'chikyu', 'latuff', 'bağış', 'neferefre', 'surviours', 'fundies', 'ultrapersonalized', 'thinspiration', 'uhauls', 'jerbo', 'polziec', 'novinite', 'fiyan', '30mn', 'jakim', 'afirca', '320kg', 'laten', 'inhistoric', 'reunificaion', 'hudhud', 'miliitary', 'kvanefjeld', 'makhmut', 'emeneya', 'gammy', 'whaites', '28½', 'cihangir', 'superiorityl', 'coppeard', 'witanagemot', 'hololens', 'anonaustria', 'forklifted', 'jambart', 'schaake', 'wolsong', 'cratere', 'learningquranonline', 'abbaoud', 'jaalon', 'pågan', 'majedah', 'ookawa', '10bars', 'eduardosoaresarts', 'accopmlices', 'kezarovski', '10from', 'veenhuizen', 'thetypicalindian', 'shunfeng', 'kafraya', 'dawkin', 'alsfira', 'ponchis', 'fukuhsima', 'recongition', 'dettol', 'luaty', 'bakhti', 'resignes', 'vangardist', 'katernia', 'fiskville', 'charikot', 'putinization', 'ashcrofts', 'roundest', 'crisiswiki', 'تلکسوپ', 'цитат', 'minaturize', 'monitoraggio', 'slentel', 'maasi', 'blackoutjo', 'mecca_live', 'despre', 'africacapitalism', 'bernameg', '60pc', 'kovesi', '350bn', 'azelle', 'muntjacs', 'paraglided', 'kaleme', 'gerlitz', 'magyarophone', 'agriscience', 'haşim', 'bogaletch', 'tachai', 'aftr', 'zawia', '168million', 'koryolink', 'mogherini', 'nawras', 'georgianne', 'unamnned', 'trouin', 'unsnag', 'defenselink', 'swordwielding', '33ft', 'maced', 'demonstrandum', 'gruzia', 'ninetysomething', 'ssays', 'comfirma', 'sepratists', 'gikomba', '100gw', 'escoban', 'agai', 'roshonara', 'palistine', 'catwa', 'perteguhan', '50mil', 'physibles', 'faithism', 'ternopol', 'leapords', 'uttarkhand', 'greenpeacers', 'dzhemilev', 'chrimeans', 'talebanisation', 'kieselev', 'jaboori', 'explotion', 'mmnprxvclmnckssqlbb11116', 'veneula', 'intraterrestials', '67lb', 'bakulin', 'fimmvörduháls', 'hoodless', '19bn', 'ws27', '910k', 'straftor', 'knowmore', 'ibrc', 'malaney', 'lysychansk', 'announcments', 'zedi', 'iranianrepublic', 'aporkalypse', 'moraca', 'øyer', 'latinamerican', 'fumerate', 'emisson', 'luhanksk', 'garasweyne', 'rollino', 'spull', 'böhmermann', 'sniggers', 'gox', 'khanoufa', 'retalitory', 'sailson', 'limescale', 'protestisraeli', 'lewp', 'neknominate', 'syriancivilwar', 'sovaldi', 'outmaneuvers', 'gt86', 'iodised', '36f', 'turboshafts', 'n100m', 'baahs', 'ayrow', 'cyberprivacy', 'shigoto', 'kerung', 'subtance', 'talksover', 'isstrom', 'hekia', 'helric', 'cerantonio', 'mentionthe450', 'defrauder', 'samoura', 'preist', 'lindex', '1mil', 'voilent', 'gormez', 'justifiying', 'superexclusieve', 'gardane', '250g', 'note7', 'homejoy', 'nhla', 'womanifesto', 'maysak', '985m', 'eztv', 'landsbankinn', 'cancells', 'shahini', '320mw', 'frumhoff', 'nayyem', 'blackies', 'zhaoli', 'rozpočet', 'shorsh', '26k', 'andrees', 'bauersfeld', 'douzinas', 'islamizing', '2ºc', 'barsik', 'ramyyaacoub', '90x', 'sitrep', 'ferringhi', 'empuries', 'wowi', 'tukushima', 'flipmyswitch', 'tunesia', 'perogative', 'scotlands', 'mynews3', 'grijpende', 'quasem', 'harball', 'mukisa', 'survery', 'vivientes', 'overborrowed', 'delissio', 'mediafile', 'defrauds', 'shokraye', 'pytlarz', 'raquo', 'dimisses', 'suddam', 'simit', 'nsawam', 'flatlines', 'mukhudinov', 'reulting', 'legalizations', 'processer', 'δωρεαν', 'teargased', 'prajin', 'powerplan', 'bankless', 'offerred', 'engyptian', 'traceble', 'tendetza', 'entelligent', 'andare', 'appesat', 'guidespot', 'jailbreaked', 'ezzouek', 'mehtr', 'namaika', '850mn', 'edrogan', 'belieber', 'pipis', 'stonger', 'destabilises', '80mph', 'hizzbullah', 'ysk', 'sanguino', 'entrepenaur', 'olimpicks', 'coruption', 'atakan', 'mandanted', 'deprogramme', 'eport', '30333', '1tb', 'minusca', 'krat', 'sanafi', 'sattjeni', '37pm', 'taedonggang', 'meduza', '180pflops', 'talibanize', 'pornhub', 'bejandi', 'erlebnisgeschenk', 'immediat', 'kibbutznik', 'kwolek', 'petrobrasin', 'newsukuk', '99m', 'changlong', 'ln52a650', 'tatorship', 'zimbabwehood', 'korotchenko', 'burnat', 'caeh', 'abrahao', '2172', 'driessche', 'moralizers', 'dijssebloem', 'chinadaily', 'parasiticides', 'smses', 'argentinaâ', '3billlion', 'juffa', 'nofw', 'krajeski', 'dicembre', '0733', 'afkham', 'anuska', 'retarde', 'disidents', 'plagiarises', 'filtrated', 'torrentz', 'ustke', 'gittany', 'pinguintown', 'raportage', 'dalori', 'velenzuela', '66m', 'компания', 'exxzhy', 'werritty', 'ntrepide', 'peacetalks', 'ibort', 'anema', 'poobalan', 'hemoroids', 'fothcoming', 'iwll', 'talibanism', 'fotopedia', '275k', 'chamath', 'pahlavis', 'khazri', '6962', 'zinkia', 'shevardnaze', 'murza', 'antipiratbyrån', 'cuddler', 'emargo', 'accidentially', 'falciani', 'oyala', 'petrostate', 'lovakia', 'sexomnia', 'polictiacl', 'themselve', 'tumuhirwe', 'unaging', 'newsclick', 'cyberwarriors', 'successfull', 'preikestolen', 'early_deuce', 'anandviveksatpathi', 'mutanies', 'solikamsky', 'aviadarts', 'headcam', 'ecaudor', '182bn', 'makhool', 'hatefest', 'assaut', 'chechenneftekhimprom', 'canse', 'efkan', 'dayangku', 'm68', 'kaigama', 'ghasseminejad', 'стартует', 'recklesness', 'faroden', 'nanomotor', 'travyon', 'bengladesh', 'mamohato', 'inocent', 'aiib', 'hogia', 'britam', 'kidnapp', 'solartaxi', 'bussineses', 'biliy', 'c130j', 'älteren', 'mistranslating', 'kerfluffle', 'keneş', 'enranged', 'glossip', 'indianews', 'shanbaug', 'facebookers', 'b2w', 'kublalsingh', 'sakoltee', 'sitewide', 'gondreau', 'rachets', 'madondo', 'mouadamiya', '106k', 'ł140m', 'eur150', 'bbcsinhala', 'hamask', 'qalyubia', 'piipponen', 'aquatilis', 'pokemongo', 'ruihai', 'aparently', 'magnetgas', '900ad', 'teargasing', 'siakhali', 'vertisement', 'qaedas', 'gülenists', 'millons', 'yangfan', 'satio', 'deportationsisrael', '6miles', 'molehunt', 'zhukovska', 'wechat', 'homekeeping', 'domitiana', 'chochi', 'bilawi', 'topicals', '68ft', 'necrophiliacs', 'acquisite', 'hr644', 'famalies', 'justifiy', 'arstechnica', 'thuggishly', 'abushagur', 'xvigustaf', 'neverendum', 'blocklist', 'afghaniscam', 'koroday', 'renukabai', 'izraeli', 'moroccon', 'sourcemobile', 'molesti', 'stuster', 'baghdadophobia', '820k', 'supergran', 'scallywags', 'ipodagogy', '93k', 'propganda', 'toghether', 'artillary', 'bnonews', 'somsan', '1pcwn73', 'hawkings', 'jcser', 'bitunya', 'nspc', 'nzers', 'nyrere', 'arseholes', 'sahdheer', 'salustiano', 'ressignation', 'boehmermann', 'bachpan', 'zhangxian', 'deathtoll', 'deijang', 'doloow', 'mahroug', '733m', 'ridsdel', 'gatecrashes', 'unsee', 'airbrushes', 'momii', '152m', 'matajudíos', 'naím', 'salybia', 'histor', 'marget', '30ft', '970mn', 'mushawarat', 'salafite', 'käßmann', '544bn', 'jeruslam', 'rudrakumaran', 'tabqa', 'dennounces', 'corpbank', 'tabbaneh', 'atgws', 'maedomari', 'stereosonic', 'spetznaz', 'feci', 'malinese', 'infarm', 'skorna', 'bakaradze', '27kg', 'savoji', 'borberg', 'rdsa', 'terrosim', '217mph', 'nigaz', 'indignants', 'nagati', 'genscript', 'mahdele', 'urbanplanning', '38pm', 'bisotel', '300b', 'felleskjøpet', 'niringiye', 'middleeastnews', 'graffit', 'viiolence', 'enarotali', 'ethicality', 'rozoff', 'informnapalm', 'tyrannizing', 'faceblog', 'mislabel', 'wops', 'esayed', 'alysena', 'seiverts', 'illio', 'nsnbc', 'neso', 'richmore', 'mobros', 'yotaphone', 'paraganas', 'tajikistanis', 'teabaggers', 'handluggage', '13k', 'surveilance', 'ndia', 'behchoko', 'alphago', '20150412', 'komplett', 'weapen', 'renet', 'daigou', 'icelandics', 'abdrabuh', 'infosec', 'limedsforsen', '412m', 'storskog', 'mujahiroun', 'myanamar', 'bofe', 'olukolade', 'emigré', 'balanzoni', 'disapears', '6kg', 'kzjkypyn', 'sonboly', 'fluenty', 'coppieters', 'capturer', 'venki', 'megafloats', 'ussia', 'storrar', 'lcoe', 'brandstar', '252km', '3dr', 'kuvatov', 'sabsay', 'tröglitz', 'fracois', '64e', 'jourova', 'rosswell', 'arvelaiz', 'timemag', 'law360', 'abdulraheem', 'erediauwa', 'blackbirded', 'khelafabook', 'armiya', 'rolene', 'itsunori', 'plectorhinchus', 'thankyousalman', 'whelels', 'najnowsze', 'nymphomanic', '11mn', 'otaiza', 'eckoh', 'ferienwohnung', 'misapply', 'phallometric', 'zielinksi', 'perguntas', 'exoscope', 'deepends', '1000x', '150kph', 'ajew', 'ebeleben', 'casinotycoon', 'grillismo', 'ugnada', 'bulanik', 'equoid', 'üzümcü', 'counselers', 'deterence', 'ajmad', 'haartz', 'pegida', '35mph', 'mushshaks', 'seturidze', 'relaions', 'akhtakhanov', 'z06r', 'defrep', 'da14', 'sanitisation', '589m', 'parons', 'mutambala', 'اسکویی', 'wiseass', 'události', 'transferwise', '620k', 'khuza', 'seedmakers', 'rtpo', 'ideata', 'raddisson', 'underpant', 'illitrate', 'mitgliedschaft', 'desginer', 'uncensors', 'vahey', 'poznanski', 'remobilised', '28k', '830m', 'assualted', 'monsant', 'harasta', 'ellected', '145mph', 'interent', 'israelification', 'kalimia', 'israelí', '714m', 'magaard', 'milluzzo', 'touhidur', 'blablacar', 'supermicrobe', 'birzebbuga', 'younglionness', '3troops', 'mjm', 'palestines', 'bootcamps', 'talksv', 'meaen', 'nakatsugawa', 'sarfo', '125k', 'pamlarena', '127ft', 'americablog', 'appalledâ', 'disarrayed', 'reachers', 'bitcoiners', 'grumpies', 'hanamanthappa', 'mindfields', 'bundapani', 'redditor', 'beytenu', 'hénin', '5elafabook', 'vichama', 'shaafi', '27y', 'kesab', 'pattnaik', '24yo', 'chinghiz', 'mkenya', 'queensberrys', 'spottet', 'tiahleigh', 'flekkøy', 'adhinetra', 'sanral', '800kg', 'chcnk', 'cyperspace', 'supervoid', 'spys', 'nagham', 'maos', 'heraschenko', 'pedophilies', 'capabile', 'kovvada', 'abkommen', 'dheeb', 'krembo', 'misbahuddin', 'monguno', 'daydecide', 'islamicized', 'su24', 'concernt', 'skinsuit', '41bn', 'newsoftheweird', 'bitange', 'overcollected', 'akipress', 'turist', 'betokens', 'hellfires', 'refegees', 'ruecho', 'measurment', 'hyperledger', 'mubasher', 'sivens', 'itcw', 'topaloski', 'samwer', 'werbicki', 'römerberg', 'mushshaq', 'cambote', 'mexcio', 'merkerl', 'baadani', 'cityâ', 'arribada', 'mischaracterising', 'naymah', 'nikolaichik', 'tuleta', 'iraqy', 'terawatts', 'kogoya', 'eens', 'dicas', 'chakhalyan', '16yo', 'freeassange', 'cryptolocker', 'jfba', '634m', 'heckofa', 'veider', 'mngxitama', 'eltahawy', 'lazzarotto', 'manmeet', '975m', 'globsec', 'hawatt', 'stinney', 'italienisch', '460mw', 'produzimos', 'filchenkov', 'algerien', 'grosuleac', 'sportwetten', 'parubiy', 'peoplesworld', 'distabilize', 'briotish', 'atlanic', 'tiamo', 'prosvjed', 'desinformation', 'maithan', 'station_', 'schkreli', 'morcos', 'lactacyd', 'idlenomore', 'uncloak', 'islamaphobic', 'usians', 'pepcon', '107b', 'idleb', 'darthputinkgb', 'priminister', 'dinasty', '488m', 'blogbig', '212billion', 'redtube', 'develpment', 'cnnpolitics', 'eurosurveillance', 'ttoday', 'mannerless', 'frsanxce', 'kianoush', 'kyc', 'radjaa', 'junead', 'amirli', 'twelvemonth', 'bibis', 'shadiness', '185m', 'nahdatul', 'ptooiee', 'tribemen', 'voluntourism', 'standwithus', 'widsborough', '29l', 'maleware', 'kulturfyran', 'liveticker', 'alhodaif', 'latifullah', 'gerilemiş', 'hoverboards', 'prática', 'franquias', 'hejung', 'sayisi', 'ghina', 'storylink', 'prepara', 'airpsace', 'kamikazelike', '758k', 'legislatio', 'kacicova', 'makaziwe', 'bathists', 'zwd', 'henrike', 'jirake', 'larmond', 'durrand', 'telecomix', 'alsumaria', 'خون', 'cerber', '114cm', 'sunsetting', 'vvips', '100yrs', 'e12bn', 'joides', 'cassagne', 'totehran', 'overpressurized', 'rasdorf', 'amarkhil', 'thedomains', 'pesseghini', 'defamers', 'pt1', 'windi', 'mapswipe', 'ixzz2eisztyao', 'auslandskrankenversicherungen', 'praipana', 'detaling', 'instrumentalising', 'melona', 'oblat', 'solarreserve', 'millionare', 'sumsam', 'drugtrafficking', '52bn', 'merkels', 'tinnie', '850mln', 'versione', 'capsizings', 'anatot', 'canavero', 'coninued', 'qapqal', '613m', 'zunzuneo', 'jobsworths', 'peerj', 'aslyum', 'skyfi', 'unra', 'jobcentres', 'beneful', 'maltesergate', 'electionsdalayed', 'preparados', 'sextillion', 'c34', 'managament', 'afghanteacher', 'rwadan', 'airlander', 'elomar', 'kongar', 'buste', 'jalics', 'imense', 'dnschanger', 'michika', 'nigaragua', 'ratazzi', 'leyonhjelm', 'possesss', '45p', 'harzi', 'givealittle', 'shikal', 'swearwords', 'distorporation', 'debaltsevo', 'homz', 'postnuclear', 'wikigate', 'musacchioi', 'sewol', 'tazers', 'bouthaina', 'cybersleuth', 'feb12', 'thumbdrive', 'khilafa', 'chamish', 'condamned', 'encouaged', 'oncupinar', 'domincan', '670m', 'dispite', 'callboys', 'zunar', 'berlosconi', 'usd700m', 'putinphobia', 'sexint', 'hacing', 'retote', 'arktis', 'crowdstrike', '8220', 'nakarkhani', 'eurostench', 'prohibitionism', 'etappenschwein', 'grazziotin', '36mn', '165k', 'isismediablackout', 'razaian', 'rohith', 'hazera', 'stlouis', 'frykberg', 'shanil', '83k', 'mides', 'floberghagen', 'longannet', 'blairites', '11cm', 'euthanizes', 'marsone', 'remainer', 'eskinder', 'psl2', 'ciclon', 'candadian', 'turds', 'kuupik', 'indipendent', 'boxhead', 'salmonds', 'pinjra', 'miliatry', 'illiness', 'insted', 'karmawhore', 'ruatoki', 'oramai', 'adblockers', 'dancewithme', 'ryklin', 'interocean', 'qetta', 'ridiculus', '22yo', 'gta5', 'guantamano', 'rusly', 'kabaş', 'norazita', 'theolympics', 'beseige', 'conceptis', '90k', '16hrs', 'prostituion', 'funemployment', 'zonkey', 'cyberthieves', 'athex', 'japanâ', 'vahdettin', 'gtfo', 'n550', 'explaination', 'chickenshit', 'pristana', 'puplic', 'republc', 'aziziyah', 'ثبت', 'gezipark', 'opconfed', 'ulrichsberg', 'ba49', 'critizing', 'rodenbeck', 'magiers', 'bambuser', 'eitb', 'litzman', 'ستاره', 'classements', 'vongfong', 'seselji', 'kozakou', 'soberingly', 'votemonitor', 'thusha', 'gohomeindianmedia', 'holocust', 'hboil', 'miwaves', 'h58', 'vaggelis', 'dalga', 'wochenzeitung', 'kishidan', '190mph', 'scrunity', 'munyagishari', 'espanglish', 'weichel', 'unemployness', 'pragaash', 'threatenin', 'liftmaker', 'ajaja', 'us50', '400mn', 'pdrc', 'irotatheri', 'preinstalling', 'jouty', 'm2a3', 'fawks', '2400ft', 'qasabi', 'tajamuka', 'hakudzokwi', 'bentov', '70gw', 'bamial', '780k', 'risat', 'hiros', 'zephyrin', 'politiburo', '159m', 'norviliškes', '27k', 'khetrapal', 'chiarella', 'smdh', 'senewiratne', 'ratzilla', 'hugaricum', 'hrushevskoho', 'alqaeda', 'shanglin', 'pinknews', 'asafir', 'tuarag', 'raboah', 'zuweid', 'crapware', 'quindecillion', 'larenkov', '8230', 'greiman', 'lipovoï', '2kids', 'kalanick', '512kbps', 'yuksekdag', 'trovicor', 'usds', 'cokeheads', 'jolalpan', 'barbacoas', 'autobiograhy', 'nuclotron', 'resufraces', 'aacute', 'shokaku', 'wainting', 'jabarti', '48pm', 'rr245', 'testsieger', 'drezner', 'solyent', 'heig', 'pharoh', 'israrullah', 'gorlovka', '138bn', 'exculsive', 'euro2012', '14x', 'karpiuk', 'wavier', 'ileaks', 'sushinomics', 'corki', 'underconnected', 'stalina', 'eqypt', 'disponibile', 'sajin', 'mh17mh17', 'ninebot', 'hayb', 'mamito', '26pm', 'troisio', 'aswome', 'uani', '75bn', 'christianophobia', 'admiraal', 'teymour', 'carromero', 'azb', 'tx68', 'zekra', 'gunwoman', 'libary', '1030143489', 'testfires', 'napout', 'reguarding', 'nisgate', 'liechtenspring', 'outfly', 'rossshire', 'nsfw', 'thatcherites', 'dpuf', 'guantanano', 'hexapus', '30kg', 'restraunt', 'juilian', 'baumgarter', 'bettongs', 'marzullo', 'superpolluting', 'londener', 'kurlpurlunu', 'ghadaffi', 'dissappointed', 'mainstone', 'hostial', 'wolinski', 'reham', 'avión', 'hommemystere', 'norks', '22lb', 'pulverises', 'bedori', 'gidiyor', 'vatov', 'kotleba', 'principlist', 'nabekavu', 'seston', 'afad', 'usni', 'panadeine', 'iphone5', 'satudarah', 'feb20', 'gaddaf', 'oneweb', 'carscoops', 'yarr', '1z', '65cm', 'προγνωστικα', 'childrights', 'abeslam', 'masturzo', 'asbest', 'selaron', 'okaying', 'blushwood', 'tirole', 'otherthrown', 'dimistan', '686m', 'shaheeed', '26million', 'curryegg', '370gs', 'atabai', 'almaribe', 'seline', '180bn', 'y777', 'haftanin', '22yr', 'ahmadinnerjacket', 'maghsoud', 'spandy', 'wikilieaks', 'grexit', 'shamsia', '_some_', 'dinkley', 'ämari', 'koskull', 'yishuvim', 'orayen', 'unrepented', 'canabis', 'raassi', 'identitarian', 'fundamedios', 'böttzauw', 'fatca', '4years', 'airsea', 'khodakovsky', 'backscratch', '660kg', 'gaymarriage', 'blogosfera', 'redditors', 'israelsarmy', 'cadtm', 'pregancy', 'sagliani', 'frankenvirus', 'wiretappings', 'zuckerburg', 'thaland', 'muzychko', 'liderazgo', 'unilife', 'décolleté', 'ghanistan', 'acoastal', 'hizmet', 'supect', 'feedreports', 'maute', 'occupycentral', '000rmb', 'cinquew', 'ndas', 'docoss', 'ministerˈs', 'interm', 'brazzers', 'taxate', 'anarchopanda', '138kph', 'sutay', 'josephoartigasia', 'hudbay', 'alerts_', 'ided', 'km²', 'reconquers', 'heroization', 'uncracked', 'teargassing', 'rishipara', 'rearrests', 'qantar', 'plunderland', 'germanified', 'shahzadi', '500kg', 'eutimes', 'usd131', 'chiheb', 'sakkar', 'lauchers', 'instals', 'kiraz', 'piedigrotta', 'nahlin', 'kosenco', 'qaddum', 'selenelion', 'airikian', 'algere', 'iucaw', 'kararuza', 'brokpa', 'mowjow', 'inequal', 'rapers', 'twitterfeed', 'blackoutsimultaneous', '300lbs', 'flydubaigate', 'reviewbush', 'kohlendioxid', 'ventrell', 'tivinen', 'exponor', '376m', 'koy4goff', 'şatıroğlu', '204k', 'israelhas', 'ilkhamov', 'rocchelli', 'klykh', 'noobs', 'superinjunction', 'sraeli', 'indybay', 'shouryya', 'wikileak', 'instragram', 'sarposa', '50billion', '3763', 'todayonline', 'matik', 'ravneet', 'overwatching', '796m', 'tutoriais', 'netsweeper', 'buildingsgone', 'balduzzi', 'pirats', 'nyda', 'fstoppers', 'suileman', 'biebergate', 'qubeir', 'stienmeier', 'sjambok', 'forgani', 'minecon', 'n3far1ous', '1hbpqj', 'chancroid', '24bn', '131m', 'ekiben', 'pitiably', 'trolly', 'gw300', 'chinafied', '200mn', 'fredou', '13bil', 'movahedi', 'chornovol', 'yanukovch', 'monden', 'завоевали', 'aufschieberitis', 'kaddafi', 'nanauk', 'elor', '774m', 'textformat', '270bn', 'liy', 'thighed', 'eplosion', 'chagossian', 'kanaky', 'stuffpit', 'backpeddles', 'chutipong', 'rimjin', '227m', 'fpcon', 'arood', 'grisela', 'serdiukov', 'shredd', 'ahimsha', 'khuzaa', 'electrolyser', 'mietek', 'mukto', 'australia21', 'lolong', 'threatenened', 'pursers', 'marcoule', 'denie', 'ooredoo', 'withoutshoes', 'uvita', 'tostee', 'screengrab', 'faintings', 'rassoulollah', 'adilur', 'sangzi', 'yazamadım', 'foymont', 'xe54', 'hogesa', 'pavillions', 'gendy', 'longdi', '5mln', 'assylum', 'khwayldy', 'egyptan', 'nahwa', 'hasab', 'northkorea', 'elçi', 'ebolaoutbreak', 'clashe', 'stateâ', 'pk711', 'redhack', 'retrains', 'fioreworks', 'buryakov', 'erbia', 'maelbeek', 'warhero', 'blockchain', 'tzavieli', 'ಠ_ಠ', 'indata', 'abstimmung', 'amotorists', '80beats', 'wukan', 'butano', 'warheadsj', 'républicains', 'fraudulantly', 'yadi', 'legarde', 'callbrussels', 'guestview', 'libiyah', 'nativeamerican', 'ashnawi', 'bacanuchi', 'devorce', 'verbin', 'artsahk', '2yrs', 'sohi', '62k', 'ambreen', 'mubiana', 'blasphemes', 'decadenews', 'italypolitics', 'bayraytay', 'verlon', 'loansharks', 'mubenga', 'snoope', 'petfood', '327mln', 'khweis', 'merkeln', 'politicshome', 'poppues', 'humza', 'fundementalists', 'conomy', 'wantchinatimes', 'tremseh', 'converstations', 'todenhofer', 'mikaeel', 'trilateralism', 'annadanam', '550km²', 'liplock', 'integrety', 'cititzens', 'hospitalises', 'mersi', '7bln', 'gholli', 'jawaher', '267m', 'bahranini', 'hijak', 'contextualizes', 'gadhafis', 'zhdanova', 'coffe', 'madlibs', 'bioprinting', 'shateri', 'ayotzinapa', 'esculating', 'zhenrong', 'unlivably', '1bln', 'kohver', 'sizun', 'mevlüt', 'shez', '467m', 'hombori', 'inghams', 'cybathlon', 'munca', 'nalli', 'uruquay', '815th', 'cotterêts', 'addameer', 'noforn', '405m', 'haafu', 'vaccilation', 'pataya', 'stoppt', 'kuntrocker', 'brandalism', 'possingham', 'polyflourinated', 'zachariae', 'maded', 'zour', 'horsebearpig', '3rds', 'сша', 'whipsaws', 'nimblest', 'mralı', 'britanistan', 'clientearth', '15tons', 'révérien', 'bodycams', 'sebin', 'koyal', 'abramovay', 'herdwick', 'contratista', 'fattoush', 'kaupþing', 'tabaketenmut', 'rieh', 'buhaug', 'realiable', 'ethiopias', 'repor', 'rabbs', 'moogalian', 'arrrrrrselves', 'bailedout', 'aquatabs', 'us880', 'sivkov', 'brethern', 'sailaab', 'edps', 'sospetti', 'hujr', 'siteki', 'lungnok', 'sipila', 'ramandeep', 'whoopla', '600mph', 'fandangueira', 'sucky', 'helth', 'gu10', 'celibrate', 'vesselsfishing', 'daudu', 'provocatrice', 'splainin', 'mujigae', 'crowdsource', 'ideologization', 'hoodfar', 'manticao', 'tekmira', 'nanoclusters', 'ecfr', 'pixon12', 'дансwithme', 'likudists', 'mikisew', 'mirandizing', 'albicetus', 'pper', 'inutile', 'stoush', '145m', 'ditiching', 'sundag', 'cleanforthequeen', 'muertas', 'microlender', 'basatin', 'airmageddon', '035ft', 'thundersnow', 'photoshoped', '350kg', 'googoosha', 'littergram', 'humanising', 'manufactirers', 'siddiquii', 'ebov', 'lembembe', 'weaponries', 'muhammmad', 'sektor404', 'trafficing', 'livanov', 'nakushi', 'symphatisers', 'biosign', 'ehec', 'antnew', 'disrup', 'navic', '240mph', 'treins', 'plagiarizer', 'okhlobystin', 'quincineras', 'formin', 'hakakian', 'unfuckable', 'jiah', '9pc', 'spongetipped', 'us43', 'dokku', 'pradnya', 'ogooglebar', 'mahomedan', 'azadiya', 'mohannadi', 'sherdust', 'automovilismo', 'putus', 'domiz', 'vupen', 'kerdassa', 'defmin', 'boeslunde', 'freedive', '486km', '286m', '02m', 'wikileaked', 'bloodycyclists', '113million', 'tuhabonye', 'digitalising', 'dubovitskaya', 'meshaa', 'villagization', '311mph', 'eskiocak', 'putinophobia', 'nasho', 'scatec', 'wwwi', 'spruiks', 'heterodontosaurus', 'supertrain', '130j', 'gadafi', 'proccess', '134m', 'sudies', 'dishsoap', 'mothana', 'katheria', 'settl', 'enbrige', 'лучший', 'khaleeli', 'banderi', 'thruvision', 'hicheur', 'nosheen', '680k', 'kodopi', 'moldtelecom', 'firces', 'acivist', 'grabación', 'malpua', '1tbps', 'geopower', 'manutahi', 'corporatists', 'dissapeared', 'ezubao', 'konoé', 'fazliddin', 'bhajanpura', 'velocita', '45pm', 'qaryatayn', 'hahahahahahaha', 'benós', 'piwi', 'laqees', '6x2ft', 'zimelections13', 'sucicide', 'santions', 'nedry', 'downvoting', 'govn', 'm²', 'ranjitsingh', 'sandfantasy', 'pdval', 'astonomers', 'resembeling', 'worldometers', 'aguad', 'molecularizing', 'morrar', 'larayedh', 'riiiigggggghhhttt', 'mcitaly', 'cpvv', '375m', 'farmwatch', 'meziche', 'renouncers', 'tarwa', 'pracon', 'terroristis', 'beatdowns', 'rhinohorns', 'canceri', 'mandon', 'mbtu', 'enchance', 'flushers', 'gunwalking', '2288', 'galactics', 'goldfajn', 'uidai', 'cryptome', 'repeatingly', 'et702', '165bn', 'frican', 'rajaonarimampianina', '643mn', '163m', 'hreidar', '540k', 'pembelaan', 'mh132', 'indooor', 'oymyakon', 'utalkmarketing', 'khobargade', 'luladinejad', 'skolverket', 'imagenet', 'surrouned', 'trubridge', 'threebrothershealth', 'gharazi', 'csatary', 'febyanti', 'mistrals', 'joachin', 'bozier', 'slopper', 'lmax', 'selfies', 'fuckable', 'cyberstrikes', 'discrimate', 'tiens', 'barcaccia', 'disinvites', 'murakhtin', 'unevolved', 'crossblade', '104m', 'finfisher', 'fjorge', '630m', 'montreau', 'shuruq', 'alekhina', 'middleeast', 'plantlab', 'surveiled', '500lbs', 'blowjob', 'qaddafii', 'si2', 'jbour', 'gilbret', 'govervnement', 'íngrid', 'bershka', '3213', 'natgrid', 'noiva', 'irsn', 'tsalikian', 'caudrilla', 'llegal', 'thouless', 'elbaradi', 'chatbot', 'ultranationlaist', 'tellng', 'cracklands', 'cotsa', 'supersubmarines', '500000', 'fracting', 'foundyouout', 'hilsum', 'agtmael', 'hakubun', 'bogopane', 'iwishiwaswiththem', 'gatluak', 'anniv', '540th', 'sdei', 'filep', 'boycottwoolworths', 'ankerberg', 'saferedmile', 'dernières', 'reëvaluate', 'anakra', 'brutalisation', 'riham', 'drainville', 'thararin', 'asianpowerpolitics', 'danielz', 'gvardiysky', 'jabaari', 'substain', 'rousfeti', 'metastudy', 'دلواپسیم', 'walkies', 'wonderul', 'eopyy', 'deleverage', 'boyah', 'arressted', 'khalij', 'freemigration', 'santow', 'yoovidhya', 'farea', 'créant', 'crazyhorse', 'mboulou', 'vietjetair', 'gohta', 'glazyvev', '120000', 'blashemy', 'petabecquerels', 'fusha', 'loveparade', 'usd295', 'закрытые', '35usd', '8tn', 'sumoto', 'tiananman', 'conflct', 'desparation', 'homosexualist', 'bearplane', 'antifascism', 'maitama', 'repugnancy', 'mobula', '81bn', 'atena', 'richarddawkins', 'mustachieod', 'arrrgh', '8501', 'aidé', 'chornancap', 'philippino', 'thedress', 'rugiada', 'intollerant', 'balloongate', 'vesels', 'tharir', 'jukwa', '8308886', 'zaazou', 'philliphines', 'flashmobs', 'differen', 'remortgage', 'mahlab', 'eeeevil', 'doctom', 'occipied', 'poliitken', 'todashev', 'photobomb', 'rcep', 'cybervandalism', 'intellligence', 'ppopulation', 'causeed', 'hanjinâ', 'suggets', 'lungescu', 'mutazz', 'cadburys', 'gashimov', 'gutschein', 'dyngjujokull', 'megashift', 'lygons', '50yr', 'tikt', 'kalandiya', 'isoproturon', 'itvdigital', 'zombism', '20150720', 'cangan', 'bekdi', 'ccpro90', 'khobor', 'baupin', 'osinbanjo', 'cyberbird', 'vaccinator', 'tyupkin', 'carriyng', 'algemeiner', 'mckayla', 'agw', 'jeylani', 'halij', '330m', 'uraguay', 'hitwoman', 'balatarin', 'spvm', 'infopolicy', 'wickr', 'sexporting', 'streetnet', 'theverge', 'argriculture', 'barratts', 'londonstockexchange', 'kopimashin', 'hamees', 'mulit', 'pressreleasespider', 'feehily', 'topwrap', 'passengertrains', '73bn', 'hashimpura', 'uninvites', 'jahidul', 'hirak', 'villarica', 'vlamidir', 'occupycongress', 'gyongyosi', 'pastic', 'syrotyuk', 'obrovský', 'biosure', 'cyberspy', 'easo', 'hualin', '104mph', 'bregadier', 'hospitalise', 'displacing1', 'opwc', '500lb', 'frikkin', 'worldpolitics', 'kolomoisky', 'medai', 'madressah', 'beeing', 'campain', 'midelt', 'machali', 'winghead', 'offenssive', 'interdecadal', 'c23', 'erotik', 'fokkens', 'discomgoogolation', 'wearechangeuk', 'naraha', 'divenely', 'ixzz3suqpojhf', 'powa', 'ciaeda', 'walesonline', 'enclothed', '17mn', '2011silly', 'nakoura', '754bn', 'stot', 'burm', '90tn', '2crbcts', 'thinni', 'eurostan', 'ź100', 'chiotakis', 'bhuddists', 'lugaro', 'abovetopsecret', 'batkyvshinya', 'usoyan', 'palíndromo', 'megabrewer', 'balkanleaks', '394mm', '000km2', 'b4in', 'novoazovsk', 'tortotubus', '22bn', 'maureira', '175mph', 'mushayt', 'scrunchies', 'redevelopmet', 'lsraelis', 'nomiated', 'assfish', '3280', '180k', 'opparis', 'haldiram', 'tsla', 'kangemi', 'calcuta', 'jan25', 'damge', '20st', 'suruç', 'breastfeeds', 'kailai', 'nadarkhani', 'mikocheni', 'gaylaxy', 'sayani', '55k', 'sextremism', 'alacitas', 'antartic', 'hitto', 'multil', 'hammas', 'selachii', 'uninvent', 'euthanased', 'unterstützt', 'alchin', 'diemos', 'zuying', 'gadhimai', 'kremlinrussia_e', 'happenning', 'chebarkul', 'boobquake', '785mln', 'deforester', '31bn', 'throwings', 'militiants', '364m', 'phailin', 'mutemagawu', 'yonphyong', 'pokertube', '277m', 'delhis', 'islamificafion', '86bn', 'yeongjong', 'dará', 'mossads', 'yidis', 'ninjavideo', 'bandook', 'pinkwashing', 'blijdorp', 'fillibuster', 'wabary', 'listhaug', 'nithyananda', 'podlich', 'zmir', 'москвы', 'excuted', 'reimports', 'ponpetelegans', 'batgirls', 'omotenashi', 'pushilin', '295ft', 'ayatollan', 'strengt', 'karınca', 'irtvu', 'cultiva', 'canilf', 'secretley', 'pescription', 'libricide', 'cyberlaws', 'brugnaro', 'mullaley', 'urkaine', 'canibals', 'natsgvardija', 'quadrillionaire', 'underfeeding', 'duvolks', '66bn', 'apoi', 'trueprogressive', '213km', 'mashhoor', 'natgas', 'aspergery', 'tubectomies', 'crediblity', 'karadag', 'thesadalbertan', 'conludes', 'wtfcnn', 'ikrima', 'watchkeeper', 'ghezel', 'diyali', 'platformu', 'kimondo', 'dallae', 'stoneworking', 'corée', '368m', 'teabox', 'chiwy', 'schoolpals', 'ifade', 'binturongs', 'aluda', 'försvarets', 'göbeklitepe', 'ibahri', 'olmer', 'henrikh', 'isiswatch', 'nationalises', 'unconstituional', 'shiridi', 'crosspost', 'incliding', 'mahinour', 'ndustry', 'yesssss', 'keyscore', 'accumoli', 'الصلاة', 'ripresa', 'reframes', 'baniwalid', 'satellitare', 'dtos', 'villagio', '36bn', 'powerfull', 'khouzestan', 'reengages', 'damsacus', 'zimbabwes', 'severevisibility', 'aadhaar', 'qadaffi', '170ºf', 'opeyemi', 'studyimg', 'simme', 'uneori', 'annaleise', '76m', 'brésil', 'rickrolling', 'ag600', '850k', 'dripion', 'phutkal', 'zaik', 'polverino', 'bdnews24', 'boombers', '20mbits', 'hondruas', 'acomplishes', 'weaponed', 'hossaini', 'bus__', 'biiiiigg', 'nihonmatsu', 'andthen', 'africanglobe', 'diendere', 'hunhe', 'warttorn', 'buratino', 'nukeophobia', 'jillert', 'websolutions', 'euromaiden', 'commisson', '297m', 'haikimullah', 'delares', 'qaede', 'aguan', '04d1s', 'mintchip', 'accurso', '70k', '640x345', 'sonamu', 'unchains', 'levelly', '57tn', 'topolin', 'wahaca', 'naire', 'utrect', 'goosestepped', 'anana', 'soccernet', 'umfrage', 'earthsky', 'bellenews', 'apaporis', 'loppsi', 'koulfa', '377k', 'hologamified', 'politicials', 'rightwinged', 'sülü', 'yunjinghong', 'markozy', 'schels', 'bakkour', 'n3000', 'homesexuality', 'amiriyat', 'sovcomflot', 'spendy', 'nubo', 'ballygomartin', 'hooze', 'delegitimising', 'girolamini', 'liveblogging', 'electronista', 'muchai', '00pm', 'cryptocurrencies', 'qata', 'fayçal', '36000', 'desseigne', 'anulment', 'altice', 'actrice', '222m', 'putinâ', 'zhuchengensis', 'telepresser', 'witnesss', 'hclu', 'sugarbeets', 'yonni', 'verini', 'bugarach', 'nirbhaya', 'bersmirch', 'timbutuku', 'initifada', 'nipster', 'devcon2', 'monstermind', 'prokrastination', 'beyondbrics', 'polewards', 'saakasvili', 'idfnadesk', 'tedxsanmigueldeallende', 'gaerlan', 'ajatollah', 'maliya', 'colvale', 'persmerga', 'retweets', 'xytex', 'squidworm', '200b', 'husseiniyahs', 'larvacide', 'babuji', 'leamsy', 'levelized', 'choudery', '2ª', 'nestora', 'dunnit', 'paniccccccc', 'tiechanggou', 'generose', 'kotsaba', 'seriati', 'albernameg', 'nemmouche', 's300', 'cyberbunker', 'naajda', 'microearthquakes', 'jubayer', 'darklife', 'desaster', 'rosimeiri', 'faily', 'chinaphobia', 'ggot', 'baquer', 'semitically', 'alrdy', 'colonoscope', 'əliyev', 'mailout', 'f15s', 'massacare', '335m', 'penknives', 'muabbada', 'sombolinggi', 'φωτιά', 'neofabraea', 'shareaction', 'nethanyahu', 'qaddifi', 'phanfone', 'rezgui', 'pshycoanalising', 'ruleaks', 'renationalise', 'survation', 'unabe', 'ironicly', 'greenatom', 'ripcurl', 'goudé', 'aylan', 'githurai', 'brahumdagh', '100gbps', 'cyberviolence', 'gaybashing', 'galeforce', 'drrk', 'inpdependence', 'anadan', 'biometrically', 'qayarrah', 'exposured', 'pastafarians', 'africentric', 'grapel', 'aayog', 'awinja', '86km', 'cybergeddon', 'kodnani', 'trami', 'celebogossip', 'volovich', 'supercookies', 'brotherhoodâ', 'currry', 'mygov', 'delga', 'demecracy', 'prionailurus', 'moqtadr', 'mamajek', 'ortars', '663m', 'dogecoins', 'bizcircuit', '500kmh', 'dispoal', 'rentboys', 'yeman', 'a5bn', 'repesnting', 'topolice', 'kecurangan', 'qatars', 'getzlive', 'thesundaily', 'riafagat', 'gunningham', 'cudberg', 'fuksuhima', 'bullrushing', 'mexicanization', 'dobrolet', 'joooo', 'feyisa', 'airpocalypse', 'souag', 'algeta', 'kidnapings', 'samesamebutdifferent', 'relicense', 'miamiherald', 'linqk', '447m', 'savamala', 'zaeda', 'passporting', 'preve', 'qeda', 'mths', '392bn', 'sharri', 'sydrome', 'afluent', 'obokata', 'norhern', 'populat', 'moganned', 'demirbas', 'thassos', '10ms', 'megaparsecs', 'atir', 'aninews', 'charg', 'microplastics', 'stubbies', 'prigozhin', 'us360', 'mojgan', 'bizzaire', '12yr', 'magnitskyy', 'rousself', 'ayod', 'somphone', 'shitheads', 'benghazistolen', 'iserial', 'hebollah', 'steorn', '135u', 'nohmul', 'македонија', 'awrad', 'bugibba', 'iview', 'matiq', 'sapia', 'demersus', 'pilkhana', 'protes', 'ميليشيا', 'hyperloop', 'unsmil', 'pewresearchcenter', 'atenean', 'narconomics', 'cedena', 'forumers', 'mentalmasturbator', 'population__there', 'regnér', 'sanaei', 'superjudge', 'rosbalt', 'sungrazing', 'unmaternal', 'paypub', '790k', '16bn', 'tegisti', 'dhamal', 'cyberworm', 'lecturn', 'thephone', 'bazzal', 'değil', 'biocement', 'bogomolets', 'zarok', 'praxedis', 'whitechape', 'fy17', 'communitions', 'miklousic', 'brutilizations', 'highnes', 'shortreport', 'lã', 'doumbouya', 'cittizens', 'migrationsverket', 'childminders', 'auroracoin', 'mubai', 'aswer', 'callls', 'amvrosiyivka', 'krgyzstan', 'chotuna', 'catrambone', 'bilpin', 'посредник', 'sentsov', 'narcopigeon', 'manola', 'undertrials', 'bongoland', 'تضامنا', 'curricullum', 'borneopost', 'polyzonis', 'keow', 'mangre', 'dudher', 'daesong', 'dijual', 'szafir', 'ineresting', 'ngulia', 'bashrawi', 'saiba', 'neonicotinoid', '20billion', 'maharahstra', 'politskovskaya', 'yılmazlar', 'palymra', 'effetto', 'midburn', 'ordenó', 'gulet', 'halfwits', 'jeralean', 'zomato', 'estaing', 'znik', 'mobes', 'frydenberg', 'baegryeong', 'alertnet', 'barzeh', 'stefanía', 'uncollapsed', '11ft', '21yr', 'hacksilver', 'brittish', 'bunged', '972mag', 'fargam', 'chilian', '38x', '290m', 'fukusma', 'bathiudeen', 'tyrannie', 'detianees', 'gongquan', 'amiright', 'panteleymonov', 'xm25', 'omgeo', 'civl', 'gangrapes', 'slavenko', 'enchmarch', 'rampelys', 'laurierville', 'recinding', 'hesekê', 'muddiest', 'newsdaily', 'journos', 'hevron', 'geolocalization', 'menei', 'drunkest', 'commitet', '800yo', '270m', 'johannesburgh', 'evany', 'utahn', 'grimsvotn', 'rewanul', 'jubliant', 'braiiiiiins', '80bn', 'instabridge', '900g', 'trévidic', '545m', 'gaitanes', 'islamaphobia', 'ameenah', 'noul', 'awram', 'babeltallinn', 'ecured', 'fewsnet', 'recentralisation', 'nazemroaya', 'yingnan', 'shigir', 'revolutionazing', 'joyrider', 'comtainers', 'chautara', 'omanâ', 'critisism', 'vocativ', 'pipline', 'qashoush', 'tramper', 'donwpour', 'bystedt', 'témoignent', '662m', 'valneva', 'kunisaki', 'urbaines', '266k', 'heartbleed', 'convocados', 'jermajesty', '200mw', '300tb', 'spre', '9ja', 'pavco', 'doubleplusgood', 'ayungin', 'eeducation', 'malafaia', 'momotombo', 'gyppo', '295c', '275bps', '182k', 'predescu', 'hakken', 'kweres', 'hosters', 'mirzakhani', 'itaquerão', 'kdps', 'كان', 'auroragold', 'zehaf', 'attheist', 'killinochchi', 'nabajatra', 'hoegstrom', '349kg', 'phfizzed', 'cyberpeace', 'speedial', 'judaising', 'blogiraq', 'sterke', 'revoltionary', 'scoc', '站起来', 'leftwinged', 'cyberterrorist', 'neonazi', '11bln', 'menyaylo', 'parzinger', 'asheeq', 'soubry', 'europenews', 'haick', 'whoopysweb', 'shufflebottoms', 'religi', 'zirndorf', 'ziamani', 'humanityâ', 'dozhd', '67p', 'donazione', 'nadrendra', 'litterers', 'slovyansk', 'dijsselbloem', 'brfxxccxxmnpcccclll', 'agfo', 'mbaiki', 'volatle', 'kurzreise', 'casty', 'p311', 'låt', 'exirifard', '7kms', 'bogachev', 'youguang', 'carcrash', 'ppposed', 'stanké', '25000000', 'puppetmasters', 'rozhetskin', 'independentism', '907m', '21pm', 'привет', 'awalki', 'knutti', 'detención', 'bibleplaces', 'sieren', 'zumas', 'ohhai', 'pipite', 'klix', 'lapoinya', 'alterglobalization', 'krasnoarmeysk', '32venue', 'kobanê', 'cruicifixion', 'mycoin', 'bbbs', 'ssuuna', 'hostipals', 'securedrop', 'llusion', 'sonsteby', 'championmark', 'worldisrael', 'complexité', '600kg', 'icela', '10billion', 'niunamenos', 'antiterroristas', 'statnett', 'checehnya', 'anoud', 'malaysiaairlines', '115km', '89m', '0km', 'keßler', 'miilions', '10l', 'indect', '30mph', 'pussies', 'distinctable', 'eqyptian', 'kremlinrussia', 'discountsonly', 'jamaldeserves', 'cnsnews', 'emarati', 'estia', '225bn', 'wantaway', 'barbarani', 'wigu', '525m', 'alqsa', 'sledgehammered', 'semaf', 'proposta', 'loukanikos', 'undeway', 'kötcse', 'novofyodorovka', '65bln', 'zucaritas', 'mathmatical', 'cptn', 'protonet', 'photocall', 'shahindokht', 'rebeles', 'gbrmpa', 'whetstones', 'sinobyte', 'marghani', 'cometlanding', 'marayur', 'narquitectura', 'scaremongers', 'tomtato', 'mazurier', 'mutaf', 'agrobiodiversity', 'nutanix', 'kaleck', 'mezhigorie', '29k', 'awtw', 'guzoo', 'sthlm', 'бывший', 'supsect', 'tlas', 'kalymkia', 'us681', 'suicided', 'reauthorises', 'susya', 'muslimahpride', 'berlatier', 'prueksakasemsuk', 'paloch', 'turcish', '3yr', 'tatical', '325m', 'guines', 'yereven', 'overflies', 'mmusi', 'lisychansk', 'baboom', '323m', 'marriag', '10yrs', 'batmanghelidjh', 'lynddie', '44c', 'anaklia', 'microbeads', 'pheed', 'jameis', '404m', 'hubbies', '88km', 'thesaaloniki', 'istanbuls', 'toorpakai', 'news2share', 'upcomming', '3kg', 'beginng', 'dvorks', 'parkı', 'alleppo', 'sott', 'nabam', 'cedrika', 'worldness', 'knitwit', 'jonsdottir', 'pec37', 'juรกrez', 'financiamento', 'spanghero', 'unihabited', 'kutnicki', 'everybod', 'dronescape', 'canadaian', 'bigpanda', 'ehh', 'posied', 'irevolution', '42bn', 'tetrachloroethane', 'netanyaho', 'topnotchers', 'penjwan', '59m', 'daiich', 'acknoelwdgement', 'gmoscience', 'gullfoss', 'kuzari', 'fiia', 'tiscornia', 'appearsd', 'lhag', 'urrutigoity', '疾管局', 'u8230', 'acampada', 'incestous', 'antey', 'koshmario', 'capitalises', 'adrina', 'synangogue', 'stirkes', 'sanafir', 'formula1', '18yr', 'trashslide', 'jidahist', 'upliftingnews', 'buzina', 'yonphung', 'viyan', 'bolkovac', 'instablity', '7yr', 'rnbxclusive', 'amworks', 'adbusting', 'mubarrack', 'dh6', 'delcare', 'sentar', '88156953', 'mitribah', 'thaads', 'freegaza', 'arrieved', 'leapard', 'gianferro', 'blackcube', 'berlsuconi', 'seeked', 'citizenfour', 'webms', 'nsfl', 'provokatörmelihgökçek', 'instutions', 'tumblog', 'schorschbock', 'adawiyyah', 'qassaem', 'nadvatul', '220lbs', '36km', 'resourcesat', 'sylvi', 'khartabil', 'wullf', 'mohammar', 'crexit', 'enercity', 'atgentina', 'metaphone', 'wunt', 'axbk', 'mbarrels', 'protestoları', 'queuers', '846852', 'liberespressioni', 'stinkenham', 'elshamy', 'galjaard', 'fakim', 'victorous', 'yuanhui', 'governmen', 'torussian', 'tatarevo', 'oceanografia', 'rsoe', 'cayala', 'wenty', 'cmhr', 'separitists', 'tongshi', '130bn', 'middleeasteye', 'recieves', 'unaffordability', 'debkafile', 'hayrikyan', '13382', 'bikies', 'excecutions', 'aparición', 'taxibot', 'cellatreis', 'rontzki', 'ochlik', 'execu', 'transición', 'henadiy', 'jahjaga', 'gbgabo', 'crackpipe', 'buids', 'religon', 'outstaying', 'potterish', 'khalimov', 'cispa', 'unmassaged', 'izge', '2bln', 'gotze', 'clamours', 'warkawater', 'attrice', 'meowed', 'ossinovski', 'storedwide', '6gw', '544m', 'sengwer', 'shameeeee', '900km', 'aviati', 'venod', 'batalin', 'stranled', 'möchel', 'osсar', 'belbek', 'rebublic', '725m', 'bacquelaine', 'sunflowerseed', 'lavabit', 'september11', 'hydrofluorocarbon', 'todaye', 'baghaei', 'tlajomulco', '47k', 'huismann', 'biltateral', 'irom', 'fsai', 'expells', 'pureview', 'akçakale', 'nhik', 'feriks', 'smetimes', '320m', 'geysina', '84yo', 'morits', '22k', 'unfreedom', 'einsein', 'skenario', 'bishek', 'kaliba', 'australlia', 'nicastri', 'thailandurlaub', 'igenbergs', 'sarkozymania', 'betzig', 'extraspecies', 'ambulanceman', 'deforesters', 'dogecoin', 'mutware', 'waziristans', 'askira', 'judbarra', 'hitjob', 'gujran', 'exploratorul', 'scripturally', '43f', 'chastizes', 'sweeped', 'ashtyr', 'timesonline', 'dcri', 'mattzie', 'isfahanis', 'arreaza', '24tn', 'khawaher', 'isatu', 'gonewild', 'giolas', 'humanité', 'leakiest', 'iniciative', 'shithead', 'fapping', 'nasara', 'krayem', 'a976', 'schaut', 'bárðabunga', '12yo', 'jarinje', 'opednews', 'bpos', 'frashta', 'chiense', '375bn', 'flexcoin', 'mantarays', 'disrespec', 'r40million', 'vananu', 'seinors', 'vinvi', 'asemi', 'sprus', 'tsarnaevs', 'epigenetically', 'euromess', 'sputniknews', 'yinluck', 'ðukanović', 'electiob', 'factorie', 'guggeheim', 'moorooka', 'qiam', 'deathseven', 'injunct', 'welcomo', 'becouse', 'uberblack', 'haftbefehl', 'responible', 'jykri', 'sotloff', 'vulturish', 'cremators', 'qumu', 'kajouji', '13bn', 'inconvenie', 'excede', 'tristane', 'hypnotises', 'gharaz', '050th', 'talibes', 'iqea', 'sabrosky', 'aadhar', 'us74', 'gatinaue', 'c_133871006', '160bn', 'cop19', 'contraceptions', 'razvozhayev', 'liaoling', 'cloudflare', 'hidding', 'toyboy', 'ditributing', 'большего', 'ravenshead', 'miethe', 'bullsh', 'swearword', 'krichbaum', 'tazalit', 'eikonal', 'qaeida', 'iiaf', 'livvix', 'ł2', 'thumbstick', 'cincunegui', 'znah', 'oréal', 'khovanskoye', 'gasquakes', 'miszewski', 'hyten', 'brothas', 'mijek', 'x3s', 'reqs', 'gonabadi', 'mediaite', 'counsils', 'yamunanagar', 'unaoil', 'lidiane', 'lankas', 'jouranlist', 'shughur', 'abbasyia', 'offeres', 'ensnarls', 'millionmaskmarch', 'ifax', 'guangbiao', 'tnw', 'politici', 'leadsome', 'vaccs', 'legolympic', 'grisogono', 'theocrat', 'bretty', 'atacked', 'everyblock', 'matusadona', 'gurneyi', '401ks', 'conress', 'humansâ', 'landic', 'hadcrut', 'whizzleblow', 'petrodar', 'legrend', 'newzbin', '95billion', 'innotrans', 'faithbook', 'slutwalk', 'bouhlel', 'gormless', 'cnnturk', 'mboyi', '573m', 'parida', 'sovietology', 'camsur', 'smugling', 'egates', 'agot', '19yr', 'immunovaccine', 'khobragades', 'officialâ', 'yarloop', 'lewatmana', 'destoyers', 'cn220', '17yr', '2746', 'northkoreanews', 'islamise', 'maricón', 'kaseasbeh', 'demonocracy', 'yakukovych', 'appleâ', 'decarbonisation', 'kiapasha', '04m', 'hawally', 'domri', 'aggiornati', 'menagh', 'zoaiter', 'aarrgggghhhh', 'haibatullah', '50x', 'xpost', 'offshoreworkmates', 'chrystia', 'vaccer', 'obamagate', 'leslei', 'klyosov', '450b', 'haguput', 'iuf', 'imessage', 'tiddlers', 'boggar', 'roberte', 'bläst', 'sanctimoneous', 'jangchung', 'kompsat', 'monsignors', 'commununist', 'shiitenews', 'senyonjo', 'wokring', 'colloboration', 'mynorthwest', 'backshall', 'newstatesman', 'incedal', 'polnisch', '391m', 'bredbandsbolaget', 'coupist', 'gaddhafi', 'terroristâ', 'parlaiment', 'fallavier', 'sussita', '6billion', 'cambodja', '137k', 'playd', 'zorb', 'bananageddon', 'courtersy', 'otoniel', 'erronous', '84m', 'letch', 'yout', 'khankendi', 'techdirt', 'rishad', 'iranelection', 'sabbahi', 'criação', '1680km', 'cosspost', 'tsarnev', 'airprox', 'sichaun', 'farmaian', 'gramted', 'ladee', 'godil', 'stanches', 'luleaa', '24x7daysnews', 'whyld', 'motar', 'husyabah', 'grrrreat', 'mediaculture', 'pifts', 'underconsuming', 'asbarez', 'everythingscience', 'dua_ec_prng', 'beleagered', 'opgtmo', 'warnerd', 'theage', '奧地利', 'realpolitic', 'n500', '7669', 'sensationalising', 'festerling', 'allouch', 'legaling', '60bln', 'homowives', 'yourview', 'consumi', 'dbo', 'thauvin', 'hempisphere', 'findthe', 'purif', 'tshirts', 'ixzz2n0l7slwr', 'hajis', 'yarışmaları', 'mhip', 'rejon', 'tianqin', '234m', '56m', 'discovr', '80yo', 'sodimejo', 'gedachte', 'detumescent', '44bn', 'lugagge', 'nusfra', 'worls', '119m', 'manbirdpig', 'erdo', '111000', 'lasertag', 'blashphemy', 'murabitun', 'a30x', 'charmhaven', 'theif', 'nawaat', 'abbvie', 'feb17', 'birisi', 'alcolock', 'prejudgments', 'kinights', 'huantar', 'chalghoumi', 'holot', 'miskiw', 'hypersonice', 'millersab', 'prystaiko', 'trololo', 'strongold', 'beligan', 'snowden2016', 'panenske', 'pacbi', 'shajara', 'cheibani', 'aslanyan', 'paruyr', 'mokallah', 'canâ', 'serok', 'multicurrency', 'theaten', 'influeza', 'jamphel', 'kalinigrad', 'the3iportal', 'dreamtv', 'horded', 'wycleaf', 'vídeos', 'photolouge', 'raudhatul', 'handwarmers', 'brzegi', 'rm12m', 'kend', 'waelbroeck', 'aksenov', 'déja', 'eagleworks', 'breakingnews', 'mimer', 'fieros', '221kg', 'klyuev', 'spainâ', 'graffitiing', '670000', 'rikuzentakata', 'punchbag', 'jalaa', '149bn', 'gulaab', 'preseident', 'sentrence', 'smartwatches', 'vistit', 'scarifice', 'myrzin', '21418', 'ounianga', 'noesdives', 'fergusan', 'yumurtası', 'burgalar', 'yarchagumba', 'moerner', 'emember', 'navinder', 'makuch', '694k', 'unsucessful', 'moodstocks', 'freeconomics', 'equaliy', 'niloy', 'borked', 'idodge', 'brownface', 'ruper', 'afoe', 'bergwall', 'keihanaikukauakahihuliheekahaunaele', 'chuvashov', 'cyberagreement', 'aljazeeraenglish', 'cybermercenaries', '225m', 'goostman', 'kayong', 'flattr', 'malignantly', 'gamadhere', 'qr023', 'sahadeb', 'cogat', 'usnorthcom', 'pawluck', 'popigai', 'glangwili', 'newsblog', 'latinobarómetro', 'iarmy', 'gamergate', 'clavigera', 'hillaryesque', 'ixzz3x74sbzdx', 'devide', '20bn', 'compensetation', 'snowdennz', 'netsafe', '500x', 'bloccarne', 'ratenkredit', 'd3159', 'liveblogs', 'schoolkit', '37cm', 'sportivi', 'opporuntity', 'artemivsk', 'zespri', 'datajournalism', 'cumartesi', 'obamayankeegohome', 'chromakode', 'israelies', 'kapune', 'septicaemic', 'lobotomised', 'wakeskating', 'sjöstedt', 'ytd', 'domainsrs', 'vistoria', 'foukas', 'allex', 'cartosat', 'zhanglidong', 'admiralspalast', 'reichsbürger', 'youporn', 'rebasing', '2lbs', 'accussing', 'resisant', 'xingong', '790m', 'maarawi', '14billon', 'mesmerise', 'videomaker', 'oilcane', 'danwon', 'ifart', 'kermlinrussia', 'beleifs', 'tsarev', 'brownites', 'aerobridge', 'infoladies', '558g', 'adivisor', 'manwin', 'dunghill', 'karanjali', 'pwning', 'menawan', 'dinosauromorphs', '33kg', 'mariyappan', 'vs43', 'asirt', 'scandlas', 'huffingtonpost', 'plee', 'javari', 'hijra2ireland', 'socco', 'cmaj', 'borks', 'mitm', 'jeish', 'arirstrikes', 'mbie', 'gulfnews', 'nauticalmile', 'zerothe', 'feedlounge', 'ahskelon', 'zhiru', 'soohorang', '60b', 'ethhic', 'opcon', '37000', 'mozn', 'sickkids', 'poroschenko', 'cordonale', 'teampoison', 'gangmates', 'talkalakh', 'anaas', 'efroni', 'palosz', 'unfriendliest', 'shendiao', 'journolists', 'deathray', 'frope', 'mitnik', 'boisvenu', 'restriant', 'restocks', 'kular', 'subhani', 'pannunzi', 'yehoyada', 'bulldozered', 'sectarianised', 'yokne', 'gūguru', 'kauft', 'visuvanathan', 'urbanise', 'domnios', 'pakisan', 'tahera', 'nirabhaya', 'burzaco', 'insuranz', 'maug', 'moneybeat', 'unfriending', 'reauthorisation', '15yo', 'baghdade', 'elmahdy', 'tazreen', 'hummanitarian', 'striked', 'palestinia', 'hameedzai', 'crianças', 'anounce', 'yongjin', 'shamdasani', 'outlookindia', 'smartflash', 'cyberassaults', 'corlatean', 'dawabshe', '2ft', 'cybergames', 'pocari', 'intidfada', 'muntition', 'legendry', 'jeleil', '275m', 'oe1', 'kashechewan', 'talalayev', 'gourdel', '250mn', 'vestibulares', 'wuese', 'semei', 'fréderike', 'krimidinner', 'flosi', 'gaeseong', 'whinham', 'amriyah', '133bn', 'dekra', 'outwitter', 'amplivox', 'revealtions', 'duowei', 'wonderfull', 'schwarzennege', 'neukunden', 'truther', 'maghami', 'jasonlbaptiste', '156m', 'commisioneer', 'flightstats', 'pervaisve', 'doco', 'flouresent', 'bokoharam', 'dicussion', 'stackexchange', 'zakaev', 'premera', 'fotògrafs', 'terroism', 'taxim', 'mouradhamydinnocent', 'akidi', 'occasione', 'bitfinex', 'increa', 'lifelogging', 'malikzada', 'ihadists', 'photoas', 'whatsap', 'aticles', 'twitterized', 'vapers', 'mehdiganj', 'atatck', 'youseff', 'selfiewithdaughter', 'shalls', 'defensionem', 'snubfin', '86m', 'jerusaelm', 'facepalm', 'billlegislation', 'nknews', 'a60m', 'bodypaint', 'r133', 'earthquackes', 'باره', 'ribhu', 'voteday', 'ziyon', 'yearâ', 'verzichtet', 'bismarcks', 'nefret', 'akintunde', 'dahjaj', 'osebury', 'transations', '450k', '187m', 'mh70', 'uighers', 'siegn', 'househelp', 'telleurope', 'soleckshaw', 'innfluential', 'inserbia', 'mutassim', 'verskiani', 'lyricizes', 'mujungu', 'dolphinus', '28ne', 'manbang', '913m', 'concorida', 'gezawi', 'maitiq', 'handey', 'weath', 'wordsearch', 'studyplaces', 'fisaa', 'zhanaozen', 'clet', 'astiani', 'cacouna', 'welat', 'bawaria', '114mph', '188m', 'rs15', 'thestar', 'juspam', 'mfaku', 'textr', 'snapbacks', '44kg', 'sifaoui', '63k', 'magintude', 'sementara', 'âł3', 'dalelah', 'attaks', '370m', 'centn', 'vitishko', 'schedualed', 'unpluggable', '5048', '75p', 'geerdink', 'andoid', 'sterilisers', 'qolikhan', 'cordobes', 'hemki', 'megabox', 'bronces', 'blingmobiles', 'khamene', 'islamophobes', 'snfl', 'cyberbullies', 'lippestad', 'godsends', 'deltans', 'singapare', 'dutere', 'osiraq', 'aesha', '53c', 'khanasser', 'chaulet', 'misgendered', '80million', 'hamgate', 'mainsteam', 'influenceover', 'queu', 'simpokolwe', 'socument', 'adnani', 'manikas', 'pevs', '26yo', '6ºc', 'mosquee', 'cenbank', '10mg', 'motshegetsi', 'bengazi', 'januzaj', 'iillegal', 'levlovitch', 'bilbies', 'rentention', '12ft', 'dubz', 'jtf2', '479m', 'roszkh', 'paliament', 'sherek', 'mekky', '200211', 'sketchwriter', 'vaticinate', 'courtain', 'astypalaia', 'iceskater', 'daech', 'wydarzenia', 'thehill', 'apolgies', 'pallywood', 'souvereign', 'farghadani', 'ultra_orthodox', '114f', 'dollarydoos', 'saudization', 'tennage', 'technoviking', 'bitrus', 'misreprsented', 'prayforturkey', 'okwu', '78b', 'imposibile', 'weatherwoman', 'يوم', 'ogwuche', 'thebloodyobvious', 'ukrainemagzi', 'abaaou', 'baytex', 'partiots', 'starmus', '1millionshirts', 'sawaris', 'upskirt', 'dolum', '440m', 'bumbo', 'extractives', 'multimission', 'theresea', 'switzerlandâ', 'eits', 'sententenced', 'bombscare', 'byformer', 'harrasses', 'openonlinetv', 'auracaria', 'elmagrahi', 'stoppid', '165f', 'chinafile', 'ivuna', '何謂標靶治療', 'gamechanging', 'bilardi', 'no10', 'alarmingâ', 'ambiguties', 'tomonews', 'mobese', 'destinada', 'khass', 'lisée', 'mahdzir', 'reddits', 'ghanaeim', 'iselle', 'awá', 'deshchytsa', 'cremieux', 'yearinspace', 'hezbolah', 'argeement', 'lgbtiq', 'südhof', '1030032788', 'assisination', 'rawud', 'corruzione', 'الخطابي', 'yaneth', '73c', 'benficiary', 'decoutere', 'gazdiev', 'statelor', 'odler', 'hayfever', 'aizanoi', 'seperation', 'unveis', 'tagive', 'kalishnikovs', 'witnneses', 'ukrainestream', 'riodoce', 'hknd', 'yueting', 'pseudohermaphrodism', 'zhongye', 'boggabri', 'yewtree', '463g', 'dikwa', '500ha', 'bolívares', 'vejonis', 'anandvivek', 'fishboats', 'quraytayn', 'vollyball', 'maryamshafipour', 'aitboulahcen', 'ontarian', '4u9525', 'aimen', 'phalodi', 'saudileaks', 'gbugbe', 'eesential', 'fedutinov', 'yrian', 'hotrodov', 'ressurrects', 'sarmientosaurus', 'rydges', 'konyndyk', '161f', 'feringa', 'theborneopost', 'lianxing', 'poshness', 'zite', 'klikt', 'ladkani', 'marbun', 'hispanicallyspeakingnews', 'nargó', 'chelybinsk', 'cric', '82ft', 'rentiers', 'perevalnuy', 'railwaystation', 'bpv', 'setya', 'dinomummy', 'backboned', 'daqneesh', 'retweeting', '160602', 'cc0', 'gameover', 'frauded', 'schweinegrippe', 'tafta', 'cerén', 'attackthe', 'ostrobothnian', 'pirincci', 'makayla', 'румынии', '120mph', 'jungala', 'groning', 'fuaa', 'igis', 'mujwa', '645bn', 'totobiegosode', '奇摩部落格', 'sattareh', 'deceipt', 'cigno', 'chadiza', 'ivshina', 'drunkeness', 'wmps', 'periled', 'feminazi', 'zafrani', 'sum1', 'dzhennet', 'microblogger', 'amunwa', 'sultrier', '10gbps', 'kanachak', 'girkin', 'panamaleaks', 'palestintian', 'outernet', 'cvsonlinepharmacy', 'stabmag', 'peacefull', 'deepmind', 'busztin', '18feb16', 'schmeat', '220bn', 'legê', 'ruifeng', 'euroes', '617bn', 'intole', 'pentaquarks', '126km', 'lifeboatman', 'macain', 'le100', 'tinte', 'baharastan', 'areâ', 'paradew', 'americastan', 'sadogashima', 'needin', 'feedly', '603km', 'khobza', 'continus', 'mídia', 'panamenian', 'liquifies', 'saadé', 'daillon', 'iok', 'tradimento', 'halawas', 'ixv', 'republiс', 'muerdered', '29mm', 'neoshield', 'dailythe', 'bouti', 'nuli', 'quijos', 'rooftopping', 'renetly', 'rescucitate', 'singaraja', 'pachis', 'superfish', 'khadaffi', 'parenogenic', 'masipa', 'cochno', 'orkopoulos', 'ndlf', 'shinnihon', 'erdoganistan', 'miscavage', 'cybercaliphate', 'ansarullah', 'metereologist', 'clexit', 'rascist', 'tešanović', 'yousafza', 'legida', 'qusair', 'djalaldinov', 'ferienhäuser', 'ganapini', 'kamalvandi', '490mln', 'clockwinder', 'consientious', 'nabizada', 'bloodhead', 'cardowan', 'gwer', 'sarabjeet', 'streetchildren', 'yousseri', 'mellet', 'jaser', 'roits', 'thelibertarianrepublic', '170b', '180ft', 'facebbok', 'crrc', 'bermas', 'mandtory', 'pakisthan', 'thainess', 'korkie', 'mandoza', 'pazsitka', 'mishrawi', '7yrs', 'clahses', 'peforms', '44b', 'shenzou', 'tiyeeglow', 'gallerykeanu', 'atttack', 'astrophe', 'laucha', 'disolved', 'cybernat', 'государство', 'critcs', 'nsfanyone', 'fatbergs', 'diretta', 'strewth', 'mugaba', '2304gmt', 'lixiu', 'kushim', 'lihop', '000ha', 'exiztens', 'mac10', 'baxalta', 'padhao', 'wiels', 'neonazism', 'hopelash', 'indignado', '18ft', 'expading', 'mashshaks', 'amimour', 'factxers', 'idestam', '160billion', 'vainakhs', 'claimspakistan', 'suluhisho', 'dicatator', 'sessini', 'saimir', 'unembedded', 'aliaskhab', 'mediclinic', 'aquittal', 'minorly', 'bioclimatique', 'abudllah', 'direttamente', 'maritius', 'albakr', 'djida', 'benahssine', 'paralized', 'benmeir', 'koofi', 'ncirlik', 'discrediable', 'oarswoman', '4kg', 'menshn', 'darrouzet', 'clingfilm', 'просматривать', 'sihle', 'elefantiasi', 'tempatures', 'infectuous', '155mph', '1466a', 'zumar', 'basejumper', 'chumar', 'completer', '17kg', '50mn', 'lieved', 'piggin', 'kl554', 'piggins', 'karenyi', 'hkctu', '10nm', 'twitterment', 'dearism', 'doodgeschoten', 'indiciate', '52966', 'wunded', '750km', 'moonfruit', 'editorialization', '383m', 'ustra', 'brahi', 'mcitp', 'maidansnipers', 'lgbtqqi', 'coacalco', 'attacekd', 'haddron', 'karadaghi', 'roshen', 'southkorean', 'gangajal', 'daggernose', 'sekaanvand', '400gb', 'letsikhsplay', 'shujauddin', 'fvey', 'perinçek', 'rotsa', 'atede', 'abujhmaad', 'page39', 'gangam', 'ríordáin', 'spewage', 'redittors', 'beezero', 'σκορ', 'sushilkumar', 'belföld', '540b', 'limeys', 'narconovellas', 'medialab', 'aush0k', 'thermoelectic', 'fucktards', 'gamechanger', '588m', 'picturesi', 'edenlandia', 'hambo', 'asthai', 'belonge', 'pouyanne', '55bn', 'agentina', 'capiznon', 'biancofiore', 'overbold', 'paeces', 'apertheid', 'wwfs', '245bn', 'unfreakingbelieveable', 'creatinina', 'zubeidat', 'telsa', 'megastorm', '41yo', 'jorgo', 'tacair', 'econonomic', 'unsuspicious', 'resulotion', 'independenta', 'rousseffs', 'frackdown', 'stenin', 'tagazyou', 'scientis', 'bilambil', 'oketz', 'ddosing', 'megadonor', 'crucifies', 'kreed', 'agcom', 'pershmaga', 'sentre', 'adthemovie', 'neglicence', '5oom', 'fwiw', 'protectionof', 'palestinianism', 'radiolocation', 'arabai', 'brockovitch', 'tianijn', 'kyis', 'jesusita', 'xiuzhu', 'meaninig', 'silkroad', 'marquitos', 'boukadous', 'alergia', 'maiha', 'stintz', 'познер', 'zaev', 'agres', 'jarabulus', '225mph', 'paradinha', 'allievating', 'gopump', 'jazouli', 'dyball', 'vazques', 'yesid', 'leakspin', 'etmanov', 'sovietize', 'gultari', 'clarifiying', 'volograd', '170bn', 'cannataci', 'plaf', 'orif', 'boresome', 'fashist', 'underwhelm', 'aquaflow', 'madau', '300mw', 'adlene', 'tatouine', 'dresscodepm', 'frases', 'sevastapol', 'toiba', '56bn', 'riace', 'harrased', 'khodorkovskiy', 'aldhouse', 'boomeranging', 'cyrennius', 'henreitte', 'nagpu', 'may12', 'saño', 'bluehost', 'suwannathat', 'euthenasia', 'debka', '10bln', 'sproposed', 'fuhrerbunker', 'ahmadinedschad', 'russiarussian', 'kenkhi', 'plamegate', 'hasenstab', 'dcfta', 'sanban', 'leathercases', '1gw', 'kweires', 'nerandzic', 'yök', 'marapi', 'nafeez', 'rashmee', 'oldi', 'efrîn', 'informationalised', 'corncerns', 'muzzafarnager', 'caldonia', 'whataboutism', 'teached', '39m', 'dolarů', 'сотрудничестве', '7bn', 'tareena', 'tillyaeva', 'commentor', 'hamidiyah', 'overmining', 'nsdc', 'diventa', 'zzzzzzzzzzzzzzzzz', 'thosands', 'asaram', 'rehaul', 'demostrations', 'sharia4belgium', 'aizaz', 'superpoer', 'afgha', 'medexp', '2945021', 'capro', 'citibanamex', 'unspinning', 'lecretia', 'demoralises', 'dalligate', 'försvarsmakten', 'gq8wpi1c', 'frappers', 'sentanced', 'photoshopping', '10ft', 'jazi', 'uyan', 'caglepost', 'dhuhulow', '760m', 'occupywallstreet', '42000', 'diplocat', 'kokurin', '46c', 'alepo', 'grassers', 'minamasoma', 'hakapik', 'zahorudin', 'foddering', 'immiserating', 'emino', 'abdle', 'amitrole', 'escrache', 'naqar', 'laudato', 'پیکر', 'aukhadov', 'labate', 'nkonyana', 'zimbabwee', 'bananapocalypse', 'democracry', 'sarısülük', 'lazarat', 'yojna', 'shahrnush', 'agasint', 'savushkina', 'megaleak', 'narvinskii', 'siddaramaiah', 'valdalized', 'kalasjnikovs', 'cauterise', 'abdujalilova', 'shengjing', 'brexecution', '143_1368115874', 'ukraian', 'myntra', 'lilesa', 'no2id', 'ezidis', 'responce', 'agst', 'htxt', 'esasperati', 'quotidiano', 'decommunism', 'right2water', '11bh', 'artwash', 'rimsa', 'chachong', 'ionisers', 'mayka', '80year', 'qahraman', '33mln', 'jetmen', 'stocknews', 'thylmann', 'zuist', 'beleagued', 'islamophobe', 'prescence', 'qawalish', 'demiliterized', 'archaeo', 'arsed', 'syrianembassy', 'shirqat', 'ckgr', 'protestting', 'starshot', 'syriatel', 'nabk', '225million', 'fift', 'nzai', 'retailmenot', 'laudisio', 'loubani', 'guántanamo', 'százzal', 'pasific', 'madzore', 'abdulnabi', 'quantitaive', 'ardin', 'voulenteer', 'pakitan', 'arround', 'edabi', 'járóka', 'jcpoa', 'fariq', 'raabi', 'blahyi', 'militarises', 'asiacrunch', 'ac130', 'ad123', 'teacakes', 'fotozhalyuzi', 'setad', 'synutra', 'cigarellos', 'schützt', 'r3loaded', 'a447', 'malayasian', 'tasecam', '300bc', '5mi', 'moronically', 'shepar', '247b', '3000ft', 'verhovna', 'petroshenko', 'gorbatchev', 'zainub', 'knoked', 'geraru', 'zuckberg', 'spettacolo', 'hulene', '4months', 'bombacilar', 'tacticalthinktank', '2gbps', 'ofgangnam', 'animasi', 'firts', '333244', 'goletta', 'environmentisrael', 'rehoming', 'sarkophobia', 'indigenized', 'auteurism', '1024832027', 'nunatsiaqonline', 'lcoc1', 'qatir', 'mediaglobal', 'cyclosporiasis', 'ensaf', 'cyberberkut', 'critch', 'tiananment', 'kostiantynivka', 'scarjo', 'indoleaks', 'fossilfinder', 'medeast', 'mafiha', 'funnyjunk', '25pm', 'backlink', 'bbctrending', '163b', 'pppmm', 'netmsov', 'prunge', 'troikla', 'ignobel', '300mn', 'revoltin', 'compounder', 'thoose', 'cacp', 'remploy', 'aumentano', 'shirtfronting', 'politicaly', 'fintrac', 'aquiring', 'reclassifies', 'qccm', 'luxist', 'surion', '000kph', 'réincarnation', 'decarbonise', 'demoni', 'guambiano', 'voiceprints', 'chávism', 'japanan', 'maodong', 'hidemyass', '042', 'firest', 'droe', 'malysia', 'wmfd', 'credibledefense', 'succesor', 'pernar', 'twats', 'fy2015', 'blogfather', 'kayapó', 'bushspeak', 'yagour', '12entry', 'lieco', 'netanyah', '48bn', 'prizein', 'chirri', 'vetpaw', 'prexisiting', 'schastie', 'tugan', 'mandageria', 'burqini', 'fixedlink', 'kamikake', 'krashkova', 'newzity', 'foodini', 'lsraeli', 'economonitor', '3journaliats', 'usk9', 'twiplomacy', 'kotagede', 'dinslaken', 'presidentzeman', 'aruz', 'alarabiya', '2pc', 'alllivvve', 'jizrawi', 'dwekh', 'fuckn', 'nict', 'pyschoanalysing', 'nocommenttv', 'smeille', 'youi', 'calpol', '8mn', 'kenyas', 'whisteblower', 'pantywaist', '01pm', 'modernises', 'almodozo', '724m', '3dvolution', 'pansiri', 'wikileakable', 'hemoroizi', 'nabaz', 'larung', 'pythoners', 'councilin', 'foodpanda', 'janatantra', '46bn', 'plotnitsky', 'folllowing', 'f313', '80kph', 'hakeemullah', 'drasius', 'samarco', 'h1z1', 'grauniad', 'pol4fon2u', 'seisomology', 'luvvie', 'heracleion', 'quaddaffi', 'sunnies', 'ucgembgqe9jthjll', 'mikke', 'dusell', 'anshas', 'temirgaliev', '40am', 'relitigating', '38bn', 'unfall', '123f', '2trillion', 'mangalyaan', 'occupywallst', 'trbic', 'altneuland', 'szydlo', '98ft', 'hatian', 'bambas', '575m', 'rassouli', 'gosou', '76bn', 'dendias', 'belmoktar', 'mapathon', 'bsafe', 'france24', 'tradutor', 'saveourboys', '300lb', 'inteligence', 'valizadeh', 'falicious', 'bingtuan', 'imaam', 'dnaindia', 'cyberdefenders', 'marketisation', 'rouahani', 'sabloff', '390k', 'maides', 'livinenko', 'depremi', 'opininons', 'caterpiller', 'meleon', 'shauketaly', 'daleste', 'septugenarian', 'ssdd', 'erdeven', 'ivanca', 'ukrai', 'salaita', 'belapan', 'intermitent', 'morek', 'östmark', 'fbruptly', 'bargam', 'talula', 'biomethane', '50pc', '9trn', 'wopr', 'dispurse', 'alkhatib', 'ndilowe', 'wordnews', 'uduc', 'rashul', 'mnn', '125km', 'beligum', 'faizah', 'hanlong', 'immolators', 'tranqs', 'connewitz', 'guiyan', 'heigthening', 'nihonium', 'axin', 'tо', 'ansd', '05bn', '95m', 'zambellas', 'michocan', 'anarchia', 'spamking007', 'stltoday', 'manliest', 'spiagge', 'ciggy', 'jemilev', 'josmel', 'panteleymonovka', 'declassifed', 'neuromorphic', 'bocop', '680th', 'kolofata', 'confired', 'upvoting', 'thickos', 'abdrabbuh', 'teabagging', 'truncheoned', 'critial', 'dailycaller', 'langstrasse', 'tomichi', 'gopstein', 'coppit', 'ibtihaj', 'scorecenter', 'warshel', 'calpihate', '42mn', 'erdoä', 'mannagh', 'chiros', 'carmat', 'satpathi', 'uwr', 'par30', 'shallotte', 'lilmit', 'gambat', 'bashaer', 'kamph', 'tép', 'mazang', 'aqoba', 'autodocs', 'adira', 'jacc', 'wewillburnusagain', 'jiram', 'worldmapper', 'sholan', 'pravdivaya', 'tancsics', 'cianciulli', 'qataa', 'vintana', 'haggadahs', 'dehorn', 'abdullojonov', 'ms804', 'hotinfos', 'kolombia', 'kukushima', '8billion', 'kafarsouseh', 'blockes', 'censoship', 'freedomhosting', 'süreçte', 'optogenetics', 'protracting', 'twitts', 'mopo', 'aasia', 'i24news', 'marijn', '10mins', 'japanene', 'mh17', 'kebschull', '164k', 'homosexuales', '07bn', 'neighboouring', 'verrrrrrry', '08dec09', 'parilaiment', 'palstinians', '681m', 'nazileak', 'scatsat', 'moneyweb', 'alltop', 'cracksdown', 'magufuli', 'charkow', '1½', '700bn', 'controll', 'hisself', 'vokalis', 'nucking', 'neowin', 'giornalisti', 'kenes', 'repsonse', 'dhaffane', 'seedaneed', 'bastnaesite', 'mbede', 'sudent', 'sarvari', 'purdjianto', 'tangjiahe', 'internaltional', 'katidis', 'cyberbattle', 'alrc', 'ttipleaks', 'videoes', 'ombatse', '83tn', 'yousafzia', '310mph', 'delcy', 'taumalipas', 'bumfluffery', 'amniyr', 'sassenach', 'retweet', 'pmâ', 'vaders', '640m', 'photoop', 'eurovegas', 'lauft', 'goozup', 'protip', 'rscud', 'ndrova', 'intigam', 'aldutery', '165m', 'plašov', 'сrisis', 'gallardón', 'rouseff', 'speichern', 'djihadis', 'tabaqa', 'scientits', 'estadão', 'befittingly', 'qadea', 'iraeli', 'zootopia', 'changyuraptor', 'breadpig', 'rastani', 'sharawna', 'délestage', 'catrastrophe', 'chinaslams', 'mettacara', 'pflanz', 'bremain', 'abaaoud', 'treemail', 'mokugift', '440mm', 'jihading', '62m', 'klaipedos', 'carapelli', 'scoltland', 'игры', 'care2', 'boonngamanong', 'taraflar', '000ft', 'legistlation', 'caitlan', 'ameristralia', 'vehcile', 'househunters', 'stathakis', 'ibuyeco', '001a', 'thecelebritycafe', 'ulimate', 'tiltrotors', 'reapproved', 'grandpass', 'prepex', 'livestreaming', 'abaixo', 'superwheat', 'noushin', '226bn', 'shershah', 'estulin', 'anonymous_korea', 'аиком', 'legalnews', 'misclassifying', 'notamartyr', 'newsflavor', 'rodotà', 'transabled', 'ahmadenijad', 'baldawi', 'changenhope', 'sasnal', 'mengeles', 'imsu', 'gaffafi', 'speach', 'deadby', 'courtcase', 'kuzya', '610m', 'solyndras', 'rendre', 'motocorp', 'superpac', 'bitstamp', 'waorani', 'vaos', 'ezineall', 'lesbo', 'p183', 'présidente', 'angelína', 'oregonlive', 'newssite', 'khansaa', 'poshpora', 'dadin', 'schendler', 'expropriates', 'kairana', 'kurchenko', 'ahok', 'ubaque', 'litecoin', '93bn', 'baykonur', 'muslima', 'teamp0ison', '105km', 'lefebvrists', 'genocid', 'cappucinos', '560kg', 'seyagerd', 'poás', 'fisuri', 'mediterranan', 'sahinkaya', 'académy', 'yalnizyan', 'spocking', 'ixzz3grzhpyol', 'canonises', '111k', 'accom', 'quaeda', 'times247', 'papau', 'verdit', 'disqualifiable', 'bretigny', '260000', 'ratba', 'allāhu', 'aceng', 'circlejerk', 'malayisan', 'votemagzi', 'hounshell', 'penyatuan', 'loeak', 'peans', 'chapito', 'vrx', 'bandminton', 'mackinley', 'самый', 'mashark', 'qandeel', 'gambaran', 'cvx', 'impends', 'hiroshimas', 'healingsgreen', 'conter', 'darurat', 'roslovtsev', 'bregret', 'craplore', 'anjad', 'weztv', 'blockupied', 'defrauders', 'corruptable', 'kohlhepp', 'nakhonay', 'reprogrammable', 'roşia', '834m', 'neandertals', 'musaffah', 'doibi', '38k', 'mccreevey', 'stanstea', '700km', 'ukpabio', 'oceanscraper', 'maldova', 'oopsie', '53bn', 'ua76', 'vatileaks', 'borotba', 'elfdalian', 'dickwad', 'tuviah', 'marzie', 'aussieland', '55million', 'pauktaw', 'rembulan', '94000', '5079', 'mirrorman', 'inqest', 'shvayka', 'paruby', 'tgcom', 'deportatios', 'ghash', 'greececoin', 'obeidu', 'ligonnes', 'czecs', 'manful', 'trumb', '600bn', '33bn', 'arggg', '000th', 'herewila', 'heshmatiyeh', 'brigety', 'saifallah', 'balotu', 'conservationst', 'shesho', 'biedron', 'baylet', '15lbs', 'molhem', 'mysteryman', '3trn', 'retun', 'quakebook', 'jihaddy', 'inumana', 'wowowow', 'ndemo', 'decriminalises', 'khurvaleti', 'oij', 'postpond', 'monotown', 'fundraises', 'hissa', 'jodran', 'pinkstats', '67mn', 'keetharuth', 'haretz', 'shabeeha', 'smogs', 'rodchenkov', 'untrod', 'rebundled', 'emporer', 'accts', 'munduruku', 'the12', 'kknpp', 'f15js', 'icro', 'overthecounter', 'goonery', 'zarring', 'markoullis', 'yanukovychleaks', 'dailypost', 'opsss', 'yılan', 'disqus', 'jaszczur', 'froce', 'pbq', 'maohar', '78k', 'traffico', '78bn', 'suino', 'techgeist', 'kefiyyeh', 'intalled', 'palileaks', 'barkindji', 'saakashili', 'yearold', 'piyalir', 'zuwara', 'poeples', 'eurocops', 'pulmo', 'captura', 'guantanomo', 'shamsalipoor', 'samgyetang', 'opalesque', 'quaddafi', '200mln', '7k9268', 'zweimal', 'dyax', 'foodstalls', 'kuczinsky', 'conformities', 'gwpf', 'kitamaat', 'supporteres', 'pullitzer', '583m', 'himurja', 'manduzio', 'wiretrap', 'slype', 'queensday', 'catmas', 'betkolia', 'notinmyname', 'orobets', 'libdem', 'iwema', 'muthathar', 'alsaskan', 'gradevole', 'mospi', 'heroïn', '940bn', 'mogulus', 'bullhunter', 'fmqs', 'sundie', 'moobeng', 'hpb', 'lbma', 'repurposes', 'internat', 'kashimiris', 'gothamist', 'szaniszlo', 'worldrussia', 'israeliness', 'puport', 'trackbuzzer', 'coulours', 'microsiverts', 'occuption', 'nevelsk', 'новости', '23bn', 'employe', 'sattelite', 'hifsa', 'chedet', 'unscear', 'cantlie', 'deapsea', 'unfrocking', 'moonbat', 'reinstitutes', 'skkmigas', 'marrian', 'afghnstan', 'swino', 'laundrettes', '085', 'miyatojima', 'mobilizeforvenezuela', '200yo', '127k', 'loverboys', 'caeaser', 'nernett', 'telegenically', '3billion', 'megafund', '37bn', 'dakhalia', 'streetview', 'zuluf', 'machhli', 'abdishakur', 'curiosas', 'parisisian', 'maimane', '235mph', 'kincses', 'lendman', '160mn', 'riot_porn', 'tkh123186', 'ebossé', 'biofluorescent', '40gw', 'adventuresses', '47bn', 'talibanized', '600million', 'faxaflói', 'meatspin', 'ssak', 'minumun', '印象', 'vandersmissen', 'itawon', '13ft', 'skyling', '50l', 'elibrahmi', 'starbung', 'hetoro', 'dustar', 'kanlho', '30mln', '309bn', '160b', 'jamstec', 'mukerjea', 'infectee', 'kondapur', 'moneyfromthemonster', '33yrs', 'newlink', 'hydrofracking', 'iyya', 'crims', 'anala', 'nordbalt', 'lampris', 'jackpine', 'rafizi', 'mosquebuster', 'us102', 'ryzhova', 'chahwan', 'capsula', 'and12', 'halaqi', 'profileforpeace', 'freeemason', '680news', 'underprotected', 'éminence', '750kw', 'verrrrrry', 'bekham', 'kaiheng', 'elbashayer', 'qaladize', 'omfg', 'oxidado', 'nzherald', 'madiya', 'epicsauce', 'transiberian', 'traped', 'adoboli', '100mln', 'resistace', 'nazma', 'wazirstan', 'fancover', 'alkhalifa', 'whoonga', 'chveron', 'nottheonion', 'poxvirus', 'kucinichm', 'hovik', 'netmundial', 'liwonde', 'lizardsquad', 'deads', 'erupti', 'sambok', 'shabaabтау', 'degender', 'hippys', 'valdet', 'crusoes', 'seviceman', 'ł46', 'ultrastrange', 'ranian', 'mawarire', 'dumbasses', 'ossetias', 'm3qd4d', '8212', 'exican', 'støjberg', '10x10x10', 'coeure', 'stormoen', 'nshimirimana', 'brithish', 'aurizona', 'proests', '45bn', 'fishcakes', 'munkedal', '548m', 'qaidas', 'sneeked', '124miles', 'anarctic', 'fanwear', 'unitedkingdom', 'emassy', 'investogation', 'colau', 'canamerica', 'apprent', 'homewrecking', 'defese', 'pikangikum', 'demonoid', 'guvernul', '230pm', '916lb', 'beagle2', 'khawahir', 'gaddaffi', 'lakotah', '564m', 'the8th', 'resetti', 'oz162', 'mengembalikan', 'ricetta', 'rurual', 'minkebe', '70mph', 'egpytian', 'hmaimim', 'bronzefield', 'boobed', '058', 'gadamis', '7211', 'immigant', '1991islam', 'mújica', '4pcdst', 'petawatt', '230bn', 'gorei', '9216', '28am', 'yağı', 'priase', 'khattalah', 'blatters', 'cirb', 'tasser', 'mistruths', 'bozdag', 'messenging', 'belfat', 'abordagem', 'perfumiers', 'hazelmary', 'top10criminals', 'bestämma', 'nimatullahi', 'ndzimande', 'mcfeatters', 'libratone', 'webstreams', 'العفاسی', 'zheshang', 'dril', 'verzeichnis', 'paltzer', 'wuhayshi', 'calvar', 'różański', 'shiniuzhai', 'oerlemans', 'dhiba', 'axalp', 'iskader', 'iaunch', 'maarat', 'cyberbully', 'peadophilia', 'skypower', 'imfolozi', 'prirotities', 'mondoweiss', 'monocrops', 'idmc', 'soulsthe', 'baccouche', 'trafficks', '33k', 'cubasi', 'lankaenews', 'sadovnichy', 'webhost', 'gorakhdham', 'malesina', 'thoughtcrime', 'âť', 'pulka', 'healthmap', 'pedofile', 'immigraton', 'suweys', 'supertrains', 'swissleaks', 'sh400m', 'copywrong', 'ciobo', 'tckets', 'mormech', 'alexievich', 'wounder', 'qoboshiyane', 'majlise', '142m', 'bhaarath', 'nothen', '300gb', '8221', 'eqnz', 'dambisa', 'acampadas', 'secually', 'catilinarians', 'rs100', 'chirkei', 'disaste', 'escalat', 'slezic', 'fusby', 'redcrossqc', '3k2', 'downstreamtoday', 'aukatsang', 'monsato', '372pg', 'journalese', 'palkot', 'kabulov', 'ehrenhauser', 'flight370', 'legeno', 'satao', 'davutoğlu', 'duggars', 'drugwar', 'çoban', 'innumerate', 'omarack', 'прямые', 'savethearctic', 'andressa', 'essibsi', 'kulter', 'sh102', 'tolonnikova', 'astroturfers', 'thingmaker', 'friedersdorf', 'mcchrystel', 'pasengers', 'cremisan', 'استاد', '1600bc', 'übers', 'shiniwatra', 'spotxchange', 'maiami', 'grifting', 'pwned', 'trossel', 'nhamadjo', 'dbka', '6abc', 'counterblow', 'yayladağı', 'opposistion', 'chrges', 'bremme', 'sediton', '140billion', 'pmis', 'njoy', 'videoing', '15pm', 'koszowski', 'gsat', '00018', 'billioniare', 'psfk', 'pastörs', 'brennero', 'truthing', 'staythorpe', 'cyberpoaching', 'japón', 'topkill', 'kbg', 'bargah', 'notificación', 'majoritarianism', 'mudered', 'minazo', 'abdolrasoul', 'snaffling', 'nashuatelegraph', 'toufan', 'hyperconsumerism', 'flagger', 'eticket', 'nandos', 'spikejapan', 'astrazenca', 'overcritical', 'facekini', 'cutls', 'brusselsattack', 'smoggier', 'informationclearinghouse', 'lokon', 'mccardel', 'defeatable', 'propagandastan', 'maragaret', 'minwa', '5tn', 'rehtaeh', '120k', 'muskyoka', 'wapak', 'outflanks', 'sges', 'gojek', 'dirmonster', 'zanghariya', 'ms13', 'axact', 'ciphered', 'hidy', 'oxia', 'kashua', 'awesomesauce', 'congressists', 'featuresisrael', 'reblogged', 'lhassa', 'solvenia', 'boulahcen', 'fleshiness', 'renhō', 'brezany', 'aidpod', 'mercusor', 'ropyal', 'ghettoising', '150000', 'euromaidaners', 'decanadianized', 'ticketnews', '11wb', 'cesg', 'reliminary', 'pervari', 'herekol', '8750', 'brebesh', 'groundbreɑking', 'obamaville', 'menbeij', 'internationalpolitics', 'kaltukatjara', 'catasrophe', 'militarise', 'be384', 'panamapapers', 'prachatai', 'ek521', 'shabaani', '490m', 'mcrefugee', 'taqiya', 'memberhistory', 'conditia', 'milvio', 'isurprise', 'deconfliction', 'hvalfjordur', 'fivers', 'terracota', 'jsil', 'emoya', 'comparisson', 'médicins', 'zaaneen', 'infocomp', 'gracas', 'abzal', 'domscheit', 'tianhui', '5billion', 'kachchativu', 'prepatrator', 'nemtzov', 'threates', '10mn', 'davydoff', 'dreadnoughtus', 'ostana', 'christianist', 'qusra', 'belfasttelegraph', 'amitjo', 'numerate', '290lbs', 'lkca', 'marshallsea', 'mdec', 'cabellos', 'wsrw', 'milonov', 'wingardium', 'indispensabile', 'kalachnikov', 'ilovaisk', 'kosaner', '400kw', 'erzählt', 'kweiris', 'nidar', 'alatarb', '48hrs', 'bellonzo', 'ganye', 'sukumuran', 'dierbaar', 'gameoverzues', 'distrcits', '10yr', 'newfie', 'westpapua', 'amatrice', 'yachad', 'glenton', 'traincrash', '20pc', 'nsouth', 'sıralamasında', 'demonstation', '4tn', 'haia', 'nternational', '12mph', '_english_xinhua', 'makenga', 'namechange', '65million', 'separeted', '960k', 'tobaccie', 'nalcor', 'staute', 'linfox', 'aflockalypse', 'nightsnake', 'yamas', 'dampe', 'bagdarin', 'tyzhden', '79kg', 'wapo', 'taisiya', 'iklan', '90ms', 'misunderstanders', 'privacies', 'pollutors', 'kawary', 'citicoin', 'сomet', 'estranhas', 'abna', 'racical', 'leonne', 'underspending', 'podatku', 'bisaria', 'shoping', 'gigaton', 'dnjepropetrovsk', 'maltesers', '300kph', 'netlfix', 'tellviceverything', 'professionelle', 'advsior', 'bassemyoussef', 'aramaics', 'sinterklaasfeest', 'unviability', 'outfiting', 'kopimism', 'fangadar', 'ifft', '460m', 'ct200h', 'gvmt', 'mirarr', 'mierda', 'ypj', 'cidrap', 'p30b', '020560', 'júarez', 'majialou', 'страницы', 'alhamdulillah', 'negli', 'yahoo7', 'hamatos', 'ransomware', 'huonder', 'durissimi', 'zaqazeeq', '40mw', 'factchecking', '13224', 'infograph', 'sinnfein', '000yo', 'ተክሌ', 'deadlest', 'mevoli', 'einde', 'fayhan', '253bn', 'afrileaks', 'resitrict', 'diyat', 'stournaras', 'supersharp', 'kazantip', 'itinerante', 'tremsa', 'yutim', 'roania', 'wikilicious', 'yenikapı', '39yo', '23yrs', 'perklev', 'ravanchi', 'sardheri', 'sirdavidia', 'wildpoldsried', 'webdev', 'tsimané', 'pakístan', 'pavlof', 'divisons', 'hyvinkaa', 'groud', 'cntv', 'jaiku', 'gulzad', 'kirawa', 'obamův', 'recenzie', 'af83', 'scrawlings', '6000ft', 'soocer', 'collomp', 'ugandas', 'guestworkers', 'alighapoo', '800km', 'arzate', '50yrs', '150usd', 'pnoy', 'posterboy', 'tea_party', 'khameneiˈs', '840m', 'ilps', 'mantracker', 'beginnging', 'rostec', 'megalomanic', 'amdamans', 'sprichwörter', '线场', 'cnns', 'bankrobber', 'hotele', 'kuleba', 'econmin', 'bhurtel', 'woii', 'amexica', 'phayul', 'laachraoui', 'grassfires', 'makarevich', 'flyht', 'viber', '920m', 'kılıçdaroğlu', 'excution', '786mn', 'ennahar', 'shaludi', 'hotfile', 'ropotamo', 'abrahamyan', 'samayl', 'pungeşti', 'mininova', 'qaboun', 'safaniyah', 'haparan', 'mouaz', 'crucians', 'aynaw', 'indiancountrytodaymedianetwork', 'cursos', 'uncommented', 'archicebus', '4gw', 'αίτια', 'acarous', 'dirndls', 'breathalyse', 'россияне', 'douentza', 'uskowi', 'secys', 'bueraucrats', 'hussainan', 'devolpments', 'kyrgyzgaz', 'kacnd', '425b', 'ultramarathoner', 'nonـpayment', 'newtowns', 'shootingof', 'itemises', 'daggering', 'predmore', 'lungau', 'norewegian', 'recommences', 'scien', 'garranah', 'cerememony', 'airwars', '7ºc', 'wgtn', 'cereso', 'mirziyoyev', 'jilboobs', 'maidugri', 'austrailia', '34p', 'techcamp', 'douchebag', '8216', 'moneual', '700kgs', 'preme', 'webcameron', 'suburd', 'jeil', 'obeidy', 'jakucha', 'lauching', 'mounib', 'fukuskima', '6204', 'concessionaries', 'tweetcrime', 'hidekichi', 'meenakam', 'warduj', 'downmodded', 'lakkis', 'theusa', '5mw', 'libertie', 'deiz', 'pedestrianise', 'pizkuny', 'suavito', 'formamos', 'quieras', 'shewired', 'statement_english_xinhua', 'θανάτου', 'corolado', 'experiements', 'knoxy', 'trololol', 'eligon', 'massmurderer', 'muhamamd', 'kudahuvadhoo', 'z40', 'wrcbtv', 'lobbysts', 'luwam', 'yuntaishan', 'invastion', '280ft', '100bln', 'toursts', '85ft', 'yans', 'obarack', 'warriena', 'manfalut', '650k', 'wreathing', 'sarmin', 'swelteringly', '26ft', 'ipsnews', '083', '20kg', 'xangpo', 'basnayake', 'kasidiaris', 'uzbekistans', 'nobakht', 'aayat', 'consortiumnews', 'pikot', 'badreddine', 'metabiota', 'grestes', 'iipu', 'shukee', 'dehlin', 'twitterised', 'donestk', 'penly', '200mph', 'failtweet', 'doroea', 'matazan', 'joudah', 'vaticangate', 'kroatien', 'qardawai', 'bonadío', 'bersek', 'arcep', 'brainport', 'exlusive', 'colectiv', 'sendong', 'lisitsa', 'miresii', 'pricew', 'dual_ec_prng', 'movie2k', 'gardagate', 'shaffir', 'mutuelle', 'ccarried', 'natco', '30am', 'worryingâ', 'guekedou', 'dailyxtra', 'kindoki', 'minamisanriku', 'nanophotonica', 'chechya', 'techweekeurope', 'balkiz', 'abbasiya', 'mcdermotts', 'bedas', 'glamorising', 'strikean', 'hymens', 'disillusionized', 'garibashvili', 'rimborsati', 'abyssmal', 'myamar', 'keishu', 'blunderer', 'piggate', 'assasin', '200mb', '57m', 'christans', 'thepiratebay', 'sarikamis', 'sasuphan', 'foreshew', 'sensibles', '3484', 'fallschirmsprung', 'errachidi', 'terorrist', 'hayehudi', 'lurkmore', 'geoglyph', 'norwaysupportsterror', 'nabawi', 'improvides', 'minegolia', 'jiretin', 'hackings', 'balour', 'atmostphere', 'allided', 'wvtm', 'tspiras', 'gbangbola', 'sudanâ', 'afghanastan', 'компьютерная', 'barky', '5792', 'environnment', 'tranquilliser', 'krumovgrad', 'glanded', 'kulpi', 'jebba', 'tzina', 'kiswah', 'palensitans', 'lanslide', 'iranˈs', 'interveningm', 'antisnoop', 'mangolpuri', 'oqtada', 'boyadee', '2724million', 'pamex', '215m', 'bugingo', 'backdooring', 'paupa', 'icardi', 'evacuatation', 'rakwena', 'dmitro', 'knuckledusters', 'lanches', 'sirlo', '230ft', 'kataia', 'nafissatou', 'sowter', 'verschiedenen', '942mw', 'kettled', 'niskoguz', 'bicak', 'romanovskaya', 'virginistic', '242bn', 'immaginazione', 'reveale', 'bhalotia', 'botín', 'tepc', 'sdr98', 'keighran', 'gigapixel', 'eidi', 'tsarnaevymi', 'kharchilava', '1gbit', 'ttelephones', 'dgfi', 'grindardrap', 'graverobbers', 'supercorn', 'huxleyian', 'convolutes', '21yo', 'christchuch', 'dites', 'capturers', 'bakhtier', 'cinese', 'gülenist', 'abdullahgeddon', 'hellqvist', 'eladl', 'n197', 'newzealand', 'afronauts', 'spainsh', 'ninorta', 'masuerading', 'mitznefet', 'meths', '5mbit', 'exceptionalist', 'cyberchiefs', 'aurous', 'eargthquake', 'motoshow', 'anticensorship', 'skywhale', 'péladeau', 'disolves', 'grátis', 'vigilate', 'toddlerâ', 'waterbombing', 'larrainvial', 'fakat', 'syiran', 'survailence', 'charlotteobserver', 'thebeatings', 'tbps', 'مشاری', 'missingmoney', 'guniea', 'anons', 'teletubbie', 'japantimes', 'kitesurfer', 'saveourguys', 'sendt', 'micius', 'richardgoldston', 'polticians', '246m', 'immates', '572m', 'fanduel', 'oersdorf', 'ronery', 'hemorraghe', '360bn', 'vilhalva', 'nusrah', 'achmedinejad', 'lamestream', 'kn0thing', 'edecanes', 'ardillos', 'trondhem', 'pucked', 'judg', 'iebf', 'mium', 'vjosa', 'safyre', '110mph', 'nhieu', 'siccing', 'qaddafis', 'custommers', 'stoof', 'hassainia', 'potrebbe', 'p90d', 'renegs', 'shettima', 'malpe', 'politicide', 'workmonitor', 'cybercops', 'alemanha', 'gerdab', 'owj', 'lynchmob', 'zalkalns', 'afghanisan', 'élysées', 'uhnw', 'markandey', 'elweya', 'kestler', 'mayasia', 'prelios', 'fornaroli', 'convienent', 'molaverdi', 'yorshire', 'preço', 'bérès', '860k', 'bter', 'shopkeep', 'polichacao', 'сhildren', '614bn', 'reincidentes', 'bringbackourhumvee', '3x7', 'unsest', 'futureme', 'ozenen', 'borkan', '000sq', 'mobileye', 'gorbuntsov', 'expences', '54bn', 'naska', 'eyjafjallajökul', 'enthrals', 'soumar', 'nydailynews', 'mirundi', 'obeservers', 'bangledeshi', 'catcalling', 'carobus', 'israli', '120ft', 'opisrael', 'chibuike', '900k', 'experimente', 'mephedron', 'nanjiecun', 'kyenge', 'torvosaurus', 'diabaly', 'ranians', 'hactivists', 'idoitic', 'caminhão', 'plummit', 'bitmeden', 'dabiq', 'uphelds', 'iinsurance', 'kyrzbekistan', 'globalizers', 'caminhoneiros', 'isal', 'rikshaw', 'sivarak', 'southeasterern', 'octopod', 'mayorʼs', 'hackivists', 'badanin', 'mexicoâ', 'ecig', '97mn', 'drohnen', 'cyberbombs', 'aushcwitz', 'albor', 'аrmy', 'crh380a', 'pk12', 'dishfire', 'layyoun', 'savesouthafrica', 'necropants', 'acp1000', 'tihange', 'thepolitical', 'vladimimr', 'stockouts', '333m', 'vixay', 'commpassionately', '550bn', 'tered', 'imilchil', 'becontaminating', 'tabuni', 'teyssen', 'killergames', 'psaking', 'shitless', 'mcacc', 'حزب', 'childrenofsyria', 'hyakuta', 'relligion', 'keffeler', 'tharathin', '260m', 'qayyara', 'susten', 'tibom', 'kashimpur', 'shamalov', 'onami', 'ernai', 'mauerkrankheit', 'elbarade', 'samuragochi', '6mb', 'disaboom', '162bn', 'powermid', 'ceelo', 'tutanota', 'assualts', 'privitere', 'abc13', 'dismaland', 'mediapersons', 'utm_source', 'jimeh', 'amoc', 'wainana', 'froths', 'sutarman', 'thunderballs', 'picachos', 'neledi', 'tjostolv', 'plugx', 'unoffocial', 'dameer', 'joyjatra', 'kuweires', 'backbacker', 'woworuntu', 'skrlj', '268k', 'megadealers', 'sodomises', 'jpo', 'lumbreras', '577ft', 'newsborneopost', 'bothaina', 'kudukhov', 'eruptuing', 'katse', 'anelay', 'fabc', 'psuedo', 'sawo', 'libian', '35bln', 'charlston', 'wateringly', '7kg', 'investigatating', 'annouces', 'kazakhstans', '5882', 'declarates', 'permenant', 'diouncounda', 'thetweetofgod', 'vancouversun', 'epivax', 'mh136', 'geschäft', 'kumbhmela', 'blackshades', 'africareview', 'lunarpages', 'kavoshgar', 'webcache', 'mexixcan', 'morobo', 'kanakir', 'larghest', 'smef', 'pharmo', 'strangulate', 'lifenews', 'bleeken', 'transparancy', 'nacar', 't790m', 'damascan', 'khairiah', 'schekman', 'greenward', 'ieer', 're100', 'subdistric', 'odunfa', 'precident', 'shakhtersk', 'smartwatch', '72yo', 'bombsite', 'spyeye', 'ingushes', 'transandino', 'grenstad', 'liviv', 'qaedat', 'technolytics', 'jichao', 'emnaizel', 'enerpub', '650km', 'duékoué', 'migranti', 'carcasse', 'gracetown', 'hodne', 'canaport', 'nighthtmare', 'aluthgama', 'affitto', 'voldoga', 'yoroku', '110lbs', 'dragonomics', 'zimbabweâ', '14yr', 'jabong', '700000', 'scaraffia', 'microplastic', '544k', 'pléiades', 'poliical', 'kushy', 'smugler', 'tripartisan', 'energises', 'blobfish', 'northjersey', 'saigas', 'tril', 'bioerosion', '223m', 'holdall', 'holocause', '冬遊', '820m', 'unlafwul', '8cr', 'hiznay', '44lb', 'maletagate', '117m', 'mutillation', 'whatwouldmagufulido', 'grets', 'gooda', '895m', 'seiyo', 'quiete', 'zarubezhneftegaz', 'ukidama', 'muzzlewatch', 'the2016', 'waygu', 'mehlib', 'ostrovski', 'fathmath', 'rasquera', 'intellistreets', 'arcehological', 'cyberhacking', 'tunak', 'quazam', 'anullment', 'barranquila', 'rransport', 'abscence', 'nutjob', 'østerport', '153bn', 'confeds', 'johi', 'kypri', 'raadr', 'ukuthwalwa', 'canpaign', 'vlieghe', 'nomophobia', 'gafatar', 'democratorship', 'tenthousand', 'newshub', 'schappelle', 'tahani', 'maules', 'paracuaro', 'samkeliso', 'nymphas', 'radiophysicist', 'foxcoon', 'luhanskgaz', 'sharkbeast', 'burqua', 'dulyadin', 'leaseweb', 'numpty', 'defensenews', 'thetv', 'woj', 'aports', 'jdownloader', 'ketiak', 'sinaola', 'piecemaker', 'mourabitoun', 'videod', 'jinta', '91yo', 'theyworkforyou', 'agewatch', 'uninvents', 'rikspolistyrelsen', 'vizianagram', '578m', 'siberin', 'aiuk', '0316', 'airbed', 'gaypride', 'ntaganzwa', 'barackobama', 'incentivised', 'annualy', 'ocos', 'madaya', 'fucken', '11o', 'confronational', 'ambassaador', 'lynk', 'reriti', '600k', 'instantness', '2138gmt', 'rådberg', 'failrep', 'kyonghung', 'schokolade', 'firdt', 'pakastani', 'rupse', 'butsch', 'tenyukh', '70ad', 'dofollow', 'aeisha', 'gladiatorlike', 'aghoris', 'sigfox', '90yr', 'edcs', 'voicelessness', 'batuhan', 'nasserits', 'worldfocus', 'devert', 'thedaily', 'tisrael', 'indan', 'newsalert', 'anarchistnews', 'heliostatic', 'spiderpig', 'backstabbed', 'crashe', 'margallo', 'sportspundit', 'pornograpy', 'fakelaki', 'behance', '0xomar', 'minnock', 'terroristen', 'ausgrid', 'extermists', 'ramsses', 'hernawan', '162km', 'shaabani', 'cimavax', 'surviors', 'rusiia', 'trajtenberg', 'aviastar', 'mirzakhanov', 'authers', 'mulili', 'btjunkie', 'yeongpyeong', 'turnball', '18x', '14bn', 'shimokobe', 'jalabeeb', '310m', 'circuncision', 'rojava', 'techni', 'bisegna', 'codere', 'mideastpeace', 'pkmap', 'золото', 'rouhie', 'harmagedon', 'scaremonger', 'ridic', 'palestenian', 'ngongyup', 'ghweil', 'lightbeam', 'desperatelyneed', 'anchorless', 'philnambodia', 'bochenek', 'polygot', 'quiddich', 'deutschakademie', 'ashramshala', 'lyburd', '337m', 'publicará', 'newsoutlet', 'hitted', 'avadhnama', '茵河橋畔', 'chemiewaffen', '4mil', 'faqi', 'spillcam', 'robocops', 'intergovt', 'aggresion', '147notjustanumber', 'butteries', 'dagsa', 'kaeseong', 'sindhuratna', '45cm', 'sexsomnia', 'vilaj', 'cohred', 'oilpatch', 'narend', 'yapan', 'akhtarabad', 'nvestigation', 'mbq', 'perepilichnyy', 'трансляции', 'berahino', 'fgfa', 'paragyuan', 'synology', 'yeb', 'truthout', 'nigeriasat', 'kurkov', 'nabbous', 'supermoon', 'eletric', 'middled', 'sokht', 'morisetti', 'follath', 'sheryll', 'tweaktown', 'xylella', 'moive', 'tweetstorm', 'pagare', 'uppper', 'confucianists', '119bn', '70bn', '87tn', 'naukratis', '330ft', 'arnestad', 'heeft', 'gertjie', 'karlijn', 'e2o', 'swachh', 'saakshvili', '4268', 'punishedat', '405ppm', 'tagtastic', 'handarat', 'pilpres', 'pulgaon', 'interwebz', 'sureshbhai', 'anonymising', 'ramousah', 'partnerhsip', 'nzer', 'nikiforuk', 'kellingley', 'londonistan', '69k', 'sextcast', 'intersexuality', 'memorycide', '75mph', 'unverpacked', 'ifea', 'fraping', 'خليجي', 'usd41', 'petfinder', 'kukama', 'repotedly', '25yo', 'istore', 'yudhoyon', 'rakhines', 'банк', 'alyokhina', 'durıng', 'kalachi', 'underboob', 'renevues', 'siert', 'antiprotest', 'prisonomics', 'scandle', 'yeli', 'nepaly', 'pennis', 'kondisi', 'warszaw', 'rajiha', 'frenchgate', '51c', 'karreman', 'canuckcutie', '100mil', 'muhadzhirun', 'stilwel', 'voilence', 'taisia', '1018534477', 'ideablob', 'iquit', 'kamalan', 'tialeigh', 'maheen', 'rattex', 'alarab', 'tahirul', 'byliine', 'ahlulbayt', '374mph', 'indiatoday', 'chactún', 'yityish', '580million', '400kg', 'tyhpoon', 'langfan', 'junkride', 'unburnable', 'usrf', 'thewebon', 'gunment', 'speedi', 'cybersurveillance', 'bosintang', 'antiarch', 'uprisin', '535km', 'chepzi', '1542366', 'lanxin', 'singapores', 'zprávy', 'blowjobs', 'jpix', '126bn', 'thadd', 'champix', 'eharbor', 'effetive', 'gourgel', '9yrs', 'cyclicity', 'exportul', 'theglobeandmail', '42kg', 'lhsc', 'airstike', 'orset', '530k', 'castropedia', 'pszczel', 'jaresko', 'plages', 'caliphornia', 'foudation', 'adiva', 'gabanelli', 'tyumentsev', 'rhapta', 'lanva', 'tmartn', 'odaisi', 'salehin', 'offic', '670k', 'obosi', '370kmh', 'mahesan', '2cm', 'squarcini', 'parchi', 'nyagwoka', '25kg', 'mostefai', 'flytilla', 'superglues', 'redoine', 'jihaddists', 'ploe', 'leucism', 'survenirii', 'bacile', 'gaidam', '56000', 'rivno', 'presidetial', 'massacering', 'us14', 'shujayeh', 'unaffectionate', 'trabnsport', 'zoboomafoo', 'meldowns', 'ecoisland', 'hubblesite', 'arnholm', 'pipelineistan', 'fukijima', 'verf', 'splendyr', 'tranquilised', 'palestineishere', 'tariqat', 'chevolution', 'clusterfuck', 'bouhle', '5yr', '315m', 'strelkov', 'dutchnews', 'nonflushing', 'vdos', 'softlayer', 'elmegrahi', 'dielen', 'wadyajena', 'masaai', 'uk_news', 'beloyarsk', '38f', 'hywind', 'xh558', 'greystanes', 'huthaifa', 'launchpoint', 'prigs', 'norwac', 'ww11', 'safepass', 'muthafuckas', 'geidco', 'mailshot', 'perchlorethylene', 'lyfc', 'addctn', '4500ya', 'turkishweekly', 'niqabitches', 'suide', 'cnpz', 'mlibo', 'footballcracy', 'torez', 'goudreault', '2845', 'cyberassault', 'fagc', 'hige', '60mn', 'quisquater', 'brusselsleaks', 'portual', 'urgenda', 'cabinetmagzi', 'forcillo', 'reyhaneh', 'fessy', 'valmikis', 'inscrições', 'distractionary', 'fehaid', 'zabaal', 'girlsatdhabas', 'elstat', 'nepalearthquake', 'baevsky', 'cheffou', 'misidentifies', '2lemetry', 'mh370', 'expropiated', 'råd', 'afsca', 'granskning', 'israsel', 'skordelli', 'gafsou', 'unleakable', 'paedophila', 'abdolfattah', 'pilotof', 'volcana', 'hallf', 'phosphorosaurus', 'tennassee', 'aveva', 'constatou', 'mismanages', 'beurden', 'marium', 'manipluation', 'nalgae', 'brincidofovir', 'zennar', '9mins', 'xenocentric', 'grünenthal', 'jahanzaib', 'elsabag', '336gb', 'dolmio', 'kurmann', '155mn', '20am', 'septembe', 'lourve', 'ghey', 'jamiliya', 'hinduization', 'rebrands', 'asamother', 'solarte', 'мониторинг', 'wholeseller', 'militer', 'estevao', 'brazlian', 'allready', '18st', 'wujdan', 'collaboratation', 'bhanupong', 'releasedin', '60r', 'françafrique', 'aifares', 'lunacek', 'afican', 'aquashield', 'unopen', 'itigelov', 'devient', 'unfriends', 'торрент', 'faraeen', 'medallin', 'route24', '800k', 'hasno', 'konstantopoulou', 'amaica', 'upsalite', 'kaiowá', 'simferepol', 'скачать', 'uthaymeen', 'newzbin2', 'suceeds', 'aliskiren', 'aimaq', 'glyphosates', 'illridewithyou', 'nyrblog', 'sümeyye', 'kefomep', '2opfor', 'thepedophiles', 'songcontest', 'cornetti', 'kosovon', 'rayhaneh', 'ukbekistan', 'tenório', 'namdi', 'ruyifiyi', 'murabak', 'ogasawaras', 'goulish', 'ponzai', 'sa80a2', 'occupyturkey', '8bn', 'gbago', 'sarmat', 'ngland', 'beedis', 'velutini', 'wakrah', 'resurges', 'itemised', 'photoessay', 'khope', 'yabroud', 'presstv', 'opencapi', 'lessness', 'picciani', 'mashaad', 'cutsody', 'ombelicale', 'posiva', 'americanising', 'puxton', 'loooong', 'banconote', 'aecio', 'lamong', 'kaláshnikov', 'hellasfrappe', '101m', 'adamancy', 'cerar', 'resistanbul', 'horsemint', 'fasinpat', 'ecalcio', 'tamanchey', 'smartwire', 'hawit', 'oshunrinde', 'traffickinγ', 'jinshangou', 'evolutionreddit', 'abc7chicago', 'glassing', 'groundviews', 'octocopter', 'coulsen', 'gunwomen', 'reglan', 'marhaba', 'lycamobile', 'anene', 'ulian', 'saajid', 'terrore', 'superformula', 'maq', 'worldâ', 'shamer', 'ratnikov', 'qotd', 'kohanga', 'reeta', 'millitary', 'pollies', 'unscrupolous', 'beeden', 'pukeko', 'amxl', '258bn', 'jagargunda', 'ohhhhh', 'canoniza', 'stofan', 'satlite', 'acoount', 'africanistan', 'tenions', 'holdgerry', 'arsat', 'initiave', '467k', 'vandenbeusch', 'abdulemam', 'cahuzac', 'aimotive', 'badassery', 'radiofrequenza', 'chatriwala', 'aliasgar', 'kitchenconfidential', 'woerthgate', 'dabbawala', 'sperisen', 'simushir', 'jailbeta', 'ilovaysk', 'azarya', '000kg', '158gw', '950m', 'hyprocrites', 'kindergardeners', 'tunguskas', 'demala', '31k', 'queerpk', 'suryadewa', 'halti', 'teriano', 'trabold', 'israrel', 'posioning', 'leishmaniosis', '360mn', 'menhali', 'us58', 'nyugati', 'kimdergarten', 'jonnsons', 'socialdemocracy', 'conle', 'chineese', 'slamic', 'renditionist', 'alcasser', 'aquarids', 'alarabia', 'dehomosexualisation', '45b', 'wihtout', 'ciada', '210m', 'leclere', 'tureky', '667c', 'wenxuecity', 'giromin', 'mwahahaha', 'rellies', 'somalisation', 'descension', 'jiroemon', 'openned', 'luvuyo', 'ytb', 'meeki', 'figher', 'quantique', 'bajranggarh', '110bn', 'plfp', 'knausgaard', 'xvideos', '5bn', 'abase', 'dignite', 'amwalalghad', 'constitutionel', 'behin', 'indypendent', 'ushanka', 'slitty', '112m', 'leptoceratopsid', 'terroests', 'demitarians', 'mccannmagzi', 'muailek', 'diplomania', 'tratament', 'dhakelia', 'warmists', 'bearsuit', 'dowgrade', 'makhmour', '95million', 'sweedish', 'blaer', 'alayban', 'oudom', 'minileak', 'ahuas', 'belogs', 'nondiplomatic', 'στοιχηματος', 'binman', 'qayeda', '500bn', 'firefigthers', 'bourgainville', 'canipre', 'megalopolises', 'churhces', 'gebali', 'uratu', '7pc', 'initated', 'charb', 'rocktv', 'bioviva', 'gdog', 'moisturiser', 'piechowski', 'googl', 'balaa', 'stevaert', 'daymn', 'nedeniyle', 'ahmadinejong', 'jeapordy', 'shprygin', 'dummkopf', 'wolkswagen', 'csanad', 'somalization', 'mineweb', 'anonymizes', 'cheesemongers', 'apuron', 'sinchew', 'wikiliance', 'austriac', 'landmead', 'iranaphobe', 'insideview', 'socrec', 'driard', 'hedl', 'walentina', 'prop19', 'sergun', '30mbps', 'statewatch', 'approed', '29secs', 'millitants', 'firenin', 'fauxpause', 'jesuschrist', 'twıtter', 'freewinds', 'iwrp', 'carnfunnock', 'pagefairs', 'crossposted', 'taly', 'm3xican', 'mspea', 'buari', 'bitsnoop', 'finextra', 'okmeydani', 'earthflow', 'paedos', 'seiged', 'terrritory', 'benghalem', 'inancer', 'honeytraps', 'normalistas', 'centrics', 'worldnews', 'nirbhayas', 'abc24', 'surronded', 'videobombed', 'hvalur', 'minues', 'townsvill', 'ennahdha', 'speaktotweet', 'neonic', '510k', 'svastika', 'dispicable', 'butchy', 'mclntyre', 'arrai', 'fnbmg', 'arnia', 'merkelism', 'theocons', 'joooos', '207m', 'joind', 'torness', 'radislaw', 'forytarz', 'mandiant', 'haidas', 'twerking', 'ukriane', '3kini', 'soglowek', 'fakhrul', 'szpilka', 'unfollow', 'rootsians', 'mafiozo', 'sungrazer', 'gresha', 'millatu', 'bellandur', '9bn', 'ncov', 'manufactor', 'pregant', 'angy', 'djamena', 'telecos', 'condotta', 'nerida', 'kavkazcenter', 'kamayev', 'article34514', 'delegetes', 'mayadeen', 'khalidiyah', 'jailtime', 'morsal', 'jiaolong', 'basyir', 'blacktuesday', 'journo', '305m', 'shuanghui', 'pleb', 'sajel', 'cyrace', 'debaltseve', 'cought', 'netzpolitik', 'makseshift', 'henst', '000km', 'parlamentarian', 'militan', 'czechtv', 'psychodrame', 'homenews', '7yo', 'franรงois', 'negotaition', 'uimc', 'oddbins', '310mw', 'apor', 'cononish', 'laquo', 'muslimism', 'austero', 'circumcion', 'poteyev', '219134b', 'gabarone', 'shahids', 'narcotank', 'pipelinestan', 'marmageddon', 'edvige', 'bahain', 'sanussi', 'recomitting', 'campeign', 'dxz', 'melboure', 'yasutaro', 'dawayima', 'puertocabello', 'slumdogs', 'γραμματικό', 'oilists', 'mjec', '422m', 'truereddit', 'suppy', 'nolizwi', 'rescure', 'shaddāi', 'desroy', 'vezneciler', 'trasmissione', '825m', 'tauli', 'conspiracist', 'genearl', 'thetelegraph', 'napierski', 'jimni', 'bzzzzzzzzzzzzzzzzzzzzzzzzz', 'newspapee', 'khabaz', 'akhanli', 'condem', 'denmak', 'makhubo', 'bashneft', 'dcos', 'mking', 'inhumaneness', 'walaa', 'subsidaries', 'pebcak', 'mc19ak04', 'livescience', 'mcfalafel', 'abelisaurus', '65mph', 'underperfroming', 'tamarud', 'vedrørende', 'süredir', 'girkê', 'khamenai', 'israelian', 'guidanc', 'id160300242', 'biffs', 'penerapan', 'perres', 'kachins', 'explicative', 'thisclose', 'cbldf', 'westeners', 'closeby', 'deepmemo', 'chixoy', 'topface', 'h33t', 'jennipher', 'transaisa', 'przelozny', 'inflamer', 'jesuisahmed', 'starobilsk', '127kg', 'radwa', 'secratary', 'ultareligious', 'bambari', 'seperatists', 'ahyan', 'airstikes', 'acquaro', 'kakao', 'muos', 'melosevic', 'informacje', 'nopaine', '389k', 'bahaies', 'engraçados', 'terroists', 'scontri', 'kudeweh', 'decontextualized', 'novorossia', 'grabice', 'h5n9', 'afdi', 'fastdomain', 'hayduk', 'yamena', 'fouaa', '93yo', 'glueing', 'kinahans', 'jony', 'hariga', 'shanshui', 'pakistanization', 'zawahari', 'distrupting', 'antigovermental', 'iocco', 'maturbating', 'vaporiser', 'rightscorp', 'gilligans', 'saries', 'connoiseurs', 'lapdancers', 'ebil', 'boumeddiene', 'nawabad', 'scandinaivian', 'orlandosentinel', '35kg', 'angelababy', 'hexacopter', '7ft10in', 'megaplan', 'pompeians', 'akaiwa', 'indignados', 'telectroscope', 'predjudice', 'taizz', 'dioncounda', 'mensile', 'dribling', 'hungerstrike', 'flashbang', '000bc', 'todachev', 'risheq', 'baghramian', 'geogia', 'threatends', 'temove', 'matsumiya', 'budriene', 'mckeeva', 'heeeroes', 'internux', 'acquittance', '245m', 'blubster', 'kwajafa', '4billion', 'feesmustfall', 'attacts', 'dienste', 'burkini', 'dashlout', 'hajizadeh', 'kubasov', 'koteshwar', 'ojectives', 'carberp', 'ahmadiyyat', 'dripa', 'kundus', 'underminig', 'rokatenda', '60sec', 'offe', 'lnjp', 'andrä', 'coccaine', 'kyrgyzstanis', 'dispacthes', '9yo', 'pengxin', 'bamf', 'perpertrated', 'afghanbistan', 'leezza', 'rawshark', '100mbps', 'heraldmalaysia', 'dhada', 'nggilat', 'barcelonette', 'greatfire', 'denisovan', 'thisflag', 'schaarbeek', '9959218', 'venezuelas', 'arnorsdottir', 'nobelprize', 'marishane', 'countryâ', 'trainstations', 'korody', '103mph', 'simanowitz', 'patraeus', 'quailty', '60ms', 'thepalestinianpapers', 'abdulateef', '8cm', 'rapefugees', 'anassessment', 'metricate', 'jdeepbeep', 'unifor', 'antisa', 'asgardia', 'practitioning', 'suspenden', 'aquaspace', '1020796564', 'sulafa', 'maidain', 'zabiuddin', '180mph', 'woudn', 'inpenetrable', 'miscavife', 'cnrp', 'nigera', 'llocks', 'sallaries', 'skateistan', 'habesch', 'stupors', '1500sq', 'maaloula', 'mittenwalde', 'miltants', 'r140mil', 'delord', 'talkingheads', '254m', 'cking', 'networ', '1036ft', 'ifoghas', '15yr', '161m', 'unprecdented', '720m', 'ms955', 'alexanderpagesy', 'askja', 'grabtaxi', 'violier', 'takfirism', 'cajititlán', 'icsr', 'guptagate', '475m', 'rumeida', 'abakov', 'karkoc', 'onberoerd', 'realwire', 'khasavyurtsky', 'unnaccountable', '650bn', 'verhaftungen', 'saysthat', 'binxing', 'cybercriminal', 'neonicotionoids', 'mockford', 'است', 'dismissial', 'finmin', '0780', 'klity', 'kinkakuji', 'aggreko', 'bakrid', 'dailynewsen', 'gliettering', 'brexiter', 'competive', 'nassem', 'artilce', 'srikes', 'tankgirl', 'vaping', 'dscovr', 'earthcam', 'jimale', 'facebooked', 'audioboom', '124bn', 'shiptracking', 'dehghan', 'reeva', '12in', 'kasnazani', 'tigerskin', '9936', 'foolishnesses', 'indited', 'pchocasi', '3military', '000mw', 'ayaman', 'rubygate', 'radfem', 'domesitc', 'evkurov', 'ipl2', 'wauthier', 'koots', 'cas9', '754m', 'casarin', 'ihrdc', 'molestering', 'gerontocrats', 'kordofah', '67yo', 'allyâ', 'leepi', 'tedjo', 'falluhah', '5017', 'nonreligion', 'jazeerah', 'sourth', 'gaänswein', 'lulzsecperu', 'wussies', 'pedophelia', 'humaam', 'uita', '2tn', 'bregga', 'kusumbhara', 'nihita', 'technofix', 'moadamiyah', 'catastrophizing', 'tweeeest', 'cornall', 'fuckwit', 'ahşap', 'azmarin', 'ixzz38949xjjp', 'winxp', 'wolschtt', 'opk', 'halaltrip', 'angsting', 'ncjs', 'משקפיים', 'bahrainstylereforms', 'baransu', '5mn', 'motari', 'apatzingán', 'stage9', 'faciliated', 'jamee', 'codorníu', 'sombath', 'undeads', 'honeytrap', 'astrobotic', 'oceanwide', 'sandeshaya', 'paranoic', '250000', 'beefburgers', 'happines', 'tafas', 'muder', '3173', 'amcon', 'imóveis', 'dcw', 'warzones', 'afgans', 'dkos', 'meechan', 'visinescu', 'kingergarten', 'foody', 'tellewoyan', '75b', 'militarising', 'pmq', 'mahdy', 'dakika', 'calderons', 'doodnaught', 'historyif', 'serialising', 'sufferes', 'norström', 'kriese', 'bilderburg', 'doxes', 'vendite', 'mossas', 'daivd', 'cofman', 'flamewars', 'gallerymadonna', 'phonebooks', 'sipilä', 'wickramatunge', 'bernankes', '83b', 'cemortan', 'stani', 'handjobs', 'jedir', 'veladero', 'tomgram', 'israle', '340bn', 'khankhel', 'utoya', 'dh180', 'recognisng', 'quamaruzzaman', 'orell', 'bichard', 'motability', 'thealpenanews', 'englandestan', 'quotd', 'abadine', 'lepaon', 'lebenon', 'fahma', 'harborscope', 'slaughtermen', 'hashima', '02am', '82bn', 'parentdish', 'imfdirect', 'brexiters', 'mieraili', 'twop', 'rtibi', 'shrhldrs', 'granpas', '39500', 'strelchenko', 'disaproval', 'ethoxylates', 'crackshots', 'ölü', 'skhirat', '20151129', '132m', 'cannibis', 'brusthom', 'nasas', 'nadrah', 'kersmo', 'fissehatsion', 'edleb', '211m', 'dieing', 'kobane', 'gunday', 'akeyuth', 'rapidsms', '300000', 'asiapress', '11bn', 'salez', 'villagisation', 'dejevsky', 'airhostesses', 'ifugo', 'ironfist', 'yarovaya', 'malison', 'janukovitj', 'hasawiya', 'cyberweapon', 'streetop', 'perra', 'oksijan', 'shamsie', 'kadiza', 'younilife', 'kebekov', 'cryptophones', 'freemusicwebsites', 'cenzura', '000x', 'kyrgyztan', 'worldrefugeeday', 'depresión', 'microaggression', 'esplosi', 'marthastewart', 'latet', 'incase', '2mn', 'oktybarskaya', 'itbayat', 'vratt_', 'sodeto', 'operationcroissant', 'verstand', 'dwaik', 'wriststrong', 'cementificio', 'milowe', 'newscrowd', 'akıncı', 'aixtron', 'kasasbeh', 'expatriat', 'uars', 'silversky', 'centiseconds', 'cftri', 'pple', 'latinamerica', 'hree', 'dailyherald', 'senzo', 'familly', 'tallinner', 'disproprtionate', 'mumabi', '45am', 'muntplein', 'flaperon', 'souvik', 'razings', 'fappage', 'hedbo', 'tsarna', '233m', 'cruiseship', 'copsicles', 'qalansawe', 'mmiss', 'schlitzaugen', 'traavik', 'natureza', '11yo', 'qiaobi', 'gaofen', 'jurisidiction', 'hiearchy', '癌症', 'baasyr', 'dagos', 'bedzhamov', 'cookfires', 'gaisanova', 'dollu', 'indiaâ', 'allamatriciana', 'nusaybah', '498m', 'hostgator', '82m', 'mmrca', 'sconosciuto', 'delists', 'dazuuri', 'exort', 'dropcrocs', 'ourangutan', 'ciesium', 'openable', 'musadan', 'supercity', 'arakib', 'malakas', 'dentical', 'joinee', 'azeffoune', 'neknomination', '85tn', 'bhattis', 'electon', 'refusers', 'nonghyup', 'landgrab', 'asange', 'angeka', 'gsmarena', 'sharmeena', 'krsc', 'sharpuddin', 'bourdouleix', 'wiginton', 'veiw', 'shorton', 'timbit', 'kashaya', 'hsy', 'taratin', 'ratiaria', 'gvernment', 'venezuelaâ', 'kazhastan', 'nydfs', 'brokep', 'peklushenko', 'jerf', 'erlier', 'inculding', 'assade', 'ambode', 'muwaladeen', 'chevrontoxico', 'thedailybeast', 'dhimmitude', 'jiwani', 'cybernaut', '1gbps', 'kamoun', 'crowdfunds', 'الإستقلال', 'anakata', '10a50', 'shakhtyorsk', 'wharfies', 'maczot', 'roskompazor', 'documenti', 'hispa単ola', '25pc', 'esmeralada', 'whittingdale', 'muckracking', 'chimpkind', 'kanemasu', 'melomys', 'twincities', 'gadhaffi', 'maareb', 'multipolarizing', 'chromebooks', 'parguayan', 'ndjida', 'reacharound', 'ahmedinajad', 'utoeya', 'hvarfi', 'sabanagrande', 'develps', 'congarts', 'bobsleighing', 'morlu', 'critcizing', 'scanwiches', 'comixology', 'kinhasa', 'shayma', 'merabet', 'vanderburg', 'hendrietta', 'sansha', 'södersjukhuset', 'shaabab', 'depape', 'nz600k', 'phuketwan', 'weathly', '125f', 'chaleo', 'katsuto', 'bazza', 'ydg', 'germanywings', 'ixzz2woeiaxex', 'exected', '29bn', 'farocaught', 'ukrinform', 'cemfjord', 'tymoshekno', 'transwomen', 'intrest', 'koodankulam', 'detitta', 'uneditable', 'demonises', 'lizardstresser', 'progrmas', 'schandal', 'liujiang', 'labouratory', 'joinus', 'seieged', 'csatari', 'kissoflove', 'wuerenlingen', '850m', 'hipnose', 'nonconstructive', 'spokesan', 'faaraz', 'börjat', 'kessab', 'cellarmasters', 'horsewhips', '5gb', 'overhyping', '61b', 'plumbly', 'pemerintah', '1ab', 'karunyan', 'endangeres', 'mcfc', 'superlaser', 'wardan', 'levantinewar', 'roldugin', 'bayyah', '6mn', 'dneprodzerzhinsk', 'farted', 'sahilonline', 'ricas', 'anniversario', 'apprently', 'stubfoot', 'transmittion', 'falzlullah', 'uncoved', 'darcus', 'faulkand', 'infoprodotti', 'sportshall', 'intergrates', 'prostitues', 'subtley', 'sequedin', 'calçots', 'ocupeestelita', 'prayforpeace', '208mph', 'brusselslockdown', '160k', 'unvieled', 'ionas', 'jblm', 'saddeq', 'childkillers', 'eubola', 'spaetkauf', 'majdič', '111m', 'rezwanul', 'asthhana', 'boycots', 'daesh', 'billiq', '118f', 'forefighters', 'akhalaia', 'wikilosers', 'hursit', 'cittadino', 'tenpenny', 'perfettamente', 'kafala', 'cowple', 'teneriefe', 'aranca', 'bradnee', 'dataisbeautiful', 'ecotricity', '285m', 'woaw', 'malawai', 'privitizations', 'bárðarbunga', 'linktv', 'prirazlomnaya', 'mulim', 'wodak', 'wazzock', 'ministeroni', '70mbps', 'ccountry', 'sundaresh', 'critisize', 'piccolino', 'enfeeble', 'deathday', 'hutments', 'southerns', 'churnalism', 'cocula', 'bulshito', 'assadâ', 'bhumipol', 'jaaaa', 'siahkali', 'yongxi', 'rabalago', 'wsahara', '108k', 'taluthas', 'nirp', 'eisenkot', 'resuced', 'beaking', 'elkabber', 'moviereviewintelligence', 'coada', 'mwc14', 'minhad', 'sepehr', 'reivive', 'gularte', '55gmt', 'hights', 'femicides', 'irefighters', 'giei', 'hidroaysen', 'sudanrevolts', 'obless', 'shakkour', 'therfore', 'pastro', 'notw', 'volynskyi', 'sisha', '139m', 'oatly', 'kachelmann', 'unequality', 'dmaic', 'abuzar', 'morecombe', 'untreatablel', 'righs', 'utsandiego', 'nangahaan', 'iprotest', 'syriar', '220m', 'eventi', 'multiannual', 'ciitzens', 'detectorist', 'fukishima', '37mph', 'araqchi', 'goktas', 'bahray', 'wikileakist', 'palavers', 'sicad', 'weblogger', 'deatheaters', 'cyberespionage', 'cydcor', 'benifits', 'hartmannswillerkopf', 'constucting', 'hyperclusters', 'yasiin', 'bardarbunga', 'truthers', 'ufpr', 'krasnoarmeisk', 'maswa', 'kentaki', 'garrotting', 'noodly', '425m', '750mn', 'makkonen', 'nathran', 'mozgovoi', 'kutwa', 'ariwara', 'entrevue', 'alcosynth', 'assaulter', 'comminsure', 'majedi', 'dulig', 'shrem', 'zabaikalsky', 'normerica', 'linsanity', 'hodr', 'brikama', 'tawargha', 'surviva', 'kalakh', 'suiside', 'egypts', 'daym', 'xposst', '420k', 'landmanalaugar', 'buguias', 'progressista', 'catfished', 'housands', 'tedxsydney', 'nemtov', 'nihari', 'dogfood', 'chรกvez', 'langate', 'frajese', 'dkr8bn', 'timeswitched', 'aproaching', 'deutcher', 'trustwave', 'grolar', 'pistorious', 'freespeech', 'jualian', 'vandalises', 'talanx', '4trillion', 'ixzz3pwv2zx8e', 'socializewize', 'stealthiest', 'arbetsförmedlingen', 'convincted', 'tsunamigenic', '309m', 'bahno', 'numpties', 'emgate', 'ynetnews', 'khatumo', 'doomend', 'douchbag', 'n443', 'andreevka', 'ixzz3hiy7dplr', '30sept', 'karangetang', 'strafes', 'assuta', 'goldvish', 'necrorape', 'lucara', 'nibbs', 'naruth', 'sindhurakshak', 'moneybookers', 'affiair', 'sekhemka', 'bellante', 'contex', 'plusd', 'rizana', 'gernade', 'spaffs', 'slaugter', 'golli', 'pshonka', '5trillion', 'planen', 'porrino', 'ishag', 'babiš', 'yantgze', 'forcasting', 'japindia', 'wpsu', 'glyphis', 'germenis', 'joso', 'ماتمام', 'flawless_flaw', 'snowpocalypse', 'chopppers', 'fishhoek', 'mesir', 'découvertes', '155bn', 'bilionu', 'canfin', 'brynmenyn', 'recolonisation', 'hamzawy', 'superchain', 'ontuesday', 'avashai', 'marajuana', 'pewobe', 'superbust', 'girffin', 'odreman', 'wuzzup', 'attemtps', 'cyberlocker', 'stamati', 'againmagzi', 'berdimuhamedov', '730m', 'ˈinvalidˈ', 'emdrive', 'chirikova', 'fonding', 'parlatino', 'petricic', 'extrimists', 'usamah', 'bajandar', 'kuveyt', 'snowplough', 'zaharie', 'endores', 'rovinski', 'ajudge', 'skynews', '63m', 'dayib', 'vincenzetti', 'yogeshwar', 'megaquakes', 'ustin', 'readwriteweb', 'nooscope', 'ohaneze', '38kkk', 'approachs', 'binatang', 'persepective', 'encriple', 'burqinis', 'khadzhimurad', 'agroscience', 'contraversy', 'fitchthehomeless', '63bc', 'warthy', 'unigroup', 'tomahwk', 'punggye', 'hadashi', 'queerest', 'breifs', 'ratanakkiri', 'muqawama', '320bn', 'polémique', '66ft', '36ft', 'austraila', 'ebaying', 'ixzz2einbr4wm', 'sodastreams', 'holacratic', 'openmedia', 'ezidi', 'throughbred', 'cyberbombed', 'zenefits', 'sugeon', 'cerrar', 'seski', 'spionage', 'uswitch', '18bln', 'some1', 'gnangara', 'qake', 'lakefirst', 'methyltryptamine', 'depayin', 'patidars', 'soundbyte', 'whatsup', '98m', 'disppeared', 'corbat', 'mamudo', 'suruc', 'shalat', '3½', 'losess', 'hezballah', 'sequal', '5163', 'noahs', 'shahrkhani', 'malaq', 'pmln', 'ouano', 'lartin', 'militarizes', 'peakoil', 'agencywide', 'breathnig', 'cruely', 'crescita', 'sorouri', 'ianeiri', 'brunkert', 'baghaliyeh', 'electical', 'supremecourt', 'dehomosexualization', 'ukraininan', 'healh', 'neurovegetative', '8pc', 'sefako', '44f', 'pawternity', 'oncealways', 'upxy', 'yakuzi', 'tuheitia', 'derivs', 'convictss', 'asyir', 'affectes', 'vowg_p', 'knws', 'irha', 'eprocurement', '240million', 'repots', 'evicticting', 'angelei', 'spiderbaby', 'iranianwomenlovecycling', 'ukraines', 'coldwar', 'rabis', 'cemilev', 'hydrodam', 'postumous', 'newageislam', 'buitenhuis', 'gankoyama', 'megazoom', 'tavella', 'umckaloabo', 'kafon', 'pitbullbaby', 'lithur', 'ansamed', 'aouth', 'ደራሲ', 'ترتیل', 'elbabaradei', 'geoblocking', '540mn', 'proecutor', 'kerminihy', 'apprecaites', 'duvalie', 'hamolka', 'whaleoil', 'hissane', 'merkhollande', 'korindo', 'cycloserine', 'diezani', 'blogpost', '320000', 'avalide', 'dxb', 'gezond', 'parsipur', 'japranin', 'ruptly', 'retweeted', 'openleaks', 'budovsky', 'nanofoods', '25mbps', 'lakeswealthy', 'ziony', 'lybian', 'dekhar', 'makhaza', 'escombrera', 'pissy', 'ferzat', 'rurangwa', 'moit', '15_fold', 'welati', 'qubair', 'rampaku', 'slacktivism', 'linkdin', 'minitry', 'poddala', 'oleysa', 'theologists', 'transdniestra', 'ikeahackers', 'tyalgum', '2157', 'nonsynonymous', 'fethullahist', 'trybeatingmelightly', 'cantsbee', 'safoora', 'khaldiyeh', 'kitapci', 'yeild', 'katounitsa', 'deemphasizing', 'transperto', 'génocidaire', 'aresenal', 'tallowamine', 'cpec', 'cracolandias', 'aomawa', 'khudeir', 'teenages', 'berkin', 'galocher', 'perfidiously', 'qiandaohu', 'pwns', 'misunderstander', 'handwash', 'meganet', 'avdiivka', 'bulletproofing', 'mtva', 'jahob', 'iranwire', 'oxfamamerica', 'manguinhos', 'borazjan', 'h5n8', 'shiveluch', 'unprecedente', 'talentos', 'todenhöfer', '95ms', 'mexicoleaks', 'ecotax', 'romanticising', 'villaricos', 'tici', 'räsänen', 'trigana', 'qz8051', 'tartastan', 'twitterverse', 'rabbu', 'lasnier', 'andrã', 'wenyong', 'seoudi', 'barhmos', 'venezuelaanalysis', 'yoshiyahu', 'monsatoo', '4yr', '300p', 'tokhomskoye', '200nm', 'tharo', 'ishes', 'quejate', 'yeard', 'globalomen', 'qateef', 'sauver', 'yaaqoub', 'kanesh', 'uninterest', 'outbrutal', 'reimbuse', 'akrad', 'octogen', 'zoliswa', 'pk5', 'atimes', 'burisma', 'borderpost', '8gw', 'prisioners', 'crucification', 'afribiz', 'kafranbel', 'otterburne', 'wedeman', 'mismari', 'powerchair', 'gastrodiplomacy', '12yrs', 'strugle', 'bagpuss', 'atin', 'mansanto', 'pseudocraters', 'lagace', 'godfathered', 'reyhanli', 'thahaja', 'barouk', 'wikilleaker', 'aborption', 'esky', 'degredation', '500mln', 'bihani', 'aylesham', 'sledgehammering', 'ostula', 'kwangmyŏngsŏng', 'gheddafi', 'popoche', 'gameoveriran', '123456', 'talackova', 'hailand', 'celebratate', 'pellworm', 'chuxing', 'circut', 'ecursiverevolt', 'violeted', 'strafor', 'dumanli', 'enstream', 'ukâ', 'hijabi', 'mdolla', 'boulani', 'zaroshchenskoye', 'maracuchos', 'banjaluka', 'schrooten', 'neice', 'geziparki', 'ecolocalizer', 'naoot', 'binyavanga', 'plaform', 'batlic', 'paulcraigroberts', 'jiahd', 'flingers', 'visibili', 'beraatı', 'qz850', 'hundsun', 'rauls', 'nirbheek', 'garar', 'deterioriate', 'latimes', 'ristoranti', 'crackland', 'cancellieri', 'trollingday', 'deprivileged', 'felih', 'alperen', 'hallstadt', 'saado', 'mierili', '118m', 'pouzin', 'semetic', 'buyuksarac', 'russiabansusd', 'ecnonomist', 'scambles', 'exorcizing', 'administration_english_xinhua', 'suicidi', 'scandel', 'lashback', 'gheyness', '000kms', 'eeerie', 'larreta', 'yearolds', 'هنتحرش_بالرجالة', 'mevedyev', 'fz981', 'dacai', 'centigade', '32bn', 'palymyra', 'karasiichuk', 'chenggang', 'kfarya', 'pantsyr', 'templ', 'mulhim', 'northeas', 'gandarusa', 'mihop', 'manspreading', 'feto', 'occupyep', '6901', 'mirhossein', 'freirina', 'cack', 'glyzelle', 'anothet', 'mamchur', 'islamaphobes', 'shortener', 'disjarring', 'samutsevich', 'pakistant', 'argarkov', '42million', 'zaheerul', 'shebelieves', 'volnovakha', 'shandra', 'rofl', 'buruli', 'khademi', 'confrence', 'poisonin', 'dimitro', 'diktator', '300bn', 'safesource', 'menghilangkan', '900mn', 'tacticalmiddleeast', 'counterjihad', '280km', 'volano', 'to7', 'cylance', '08baku671', 'nanosensor', '59bn', 'crossauthor', 'sahlav', 'wrot', 'preservativi', 'cherukuri', 'chornobyl', 'qvir', 'ecuirty', 'catholicherald', 'orginazation', '35lbs', 'sayef', 'zakarpatie', 'stropnický', 'sents', 'rundfunkanstalten', 'edmundotv', 'hopeline', 'googletestad', 'laio', '5ppm', 'wafra', 'doctine', 'mh066', 'mirhoseyn', 'unspoofable', 'precariat', 'aragueño', 'tecurity', 'serendra', 'carebots', '500mb', '6000km', 'aeromobil', 'piolet', 'gyopo', '21tn', 'khanssaa', 'qunaytirah', 'backback', 'nevsun', 'hanergy', 'yamalo', 'paylan', 'lyuan', 'drugeon', 'eurosummit', 'quejicas', 'taxify', 'europeâ', '175m', 'contentid', 'citiezen', 'lapdance', 'beningno', 'incentivising', 'ddduuuhhhh', 'blogquake', 'ourput', 'opendemocracy', 'unreligious', '336m', 'alvia', 'mamika', 'diabali', 'makkawi', 'cheeseboard', 'wangchu', 'mahendraparvata', 'teldor', 'canaduh', 'ordinaria', 'gudalajara', 'malarials', 'maxico', 'occu', 'vodoo', 'colapses', 'mcauthur', 'ikrit', 'lyashko', 'fssai', 'edathy', 'otunbaeva', 'carnii', '21d', 'kolomoysky', '00am', 'roosh', 'xulhaz', 'foreseable', 'bruv', 'eihab', 'poelvoorde', 'urabenos', 'motorbikers', 'cilenti', 'theromobaric', 'nalsa', 'legitimiz', 'weibos', 'kunan', 'addah', 'interlomas', 'tomnod', 'rosnotrebnadzor', '300kg', 'liveblog', 'gulmurod', 'awamiya', 'kraska', 'labbouneh', 'unsg', '3pc', 'ekim', 'ikhawan', 'nastyleaks', 'myitsone', 'هل', '585kgs', 'zhongwang', 'jacksonvill', 'hathloul', 'schorschbräu', 'заработок', 'talkbacker', '55mw', 'bitcointyler', 'gamboru', 'paritsan', 'gangjeong', 'gulenist', '24ft', '2186', 'conviced', 'unbc', '26bn', 'litterature', 'dnipropertovsk', '75pc', 'putput', 'cloneable', '341m', 'titanyen', 'zahit', '1tr', 'iranianpropaganda', 'uberx', 'greenwalds', 'figh', 'unliveable', 'iex', 'powerf', '11500', 'iiw', 'reintke', 'tumeh', 'centamin', 'tourture', 'condomerie', '70cm', 'ctvnews', 'techonomy', 'rigaer', 'bilderbergs', 'shouwang', 'frogmarched', 'svallfors', 'popularism', 'pokemones', 'gypsytown', 'alray', '91y', 'hallowe', 'pasung', 'önderoğlu', 'burgler', 'balge', 'missier', 'borodai', '毎日新聞', 'nursey', 'gangraped', 'nishinoshima', 'cjfe', 'hispanically', 'roscosmo', 'avdeevka', 'youaintnomuslimbruv', 'bhopalmosque', 'lakbima', 'papahānaumokuākea', 'harpoonists', 'nesen', 'temixco', 'yaan', 'dabanga', 'uhersky', 'murbarak', 'ragai', 'hiter', '330p', 'qubbah', '80pc', 'hoovered', 'raiffeisin', 'hijjas', 'tshirt', '48kmarch', 'ulanets', 'blocklists', 'evenin', 'massry', 'danonauts', 'jihadistjoe', 'dalfsen', 'agflation', 'aquis', '679m', 'badeh', 'sveshtari', '5yo', 'menchie', 'lovetemecula', 'bagour', '533m', 'ovethrows', 'plagarist', 'gaddefi', 'finocorp', 'hashanged', 'mirje', 'ugyhur', 'multiationals', '23000e', 'apai', 'bozoum', 'askhamas', '173m', 'doubledecker', 'webmagazine', 'sh35', 'tanooka', 'dimostra', 'kingnet', 'أخوة', 'linosa', 'mawbanna', 'shippuuden', 'teror', 'hoves', 'dimaukom', 'kivik', 'charre', 'pampliega', 'naturalnews', 'zn50', 'israe', 'gulsumoy', 'balidan', 'nojeh', 'calzini', '114b', 'zakzaky', 'occrp', 'diventare', 'pteria', '77k', 'powergrids', 'ghadry', 'shangpu', 'dissolvement', 'rogando', 'netanyahuâ', 'beardog', 'crowdsources', 'onlies', 'subalpur', 'dabaab', 'swn', 'sawlani', 'videographed', 'продюсер', 'torrentfreak', '6yr', 'ethereum', 'shamlawi', 'lolz', 'semchenko', 'reklamebureau', 'kritizují', 'opendata', 'immobiliare', 'phonebloks', '05am', 'nutcases', 'iinternational', 'bodehewitt', 'entsch', 'inhumance', '7oz', 'hasaka', 'bfmtv', 'lobbyling', 'matchmakes', 'aonbs', 'elbowgate', 'cheslow', 'resistir', 'apigee', 'kaneli', 'bbry', 'pissusless', 'ulpana', 'ramasundram', 'ibeen', 'backkk', 'yhou', 'hmel', 'uawire', 'homosexualism', 'secretaru', 'emojis', 'redacts', 'basindwa', 'comming', 'arakans', 'kochkurs', 'opposant', 'miiltary', 'تصـف', '210km', 'attornry', 'superpope', 'muography', '452b', 'mayerthorpe', 'us65', 'diem25', 'erdoagn', '29p', 'gaojia', 'wwarii', 'oignon', 'chinavision', 'masserene', 'cadastro', 'freechelseamanning', 'yoof', 'zummar', 'kültürschock', '125mph', 'destoryed', 'partnernership', 'hoaxmap', 'thorung', '430m', 'chechan', 'luciferianism', 'gramacho', 'emera', 'aeagen', 'chauvanistic', '500b', 'rasmauer', 'knifemen', 'demokraten', 'synogogue', 'builts', 'slutwalkers', 'osetia', 'narwani', 'halqi', 'covalence', 'cherynobyl', '38mn', 'kubuqi', 'assploding', 'millionnaire', 'occupyoakland', 'unprinter', 'ba274', '13pc', 'x2019', 'paywalled', 'caihong', 'homelet', 'sweida', '17years', 'prayerfulness', 'khaini', 'tushan', 'kauda', 'jobcenter', 'wikileaker', 'magantic', 'christianpost', 'rewalk', 'zuluan', 'theran', 'medhanie', 'cleansin', 'seleka', 'daalo', 'factionalist', 'etoilet', '195m', 'popasnaya', 'dugain', 'khead', 'microgrids', 'descriving', 'noisey', 'hostpital', 'magnitutde', 'chipolte', 'pahoa', 'ezion', 'kahlili', 'shivpal', 'businesstoday', 'yeilds', 'medisch', '6yo', 'lmao', 'mubaraking', 'murah', 'achellam', 'dognappings', 'jeppie', 'murrawarri', 'worldanarchism', 'wikikeals', '腫瘤', 'balmo', 'gazs', 'preparação', 'khramchikhin', 'sb1', 'mezouar', 'getawayis', 'discoverd', 'father_delivers_baby_on_airplane', 'westhauser', 'justgiving', 'sheitat', 'imodium', 'toldthat', '550lb', 'ancouver', 'khajeh', 'toope', 'lljiang', 'rehome', 'obamma', 'applewatch', 'worldevents', 'sihuan', 'dementor', 'virii', 'gökçek', 'admiting', 'harpoonless', 'fgsz', 'sthash', 'aschfords', '88p', 'disucsses', 'yueyue', 'mallohi', 'chakwera', 'jiked', 'nigern', 'mojaheed', 'unencrypt', 'torure', '79bn', 'unnreports', 'smallbizcrm', '16i', 'cloudsource', 'falen', 'duckduckno', 'hitchbot', 'valitor', 'cappadoci', 'lucidry', 'alaykum', 'cizirê', 'sssshhould', 'crouded', 'nihonbare', 'b09b', 'lke', 'youtu', 'descibes', 'rassd', 'alqormozi', 'gofundme', 'saraqib', 'americanise', 'billionare', 'icij', 'khartiya', 'janabiya', 'sloganına', 'dastyari', 'iraqâs', 'mered', 'hayabusa2', '91bn', 'tværs', 'australi', 'antizionist', 'metinvest', 'sandcrawler', 'mapiripán', 'foxhunt', 'affliation', 'olsgaard', 'sellgoldjewellry', 'arachnophobe', 'oerting', 'damascas', 'regresará', 'conver', 'ulkoporealtaat', 'newsofthestupid', 'backhandslaps', 'paramos', 'ruseva', 'aaww', '2686', 'nourimanba', 'costra', 'castanha', '22re', 'mutimedia', 'izzeldin', '8yr', 'awast', 'kragga', 'wtc7', '123m', 'garbaciauskaite', 'aghali', 'macando', 'âł1', 'hsba', 'rosenblit', 'estifanos', 'cancercare', 'teabagger', 'ladigue', '4000mph', 'photogallery', 'gta4', 'fwdfish', 'shaimaa', 'ngarahoe', 'sharkie', 'exaronews', 'hemlis', 'strategie', 'florise', 'rupay', 'webchats', 'perantau', '52c', 'theatening', 'huffpo', 'meekin', 'mailonline', '650s', 'december14th', 'shingnapur', 'trumpism', 'huwaidar', 'merú', 'impfstoff', 'rumormongering', 'vedove', 'zoha', 'ashbal', 'intelgate', 'slacktivists', 'dumor', 'metoerite', '5kgs', '108m', 'sourcers', 'klishina', 'helú', 'prisonfor', 'tiamulin', 'chaparrastique', 'nucleare', 'threathens', 'rapsi', 'tiahnybok', 'inbraak', 'giochi', 'sairon', 'reedit', 'sitharaman', 'cecot', 'shortsighting', 'plagarists', 'cibok', '789bn', 'terrorises', 'firstpost', '87m', 'rapagainstrape', 'nedherlands', 'desmoguk', 'us100', 'luxleaks', 'jiajia', 'مسنونات', 'lilypad', 'skuf', '407m', 'depsang', 'huantai', 'mandritsara', 'retension', 'aquits', 'oprhanage', 'misappropriates', 'muncipalities', 'nakoula', 'demmink', '40bn', '570bn', 'cryptogazette', 'beaconites', 'sr4', 'recordkeepers', 'refu', 'matenda', 'rixos', 'apears', 'mh198', 'surtab', 'behbal', 'nansulate', 'techeye', 'climatechange', 'toronro', 'lybians', 'cleggs', 'khodayar', 'illegitamacy', 'syrias', 'unlacing', 'gratest', 'stemexpress', 'geotv', 'keffiyah', 'warrantarrest', 'treimseh', 'sussiya', 'polge', 'stopttip', '1247x801', 'adups', 'yhoo', 'mmubango', 'austrailian', 'matmo', 'mh37o', 'inspirationو', 'bettyconfidential', 'hottak', 'arriv', 'prepper', 'larginoni', 'ndileka', 'addabo', 'wsws', 'fasquell', 'geolocate', 'jubilating', 'hotovely', 'etax', 'electromobility', 'mbrace', '20150504', 'berluscocracy', 'mercades', 'halaçoğlu', 'pokăšmon', 'truthdig', 'velocidade', 'gratuito', 'manadrin', '1central', 'cleggmania', 'sajaiya', 'gaybros', 'nevruz', 'schilderswijk', 'inukjuak', 'khatallah', 'rudaw', '54yr', 'ischioceratops', 'houris', 'frappening', 'mokatam', 'humantrafficking', 'dumpping', 'resigs', 'chuncheng', 'kikla', 'snipper', 'villege', 'metting', 'kathleenn', 'deradicalization', 'wiam', 'burgeons', 'nokta', 'sultanbeyli', 'piratenpartei', 'karamless', 'successsful', 'truckie', 'autoren', 'abdelslam', 'balandkiik', '265m', 'fastjet', 'mompreneur', 'sevare', 'wearechange', 'borgström', 'apatheid', 'doumaa', 'lutrell', 'counterpiracy', '215000', 'fukushijma', 'khorosan', 'kindlier', 'humilation', 'numbats', '97x65', 'detekt', 'gifiles', 'darkode', 'mukhammad', 'batirashvili', 'lemanski', 'swedwatch', 'oaps', 'munbai', 'olry', '54m', 'dammaj', 'figyelo', 'intifida', '1mbd', 'screeshot', 'wescom', 'geolocated', 'cuspert', '100ft', '600bc', 'pastarafian', 'pollie', 'sikujuwa', '67million', 'kislo', 'cofee', 'ashuluk', 'olmali', '35ft', 'oueremi', 'лишь', 'skyshield', 'decarbonising', 'ecoworldly', '410k', 'tubestrikes', 'revolutionises', 'bruniare', 'suspened', 'mphoko', 'podjetjem', 'glenelgs', 'hafd', 'titties', 'deadlist', 'raskalov', 'saraha', 'instanbul', 'operationalised', 'chatline', 'supertrawlers', 'nanoracks', 'facewatch', 'batteling', 'rationalises', 'airp', 'energiewende', 'hmayyed', 'governmetn', '832c', 'unfil', 'skrink', 'kukucova', 'broils', 'kamango', 'greekreporter', 'svechinskaya', '073', 'iscotland', 'tajer', 'precarieta', 'cetdelhi', 'aprox', 'berzeviczy', 'tighteners', 'pakhomo', '63cm', 'odillo', 'paakistan', 'shaxi', 'perspektiven', 'gevgelijia', 'petroyuan', 'fogels', 'alienlike', 'shilan', 'komme', 'reliabe', 'zevit', 'nın', 'alluhaydan', 'capabalities', 'funfact', 'newsbreakingonline', 'kattner', 'hilippine', '40degc', 'spambots', 'nados', 'archiapelago', 'letpadaung', 'pratariccia', 'shynkarenko', 'pommies', 'débacle', 'burica', '93f', 'unsink', 'polyisobutene', 'arrr', 'amandement', 'summerinsyria', 'copyfraud', 'realizzata', 'euractiv', 'marraige', '22ft', 'arsony', '16year', 'sabahionline', 'ant贸nio', 'aodhán', 'muižnieks', 'couchtuner', 'rome__the', 'fablab', 'theaustralian', 'facekinis', 'deonar', 'cryotank', 'menchito', 'arguements', 'dhanawade', 'ghoptebhir', '8211', 'lymphona', 'ladened', 'goerz', 'assadr', 'kaixin', 'efits', 'brandalize', 'nonpolarity', 'baharstan', 'hasish', 'terzan', 'unhate', 'swebbo', 'gnwt', 'misiter', 'perarivalan', 'höcke', 'exterminatethe', 'ribelli', '533kg', 'instates', 'alaak', 'palestanians', 'kuyukov', 'appionted', 'symboles', 'duerte', 'huwaysis', 'totb', '400ppm', 'protectio', 'zineb', 'proliferant', 'gorbanevskaya', 'kündigt', 'depressurizes', 'ninner', 'oqlf', 'geesh', 'xposted', 'daroo', 'cousulate', '62bn', 'allignted', 'berslusconi', 'mensalao', 'dontbuy', 'osettain', 'felfie', '179km', 'mistitling', 'poonado', 'laimdota', 'oxbury', 'wishah', 'startvation', '295a', 'silsilah', 'communicaions', 'dracoraptor', 'hummingbad', 'kahanists', 'kaesŏng', 'glezos', 'albarengo', 'lwampa', 'guadagnare', 'ecowatch', 'qesas', 'exocets', 'oppah', 'brexiteer', '30bn', 'jarida', 'molestors', 'mobbish', 'saydaw', 'modelonamission', '88m', 'marinab', 'hiramoto', 'bioweaponeers', 'algieria', 'maylasia', '122k', 'daysofdarkness', 'desarmes', 'surveiling', 'proporsionally', 'r209m', 'cryptocurrency', 'imminient', '10tothe100', 'chowmein', '00000', '5252', 'zeroday', 'hypocritcal', 'natrual', 'vårsnö', 'relevanvance', 'duribg', 'opnigeria', '186m', 'xitler', 'rouhan', 'numberplates', 'showrakhine', '87mph', 'durkay', 'shahbagh', 'orologi', 'tyt', 'klepto', '78yo', 'bullshitting', 'muslimah', 'edtech', 'governmentafter', 'barnawi', 'aqidi', 'marchovelette', 'bilbys', '9067', 'polievre', '2months', 'yapısı', '184m', 'helvetas', 'mir2911', 'mycar', 'сервис', 'modadi', 'xtrumanx', 'epigones', 'ezzeldin', 'kermiche', 'misreports', 'brainyquote', 'indcs', 'jinpeng', 'dürüst', 'toshiso', 'oscarpistorius', 'yousafazai', 'antfascist', 'alaer', 'lecpetex', 'zaghari', 'spanielish', 'tavolara', 'rememberence', 'hapatitis', 'anjoum', 'wazistan', 'dakhee', 'leumbeul', 'jinero', 'supercomplication', 'scriber', 'palestineans', 'çnra', 'mezhyhirya', 'decribes', 'yazı', 'cyberattacking', 'tokyoite', 'antipoaching', 'jaslo', 'nihao', '92m', 'co₂', 'innoson', 'urjit', 'internett', 'muhahideen', 'chérif', 'bossnappers', 'us62b', 'megacontinent', 'mustansir', 'piratebrowser', 'ermia', 'saudisation', 'isocracy', 'luhanske', 'narcolist', 'blackboxes', 'downmod', 'dorneanu', 'doxer', 'histroy', 'blâme', 'regreening', 'raegge', 'tasiast', '462k', 'lukqun', 'viasna', 'biostime', 'aktuality', 'smeagol', 'qmenas', 'moqueguanos', 'willaim', 'altergeo', 'santhara', 'tombili', 'ramjas', 'reprien', '346m', 'cerrano', 'polyfidelitous', '21bn', 'alá', 'iwt', '55kms', 'mutilator', 'masipag', 'ayyan', '34bln', 'battlefied', 'innus', 'naktsang', 'pauseforpeace', 'sleka', 'thousnds', 'namira', 'masculinists', 'croisants', 'dawabsheh', 'cop22', 'permisable', 'us470k', 'icequakes', 'ramouseh', 'spuose', 'eurozoners', 'photostream', 'jabala', 'shejaia', 'hammanskraal', 'doolally', 'cowspiracy', 'lipschis', 'wellsite', 'erdog', 'tolokonnikova', 'edreams', '55pm', 'asylumseekers', 'ruralista', 'jan17', 'wwll', 'gagey', 'cagefighter', 'karlstrom', 'segalovich', '0pc', 'cremazione', '9350', 'newsprints', 'ezadeen', 'syian', 'planation', 'zeita', 'asimakopoulou', 'tusisia', 'russiaphobia', 'mpeketoni', 'wartard', 'golshifteh', 'venezualan', 'vietjet', 'rapar', 'corderre', 'untappable', 'molotovs', '599m', '390m', 'extragavant', 'krd', 'toruno', '767m', 'waitlist', 'carnewschina', 'pauta', 'unsheared', 'nopes', 'us378', '185k', 'peop', 'ification', 'barankov', 'meshael', 'ngäbe', 'israaid', '146bn', 'thawte', 'tokomeza', 'perturbent', 'gadaffhi', 'conutries', 'mallı', 'éléphant', 'normandeau', 'largetooth', 'privitization', '191k', 'agian', 'araqib', 'bialiatski', 'myfox', 'oulawing', 'arrogants', 'vervoort', 'rindfleischetikettierungsüberwachungsaufgabenübertragungsgesetz', 'renán', 'fy16', 'arntfield', '818m', '93km', 'minala', 'blagoveshensk', 'kátia', 'kajita', 'paedophilic', 'amuquhu', 'iinflux', 'spectatrice', 'unbiasedworldnews', '36hours', 'pyrosome', 'ahmadinajad', 'sandmonkey', '102m', '1kilo', 'sinofile', 'ismashing', '127m', 'nobama', 'rehteah', 'zacharevic', 'wutty', 'webtime', 'chasteness', 'lubitz', 'ffuxq9uoln4', 'yilmazturk', 'deeva', 'alqeda', 'leijerstam', 'therepublic', 'méric', 'chillaxes', 'khataba', '057', 'schoolheart', '66b', 'cablegates', 'nilometer', 'vordonosi', 'm00t', 'iwatch', 'tenharim', 'deleasa', '882m', 'palestenians', 'knpb', '100mn', 'indepthafrica', 'definiton', 'shagur', 'metrò', 'chomnsky', 'aabo', 'leagueoflegends', 'naqab', 'n1h1', 'punctuators', 'viruga', 'yefren', '700million', '24xindia', 'bhamre', 'dyatlov', 'bottlegate', 'moonpig', 'asqa', 'shackville', 'ceasescu', 'mindbodyfx', '21ft', 'ponar', 'mawingu', 'porcina', 'engineroom', 'democ', 'spaaace', 'kremlinite', 'afcon2013', 'disseration', 'suprima', 'severodonetsk', 'guantanamos', 'atmospherical', 'b38m', 'interigent', 'sourh', 'nfld', 'mediterraneansea', 'kottman', 'nighthawkers', 'gluegate', 'interwebs', 'bbcnews', 'onlin', 'tomorow', 'atsufumi', 'maraldi', 'descovered', 'zapable', 'mushshak', 'w35', 'hejun', 'cragar', 'folied', 'slavyansk', 'antifa', 'anonsec', 'ustube', 'napoleonland', 'fxcm', 'mahmoudahmadinejad', '279bn', 'henky', 'raznozzhayev', 'prisonner', 'fahren', '217k', '18cm', 'iksil', 'islamified', 'sharknado', 'bitish', 'sobiech', 'phillipenes', 'setnence', 'al_qaeda', 'unforgetable', 'mulzac', 'masacres', 'takieddine', 'usdjpy', 'metropolite', '618m', 'schuepbach', 'mayfaah', 'menmedia', 'antrix', 'langtsa', 'ifour', 'aruther', 'versata', 'casteist', 'tamebay', 'chahed', 'utm_campaign', 'benhazi', 'ballsed', 'sarvodoya', 'roivas', 'woodchucker', 'kakrapara', 'enec', '750k', 'bangladash', 'uppleva', 'súmate', '570kg', 'islamphobia', 'dharna', 'dawnwires', 'recode', '519bn', 'koshering', 'habayit', 'novemdecillion', 'duolingo', 'brusselswatch', 'cania', 'kakaâi', 'hiftar', '27cm', 'dsquaw', 'kainat', '127bn', 'rowanda', 'wildleaks', 'راشد', 'maode', 'awarness', 'peshawarattack', 'alawsat', 'sawhoyamaxa', 'bulldoz', 'weild', 'joybook', 'warefare', '5mg', 'nasır', 'oddee', 'rådhuset', 'muisne', 'ethinic', 'hizma', 'mbote', 'pitful', '429m', 'shreddin', 'cience', 'strombo', 'yellowist', '8amtsh', 'belitsakos', 'bl86', 'oficines', 'noratlas', 'deinster', 'duv', '681mn', 'schleckeria', 'تهران', 'chinasmack', 'pastoruri', '6bn', 'beautifies', 'terrorwave', '2756', 'cyberthefts', 'fadumo', 'ofek9', 'expresion', 'natiion', 'ghattous', 'cherán', 'acioli', 'javno', 'newstrust', 'shunli', 'katrougalos', 'ajdabiyah', '77000', 'zagranicy', 'strictlyworldpolitics', 'whitelisted', 'visitis', 'ubrr', 'shfela'}\n"
          ],
          "name": "stdout"
        },
        {
          "output_type": "execute_result",
          "data": {
            "application/vnd.google.colaboratory.intrinsic+json": {
              "type": "string"
            },
            "text/plain": [
              "'\\nWords that are not present in the glove embeddings fall into one of the below categories:\\n1. misspelt words\\n2. foreign language words\\n3. digits\\n4. concatenation of two words\\n5. unofficial words\\n6. other reasons.\\n\\nWe will use zero array embeddings [0, 0, ... , 0] for such words.\\n'"
            ]
          },
          "metadata": {
            "tags": []
          },
          "execution_count": 107
        }
      ]
    },
    {
      "cell_type": "code",
      "metadata": {
        "colab": {
          "base_uri": "https://localhost:8080/"
        },
        "id": "UyuEYMQQnfov",
        "outputId": "7adb2d81-894d-4dc2-d649-3aa108f9e4e1"
      },
      "source": [
        "# Check the embedding for a word.\n",
        "print(vectorizer.word2vec['happy'])"
      ],
      "execution_count": 108,
      "outputs": [
        {
          "output_type": "stream",
          "text": [
            "[-0.090436   0.19636    0.29474   -0.47706   -0.80436    0.3078\n",
            " -0.55205    0.58453   -0.17056   -0.84846    0.19528    0.23671\n",
            "  0.46827   -0.58977   -0.12163   -0.24697   -0.072944   0.17259\n",
            " -0.0485     0.9527     0.50629    0.58497   -0.19367   -0.45459\n",
            " -0.031095   0.51633   -0.24052   -0.1007     0.53627    0.024225\n",
            " -0.50162    0.73692    0.49468   -0.34744    0.89337    0.057439\n",
            " -0.19127    0.39333    0.21182   -0.89837    0.078704  -0.16344\n",
            "  0.45261   -0.41096   -0.19499   -0.13489   -0.016313  -0.021849\n",
            "  0.17136   -1.2413     0.079503  -0.91144    0.35699    0.36289\n",
            " -0.24934   -2.1196     0.14534    0.52964    0.90134    0.033603\n",
            "  0.022809   0.70625   -1.0362    -0.59809    0.70592   -0.072793\n",
            "  0.67033    0.52763   -0.47807   -0.67374    0.36632   -0.38284\n",
            " -0.10349   -0.6402     0.18104    0.82568    0.066403  -0.40791\n",
            " -0.083813  -0.36487    0.045362  -0.073527  -0.20117    0.37441\n",
            " -1.4024    -0.25605   -0.4708    -0.16145   -0.87921   -0.36325\n",
            " -0.17357   -0.077983   0.43273    0.0089295 -1.0316    -0.11589\n",
            " -0.34524    0.11514   -0.40812    0.20203  ]\n"
          ],
          "name": "stdout"
        }
      ]
    },
    {
      "cell_type": "markdown",
      "metadata": {
        "id": "XVkZitjcTR_u"
      },
      "source": [
        "### Create data and Test-Train split\n",
        "\n",
        "For our classifier we need to create training and testing data. We see that the entire dataset has only 320 positive (over18) examples. We can tolerate some class imbalance but not too much. We tried with multiple sizes of negative examples and noticed that 1000-2000 examples work well. So, we shall use 1500 random negative examples from the dataset to create test+train dataset.\n",
        "\n",
        "After that we will shuffle the data, use 80:20 split for train:test data and train our model. We use K-fold cross validation on the train data to select the best model hyperparameters."
      ]
    },
    {
      "cell_type": "code",
      "metadata": {
        "id": "rZGcwZ8xp5UX"
      },
      "source": [
        "# Create train, validation and test data.\n",
        "# Over 18 data is present in over_18_corpus.\n",
        "\n",
        "# The number of non-over-18 examples to use from the dataset.\n",
        "not_over_18_size = 2000 # 2880\n",
        "not_over_18_corpus = []\n",
        "not_over_18_y = np.zeros(not_over_18_size)\n",
        "\n",
        "# from the first 100_000 titles, choose `not_over_18_size` non-over-18 examples.\n",
        "for chunk in pd.read_csv(filename, sep=',', header=0, chunksize=100_000):\n",
        "    indices = np.random.choice(100000, not_over_18_size + 500)\n",
        "    # print(indices)\n",
        "    for over_18, title in zip(chunk['over_18'][indices], chunk['title'][indices]):\n",
        "        if not over_18:\n",
        "            title = re.sub(r'[^\\w ]', ' ', title)\n",
        "            not_over_18_corpus.append(title)\n",
        "    break\n",
        "not_over_18_corpus = not_over_18_corpus[:not_over_18_size]"
      ],
      "execution_count": 109,
      "outputs": []
    },
    {
      "cell_type": "code",
      "metadata": {
        "colab": {
          "base_uri": "https://localhost:8080/"
        },
        "id": "dl5B7BkSwQps",
        "outputId": "8102f55c-cf7b-4f1c-cc0b-d8e862549a35"
      },
      "source": [
        "print(len(not_over_18_corpus))\n",
        "print(not_over_18_corpus[0:3])\n",
        "print(len(over_18_corpus))\n",
        "over_18_y = np.ones(320)"
      ],
      "execution_count": 110,
      "outputs": [
        {
          "output_type": "stream",
          "text": [
            "2000\n",
            "['New Series documenting the revolution tearing through the Arab world ', 'Can you be a volunteer and teach in Haiti  If not can you help by  telling your friends', 'Comedian Jón Gnarr is the newly elected mayor of Reykjavík  the capital city of Iceland ']\n",
            "320\n"
          ],
          "name": "stdout"
        }
      ]
    },
    {
      "cell_type": "code",
      "metadata": {
        "colab": {
          "base_uri": "https://localhost:8080/"
        },
        "id": "gl_5KMBNw6qT",
        "outputId": "0bed698e-2295-4d31-cfee-30a56871a0a8"
      },
      "source": [
        "# Create the combined data\n",
        "X_combined = over_18_corpus + not_over_18_corpus\n",
        "Y_combined = np.append(over_18_y, not_over_18_y)\n",
        "print(len(X_combined), Y_combined.shape)\n",
        "assert not_over_18_size + 320 == len(X_combined)\n",
        "assert not_over_18_size + 320 == Y_combined.shape[0]\n",
        "\n",
        "# Print some examples\n",
        "print(X_combined[:3])\n",
        "print(X_combined[-3:])"
      ],
      "execution_count": 111,
      "outputs": [
        {
          "output_type": "stream",
          "text": [
            "2320 (2320,)\n",
            "['Pics from the Tibetan protests   more graphic than Wikileaks  nsfw  graphic ', 'MI5 linked to Max Mosley s Nazi style  sadomasochistic sex orgy  Mosley s father led the British Union of Fascists in the 30s and 40s  His mother was a great admirer of Adolf Hitler  NSFW ', 'Tabloid Horrifies Germany  Poland s Yellow Press Turns Blood Red  if you follow the link to the gallery  4th picture is NSFW in the US ']\n",
            "['The Indian state of Kerala is famous as the land of coconuts  But climbing trees has been the only way to pick them  Until now   ', 'Swine flu spread over time  Map ', 'Australia  Wildfire Death Toll Rises To 200  Police']\n"
          ],
          "name": "stdout"
        }
      ]
    },
    {
      "cell_type": "code",
      "metadata": {
        "colab": {
          "base_uri": "https://localhost:8080/"
        },
        "id": "x_xAPi6ty6vM",
        "outputId": "24fa4a5e-28cb-4d64-9b6d-79fccc0f0397"
      },
      "source": [
        "X_matrix = vectorizer.transform(X_combined)\n",
        "Y_matrix = np.array(Y_combined)\n",
        "print(X_matrix.shape, Y_matrix.shape)"
      ],
      "execution_count": 112,
      "outputs": [
        {
          "output_type": "stream",
          "text": [
            "Numer of samples with no words found: 2 / 2320\n",
            "(2320, 100) (2320,)\n"
          ],
          "name": "stdout"
        }
      ]
    },
    {
      "cell_type": "markdown",
      "metadata": {
        "id": "SJegsQ_xTppz"
      },
      "source": [
        "### Pipeline training and evaluation\n",
        "\n",
        "We use pipeline construct to make training and testing easier. Input data is normalized to have mean 0 and variance 1. We use support vector classifier as it performs well on low data regimes and is known to have good performance for classification tasks. We tried various kernels and rbf kernel performs much better than others. Hyperparameters to tune are gamma and C. We use Grid search to find the best values.\n",
        "\n",
        "We use F1 score to select the best hyperparameter rather than accuracy because the data is imbalanced.\n",
        "\n",
        "*Handling very large data:*\n",
        "\n",
        "In this example we sample the input to pick only ~2000 examples to train the model. This is because of very less (320) positive examples. If the ratio of positive and negative examples was better, we could have used more data to train the classifier. In that case, it would be better to use online training models like SGDClassifier which allows partial training over a chunk of training data."
      ]
    },
    {
      "cell_type": "code",
      "metadata": {
        "colab": {
          "base_uri": "https://localhost:8080/"
        },
        "id": "anDtzmLC1uFL",
        "outputId": "7d18247f-0ab7-4b02-b475-6eebdbac7105"
      },
      "source": [
        "from sklearn.svm import SVC\n",
        "from sklearn.preprocessing import StandardScaler\n",
        "from sklearn.datasets import make_classification\n",
        "from sklearn.model_selection import train_test_split\n",
        "from sklearn.pipeline import Pipeline\n",
        "from sklearn.model_selection import GridSearchCV\n",
        "\n",
        "X_train, X_test, y_train, y_test = train_test_split(X_matrix, Y_matrix, random_state=0,\n",
        "                                                    train_size=0.80)\n",
        "\n",
        "# to normalize the data.\n",
        "scalar = StandardScaler()\n",
        "\n",
        "# our binary classifier with class weights because data is not balanced.\n",
        "svc = SVC(class_weight='balanced', kernel='rbf') \n",
        "\n",
        "# To find the best parameter using grid search. We use F1 score as the scoring metric\n",
        "# because of unbalanced classes. Optimizing on accuracy is not correct here.\n",
        "param_grid = {'C': [0.1, 1, 10, 100], 'gamma': [1, 0.1, 0.01, 0.001]}\n",
        "grid_search_svc = GridSearchCV(estimator=svc, param_grid=param_grid, scoring='f1')\n",
        "\n",
        "pipe = Pipeline([('scaler', scalar), ('grid_search_svc', grid_search_svc)])\n",
        "\n",
        "# The pipeline can be used as any other estimator\n",
        "# and avoids leaking the test set into the train set\n",
        "pipe.fit(X_train, y_train)"
      ],
      "execution_count": 113,
      "outputs": [
        {
          "output_type": "execute_result",
          "data": {
            "text/plain": [
              "Pipeline(memory=None,\n",
              "         steps=[('scaler',\n",
              "                 StandardScaler(copy=True, with_mean=True, with_std=True)),\n",
              "                ('grid_search_svc',\n",
              "                 GridSearchCV(cv=None, error_score=nan,\n",
              "                              estimator=SVC(C=1.0, break_ties=False,\n",
              "                                            cache_size=200,\n",
              "                                            class_weight='balanced', coef0=0.0,\n",
              "                                            decision_function_shape='ovr',\n",
              "                                            degree=3, gamma='scale',\n",
              "                                            kernel='rbf', max_iter=-1,\n",
              "                                            probability=False,\n",
              "                                            random_state=None, shrinking=True,\n",
              "                                            tol=0.001, verbose=False),\n",
              "                              iid='deprecated', n_jobs=None,\n",
              "                              param_grid={'C': [0.1, 1, 10, 100],\n",
              "                                          'gamma': [1, 0.1, 0.01, 0.001]},\n",
              "                              pre_dispatch='2*n_jobs', refit=True,\n",
              "                              return_train_score=False, scoring='f1',\n",
              "                              verbose=0))],\n",
              "         verbose=False)"
            ]
          },
          "metadata": {
            "tags": []
          },
          "execution_count": 113
        }
      ]
    },
    {
      "cell_type": "code",
      "metadata": {
        "colab": {
          "base_uri": "https://localhost:8080/"
        },
        "id": "1E_QY0izJLdD",
        "outputId": "3fd58ade-f551-4e6d-e384-2980f4858332"
      },
      "source": [
        "print(pipe.named_steps.grid_search_svc.best_params_)\n",
        "print(pipe.named_steps.grid_search_svc.best_estimator_)"
      ],
      "execution_count": 114,
      "outputs": [
        {
          "output_type": "stream",
          "text": [
            "{'C': 1, 'gamma': 0.01}\n",
            "SVC(C=1, break_ties=False, cache_size=200, class_weight='balanced', coef0=0.0,\n",
            "    decision_function_shape='ovr', degree=3, gamma=0.01, kernel='rbf',\n",
            "    max_iter=-1, probability=False, random_state=None, shrinking=True,\n",
            "    tol=0.001, verbose=False)\n"
          ],
          "name": "stdout"
        }
      ]
    },
    {
      "cell_type": "code",
      "metadata": {
        "colab": {
          "base_uri": "https://localhost:8080/"
        },
        "id": "ZfFpwk3s5FH4",
        "outputId": "5814d012-099e-403f-86c5-2c98e54b5a24"
      },
      "source": [
        "from sklearn.metrics import f1_score\n",
        "\n",
        "y_test_pred = pipe.predict(X_test)\n",
        "print('Mean average accuracy:', np.mean(y_test_pred == y_test))\n",
        "print('F1 score:', f1_score(y_true=y_test, y_pred=y_test_pred), pipe.score(X_test, y_test))"
      ],
      "execution_count": 115,
      "outputs": [
        {
          "output_type": "stream",
          "text": [
            "Mean average accuracy: 0.8728448275862069\n",
            "F1 score: 0.556390977443609 0.556390977443609\n"
          ],
          "name": "stdout"
        }
      ]
    },
    {
      "cell_type": "code",
      "metadata": {
        "id": "r7UrQTXGDgOw"
      },
      "source": [
        "'''\n",
        "For a given title array having multiple titles, tell if they are over_18 or not.\n",
        "Input:\n",
        "    title_array = A list of strings where each string is s title. Length of array is n.\n",
        "Returns:\n",
        "    over_18_array (ndarray): Array of shape (n,). Value 1 indicates over_18 title\n",
        "        and 0 indicates not over_18 title.\n",
        "'''\n",
        "def predict_title_class(title_array):\n",
        "    title_x = vectorizer.transform(title_array)\n",
        "    title_y = pipe.predict(title_x)\n",
        "    return title_y"
      ],
      "execution_count": 116,
      "outputs": []
    },
    {
      "cell_type": "code",
      "metadata": {
        "colab": {
          "base_uri": "https://localhost:8080/"
        },
        "id": "kB03Av7QKyhn",
        "outputId": "a5f22737-f52e-48bf-d229-338381b48454"
      },
      "source": [
        "# Use the classifier to predict some random example sentences. These examples are not\n",
        "# part of the dataset.\n",
        "predict_title_class([\"the usa bombed on someone. what to in crisis? \",\n",
        "                     \"the baseball match was a fun event\",\n",
        "                     \"The woman was found playing in her room.\",\n",
        "                     \"The man was found dead, shot in the head, and naked.\",\n",
        "                     \"sex and the city\",\n",
        "                     \"The man was found with child porn and his penis was cut\",\n",
        "                     \"Machine learning is the new electricity and has huge potential.\"])"
      ],
      "execution_count": 117,
      "outputs": [
        {
          "output_type": "stream",
          "text": [
            "Numer of samples with no words found: 0 / 7\n"
          ],
          "name": "stdout"
        },
        {
          "output_type": "execute_result",
          "data": {
            "text/plain": [
              "array([0., 1., 0., 1., 0., 1., 0.])"
            ]
          },
          "metadata": {
            "tags": []
          },
          "execution_count": 117
        }
      ]
    },
    {
      "cell_type": "code",
      "metadata": {
        "colab": {
          "base_uri": "https://localhost:8080/"
        },
        "id": "m0YTNFUmK7pc",
        "outputId": "59e85722-1862-46fa-c0fd-431e03e99690"
      },
      "source": [
        "'''\n",
        "We picked the training and testing data from the first 100,000 examples. So we use the \n",
        "next 100,000 examples to see the model's performance on them. We precison, recall, F1 scores\n",
        "for 0 (not over18) and 1 (over18) labels.\n",
        "\n",
        "Analysis:\n",
        "The F1 score for label=1 is very low (<0.02). This is because the input data is highly \n",
        "skewed. label_1:label_0 = 75:99925. But the recall on label=1 is high (~0.88) which \n",
        "indicates that an over_18 title is mostly identified correctly.\n",
        "'''\n",
        "\n",
        "from sklearn.metrics import precision_recall_fscore_support\n",
        "\n",
        "# Let's see how our model performs against unseen data.\n",
        "for chunk_no, chunk in enumerate(pd.read_csv(filename, sep=',', header=0, chunksize=100_000)):\n",
        "    # Since we picked train-test data from chunk 0, we use other chunks to test performance.\n",
        "    if chunk_no > 0:\n",
        "        y_test = []\n",
        "        x_test = []\n",
        "        for over_18, title in zip(chunk['over_18'], chunk['title']):\n",
        "            y_test.append(1 if over_18 else 0)\n",
        "            x_test.append(re.sub(r'[^\\w ]', ' ', title))\n",
        "        y_test_pred = predict_title_class(x_test)\n",
        "        # print(y_test)\n",
        "        # print(y_test_pred)\n",
        "        precision, recall, f1score, support = precision_recall_fscore_support(\n",
        "            y_true=y_test, y_pred=y_test_pred, average=None\n",
        "        )\n",
        "        print('precion={}, recall={}, F1={}, support={}'.format(\n",
        "            precision, recall, f1score, support\n",
        "        ))\n",
        "        # Just see performance for 100,000 examples.\n",
        "        break"
      ],
      "execution_count": 118,
      "outputs": [
        {
          "output_type": "stream",
          "text": [
            "Numer of samples with no words found: 10 / 100000\n",
            "precion=[0.99995541 0.00689655], recall=[0.89768326 0.94666667], F1=[0.94606339 0.01369335], support=[99925    75]\n"
          ],
          "name": "stdout"
        }
      ]
    },
    {
      "cell_type": "code",
      "metadata": {
        "id": "tKXTcBNXOnkz"
      },
      "source": [
        ""
      ],
      "execution_count": 118,
      "outputs": []
    }
  ]
}