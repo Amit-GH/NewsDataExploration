{
  "nbformat": 4,
  "nbformat_minor": 0,
  "metadata": {
    "colab": {
      "name": "News Title Data Exploration.ipynb",
      "provenance": [],
      "collapsed_sections": [],
      "toc_visible": true,
      "authorship_tag": "ABX9TyNSivIgu5GhZHNuVCSo1UhS",
      "include_colab_link": true
    },
    "kernelspec": {
      "name": "python3",
      "display_name": "Python 3"
    },
    "language_info": {
      "name": "python"
    }
  },
  "cells": [
    {
      "cell_type": "markdown",
      "metadata": {
        "id": "view-in-github",
        "colab_type": "text"
      },
      "source": [
        "<a href=\"https://colab.research.google.com/github/Amit-GH/NewsDataExploration/blob/mainline/News_Title_Data_Exploration.ipynb\" target=\"_parent\"><img src=\"https://colab.research.google.com/assets/colab-badge.svg\" alt=\"Open In Colab\"/></a>"
      ]
    },
    {
      "cell_type": "markdown",
      "metadata": {
        "id": "NvooHxpSd5Z4"
      },
      "source": [
        "# Data Analysis on News Titles dataset\n",
        "\n",
        "Note:\n",
        "* In our analysis we read through the data multiple times. In a production setting this is not efficient and can be improved. Many steps can be performed at once like finding vocabulary size and creating in-memory index. But we keep it separate to make the analysis easier to understand and show the natural progress done in the work."
      ]
    },
    {
      "cell_type": "markdown",
      "metadata": {
        "id": "1rC64wV2flnX"
      },
      "source": [
        "## Infrastructure and library setup"
      ]
    },
    {
      "cell_type": "code",
      "metadata": {
        "id": "gIyJan_oYoWo"
      },
      "source": [
        "import pathlib\n",
        "import pandas as pd\n",
        "import numpy as np\n",
        "import matplotlib.pyplot as plt\n",
        "import re\n",
        "import nltk\n",
        "import scipy\n",
        "import os\n",
        "import pickle"
      ],
      "execution_count": 1,
      "outputs": []
    },
    {
      "cell_type": "code",
      "metadata": {
        "colab": {
          "base_uri": "https://localhost:8080/"
        },
        "id": "-aiIHwmNSH6d",
        "outputId": "3541ea63-0f4c-4159-f37b-f03f3f4c047f"
      },
      "source": [
        "# Load the Drive helper and mount\n",
        "from google.colab import drive\n",
        "drive.mount('/content/drive')"
      ],
      "execution_count": 2,
      "outputs": [
        {
          "output_type": "stream",
          "text": [
            "Mounted at /content/drive\n"
          ],
          "name": "stdout"
        }
      ]
    },
    {
      "cell_type": "code",
      "metadata": {
        "colab": {
          "base_uri": "https://localhost:8080/"
        },
        "id": "XHDGsBwAYwxb",
        "outputId": "5bee9669-dad4-4b54-923d-87387c3d2a11"
      },
      "source": [
        "cd drive/MyDrive/Eluvio\\ Dataset"
      ],
      "execution_count": 3,
      "outputs": [
        {
          "output_type": "stream",
          "text": [
            "/content/drive/MyDrive/Eluvio Dataset\n"
          ],
          "name": "stdout"
        }
      ]
    },
    {
      "cell_type": "code",
      "metadata": {
        "colab": {
          "base_uri": "https://localhost:8080/"
        },
        "id": "8yNfGJJCY2dk",
        "outputId": "d0986865-63c7-472c-ead0-c75e852ab977"
      },
      "source": [
        "path = pathlib.Path().absolute()\n",
        "print(path)"
      ],
      "execution_count": 4,
      "outputs": [
        {
          "output_type": "stream",
          "text": [
            "/content/drive/MyDrive/Eluvio Dataset\n"
          ],
          "name": "stdout"
        }
      ]
    },
    {
      "cell_type": "code",
      "metadata": {
        "id": "K_RRvH6aWfAc"
      },
      "source": [
        "assert str(path) == '/content/drive/MyDrive/Eluvio Dataset' or str(path) == '/content/drive/My Drive/Eluvio Dataset'"
      ],
      "execution_count": 5,
      "outputs": []
    },
    {
      "cell_type": "code",
      "metadata": {
        "colab": {
          "base_uri": "https://localhost:8080/"
        },
        "id": "n50y49kubiqM",
        "outputId": "490a7d75-4c7c-4409-9cd4-9020e6321b38"
      },
      "source": [
        "'''\n",
        "Look at few rows of the data to understand the data types, rows and columns.\n",
        "Create a high level sense of the data to pose questions later on.\n",
        "'''\n",
        "\n",
        "filename = 'Eluvio_DS_Challenge.csv'\n",
        "\n",
        "# print partial data and all column names.\n",
        "for chunk in pd.read_csv(filename, sep=',', header=0, chunksize=5):\n",
        "    print(chunk)\n",
        "    print(chunk.columns)\n",
        "    break"
      ],
      "execution_count": 6,
      "outputs": [
        {
          "output_type": "stream",
          "text": [
            "   time_created date_created  up_votes  ...  over_18    author   category\n",
            "0    1201232046   2008-01-25         3  ...    False     polar  worldnews\n",
            "1    1201232075   2008-01-25         2  ...    False     polar  worldnews\n",
            "2    1201232523   2008-01-25         3  ...    False     polar  worldnews\n",
            "3    1201233290   2008-01-25         1  ...    False   fadi420  worldnews\n",
            "4    1201274720   2008-01-25         4  ...    False  mhermans  worldnews\n",
            "\n",
            "[5 rows x 8 columns]\n",
            "Index(['time_created', 'date_created', 'up_votes', 'down_votes', 'title',\n",
            "       'over_18', 'author', 'category'],\n",
            "      dtype='object')\n"
          ],
          "name": "stdout"
        }
      ]
    },
    {
      "cell_type": "markdown",
      "metadata": {
        "id": "3MzYbk_JgHpb"
      },
      "source": [
        "## Identify relevant and irrelevant fields.\n",
        "\n",
        "Not all fields are relevant. If a particular field has only cardinality=1, then it is unhelpful for most types of analysis (if any)."
      ]
    },
    {
      "cell_type": "code",
      "metadata": {
        "id": "QUGekAVgdjHP"
      },
      "source": [
        "categories = set()\n",
        "author_stats = {} # key = author name, value = [count, upvotes, downvotes]\n",
        "downvotes_set = set()\n",
        "max_upvotes = 0\n",
        "\n",
        "# Read the file in paginated way as it can be big.\n",
        "for chunk in pd.read_csv(filename, sep=',', header=0, chunksize=100000):\n",
        "    categories.update(chunk['category'])\n",
        "\n",
        "    for author, upvotes, downvotes in zip(chunk['author'], chunk['up_votes'], chunk['down_votes']):\n",
        "        author_stats[author] = author_stats.get(author, np.zeros((3, ))) + np.array([1, upvotes, downvotes])\n",
        "        max_upvotes = max(max_upvotes, upvotes)\n",
        "    downvotes_set.update(chunk['down_votes'])"
      ],
      "execution_count": 7,
      "outputs": []
    },
    {
      "cell_type": "code",
      "metadata": {
        "colab": {
          "base_uri": "https://localhost:8080/"
        },
        "id": "uMw9faR5iXaV",
        "outputId": "aa793ac9-d8c7-4bd6-ad87-b09a57ea4d4e"
      },
      "source": [
        "print('Unique type of downvotes = {}'.format(len(downvotes_set)))\n",
        "print('categories: size = {}, content = {}\\n'.format(len(categories), categories))\n",
        "print('\\nBased on data, categories and content columns don\\'t help at all as there is no variability.')"
      ],
      "execution_count": 8,
      "outputs": [
        {
          "output_type": "stream",
          "text": [
            "Unique type of downvotes = 1\n",
            "categories: size = 1, content = {'worldnews'}\n",
            "\n",
            "\n",
            "Based on data, categories and content columns don't help at all as there is no variability.\n"
          ],
          "name": "stdout"
        }
      ]
    },
    {
      "cell_type": "markdown",
      "metadata": {
        "id": "dWkDFEEjip25"
      },
      "source": [
        "## Authors statistics and quality\n",
        "We pose three questions and try to answer them from the data.\n",
        "1. Who are authors that have written the most number of news articles?\n",
        "1. Who are the authors that write very popular articles? We can use upvotes data to answer this question.\n",
        "1. Which authors write quality articles that are most likely to be upvoted by people?"
      ]
    },
    {
      "cell_type": "code",
      "metadata": {
        "colab": {
          "base_uri": "https://localhost:8080/"
        },
        "id": "W6ewyRfXe4tx",
        "outputId": "c95ba124-8ebc-45a2-95aa-876c161b05d5"
      },
      "source": [
        "print('unique authors = {}\\n'.format(len(author_stats)))\n",
        "author_stats_list = list(author_stats.items())\n",
        "\n",
        "# sort authors by their count\n",
        "author_stats_list.sort(key=lambda a:a[1][0], reverse=True)\n",
        "print('Top 10 authors by counts are:')\n",
        "for i, (author, stat) in enumerate(author_stats_list[:10]):\n",
        "    print('  {} -> {} : {}'.format(i+1, author, stat[0]))\n",
        "\n",
        "# sort authors by upvotes\n",
        "author_stats_list.sort(key=lambda a:a[1][1], reverse=True)\n",
        "print('\\nTop 10 authors by upvotes are:')\n",
        "for i, (author, stat) in enumerate(author_stats_list[:10]):\n",
        "    print('  {} -> {} : {}'.format(i+1, author, stat[1]))\n",
        "\n",
        "# sort authors by upvotes per count\n",
        "author_stats_list.sort(key=lambda a:a[1][1]/a[1][0], reverse=True)\n",
        "print('\\nTop 10 authors by upvotes per count are:')\n",
        "for i, (author, stat) in enumerate(author_stats_list[:10]):\n",
        "    print('  {} -> {} : {}'.format(i+1, author, stat[1]/stat[0]))"
      ],
      "execution_count": 9,
      "outputs": [
        {
          "output_type": "stream",
          "text": [
            "unique authors = 85838\n",
            "\n",
            "Top 10 authors by counts are:\n",
            "  1 -> davidreiss666 : 8897.0\n",
            "  2 -> anutensil : 5730.0\n",
            "  3 -> DoremusJessup : 5037.0\n",
            "  4 -> maxwellhill : 4023.0\n",
            "  5 -> igeldard : 4013.0\n",
            "  6 -> readerseven : 3170.0\n",
            "  7 -> twolf1 : 2923.0\n",
            "  8 -> madam1 : 2658.0\n",
            "  9 -> nimobo : 2564.0\n",
            "  10 -> madazzahatter : 2503.0\n",
            "\n",
            "Top 10 authors by upvotes are:\n",
            "  1 -> maxwellhill : 1985416.0\n",
            "  2 -> anutensil : 1531544.0\n",
            "  3 -> Libertatea : 832102.0\n",
            "  4 -> DoremusJessup : 584380.0\n",
            "  5 -> Wagamaga : 580121.0\n",
            "  6 -> NinjaDiscoJesus : 492582.0\n",
            "  7 -> madazzahatter : 428966.0\n",
            "  8 -> madam1 : 390541.0\n",
            "  9 -> davidreiss666 : 338306.0\n",
            "  10 -> kulkke : 333311.0\n",
            "\n",
            "Top 10 authors by upvotes per count are:\n",
            "  1 -> navysealassulter : 12333.0\n",
            "  2 -> seapiglet : 11288.0\n",
            "  3 -> DawgsOnTopUGA : 10515.0\n",
            "  4 -> Flamo_the_Idiot_Boy : 10289.0\n",
            "  5 -> haunted_cheesecake : 9408.0\n",
            "  6 -> bendertheoffender22 : 8781.0\n",
            "  7 -> crippledrejex : 8601.0\n",
            "  8 -> FlandersNed : 8446.0\n",
            "  9 -> lesseva96 : 8404.0\n",
            "  10 -> sverdrupian : 8262.0\n"
          ],
          "name": "stdout"
        }
      ]
    },
    {
      "cell_type": "markdown",
      "metadata": {
        "id": "lf-lmSMTkAO0"
      },
      "source": [
        "## Data pre-processing\n",
        "* We pre-process the `title` data which is a string of English language text.\n",
        "* We find vocabulary size to get an idea about the diversity of text."
      ]
    },
    {
      "cell_type": "code",
      "metadata": {
        "colab": {
          "base_uri": "https://localhost:8080/"
        },
        "id": "bwEwC6TVnbW-",
        "outputId": "db9d72b2-17fa-4105-8933-1aaa1b350d4d"
      },
      "source": [
        "# Downloads the stop words data.\n",
        "nltk.download('stopwords')\n",
        "\n",
        "# Using the stopwords.\n",
        "from nltk.corpus import stopwords\n",
        "\n",
        "# Initialize the stopwords for English language.\n",
        "stop_words = set(stopwords.words('english'))\n",
        "print(len(stop_words))"
      ],
      "execution_count": 10,
      "outputs": [
        {
          "output_type": "stream",
          "text": [
            "[nltk_data] Downloading package stopwords to /root/nltk_data...\n",
            "[nltk_data]   Unzipping corpora/stopwords.zip.\n",
            "179\n"
          ],
          "name": "stdout"
        }
      ]
    },
    {
      "cell_type": "code",
      "metadata": {
        "id": "aJOemxEnw7kM"
      },
      "source": [
        "'''\n",
        "Input: a string sentence (a news title in our case)\n",
        "Returns:\n",
        "    a list of words present in the sentence after pre-processing.\n",
        "'''\n",
        "def pre_process_sentence_to_list(sentence):\n",
        "    # sent = re.sub(r'[^\\w\\s]', ' ', sentence)\n",
        "    sentence = sentence.lower()\n",
        "    sent = re.sub(r'[^\\w ]', ' ', sentence)\n",
        "    words = sent.split(' ')\n",
        "    words_nostop = [word for word in words if word not in stop_words and len(word) > 1]\n",
        "    return words_nostop"
      ],
      "execution_count": 11,
      "outputs": []
    },
    {
      "cell_type": "code",
      "metadata": {
        "id": "wZVt_tTTcOQG"
      },
      "source": [
        "# Read all titles, prune the data and find number of unique words.\n",
        "all_unique_words = set()\n",
        "\n",
        "for chunk in pd.read_csv(filename, sep=',', header=0, chunksize=100000):\n",
        "    for title in chunk['title']:\n",
        "        words_list = pre_process_sentence_to_list(title)\n",
        "        words_set = set(words_list)\n",
        "        all_unique_words.update(words_set)"
      ],
      "execution_count": 12,
      "outputs": []
    },
    {
      "cell_type": "code",
      "metadata": {
        "colab": {
          "base_uri": "https://localhost:8080/"
        },
        "id": "EJKezgIEmPYc",
        "outputId": "23a48f99-4f3c-47c6-e21c-6eb3f370169a"
      },
      "source": [
        "print('Vocabulary size: {}.'.format(len(all_unique_words)))\n",
        "print('Printing random 10 words from the vocabulary:')\n",
        "for i, word in enumerate(all_unique_words):\n",
        "    print(word, )\n",
        "    if i == 10:\n",
        "        break"
      ],
      "execution_count": 13,
      "outputs": [
        {
          "output_type": "stream",
          "text": [
            "Vocabulary size: 87835.\n",
            "Printing random 10 words from the vocabulary:\n",
            "arab\n",
            "польша\n",
            "dirce\n",
            "275\n",
            "cfr\n",
            "congresswoman\n",
            "deathless\n",
            "hawaii\n",
            "waverider\n",
            "baltics\n",
            "généraux\n"
          ],
          "name": "stdout"
        }
      ]
    },
    {
      "cell_type": "markdown",
      "metadata": {
        "id": "5Dat_UcorY4t"
      },
      "source": [
        "## Inverted Index creation\n",
        "\n",
        "In document ranking and processing tasks, an inverted index is a very helpful data structure. For large document collection it is saved on disk.\n",
        "It maps every word on the collection to a posting list. The posting list can be of a variety of types. We create a count inverted index where the posting list for a word consists of a dictionary where key is title_id and value is the number of times the word appears in the title string.\n",
        "\n",
        "`index = {word : {title_id : count}}`"
      ]
    },
    {
      "cell_type": "code",
      "metadata": {
        "id": "hyupJY6ZnoB1"
      },
      "source": [
        "'''\n",
        "Create in-memory reverse index from the titles. Index can be saved on file if it is too big.\n",
        "Here we skip that part and use in-memory index for our analysis.\n",
        "\n",
        "Create some more helper data structures described below.\n",
        "\n",
        "inMemoryIndex - the in-memory index data structure.\n",
        "title_len - a dict where key is title_id and value is number of words in the title string.\n",
        "avgtl - average title length across the dataset.\n",
        "num_titles - Total number of titles or rows in the dataset.\n",
        "'''\n",
        "\n",
        "inMemoryIndex = {}\n",
        "title_index = 0\n",
        "\n",
        "title_len = {}\n",
        "avgtl = 0\n",
        "# total number of terms present in the collection including repetition.\n",
        "sumtl = 0\n",
        "\n",
        "for chunk in pd.read_csv(filename, sep=',', header=0, chunksize=50000):\n",
        "    for i, title in enumerate(chunk['title']):\n",
        "        title_id = title_index + i\n",
        "        words_list = pre_process_sentence_to_list(title)\n",
        "        \n",
        "        title_len[title_id] = len(words_list)\n",
        "        sumtl += len(words_list)\n",
        "\n",
        "        for word in words_list:\n",
        "            inMemoryIndex[word] = inMemoryIndex.get(word, {})\n",
        "            title_id_to_count = inMemoryIndex[word]\n",
        "            title_id_to_count[title_id] = title_id_to_count.get(title_id, 0)\n",
        "            title_id_to_count[title_id] += 1\n",
        "    title_index += chunk.shape[0]\n",
        "\n",
        "num_titles = title_index\n",
        "\n",
        "avgtl = sumtl / num_titles"
      ],
      "execution_count": 14,
      "outputs": []
    },
    {
      "cell_type": "markdown",
      "metadata": {
        "id": "-2uYCu5Jmn3l"
      },
      "source": [
        "## Find news titles that match the most for a word\n",
        "\n",
        "Given a word, find the top $k$ news titles based on the number of occurence of that word in the title."
      ]
    },
    {
      "cell_type": "code",
      "metadata": {
        "id": "FXt2MqHgwxea"
      },
      "source": [
        "'''\n",
        "Given a word, find at most k titles having the word most number of times.\n",
        "Returns a list of title ids. Most matched titles are placed first.\n",
        "'''\n",
        "def give_matching_title_ids(word, k):\n",
        "    title_id_count_list = list(inMemoryIndex.get(word, {}).items())\n",
        "    title_id_count_list.sort(key=lambda a:a[1], reverse=True)\n",
        "    title_id_list = []\n",
        "    for tid_count in title_id_count_list[:k]:\n",
        "        title_id_list.append(tid_count[0])\n",
        "    return title_id_list\n",
        "\n",
        "'''\n",
        "Given a list of sorted title_ids, returns a list of title strings.\n",
        "This is a private helper function for the generic method which allows non-sorted input.\n",
        "'''\n",
        "def _title_id_to_title(title_id_list):\n",
        "    title_index = 0\n",
        "    titles = []\n",
        "    \n",
        "    if len(title_id_list) == 0:\n",
        "        return titles\n",
        "    \n",
        "    tid_index = 0\n",
        "    done = False\n",
        "    for chunk in pd.read_csv(filename, sep=',', header=0, chunksize=50000):\n",
        "        for i, title in enumerate(chunk['title']):\n",
        "            title_id = i + title_index\n",
        "            if title_id == title_id_list[tid_index]:\n",
        "                titles.append(title)\n",
        "                tid_index += 1\n",
        "                if tid_index == len(title_id_list):\n",
        "                    done = True\n",
        "                    break\n",
        "        if done == True:\n",
        "            break\n",
        "        title_index += chunk.shape[0]\n",
        "    return titles\n",
        "\n",
        "'''\n",
        "Given a list of title_ids (may not be sorted), returns a list of title strings.\n",
        "'''\n",
        "def title_id_to_title(title_id_list):\n",
        "    if len(title_id_list) == 0:\n",
        "        return []\n",
        "    \n",
        "    title_id_list = np.array(title_id_list)\n",
        "    sorted_tids_index = np.argsort(title_id_list)\n",
        "    matching_titles = _title_id_to_title(title_id_list[sorted_tids_index])\n",
        "    pos_arr = np.zeros(len(title_id_list), dtype=np.int8)\n",
        "    for pos, ind in enumerate(sorted_tids_index):\n",
        "        pos_arr[ind] = pos\n",
        "    ret_list = []\n",
        "    for pos in pos_arr:\n",
        "        ret_list.append(matching_titles[pos])\n",
        "    return ret_list"
      ],
      "execution_count": 15,
      "outputs": []
    },
    {
      "cell_type": "code",
      "metadata": {
        "id": "VSHyvfEy8onp"
      },
      "source": [
        "'''\n",
        "Given a word and k, prints the top k titles that have the word in them the most\n",
        "number of times.\n",
        "'''\n",
        "def print_matching_titles(word, k):\n",
        "    word = pre_process_sentence_to_list(word)[0]\n",
        "    matching_tids = np.array(give_matching_title_ids(word, k))\n",
        "    # print(matching_tids)\n",
        "    matching_titles = title_id_to_title(matching_tids)\n",
        "    print('Top {} titles for word \\'{}\\' based on frequency of occurence of the word.'.format(k, word))\n",
        "    print('  Rank -> title_id : title string')\n",
        "    for i, (tid, title) in enumerate(zip(matching_tids, matching_titles)):\n",
        "        print('  {} -> {} : {}'.format(i+1, tid, title))"
      ],
      "execution_count": 16,
      "outputs": []
    },
    {
      "cell_type": "markdown",
      "metadata": {
        "id": "7sHVGnkSnInz"
      },
      "source": [
        "### Example\n",
        "\n",
        "1. Find top titles for word 'Prison'\n",
        "1. Find top titles for word 'turkish'."
      ]
    },
    {
      "cell_type": "code",
      "metadata": {
        "colab": {
          "base_uri": "https://localhost:8080/"
        },
        "id": "DHqXZjHmNJVX",
        "outputId": "a23da20c-6d90-4c31-f9ec-e21cef0ed580"
      },
      "source": [
        "print_matching_titles('Prison', 5)\n",
        "print()\n",
        "print_matching_titles('turkish', 5)"
      ],
      "execution_count": 17,
      "outputs": [
        {
          "output_type": "stream",
          "text": [
            "Top 5 titles for word 'prison' based on frequency of occurence of the word.\n",
            "  Rank -> title_id : title string\n",
            "  1 -> 48641 : How my father went from the prison of the shah to the prison of Khamenei. Right now, he is in solitary confinement in Evin prison in Tehran\n",
            "  2 -> 108093 : France sends ex-dictator Noriega to prison in native Panama - After more than 20 years in prison and being passed from country to country, former Panamanian strongman Manuel Noriega has returned home to serve out prison sentences for crimes committed during his dictatorship.\n",
            "  3 -> 188209 : 9 Escaped, 2 Guards Killed in Mexico Prison Attack. The attackers opened fire on prison guard towers early on Sunday before entering the prison’s territory and releasing several prisoners.\n",
            "  4 -> 232103 : Islamist women and girls receive heavy prison sentences for Egypt protests  ...Among them were seven girls ages 15 and 16, who were sentenced to prison terms until they turn 18. The rest — most ages 18 to 22 — were sentenced to 11 years in prison. \n",
            "  5 -> 11779 : More than a dozen Italian police officers, prison guards and doctors have been given prison sentences after being found guilty of brutality at a G8 summit in 2001. None will serve any time.\n",
            "\n",
            "Top 5 titles for word 'turkish' based on frequency of occurence of the word.\n",
            "  Rank -> title_id : title string\n",
            "  1 -> 52369 :  It s Time for Turkey to Snap Out of Its Self-Delusion  - Turkish Prime Minister Recep Tayyip Erdogan has once again suggested that Germany establish Turkish-language high schools for its immigrant population of Turkish descent. Regardless of the idea s merits, it is unlikely to endear him to Merkel\n",
            "  2 -> 58041 : Turkish Prez Erdogan: Israel Will Pay For Flotilla Raid - A week after the Israeli commando raid on a Gaza-bound Turkish ship, which left nine people dead, Turkish Prime Minister Recep Tayyip Erdogan said he would  no longer be silent on Gaza becoming a giant prison. \n",
            "  3 -> 98393 : Turkish airstrike campaign  killed 160 Kurdish rebels  -- Turkish jets bombed Kurdish rebel bases in northern Iraq in a series of air strikes last week which killed up to 160 rebels, Turkish officials say.\n",
            "  4 -> 133788 : In Turkish border city, Erdogan s backing of Syrian rebels draws ire:  In the city of Antakya on the Turkish-Syrian border, Turkish government support for the Syrian opposition has unnerved locals belonging to the same Shiite sect as President Assad.\n",
            "  5 -> 167447 : Around 1000 Turkish nationals will protest against the Dutch fostercare for placing Turkish children in the care of gay and non-Muslim couples. The protest will coincide with Turkish PM Erdogan s visit to The Netherlands on Thursday. [x-post from r/europe]\n"
          ],
          "name": "stdout"
        }
      ]
    },
    {
      "cell_type": "markdown",
      "metadata": {
        "id": "MdeZkvKboP5K"
      },
      "source": [
        "## Zipf distribution verification\n",
        "\n",
        "In a document or collection of documents, the distribution of frequencies of different words roughly follow a pattern. This distribution is described by the *Zipf's Law* which states that the rank of a word ($r$) is inversely proportional to this frequency ($f$). i.e. $r \\propto \\frac{1}{f}$. Alternatively, the rank of a word times its frequency is a constant ($k$). \n",
        "\n",
        "$$r . f = k$$\n",
        "\n",
        "Another way to state the Zipf's Law is to use the probability of terms instead of frequency. For that we need to divide frequency by the total number of terms in the document(s). We get,\n",
        "\n",
        "$$r. P_r = c$$\n",
        "\n",
        "where, $P_r$ is the probability of the word having rank $r$, and $c$ is a new contant which is essentially the constant $k$ divided by the total number of words.\n",
        "\n",
        "Taking $\\log$ on both sides, \n",
        "\n",
        "$$\\log r + \\log P_r = \\log c$$\n",
        "\n",
        "We show the existence of this distribution by plotting a graph between $\\log r$ (the log of the word rank) and $\\log P_r$ (the log of the probability of a word) for all words."
      ]
    },
    {
      "cell_type": "code",
      "metadata": {
        "id": "RlrMYC9u17BA"
      },
      "source": [
        "'''\n",
        "We can find if the words in the titles follow zipf distribution.\n",
        "rank * term probability should almost be equal for all words. We will investigate\n",
        "top k words.\n",
        "\n",
        "Input:\n",
        "    k - number of top-k words we want to know.\n",
        "    index - the in-memory count index.\n",
        "Returns:\n",
        "    terms - list of k terms.\n",
        "    term_probs - prob of each term in descending order.\n",
        "    r_term_probs - rank * term_prob for every term.\n",
        "'''\n",
        "\n",
        "from queue import PriorityQueue\n",
        "\n",
        "def zipf(k, index):\n",
        "    total_term_count = 0\n",
        "    q = PriorityQueue()\n",
        "\n",
        "    for term in index:\n",
        "        tid_count_list = list(index[term].items())\n",
        "        term_count = 0\n",
        "        for tid, count in tid_count_list:\n",
        "            term_count += count\n",
        "        total_term_count += term_count\n",
        "\n",
        "        q.put((term_count, term))\n",
        "        if q.qsize() > k:\n",
        "            q.get()\n",
        "    \n",
        "    terms = []\n",
        "    term_probs = []\n",
        "    while not q.empty():\n",
        "        term_count, term = q.get()\n",
        "        terms.append(term)\n",
        "        term_probs.append(term_count / total_term_count)\n",
        "    terms.reverse()\n",
        "    term_probs.reverse()\n",
        "\n",
        "    r_term_probs = []\n",
        "    for r, tp in enumerate(term_probs):\n",
        "        r_term_probs.append((r + 1) * tp)\n",
        "    \n",
        "    return terms, term_probs, r_term_probs"
      ],
      "execution_count": 18,
      "outputs": []
    },
    {
      "cell_type": "code",
      "metadata": {
        "colab": {
          "base_uri": "https://localhost:8080/"
        },
        "id": "pIqVd7pyB9Av",
        "outputId": "212b22fc-223c-4b98-b466-64b97f6fdf90"
      },
      "source": [
        "terms, term_probs, r_term_probs = zipf(10, inMemoryIndex)\n",
        "print(terms)\n",
        "print(r_term_probs)"
      ],
      "execution_count": 19,
      "outputs": [
        {
          "output_type": "stream",
          "text": [
            "['china', 'says', 'us', 'new', 'syria', 'russia', 'world', 'police', 'government', 'israel']\n",
            "[0.005093094599548515, 0.00981381080090297, 0.014423199367149664, 0.018050126377124776, 0.018351694997009397, 0.021724517162206487, 0.02443361824461209, 0.025706071890254492, 0.02831329950413861, 0.030963360280923807]\n"
          ],
          "name": "stdout"
        }
      ]
    },
    {
      "cell_type": "code",
      "metadata": {
        "colab": {
          "base_uri": "https://localhost:8080/",
          "height": 425
        },
        "id": "RU8hHTVVCEJp",
        "outputId": "4d4df722-504f-41c1-a15e-8710f7099043"
      },
      "source": [
        "max_rank = len(inMemoryIndex)\n",
        "terms, term_probs, r_term_probs = zipf(len(inMemoryIndex), inMemoryIndex)\n",
        "\n",
        "fig = plt.figure(figsize=(6, 6))\n",
        "ax = fig.add_subplot(1, 1, 1)\n",
        "ax.plot(\n",
        "    np.log(np.arange(max_rank) + 1),\n",
        "    np.log(term_probs[:max_rank]),\n",
        "    color='red',\n",
        "    label=''\n",
        ")\n",
        "ax.legend()\n",
        "ax.set(\n",
        "    xlabel=r'$\\log(rank)$',\n",
        "    ylabel=r'$\\log(P_r)$',\n",
        "    title=\"Zipf's Law demonstration\",\n",
        ")\n",
        "plt.show()"
      ],
      "execution_count": 20,
      "outputs": [
        {
          "output_type": "stream",
          "text": [
            "No handles with labels found to put in legend.\n"
          ],
          "name": "stderr"
        },
        {
          "output_type": "display_data",
          "data": {
            "image/png": "[encoded data removed]",
            "text/plain": [
              "<Figure size 432x432 with 1 Axes>"
            ]
          },
          "metadata": {
            "tags": [],
            "needs_background": "light"
          }
        }
      ]
    },
    {
      "cell_type": "markdown",
      "metadata": {
        "id": "zey264k7tLAA"
      },
      "source": [
        "## Most popular news titles\n",
        " "
      ]
    },
    {
      "cell_type": "code",
      "metadata": {
        "id": "687PHVtgDS8P"
      },
      "source": [
        "'''\n",
        "Returns a list of tuple where each entry is (upvotes, author, title) and sorted\n",
        "by the number of upvotes.\n",
        "'''\n",
        "def most_upvoted_title(k):\n",
        "    q = PriorityQueue()\n",
        "    for chunk in pd.read_csv(filename, sep=',', header=0, chunksize=50000):\n",
        "        for upvotes, author, title in zip(chunk['up_votes'], chunk['author'], chunk['title']):\n",
        "            q.put((upvotes, author, title))\n",
        "            if q.qsize() > k:\n",
        "                q.get()\n",
        "    \n",
        "    ret_list = []\n",
        "    while not q.empty():\n",
        "        (upvotes, author, title) = q.get()\n",
        "        ret_list.append((upvotes, author, title))\n",
        "    ret_list.reverse()\n",
        "\n",
        "    return ret_list"
      ],
      "execution_count": 21,
      "outputs": []
    },
    {
      "cell_type": "code",
      "metadata": {
        "colab": {
          "base_uri": "https://localhost:8080/"
        },
        "id": "7hUwzko8Ep9d",
        "outputId": "4f458ed6-2fa1-43b2-cfc8-2e86b70c4a63"
      },
      "source": [
        "print('List of most upvoted news titles along with upvotes and respective author.')\n",
        "print('  rank -> author : upvotes : title string')\n",
        "for i, (upvotes, author, title) in enumerate(most_upvoted_title(10)):\n",
        "    print(' {} -> {} : {} : {}'.format(i+1, author, upvotes, title))"
      ],
      "execution_count": 22,
      "outputs": [
        {
          "output_type": "stream",
          "text": [
            "List of most upvoted news titles along with upvotes and respective author.\n",
            "  rank -> author : upvotes : title string\n",
            " 1 -> KRISHNA53 : 21253 : A biotech startup has managed to 3-D print fake rhino horns that carry the same genetic fingerprint as the actual horn. The company plans to flood Chinese rhino horn market at one-eighth of the price of the original, undercutting the price poachers can get and forcing them out eventually.\n",
            " 2 -> joeyoungblood : 13435 : Twitter has forced 30 websites that archive politician s deleted tweets to shut down, removing an effective tool to keep politicians honest\n",
            " 3 -> mister_geaux : 13244 : 2.6 terabyte leak of Panamanian shell company data reveals  how a global industry led by major banks, legal firms, and asset management companies secretly manages the estates of politicians, Fifa officials, fraudsters and drug smugglers, celebrities and professional athletes. \n",
            " 4 -> navysealassulter : 12333 : The police officer who leaked the footage of the surfers paradise police brutality, where the victims blood was washed away by officers, has been criminally charged for bringing it to the publics view. Officers who did the bashing get nothing.\n",
            " 5 -> seapiglet : 11288 : Paris shooting survivor suing French media for giving away his location while he hid from shooters\n",
            " 6 -> Xiroth : 11108 : Hundreds of thousands of leaked emails reveal massively widespread corruption in global oil industry\n",
            " 7 -> DoremusJessup : 10922 : Brazil s Supreme Court has banned corporate contributions to political campaigns and parties\n",
            " 8 -> DawgsOnTopUGA : 10515 : ISIS beheads 81-year-old pioneer archaeologist and foremost scholar on ancient Syria. Held captive for 1 month, he refused to tell ISIS the location of the treasures of Palmyra unto death.\n",
            " 9 -> mvea : 10394 : Feeding cows seaweed could slash global greenhouse gas emissions, researchers say:  They discovered adding a small amount of dried seaweed to a cow s diet can reduce the amount of methane a cow produces by up to 99 per cent. \n",
            " 10 -> fiffers : 10377 : Brazilian radio host famous for exposing corruption in his city murdered while broadcasting live on the air by two gunmen.\n"
          ],
          "name": "stdout"
        }
      ]
    },
    {
      "cell_type": "markdown",
      "metadata": {
        "id": "WopnxEABuLVb"
      },
      "source": [
        "## BM25 model for document ranking\n",
        "\n",
        "BM25 is a popular non-binary probabilistic document ranking model. It takes in a query string and returns a ranked list of documents that match the most for the input query. There were many earlier version of the BM model. We use the final version which has shown the best performance over a variety of document ranking tasks.\n",
        "\n",
        "To make the below code understandable, we mention the formula for completeness.\n",
        "$$score(q,p) = \\sum_{w \\in {q \\cap p}} \\frac{(k_1+1) count(w,p)}{k_1(1-b+b(\\frac{|p|}{avgdl})) + count(w,p)} ln\\frac{|C|-df(w)+0.5}{df(w)+0.5}$$\n",
        "\n",
        "\n",
        "$score(q,p)$ - score assigned to a passage $p$ for a query $q$\n",
        "\n",
        "$count(w,p)$ - number of times term $w$ occurs in passage $p$ \n",
        "\n",
        "$b$ - set this to 0.75 (can be tuned based on the task)\n",
        "\n",
        "$|p|$ - Number of terms in passage $p$\n",
        "\n",
        "$avgdl$ - Average number of terms in passages in collection\n",
        "\n",
        "$|C|$ - number of passages in collection $C$\n",
        "\n",
        "$df(w)$ - number of passages containing term $w$\n",
        "\n",
        "$k_1$ - set to 1.2 (can be fine-tuned)"
      ]
    },
    {
      "cell_type": "code",
      "metadata": {
        "id": "kyG74M6t4MWc"
      },
      "source": [
        "'''\n",
        "Create a document frequency dict where key is word and value is the number of titles\n",
        "containing that word.\n",
        "Input:\n",
        "    index - in-memory index.\n",
        "Returns:\n",
        "    title_freq - a document frequency dict where key is word and value is the number of titles\n",
        "        containing that word.\n",
        "'''\n",
        "def create_title_freq(index):\n",
        "    title_freq = {}\n",
        "    for word in index:\n",
        "        title_freq[word] = len(index[word])\n",
        "    return title_freq\n",
        "\n",
        "title_freq = create_title_freq(inMemoryIndex)"
      ],
      "execution_count": 23,
      "outputs": []
    },
    {
      "cell_type": "code",
      "metadata": {
        "id": "pNTw3n5fEsPC"
      },
      "source": [
        "'''\n",
        "Given a query (a sentence/title), we will find the top k matching titles.\n",
        "\n",
        "Input:\n",
        "    query - a sentence string.\n",
        "    index - in-memory count index.\n",
        "    num_titles - total number of titles in the dataset.\n",
        "    title_len - a dict where key is title_id and value is number of words in the title string.\n",
        "    k - number of matching titles to find.\n",
        "Returns:\n",
        "    ranking_bm25 - A list of (bm25_score, title_id, time_created, up_votes) tuples.\n",
        "'''\n",
        "def bm25(query, index, num_titles, title_len, k):\n",
        "    # A list of (bm25_score, title_id, time_created, up_votes) tuples.\n",
        "    ranking_bm25 = []\n",
        "    \n",
        "    title_index = 0\n",
        "    pq = PriorityQueue()\n",
        "    for chunk in pd.read_csv(filename, sep=',', header=0, chunksize=100000):\n",
        "        for i, (title, time_c, up_votes) in enumerate(zip(chunk['title'], chunk['time_created'], chunk['up_votes'])):\n",
        "            title_id = i + title_index\n",
        "            score = bm25_score(query, title, num_titles, index, avgtl)\n",
        "            pq.put((score, title_id, time_c, up_votes))\n",
        "            if pq.qsize() > k:\n",
        "                pq.get()\n",
        "        title_index += chunk.shape[0]\n",
        "\n",
        "    score_tid_list = []\n",
        "    while not pq.empty():\n",
        "        score_tid_list.append(pq.get())\n",
        "    score_tid_list.reverse()\n",
        "\n",
        "    return score_tid_list\n",
        "\n",
        "def bm25_score(query, title, num_titles, index, avgtl):\n",
        "    q_words = pre_process_sentence_to_list(query)\n",
        "    t_words = pre_process_sentence_to_list(title)\n",
        "    common_words = set(q_words).intersection(set(t_words))\n",
        "\n",
        "    if len(common_words) == 0:\n",
        "        return -np.inf\n",
        "    \n",
        "    t_words_count = {}\n",
        "    for word in t_words:\n",
        "        t_words_count[word] = t_words_count.get(word, 0) + 1\n",
        "    \n",
        "    score = 0\n",
        "    k1 = 1.2 # hyperparameter\n",
        "    b = 0.75 # hyperparameter\n",
        "    for word in common_words:\n",
        "        n1 = (k1 + 1) * t_words_count.get(word, 0)\n",
        "        if n1 == 0:\n",
        "            continue\n",
        "        \n",
        "        d1 = k1 * (1 - b + b * (len(t_words)/avgtl)) + t_words_count.get(word, 0)\n",
        "        n2 = num_titles - title_freq[word] + 0.5\n",
        "        d2 = title_freq[word] + 0.5\n",
        "\n",
        "        score += (n1 / d1) * np.log(n2 / d2)\n",
        "    return score"
      ],
      "execution_count": 24,
      "outputs": []
    },
    {
      "cell_type": "markdown",
      "metadata": {
        "id": "waEj_P40wBFX"
      },
      "source": [
        "### Examples for BM25 ranking\n",
        "\n",
        "Given a query string, we find the top $k$ most relevant titles. Use-cases:\n",
        "1. The query is set to an existing `title` and we wish to find other news titles that match with this one. \n",
        "1. The query can be any user given string (search term) and we find the most relevant new titles for that user. "
      ]
    },
    {
      "cell_type": "code",
      "metadata": {
        "id": "37IX8WruJfSJ"
      },
      "source": [
        "def print_top_titles_bm25(query, k):\n",
        "    score_tid_list = bm25(query, inMemoryIndex, num_titles, title_len, k)\n",
        "    title_id_list = [tid for score, tid, _, _ in score_tid_list]\n",
        "    titles = title_id_to_title(title_id_list)\n",
        "\n",
        "    print('Matching titles for query \\'{}\\' are:'.format(query))\n",
        "    print('  rank -> title_id : title string')\n",
        "    for i, title in enumerate(titles):\n",
        "        print('  {} -> {} : {}'.format(i + 1, title_id_list[i], title))"
      ],
      "execution_count": 25,
      "outputs": []
    },
    {
      "cell_type": "code",
      "metadata": {
        "colab": {
          "base_uri": "https://localhost:8080/"
        },
        "id": "2aCKt3jlKAja",
        "outputId": "fb000766-b757-4ad8-c767-fc8ddf985f2a"
      },
      "source": [
        "test_query = 'EU Commission declines comment on Microsoft-Yahoo' # This is an existing title.\n",
        "print_top_titles_bm25(test_query, 10)"
      ],
      "execution_count": 26,
      "outputs": [
        {
          "output_type": "stream",
          "text": [
            "Matching titles for query 'EU Commission declines comment on Microsoft-Yahoo' are:\n",
            "  rank -> title_id : title string\n",
            "  1 -> 28 : EU Commission declines comment on Microsoft-Yahoo\n",
            "  2 -> 5915 : Russia declines to comment on U.S. military attache expulsions\n",
            "  3 -> 20153 : Google Laughs at Yahoo! and Microsoft \n",
            "  4 -> 6851 : Microsoft Wants A Deal With Yahoo, Again!\n",
            "  5 -> 5898 : The Yahoo – Microsoft drama is going to make a Better Yahoo\n",
            "  6 -> 353317 : Kremlin declines to comment on report on Putin s absence from Moscow\n",
            "  7 -> 5459 : Microsoft-Yahoo Bid, Sequence of Events\n",
            "  8 -> 395489 : Kremlin declines comment on question of Russian troops inside Syria\n",
            "  9 -> 347184 : NSA chief declines comment on spyware reports, says program are lawful\n",
            "  10 -> 2288 : Why Microsoft s MSN is bending to China s wishes on Tibet: China could block Microsoft s acquisition of Yahoo.\n"
          ],
          "name": "stdout"
        }
      ]
    },
    {
      "cell_type": "code",
      "metadata": {
        "colab": {
          "base_uri": "https://localhost:8080/"
        },
        "id": "REiwfriUKTBu",
        "outputId": "aaf38de7-df83-4312-cc4b-5bc01edefd29"
      },
      "source": [
        "# This is also an existing title so we expect the same title to be the most matched one\n",
        "# followed by other relevant titles.\n",
        "test_query = 'Mass Evacuations Continue  in Kenya'\n",
        "print_top_titles_bm25(test_query, 5)"
      ],
      "execution_count": 27,
      "outputs": [
        {
          "output_type": "stream",
          "text": [
            "Matching titles for query 'Mass Evacuations Continue  in Kenya' are:\n",
            "  rank -> title_id : title string\n",
            "  1 -> 16 : Mass Evacuations Continue  in Kenya\n",
            "  2 -> 454190 : Mass evacuations after Japan quake\n",
            "  3 -> 358600 : Yemen conflict: Evacuations continue as fighting intensifies\n",
            "  4 -> 357822 : Fire in London has caused mass evacuations of buildings\n",
            "  5 -> 219986 : Major Cyclone Causes Mass Evacuations in India\n"
          ],
          "name": "stdout"
        }
      ]
    },
    {
      "cell_type": "code",
      "metadata": {
        "colab": {
          "base_uri": "https://localhost:8080/"
        },
        "id": "o9GnWud0Kaij",
        "outputId": "b1e22f49-a79e-427a-900a-5fbf3f08fe73"
      },
      "source": [
        "test_query = 'Jihadi John Unmasked For The First Time In New Video'\n",
        "print_top_titles_bm25(test_query, 5)"
      ],
      "execution_count": 28,
      "outputs": [
        {
          "output_type": "stream",
          "text": [
            "Matching titles for query 'Jihadi John Unmasked For The First Time In New Video' are:\n",
            "  rank -> title_id : title string\n",
            "  1 -> 391399 : Jihadi John Unmasked For The First Time In New Video\n",
            "  2 -> 348600 :  Jihadi John  Unmasked: First Picture of Mohammed Emwazi as an Adult Emerges\n",
            "  3 -> 348293 :  Jihadi John  killer from Islamic State beheading videos unmasked as Londoner\n",
            "  4 -> 428051 :  New Jihadi John  appears in ISIL execution video\n",
            "  5 -> 391357 : ISIL executioner  Jihadi John  filmed unmasked, vows to return to Britain to continue killings\n"
          ],
          "name": "stdout"
        }
      ]
    },
    {
      "cell_type": "code",
      "metadata": {
        "colab": {
          "base_uri": "https://localhost:8080/"
        },
        "id": "6FIHm6vrw_V5",
        "outputId": "e1acae83-479a-4fbc-8864-b9c09e1a1511"
      },
      "source": [
        "# This is a random user string.\n",
        "user_string = 'baseball match score between boston and seattle'\n",
        "print_top_titles_bm25(user_string, 5)"
      ],
      "execution_count": 29,
      "outputs": [
        {
          "output_type": "stream",
          "text": [
            "Matching titles for query 'baseball match score between boston and seattle' are:\n",
            "  rank -> title_id : title string\n",
            "  1 -> 333141 : Inside the Mafia-Run World of Baseball Match-Fixing in Taiwan\n",
            "  2 -> 29869 : Goodbye, Seattle P-I\n",
            "  3 -> 30578 : World Baseball Classic\n",
            "  4 -> 373227 : The Honduras U20 national soccer team is under investigation for match-fixing, after irregular betting patterns were noticed on a shock 3-0 loss to Fiji where they  didn t appear to want to score \n",
            "  5 -> 96185 : Baseball bats are selling out in the UK\n"
          ],
          "name": "stdout"
        }
      ]
    },
    {
      "cell_type": "markdown",
      "metadata": {
        "id": "Vtrlqv6Hxe5W"
      },
      "source": [
        "## Improving BM25 Model by using time/recency information\n",
        "\n",
        "Instead of just showing the top-k titles by matching score, the user might be interested in the most recent titles as these are news articles. We create a hybrid model where we first fetch a lot of documents (~10 times) using the BM25 model and then sort them based on time. We select a subset (one third) of those titles and then sort them based on popularity before showing the final (k) results.\n",
        "\n",
        "More complicated schemes can be used and fine-tuned based on the dataset. \n",
        "\n",
        "We run the model on the same queries as above and can see the difference in results."
      ]
    },
    {
      "cell_type": "code",
      "metadata": {
        "id": "vBqgNdmFi1z2"
      },
      "source": [
        "'''\n",
        "We can use a better ranking model by combining BM25 with upvotes and time created information.\n",
        "First we find 10*k relevant titles using the BM25 model. Then we sort them based on\n",
        "time created and pick 3*k most recent titles. Then we sort them based on number of \n",
        "upvotes and pick top k which is the final result.\n",
        "'''\n",
        "def print_top_titles_bm25_recent(query, k):\n",
        "    # Get 10*k models using BM25.\n",
        "    score_tid_list = bm25(query, inMemoryIndex, num_titles, title_len, k*10)\n",
        "    # sort based on time created\n",
        "    score_tid_list.sort(key=lambda a:a[2], reverse=True)\n",
        "    most_recent = score_tid_list[:3*k]\n",
        "    # sort based on upvotes\n",
        "    most_recent.sort(key=lambda a:a[3], reverse=True)\n",
        "    most_upvoted = most_recent[:k]\n",
        "\n",
        "    title_id_list = [tid for _, tid, _, _ in most_upvoted]\n",
        "    # only use k titles\n",
        "    titles = title_id_to_title(title_id_list)\n",
        "\n",
        "    print('Matching recent titles for query \\'{}\\' are:'.format(query))\n",
        "    print('  rank -> title_id : title string')\n",
        "    for i, (tid, title) in enumerate(zip(title_id_list, titles)):\n",
        "        print('  {} -> {} : {}'.format(i+1, tid, title))"
      ],
      "execution_count": 30,
      "outputs": []
    },
    {
      "cell_type": "code",
      "metadata": {
        "colab": {
          "base_uri": "https://localhost:8080/"
        },
        "id": "68XMmlyNzfQJ",
        "outputId": "b0b58c45-e1d6-4e06-b7f3-2c4348de353b"
      },
      "source": [
        "test_query = 'EU Commission declines comment on Microsoft-Yahoo'\n",
        "print_top_titles_bm25_recent(test_query, 10)"
      ],
      "execution_count": 31,
      "outputs": [
        {
          "output_type": "stream",
          "text": [
            "Matching recent titles for query 'EU Commission declines comment on Microsoft-Yahoo' are:\n",
            "  rank -> title_id : title string\n",
            "  1 -> 496048 : Watching pirate streams isn t illegal, EU Commission argues\n",
            "  2 -> 475249 : India’s top court ordered Google, Yahoo, and Microsoft to ban ads for pre-birth gender tests\n",
            "  3 -> 477378 : Diesel Emissions: EU Commission Has Known for Years about Manipluation\n",
            "  4 -> 465772 : Facebook, Twitter, Microsoft and YouTube adopt EU hate speech rules\n",
            "  5 -> 504793 : China slams EU Commissioner s  slitty eyes  comment\n",
            "  6 -> 475106 : India s Supreme Court tells Google, Yahoo and Microsoft to stop hosting sex selection ads\n",
            "  7 -> 506199 : Turkey  backsliding  in bid to join EU, says Commission\n",
            "  8 -> 475393 : EU Commission Seeks Sanctions on Spain, Portugal Over Deficits\n",
            "  9 -> 465435 : Facebook, Twitter, YouTube, Microsoft back EU hate speech rules\n",
            "  10 -> 474313 : EU leaders on collision course with Commission over CETA\n"
          ],
          "name": "stdout"
        }
      ]
    },
    {
      "cell_type": "code",
      "metadata": {
        "colab": {
          "base_uri": "https://localhost:8080/"
        },
        "id": "IoaLYcrLlqVl",
        "outputId": "44100eea-9a26-4b79-bce0-8fd48f4f837b"
      },
      "source": [
        "test_query = 'Mass Evacuations Continue  in Kenya'\n",
        "print_top_titles_bm25_recent(test_query, 5)"
      ],
      "execution_count": 32,
      "outputs": [
        {
          "output_type": "stream",
          "text": [
            "Matching recent titles for query 'Mass Evacuations Continue  in Kenya' are:\n",
            "  rank -> title_id : title string\n",
            "  1 -> 380364 : Mass arrests in The Hague as clashes over death in police custody continue\n",
            "  2 -> 389622 : Mass evacuations underway in Tianjin as fires reignite, causing further blasts\n",
            "  3 -> 450354 : Evacuations after huge explosion in central Paris\n",
            "  4 -> 357822 : Fire in London has caused mass evacuations of buildings\n",
            "  5 -> 496170 : Mexico s erupting Colima volcano triggers evacuations\n"
          ],
          "name": "stdout"
        }
      ]
    },
    {
      "cell_type": "code",
      "metadata": {
        "colab": {
          "base_uri": "https://localhost:8080/"
        },
        "id": "69pIkT7EzsTr",
        "outputId": "069ebc72-207d-47fd-8cc4-a154b686854f"
      },
      "source": [
        "# This is a random user string.\n",
        "user_string = 'baseball match score between boston and seattle'\n",
        "print_top_titles_bm25_recent(user_string, 5)"
      ],
      "execution_count": 33,
      "outputs": [
        {
          "output_type": "stream",
          "text": [
            "Matching recent titles for query 'baseball match score between boston and seattle' are:\n",
            "  rank -> title_id : title string\n",
            "  1 -> 364823 : Senior female ISIS agent unmasked and traced to Seattle\n",
            "  2 -> 333141 : Inside the Mafia-Run World of Baseball Match-Fixing in Taiwan\n",
            "  3 -> 451152 : Canadian conservatives score big victory in Saskatchewan\n",
            "  4 -> 287644 : Seattle s pot store opens: It s time to ‘free the weed \n",
            "  5 -> 500511 : After officials crack down on game-fixing, baseball makes a comeback in Taiwan\n"
          ],
          "name": "stdout"
        }
      ]
    },
    {
      "cell_type": "markdown",
      "metadata": {
        "id": "IBkabLwF0Rxt"
      },
      "source": [
        "### Comparing frequency based, BM25 and BM25+time models for single word queries."
      ]
    },
    {
      "cell_type": "code",
      "metadata": {
        "colab": {
          "base_uri": "https://localhost:8080/"
        },
        "id": "6pHNHdEsz8Ln",
        "outputId": "9f411877-6a55-4671-a73f-25c3c7276d89"
      },
      "source": [
        "'''\n",
        "The BM25 model is stronger and flexible than the single word model. Even for single\n",
        "words, we can see the difference between both the models.\n",
        "'''\n",
        "query_word = 'India'\n",
        "print_matching_titles(query_word, 5)\n",
        "print()\n",
        "print_top_titles_bm25(query_word, 5)\n",
        "print()\n",
        "print_top_titles_bm25_recent(query_word, 5)"
      ],
      "execution_count": 34,
      "outputs": [
        {
          "output_type": "stream",
          "text": [
            "Top 5 titles for word 'india' based on frequency of occurence of the word.\n",
            "  Rank -> title_id : title string\n",
            "  1 -> 25654 : India to Pak: Make Mumbai probe report public-India-The Times of India\n",
            "  2 -> 45803 : Millions of Foreigners in India - Bangladesh is Poor India s woe. Famine in Bangladesh and its effect in North-East India as incessant immigration continues unabated.\n",
            "  3 -> 62088 : Half of India’s population lives below the poverty line.  According to an Oxford University study, 55 percent of India’s population of 1.1 billion, or 645 million people, are living in poverty. Using a newly-developed index, the study found that about one-third of the world’s poor live in India. \n",
            "  4 -> 65199 :  A bumpier but freer road - India s growth should soon outstrip China s, because India has a younger population and a freer economy. But can India can stay ahead, given its poor infrastructure, low skills, bad schools, patchy government?\n",
            "  5 -> 84159 : India court grants bail to India activist Binayak Sen: India s Supreme Court has granted bail to leading public health specialist and human rights activist, Dr Binayak Sen.\n",
            "\n",
            "Matching titles for query 'India' are:\n",
            "  rank -> title_id : title string\n",
            "  1 -> 154300 : AGAIN India? \n",
            "  2 -> 25654 : India to Pak: Make Mumbai probe report public-India-The Times of India\n",
            "  3 -> 161377 : Apple TV, now in India! - All apple products now in India.\n",
            "  4 -> 78577 : Hyderabad IT Company | India IT Outsourcing | India IT Solutions\n",
            "  5 -> 66844 : Namaste India - What India wants, what Obama wants.\n",
            "\n",
            "Matching recent titles for query 'India' are:\n",
            "  rank -> title_id : title string\n",
            "  1 -> 427214 : From Jan 1, UK to stop financial aid to India - Times of India\n",
            "  2 -> 503382 : India offers to buy 200 foreign combat jets - if they re Made-in-India\n",
            "  3 -> 392248 : India PM Modi: ‘India has eliminated maternal and neonatal tetanus’\n",
            "  4 -> 503485 : India offers to buy 200 foreign combat jets, if they re  made-in-India \n",
            "  5 -> 467458 : US-India Agree To Construct 6 Nuclear Reactors In India\n"
          ],
          "name": "stdout"
        }
      ]
    },
    {
      "cell_type": "markdown",
      "metadata": {
        "id": "_8G-8P-x0egA"
      },
      "source": [
        "## Visualize upvotes information\n",
        "\n",
        "The upvotes data seems to be very uneven. We visualize it using a histogram and successively zoom into the relevant regions to find some patterns in the data and then make conclusions.\n",
        "\n",
        "Based on the below graphs, we can say:\n",
        "1. More than 93% of the data has upvotes $\\lt 1000$. This tells that most news titles are not upvoted by users. This tells us at relying on upvotes for identifying sentiment of the news is not a good idea. Most probably people just read the news and move on without caring to upvote.\n",
        "1. For 1k-10k upvotes, the number of titles are inversely proportional to the number of upvotes. If we want to perform any analysis based on `upvotes`, we should pick the titles falling this this range as they have a good distribution. They are not part of the outliers.\n",
        "1. There are limited titles that have more than 10k upvotes. These are the extreme outliers and probably the most citied/viral news titles. "
      ]
    },
    {
      "cell_type": "code",
      "metadata": {
        "id": "8qNUhB3IL1K2"
      },
      "source": [
        "'''\n",
        "Visualize upvotes distribution\n",
        "'''\n",
        "upvotes_list = []\n",
        "\n",
        "for chunk in pd.read_csv(filename, sep=',', header=0, chunksize=100000):\n",
        "    upvotes_list += list(chunk['up_votes'])"
      ],
      "execution_count": 35,
      "outputs": []
    },
    {
      "cell_type": "code",
      "metadata": {
        "colab": {
          "base_uri": "https://localhost:8080/",
          "height": 421
        },
        "id": "2JTEdz_lWhj1",
        "outputId": "6cde4ea6-91ed-462a-e98d-1c7f47994e20"
      },
      "source": [
        "n_bins = 100\n",
        "fig = plt.figure(figsize=(12, 6))\n",
        "axs = fig.add_subplot(1, 1, 1)\n",
        "axs.legend()\n",
        "axs.set(\n",
        "    xlabel=r'upvotes',\n",
        "    ylabel=r'number of titles',\n",
        "    title=\"Distribution of upvotes among all titles\",\n",
        ")\n",
        "axs.minorticks_on()\n",
        "axs.hist(\n",
        "    upvotes_list,\n",
        "    bins=n_bins,\n",
        "    label=''\n",
        ")\n",
        "plt.show()"
      ],
      "execution_count": 36,
      "outputs": [
        {
          "output_type": "stream",
          "text": [
            "No handles with labels found to put in legend.\n"
          ],
          "name": "stderr"
        },
        {
          "output_type": "display_data",
          "data": {
            "image/png": "[encoded data removed]",
            "text/plain": [
              "<Figure size 864x432 with 1 Axes>"
            ]
          },
          "metadata": {
            "tags": [],
            "needs_background": "light"
          }
        }
      ]
    },
    {
      "cell_type": "code",
      "metadata": {
        "colab": {
          "base_uri": "https://localhost:8080/",
          "height": 421
        },
        "id": "1XqVMwfwbHIP",
        "outputId": "0bc1aed1-e6de-4e7f-d844-f2e4da9d9cb4"
      },
      "source": [
        "'''\n",
        "The above graph shows that most of the titles have obtained upvotes <1000. So we remove\n",
        "such upvotes and then replot the graph to see the distribution in the other region.\n",
        "'''\n",
        "upvotes_list_trimmed_1000 = [upvotes for upvotes in upvotes_list if upvotes >= 1000]\n",
        "\n",
        "fig = plt.figure(figsize=(12, 6))\n",
        "axs = fig.add_subplot(1, 1, 1)\n",
        "axs.legend()\n",
        "axs.set(\n",
        "    xlabel=r'upvotes',\n",
        "    ylabel=r'number of titles',\n",
        "    title=\"Distribution of >=1000 upvotes among all titles\",\n",
        ")\n",
        "axs.minorticks_on()\n",
        "axs.hist(\n",
        "    upvotes_list_trimmed_1000,\n",
        "    bins=n_bins,\n",
        "    label=''\n",
        ")\n",
        "plt.show()"
      ],
      "execution_count": 37,
      "outputs": [
        {
          "output_type": "stream",
          "text": [
            "No handles with labels found to put in legend.\n"
          ],
          "name": "stderr"
        },
        {
          "output_type": "display_data",
          "data": {
            "image/png": "[encoded data removed]",
            "text/plain": [
              "<Figure size 864x432 with 1 Axes>"
            ]
          },
          "metadata": {
            "tags": [],
            "needs_background": "light"
          }
        }
      ]
    },
    {
      "cell_type": "code",
      "metadata": {
        "colab": {
          "base_uri": "https://localhost:8080/",
          "height": 421
        },
        "id": "-8NwLG8Kb1Zm",
        "outputId": "93a0f002-521c-455b-b528-16ced09dbd05"
      },
      "source": [
        "'''\n",
        "The above graph shows that most of the titles have obtained upvotes <1000. So we remove\n",
        "such upvotes and then replot the graph to see the distribution in the other region.\n",
        "'''\n",
        "upvotes_list_trimmed_10000 = [upvotes for upvotes in upvotes_list_trimmed_1000 if upvotes >= 10000]\n",
        "\n",
        "fig = plt.figure(figsize=(12, 6))\n",
        "axs = fig.add_subplot(1, 1, 1)\n",
        "axs.legend()\n",
        "axs.set(\n",
        "    xlabel=r'upvotes',\n",
        "    ylabel=r'number of titles',\n",
        "    title=\"Distribution of >=10,000 upvotes among all titles\",\n",
        ")\n",
        "axs.minorticks_on()\n",
        "axs.hist(\n",
        "    upvotes_list_trimmed_10000,\n",
        "    bins=n_bins,\n",
        "    label=''\n",
        ")\n",
        "plt.show()"
      ],
      "execution_count": 38,
      "outputs": [
        {
          "output_type": "stream",
          "text": [
            "No handles with labels found to put in legend.\n"
          ],
          "name": "stderr"
        },
        {
          "output_type": "display_data",
          "data": {
            "image/png": "[encoded data removed]",
            "text/plain": [
              "<Figure size 864x432 with 1 Axes>"
            ]
          },
          "metadata": {
            "tags": [],
            "needs_background": "light"
          }
        }
      ]
    },
    {
      "cell_type": "markdown",
      "metadata": {
        "id": "DatvZH0n230l"
      },
      "source": [
        "## Analysing over_18 data column\n",
        "\n",
        "Conclusions from this analysis are:\n",
        "1. Only a handful (320) of news articles are marked as over_18. They form just over 0.06% of the entire dataset.\n",
        "1. We find authors with the most number of over18 articles."
      ]
    },
    {
      "cell_type": "code",
      "metadata": {
        "colab": {
          "base_uri": "https://localhost:8080/"
        },
        "id": "-MEAgPw2CPND",
        "outputId": "7a0a1a1f-8f69-4207-ede8-9e26f60793b9"
      },
      "source": [
        "'''\n",
        "Statistics around over_18 column.\n",
        "'''\n",
        "over_18_count = {True: 0, False: 0}\n",
        "# A dict that saves the author as key and number of over_18 titles as value.\n",
        "author_count_over_18 = {}\n",
        "\n",
        "for chunk in pd.read_csv(filename, sep=',', header=0, chunksize=100_000):\n",
        "    for over_18, author in zip(chunk['over_18'], chunk['author']):\n",
        "        over_18_count[over_18] += 1\n",
        "        if over_18:\n",
        "            author_count_over_18[author] = author_count_over_18.get(author, 0) + 1\n",
        "\n",
        "print('Over 18 stats:', over_18_count)\n",
        "author_count_over_18_list = list(author_count_over_18.items())\n",
        "author_count_over_18_list.sort(key=lambda a:a[1], reverse=True)\n",
        "\n",
        "print('\\nAuthors with most over18 articles are:')\n",
        "for author, count in author_count_over_18_list[:10]:\n",
        "    print('  {}, count={}'.format(author, count))"
      ],
      "execution_count": 39,
      "outputs": [
        {
          "output_type": "stream",
          "text": [
            "Over 18 stats: {True: 320, False: 508916}\n",
            "\n",
            "Authors with most over18 articles are:\n",
            "  readerseven, count=6\n",
            "  ScotiaTide, count=4\n",
            "  SyrianGuy, count=4\n",
            "  Rocker13666, count=4\n",
            "  downtown14, count=3\n",
            "  uptodatepronto, count=3\n",
            "  misterAction, count=3\n",
            "  orangeflower2015, count=3\n",
            "  alllie, count=2\n",
            "  stesch, count=2\n"
          ],
          "name": "stdout"
        }
      ]
    },
    {
      "cell_type": "markdown",
      "metadata": {
        "id": "TI3xude03ytY"
      },
      "source": [
        "## Document Clustering using K-Means\n",
        "\n",
        "The over18 articles are limited and a good candidate for clustering. We use k-means clustering to identify different types of over18 articles. For each cluster we then print some top documents to manully name/identify the cluster."
      ]
    },
    {
      "cell_type": "code",
      "metadata": {
        "colab": {
          "base_uri": "https://localhost:8080/"
        },
        "id": "kkqOcSs8C43I",
        "outputId": "47e2d59b-8e99-4484-929f-9ad3566780ec"
      },
      "source": [
        "'''\n",
        "Since number of over18 articles are less, we can try clustering those titles and\n",
        "see if we can find categories of titles that are over18.\n",
        "'''\n",
        "over_18_corpus = []\n",
        "for chunk in pd.read_csv(filename, sep=',', header=0, chunksize=100_000):\n",
        "    for over_18, title in zip(chunk['over_18'], chunk['title']):\n",
        "        if over_18:\n",
        "            title = re.sub(r'[^\\w ]', ' ', title)\n",
        "            over_18_corpus.append(title)\n",
        "\n",
        "print(len(over_18_corpus))"
      ],
      "execution_count": 40,
      "outputs": [
        {
          "output_type": "stream",
          "text": [
            "320\n"
          ],
          "name": "stdout"
        }
      ]
    },
    {
      "cell_type": "code",
      "metadata": {
        "colab": {
          "base_uri": "https://localhost:8080/"
        },
        "id": "HsxaXaHlJNIC",
        "outputId": "dd3aa203-8030-4a29-eb54-8a57fd967c77"
      },
      "source": [
        "from sklearn.feature_extraction.text import TfidfVectorizer\n",
        "\n",
        "# Since number of examples are less (320) we use less features (50).\n",
        "vectorizer = TfidfVectorizer(stop_words=stop_words, max_features=50)\n",
        "X = vectorizer.fit_transform(over_18_corpus)\n",
        "print(vectorizer.get_feature_names())\n",
        "print(len(vectorizer.get_feature_names()))\n",
        "print(X.shape)"
      ],
      "execution_count": 41,
      "outputs": [
        {
          "output_type": "stream",
          "text": [
            "['activists', 'al', 'attack', 'bahrain', 'bodies', 'child', 'chinese', 'dead', 'death', 'femen', 'footage', 'forces', 'found', 'graphic', 'group', 'head', 'images', 'isis', 'killed', 'man', 'naked', 'new', 'nsfl', 'nsfw', 'old', 'paris', 'people', 'photo', 'photos', 'pics', 'pictures', 'police', 'protest', 'protester', 'protesters', 'sex', 'shot', 'shows', 'soldiers', 'syria', 'syrian', 'topless', 'ukraine', 'victims', 'video', 'warning', 'woman', 'women', 'world', 'year']\n",
            "50\n",
            "(320, 50)\n"
          ],
          "name": "stdout"
        }
      ]
    },
    {
      "cell_type": "code",
      "metadata": {
        "id": "OL0qjIDEKpE8"
      },
      "source": [
        "# We use mini-batch k-means which is useful if the entire training data cannot be loaded at once.\n",
        "from sklearn.cluster import MiniBatchKMeans"
      ],
      "execution_count": 42,
      "outputs": []
    },
    {
      "cell_type": "markdown",
      "metadata": {
        "id": "sqcIu8Q_6DAs"
      },
      "source": [
        "### Cluster similarity metrics\n",
        "\n",
        "To quantify the quality of the cluster formed, we use intra cluster distance metric. Our target should be to have minimum intra cluster distance. But note that an arbitrarily high number of clusters will always give low intra cluster distance. It has two variants:\n",
        "\n",
        "1. Average distance between any two points in a cluster.\n",
        "$$Score_C = \\frac{1}{\\vert C\\vert \\vert 1-C\\vert} \\sum_{x, y \\in C, x \\neq y} distance(x, y)$$\n",
        "$$Score = \\frac{1}{K} \\sum_{C \\in \\Omega} Score_C$$\n",
        "where,\n",
        "\n",
        "$x, y$ are data points in the cluster $C$\n",
        "\n",
        "$\\vert C\\vert$ is the size of cluster\n",
        "\n",
        "$distance(x, y)$ is the euclidean distance between points $x$ and $y$\n",
        "\n",
        "$\\Omega$ is the set of all clusters and has size $K$.\n",
        "\n",
        "2. Average distance between a point and centroid in a cluster.\n",
        "\n",
        "$$Score_C = \\frac{1}{\\vert C\\vert}\\sum_{x\\in C}distance(x, centroid(C))$$\n",
        "$$Score = \\frac{1}{K} \\sum_{C \\in \\Omega} Score_C$$\n",
        "\n",
        "where,\n",
        "\n",
        "$centroid(C)$ is the centroid vector of cluster $C$.\n",
        "\n",
        "Another metric could be to use inter-cluster similarity/distance metric where we compare two different clusters with each other. There the target should be to have maximum average inter-cluster distance. We don't this metric in our analysis."
      ]
    },
    {
      "cell_type": "code",
      "metadata": {
        "id": "_vS1kyZfLX5V"
      },
      "source": [
        "'''\n",
        "Input:\n",
        "    X - numpy 2D float matrix representation of data where each row is a title/sentence.\n",
        "    labels (list)- labels of each input data as formed by kmeans algorithm.\n",
        "    num_clusters - the number of clusters used while running k-means.\n",
        "Returns:\n",
        "    A numpy list where ith index represents the intra-cluster distance of the ith cluster.\n",
        "    Size of list is equal to num_clusters. \n",
        "'''\n",
        "def intra_cluster_distance(X, labels, num_clusters):\n",
        "    dist_score = np.zeros(num_clusters)\n",
        "    k_to_tid_list = {}\n",
        "    for i in range(num_clusters):\n",
        "        k_to_tid_list[i] = []\n",
        "    for tid, label in enumerate(labels):\n",
        "        k_to_tid_list[label].append(tid)\n",
        "    # print(k_to_tid_list)\n",
        "\n",
        "    for cid, tid_list in k_to_tid_list.items():\n",
        "        sum_dist = 0\n",
        "        for i in range(len(tid_list)):\n",
        "            for j in range(i+1, len(tid_list)):\n",
        "                xi = X[tid_list[i], :]\n",
        "                xj = X[tid_list[j], :]\n",
        "                sum_dist += np.square(scipy.sparse.linalg.norm(xi - xj))\n",
        "        sum_dist *= 2 # because (i, j) and (j, i) distances are equal\n",
        "        dist_score[cid] = 1/(len(tid_list) * (len(tid_list) - 1)) * sum_dist if len(tid_list) > 1 else 0\n",
        "    \n",
        "    return dist_score"
      ],
      "execution_count": 43,
      "outputs": []
    },
    {
      "cell_type": "code",
      "metadata": {
        "id": "mwSjAtVuBD7t"
      },
      "source": [
        "def load_list(filename):\n",
        "    pickle_off = open (filename, \"rb\")\n",
        "    myList = pickle.load(pickle_off)\n",
        "    return myList\n",
        "\n",
        "def save_list(filename, myList):\n",
        "    with open(filename, 'wb') as fh:\n",
        "        pickle.dump(myList, fh)"
      ],
      "execution_count": 44,
      "outputs": []
    },
    {
      "cell_type": "code",
      "metadata": {
        "id": "oaNWWtTER-FT"
      },
      "source": [
        "'''\n",
        "Find optimal number of clusters based on intra cluster distance b/w points. This method\n",
        "is very slow because of quadratic number of comparisons in every cluster.\n",
        "'''\n",
        "\n",
        "# A list of tuple (num_clusters, avg_score)\n",
        "avg_intra_cluster_scores = []\n",
        "\n",
        "avg_ics_filename = 'avg_intra_cluster_scores.txt'\n",
        "if os.path.isfile('avg_intra_cluster_scores.txt'):\n",
        "    avg_intra_cluster_scores = load_list(avg_ics_filename)\n",
        "else:\n",
        "    print('Pickled file not found. Will create again.')\n",
        "    for num_clusters in range(2, 30):\n",
        "        kmeans = MiniBatchKMeans(n_clusters=num_clusters, random_state=0, batch_size=100, max_iter=10)\n",
        "        kmeans = kmeans.fit(X)\n",
        "\n",
        "        dist_score = intra_cluster_distance(X, kmeans.labels_, num_clusters)\n",
        "        avg_intra_cluster_scores.append((num_clusters, np.average(dist_score)))\n",
        "    save_list(avg_ics_filename, avg_intra_cluster_scores)"
      ],
      "execution_count": 45,
      "outputs": []
    },
    {
      "cell_type": "markdown",
      "metadata": {
        "id": "JxumNrc3-Cp1"
      },
      "source": [
        "### How to choose k?\n",
        "\n",
        "We plot a graph between number of clusters and intra-cluster distance and pick the k where the graph forms an `elbow`. Such an elbow curve may not be always visible clearly."
      ]
    },
    {
      "cell_type": "code",
      "metadata": {
        "colab": {
          "base_uri": "https://localhost:8080/",
          "height": 421
        },
        "id": "W3P4pHOTUvJ_",
        "outputId": "d970c6ae-d1ee-4eb4-cbd9-1fd5ff67e044"
      },
      "source": [
        "fig = plt.figure(figsize=(6, 6))\n",
        "axs = fig.add_subplot(1, 1, 1)\n",
        "axs.plot(\n",
        "    [num_clusters for num_clusters, score in avg_intra_cluster_scores],\n",
        "    [score for num_clusters, score in avg_intra_cluster_scores],\n",
        "    color='red',\n",
        "    label=''\n",
        ")\n",
        "axs.legend()\n",
        "axs.set(\n",
        "    xlabel=r'number of clusters (k)',\n",
        "    ylabel=r'average intra cluster distance',\n",
        "    title='k vs avg intra cluster distance',\n",
        ")\n",
        "plt.show()"
      ],
      "execution_count": 46,
      "outputs": [
        {
          "output_type": "stream",
          "text": [
            "No handles with labels found to put in legend.\n"
          ],
          "name": "stderr"
        },
        {
          "output_type": "display_data",
          "data": {
            "image/png": "[encoded data removed]",
            "text/plain": [
              "<Figure size 432x432 with 1 Axes>"
            ]
          },
          "metadata": {
            "tags": [],
            "needs_background": "light"
          }
        }
      ]
    },
    {
      "cell_type": "code",
      "metadata": {
        "id": "or0D_QZeWbOt"
      },
      "source": [
        "'''\n",
        "Another distance metric for intra cluster distance is to use distance from cluster\n",
        "centre.\n",
        "'''\n",
        "def intra_cluster_distance_from_centroid(X, labels, num_clusters, cluster_centers):\n",
        "    dist_score = np.zeros(num_clusters)\n",
        "    k_to_tid_list = {}\n",
        "    for i in range(num_clusters):\n",
        "        k_to_tid_list[i] = []\n",
        "    for tid, label in enumerate(labels):\n",
        "        k_to_tid_list[label].append(tid)\n",
        "    \n",
        "    for cid, tid_list in k_to_tid_list.items():\n",
        "        sum_dist = 0\n",
        "        for tid in tid_list:\n",
        "            x = X[tid, :]\n",
        "            sum_dist += np.square(np.linalg.norm(x - cluster_centers[cid]))\n",
        "        dist_score[cid] = sum_dist\n",
        "\n",
        "    return dist_score"
      ],
      "execution_count": 47,
      "outputs": []
    },
    {
      "cell_type": "code",
      "metadata": {
        "id": "DvUC2c7IalJV"
      },
      "source": [
        "'''\n",
        "Find optimal number of clusters based on intra cluster distance from centroid.\n",
        "This method will be faster than the previous one due to linear number of computations\n",
        "in every cluster.\n",
        "'''\n",
        "\n",
        "# A list of tuple (num_clusters, avg_score)\n",
        "avg_intra_cluster_scores_centroid = []\n",
        "\n",
        "for num_clusters in range(2, 30):\n",
        "    kmeans = MiniBatchKMeans(n_clusters=num_clusters, random_state=0, batch_size=100, max_iter=10)\n",
        "    kmeans = kmeans.fit(X)\n",
        "\n",
        "    dist_score = intra_cluster_distance_from_centroid(X, kmeans.labels_, num_clusters, kmeans.cluster_centers_)\n",
        "    avg_intra_cluster_scores_centroid.append((num_clusters, np.average(dist_score)))"
      ],
      "execution_count": 48,
      "outputs": []
    },
    {
      "cell_type": "code",
      "metadata": {
        "colab": {
          "base_uri": "https://localhost:8080/",
          "height": 421
        },
        "id": "lFRUA-rmbIAE",
        "outputId": "032c0652-07c8-4b85-dce3-d1ff2489ba1a"
      },
      "source": [
        "fig = plt.figure(figsize=(6, 6))\n",
        "axs = fig.add_subplot(1, 1, 1)\n",
        "axs.plot(\n",
        "    [num_clusters for num_clusters, score in avg_intra_cluster_scores_centroid],\n",
        "    [score for num_clusters, score in avg_intra_cluster_scores_centroid],\n",
        "    color='red',\n",
        "    label=''\n",
        ")\n",
        "axs.legend()\n",
        "axs.minorticks_on()\n",
        "axs.set(\n",
        "    xlabel=r'number of clusters (k)',\n",
        "    ylabel=r'average intra cluster distance from centroid',\n",
        "    title='k vs avg intra cluster distance from centroid',\n",
        ")\n",
        "plt.show()"
      ],
      "execution_count": 49,
      "outputs": [
        {
          "output_type": "stream",
          "text": [
            "No handles with labels found to put in legend.\n"
          ],
          "name": "stderr"
        },
        {
          "output_type": "display_data",
          "data": {
            "image/png": "[encoded data removed]",
            "text/plain": [
              "<Figure size 432x432 with 1 Axes>"
            ]
          },
          "metadata": {
            "tags": [],
            "needs_background": "light"
          }
        }
      ]
    },
    {
      "cell_type": "markdown",
      "metadata": {
        "id": "a5bzNuyE_EJj"
      },
      "source": [
        "### Printing Clusters\n",
        "\n",
        "From the above 2 graphs, we see that calculating distances from centroid gives a better curve (in less time). We can choose 6-8 as the optimal number of clusters.\n",
        "\n",
        "To print every cluster, we print top k (3 or 5) titles from every cluster that are the closest to the cluster centre.\n",
        "\n",
        "From the observed clusters, it is rather difficult to name the cluster into a well-defined category. We might have to look into more examples (>10)."
      ]
    },
    {
      "cell_type": "code",
      "metadata": {
        "id": "7v7m7BYzfOpP"
      },
      "source": [
        "def print_centroid_titles(X, labels, num_clusters, cluster_centers, corpus, titles_per_c):\n",
        "    cid_to_tid_dist_list = {}\n",
        "    for cid in range(num_clusters):\n",
        "        cid_to_tid_dist_list[cid] = []\n",
        "\n",
        "    for tid, cid in enumerate(labels):\n",
        "        dist = np.linalg.norm(cluster_centers[cid] - X[tid, :])\n",
        "        cid_to_tid_dist_list[cid].append((tid, dist))\n",
        "    \n",
        "    for cid, tid_dist_list in cid_to_tid_dist_list.items():\n",
        "        print('Cluster no. {}'.format(cid))\n",
        "        tid_dist_list.sort(key=lambda a:a[1])\n",
        "        for i, tid_dist in enumerate(tid_dist_list[:titles_per_c]):\n",
        "            print('  {} -> {}'.format(i+1, corpus[tid_dist[0]]))\n",
        "        print()"
      ],
      "execution_count": 50,
      "outputs": []
    },
    {
      "cell_type": "code",
      "metadata": {
        "colab": {
          "base_uri": "https://localhost:8080/"
        },
        "id": "QpS4qghj_pdn",
        "outputId": "53f3dbbb-f85e-47e9-ae87-5b50055fe3ef"
      },
      "source": [
        "'''\n",
        "When using intra-cluster distance from centroid, we a get curve where we can see\n",
        "elbow at around 5. So we can take num_clusters as 5.\n",
        "\n",
        "Now we will print titles_per_c titles from each cluster.\n",
        "'''\n",
        "\n",
        "optimal_num_clusters = 5\n",
        "titles_per_c = 5\n",
        "kmeans = MiniBatchKMeans(n_clusters=optimal_num_clusters, random_state=0, batch_size=100, max_iter=10)\n",
        "kmeans = kmeans.fit(X)\n",
        "print_centroid_titles(X, kmeans.labels_, optimal_num_clusters, kmeans.cluster_centers_, over_18_corpus, titles_per_c)"
      ],
      "execution_count": 51,
      "outputs": [
        {
          "output_type": "stream",
          "text": [
            "Cluster no. 0\n",
            "  1 -> BBC News   Phone hacking  Brooks steps down over phone hacking\n",
            "  2 -> Five Moroccan self immolations \n",
            "  3 -> Special Report  Brazil s gringo problem  its borders \n",
            "  4 -> Slovakian prime minister says his public s patience with European rescue measures has run out\n",
            "  5 -> Mans penis stolen by thieves in China\n",
            "\n",
            "Cluster no. 1\n",
            "  1 -> Tabloid Horrifies Germany  Poland s Yellow Press Turns Blood Red  if you follow the link to the gallery  4th picture is NSFW in the US \n",
            "  2 -> Love Parade Dortmund  Techno Festival Breaks Record with 1 6 Million  with a 90x90 px NSFW thumbnail \n",
            "  3 -> IDF kills young Palestinian boy  Potentially NSFW \n",
            "  4 -> Eye Opening Montage about the Gaza Massacre  NSFW \n",
            "  5 -> NSFW  Taliban Barbers Frequently Sever Customer s Heads \n",
            "\n",
            "Cluster no. 2\n",
            "  1 -> Journalism Face Off  Russian Shadiness vs  American  Objectivity    Interesting Look at the Underbelly of Journalism  incl NSFW video \n",
            "  2 -> Google didn t comply with Argentina s request to remove NSFW video of president\n",
            "  3 -> Dog meat mafia fuels Thailand s canine trade   video NSFW\n",
            "  4 ->  VIDEO  Aftermath of journalist Michael Hastings car crash  Possibly NSFW \n",
            "  5 -> The video of the murder of the 2 Golden Dawn members  NSFW \n",
            "\n",
            "Cluster no. 3\n",
            "  1 -> More bang for your buck   technology changing the world s oldest profession\n",
            "  2 -> Indian renowned Sand Artist  Sudarshan Pattnaik creates world s tallest Santa Claus  hopes to break Guinness world record of Ted Siebert of United States\n",
            "  3 -> photographs that have changed the world \n",
            "  4 -> Bums bared in bid to break world record for the largest nude ocean swim  NSFW serious \n",
            "  5 -> Horrific scenes as bull stabbed and beaten to death at Colombian festival   World news   The Guardian\n",
            "\n",
            "Cluster no. 4\n",
            "  1 -> Having gotten my fill of NSFL watching all the posted videos of Libyan carnage  here is something banal and completely unrelated   Thailand seizes one ton of smuggled elephant tusks \n",
            "  2 -> ITV report from war torn Misrata  NSFL  \n",
            "  3 -> After being held hostage 33 days by the FARC  Roméo Langlois presents his report  slighly nsfl \n",
            "  4 -> and you thought you had a rough life       NSFW NSFL \n",
            "  5 ->  NSFL   graphic content  Motorist mows down dozens of cyclists at high speed in Porto Algere Brasil  Feb 25 2011 \n",
            "\n"
          ],
          "name": "stdout"
        }
      ]
    },
    {
      "cell_type": "markdown",
      "metadata": {
        "id": "EEzEUi-vTXGC"
      },
      "source": [
        "## Classification Model for over-18 titles"
      ]
    },
    {
      "cell_type": "markdown",
      "metadata": {
        "id": "E1gup656gG4-"
      },
      "source": [
        "### Using (Glove) Word Embeddings\n",
        "\n",
        "In the previous section, we created word representation from the given dataset. But this is not possible if the dataset is online. It is better to use an already trained word representation. We use GloVe embeddings which are pre-trained word vectors on a very large dataset.\n",
        "\n",
        "We use 100 length embedding given the size of our model."
      ]
    },
    {
      "cell_type": "code",
      "metadata": {
        "colab": {
          "base_uri": "https://localhost:8080/"
        },
        "id": "5bQSAHcqgLwl",
        "outputId": "152006ea-a725-4dfe-ef41-5c038dc14404"
      },
      "source": [
        "%%shell\n",
        "\n",
        "# Download Glove embeddings if they do not already exist.\n",
        "FILE='glove.6B.zip'\n",
        "if test -f \"$FILE\"; then\n",
        "    echo \"$FILE already exists.\"\n",
        "else\n",
        "    !wget http://nlp.stanford.edu/data/glove.6B.zip\n",
        "    !unzip glove.6B.zip\n",
        "fi"
      ],
      "execution_count": 103,
      "outputs": [
        {
          "output_type": "stream",
          "text": [
            "glove.6B.zip already exists.\n"
          ],
          "name": "stdout"
        },
        {
          "output_type": "execute_result",
          "data": {
            "text/plain": [
              ""
            ]
          },
          "metadata": {
            "tags": []
          },
          "execution_count": 103
        }
      ]
    },
    {
      "cell_type": "code",
      "metadata": {
        "id": "hA73jCoJhU3K"
      },
      "source": [
        "'''\n",
        "Class to create Glove embeddings for a given sentence. Each word of a sentence is\n",
        "converted to a fixed length vector. The vector representation of a sentence is the \n",
        "element wise mean of the vectors of each individual word in that sentence.\n",
        "Input:\n",
        "    embedding_size (int): determines the embedding size of the sentence. It can take\n",
        "        value from [50, 100, 200, 3000].\n",
        "'''\n",
        "class GloveVectorizer:\n",
        "    def __init__(self, embedding_size):\n",
        "        if embedding_size not in [50, 100, 200, 300]:\n",
        "            raise Exception('{} embedding_size is not allowed.'.format(embedding_size))\n",
        "        \n",
        "        # load in pre-trained word vectors\n",
        "        print('Loading word vectors...')\n",
        "        word2vec = {}\n",
        "        embedding = []\n",
        "        idx2word = []\n",
        "        filename = 'glove.6B.' + str(embedding_size) + 'd.txt'\n",
        "        with open(filename) as f:\n",
        "            # is just a space-separated text file in the format:\n",
        "            # word vec[0] vec[1] vec[2] ...\n",
        "            for line in f:\n",
        "                values = line.split()\n",
        "                word = values[0]\n",
        "                vec = np.asarray(values[1:], dtype='float32')\n",
        "                word2vec[word] = vec\n",
        "                embedding.append(vec)\n",
        "                idx2word.append(word)\n",
        "        print('Found %s word vectors.' % len(word2vec))\n",
        "\n",
        "        # save for later\n",
        "        self.word2vec = word2vec\n",
        "        self.embedding = np.array(embedding)\n",
        "        self.word2idx = {v: k for k, v in enumerate(idx2word)}\n",
        "        self.V, self.D = self.embedding.shape\n",
        "\n",
        "    def fit(self, data):\n",
        "        pass\n",
        "\n",
        "    def transform(self, data):\n",
        "        X = np.zeros((len(data), self.D))\n",
        "        n = 0\n",
        "        emptycount = 0\n",
        "        for sentence in data:\n",
        "            tokens = sentence.lower().split()\n",
        "            vecs = []\n",
        "            for word in tokens:\n",
        "                if word in self.word2vec:\n",
        "                    vec = self.word2vec[word]\n",
        "                    vecs.append(vec)\n",
        "            if len(vecs) > 0:\n",
        "                vecs = np.array(vecs)\n",
        "                X[n] = vecs.mean(axis=0)\n",
        "            else:\n",
        "                emptycount += 1\n",
        "            n += 1\n",
        "        print(\"Numer of samples with no words found: %s / %s\" % (emptycount, len(data)))\n",
        "        return X\n",
        "\n",
        "    def fit_transform(self, data):\n",
        "        self.fit(data)\n",
        "        return self.transform(data)"
      ],
      "execution_count": 104,
      "outputs": []
    },
    {
      "cell_type": "code",
      "metadata": {
        "colab": {
          "base_uri": "https://localhost:8080/"
        },
        "id": "v_Uwm4jAlDGO",
        "outputId": "d4986ff9-d1a5-44bf-8ea9-393417e0d5d7"
      },
      "source": [
        "vectorizer = GloveVectorizer(embedding_size=100)"
      ],
      "execution_count": 105,
      "outputs": [
        {
          "output_type": "stream",
          "text": [
            "Loading word vectors...\n",
            "Found 400000 word vectors.\n"
          ],
          "name": "stdout"
        }
      ]
    },
    {
      "cell_type": "code",
      "metadata": {
        "colab": {
          "base_uri": "https://localhost:8080/"
        },
        "id": "XkKSh9wylILV",
        "outputId": "b801ee72-6d12-4bc7-a763-b82954a268c6"
      },
      "source": [
        "# Check how many woords from our vocabulary are present in the glove embeddings\n",
        "print('Unique words from dataset: {}'.format(len(all_unique_words)))\n",
        "glove_words = set(vectorizer.word2vec.keys())\n",
        "dataset_and_glove = all_unique_words.intersection(glove_words)\n",
        "print('Dataset words present in Glove embeddings: {}'.format(len(dataset_and_glove)))"
      ],
      "execution_count": 106,
      "outputs": [
        {
          "output_type": "stream",
          "text": [
            "Unique words from dataset: 87835\n",
            "Dataset words present in Glove embeddings: 71041\n"
          ],
          "name": "stdout"
        }
      ]
    },
    {
      "cell_type": "code",
      "metadata": {
        "colab": {
          "base_uri": "https://localhost:8080/",
          "height": 108
        },
        "id": "RW-6uAK7lZ72",
        "outputId": "89804095-c194-4246-aa52-326b3c49aa0e"
      },
      "source": [
        "# To see what sort of words are part of the dataset but not present in glove embeddings.\n",
        "not_in_glove = all_unique_words - glove_words\n",
        "print(list(not_in_glove)[:20])\n",
        "\n",
        "'''\n",
        "Words that are not present in the glove embeddings fall into one of the below categories:\n",
        "1. misspelt words\n",
        "2. foreign language words\n",
        "3. digits\n",
        "4. concatenation of two words\n",
        "5. unofficial words\n",
        "6. other reasons.\n",
        "\n",
        "We will use zero array embeddings [0, 0, ... , 0] for such words.\n",
        "'''"
      ],
      "execution_count": 120,
      "outputs": [
        {
          "output_type": "stream",
          "text": [
            "['searnings', 'польша', 'kony2012', 'cybe', 'ribeauville', '110deg', 'crowdmap', 'dyngjujökull', 'galantgate', 'daif', 'xiaobos', '08bdaho', 'holande', 'toet', 'daraprim', 'diaf', 'tricorders', 'verdians', 'marsé', 'araab']\n"
          ],
          "name": "stdout"
        },
        {
          "output_type": "execute_result",
          "data": {
            "application/vnd.google.colaboratory.intrinsic+json": {
              "type": "string"
            },
            "text/plain": [
              "'\\nWords that are not present in the glove embeddings fall into one of the below categories:\\n1. misspelt words\\n2. foreign language words\\n3. digits\\n4. concatenation of two words\\n5. unofficial words\\n6. other reasons.\\n\\nWe will use zero array embeddings [0, 0, ... , 0] for such words.\\n'"
            ]
          },
          "metadata": {
            "tags": []
          },
          "execution_count": 120
        }
      ]
    },
    {
      "cell_type": "code",
      "metadata": {
        "colab": {
          "base_uri": "https://localhost:8080/"
        },
        "id": "UyuEYMQQnfov",
        "outputId": "7adb2d81-894d-4dc2-d649-3aa108f9e4e1"
      },
      "source": [
        "# Check the embedding for a word.\n",
        "print(vectorizer.word2vec['happy'])"
      ],
      "execution_count": 108,
      "outputs": [
        {
          "output_type": "stream",
          "text": [
            "[-0.090436   0.19636    0.29474   -0.47706   -0.80436    0.3078\n",
            " -0.55205    0.58453   -0.17056   -0.84846    0.19528    0.23671\n",
            "  0.46827   -0.58977   -0.12163   -0.24697   -0.072944   0.17259\n",
            " -0.0485     0.9527     0.50629    0.58497   -0.19367   -0.45459\n",
            " -0.031095   0.51633   -0.24052   -0.1007     0.53627    0.024225\n",
            " -0.50162    0.73692    0.49468   -0.34744    0.89337    0.057439\n",
            " -0.19127    0.39333    0.21182   -0.89837    0.078704  -0.16344\n",
            "  0.45261   -0.41096   -0.19499   -0.13489   -0.016313  -0.021849\n",
            "  0.17136   -1.2413     0.079503  -0.91144    0.35699    0.36289\n",
            " -0.24934   -2.1196     0.14534    0.52964    0.90134    0.033603\n",
            "  0.022809   0.70625   -1.0362    -0.59809    0.70592   -0.072793\n",
            "  0.67033    0.52763   -0.47807   -0.67374    0.36632   -0.38284\n",
            " -0.10349   -0.6402     0.18104    0.82568    0.066403  -0.40791\n",
            " -0.083813  -0.36487    0.045362  -0.073527  -0.20117    0.37441\n",
            " -1.4024    -0.25605   -0.4708    -0.16145   -0.87921   -0.36325\n",
            " -0.17357   -0.077983   0.43273    0.0089295 -1.0316    -0.11589\n",
            " -0.34524    0.11514   -0.40812    0.20203  ]\n"
          ],
          "name": "stdout"
        }
      ]
    },
    {
      "cell_type": "markdown",
      "metadata": {
        "id": "XVkZitjcTR_u"
      },
      "source": [
        "### Create data and Test-Train split\n",
        "\n",
        "For our classifier we need to create training and testing data. We see that the entire dataset has only 320 positive (over18) examples. We can tolerate some class imbalance but not too much. We tried with multiple sizes of negative examples and noticed that 1000-2000 examples work well. So, we shall use 1500 random negative examples from the dataset to create test+train dataset.\n",
        "\n",
        "After that we will shuffle the data, use 80:20 split for train:test data and train our model. We use K-fold cross validation on the train data to select the best model hyperparameters."
      ]
    },
    {
      "cell_type": "code",
      "metadata": {
        "id": "rZGcwZ8xp5UX"
      },
      "source": [
        "# Create train, validation and test data.\n",
        "# Over 18 data is present in over_18_corpus.\n",
        "\n",
        "# The number of non-over-18 examples to use from the dataset.\n",
        "not_over_18_size = 2000 # 2880\n",
        "not_over_18_corpus = []\n",
        "not_over_18_y = np.zeros(not_over_18_size)\n",
        "\n",
        "# from the first 100_000 titles, choose `not_over_18_size` non-over-18 examples.\n",
        "for chunk in pd.read_csv(filename, sep=',', header=0, chunksize=100_000):\n",
        "    indices = np.random.choice(100000, not_over_18_size + 500)\n",
        "    # print(indices)\n",
        "    for over_18, title in zip(chunk['over_18'][indices], chunk['title'][indices]):\n",
        "        if not over_18:\n",
        "            title = re.sub(r'[^\\w ]', ' ', title)\n",
        "            not_over_18_corpus.append(title)\n",
        "    break\n",
        "not_over_18_corpus = not_over_18_corpus[:not_over_18_size]"
      ],
      "execution_count": 109,
      "outputs": []
    },
    {
      "cell_type": "code",
      "metadata": {
        "colab": {
          "base_uri": "https://localhost:8080/"
        },
        "id": "dl5B7BkSwQps",
        "outputId": "8102f55c-cf7b-4f1c-cc0b-d8e862549a35"
      },
      "source": [
        "print(len(not_over_18_corpus))\n",
        "print(not_over_18_corpus[0:3])\n",
        "print(len(over_18_corpus))\n",
        "over_18_y = np.ones(320)"
      ],
      "execution_count": 110,
      "outputs": [
        {
          "output_type": "stream",
          "text": [
            "2000\n",
            "['New Series documenting the revolution tearing through the Arab world ', 'Can you be a volunteer and teach in Haiti  If not can you help by  telling your friends', 'Comedian Jón Gnarr is the newly elected mayor of Reykjavík  the capital city of Iceland ']\n",
            "320\n"
          ],
          "name": "stdout"
        }
      ]
    },
    {
      "cell_type": "code",
      "metadata": {
        "colab": {
          "base_uri": "https://localhost:8080/"
        },
        "id": "gl_5KMBNw6qT",
        "outputId": "0bed698e-2295-4d31-cfee-30a56871a0a8"
      },
      "source": [
        "# Create the combined data\n",
        "X_combined = over_18_corpus + not_over_18_corpus\n",
        "Y_combined = np.append(over_18_y, not_over_18_y)\n",
        "print(len(X_combined), Y_combined.shape)\n",
        "assert not_over_18_size + 320 == len(X_combined)\n",
        "assert not_over_18_size + 320 == Y_combined.shape[0]\n",
        "\n",
        "# Print some examples\n",
        "print(X_combined[:3])\n",
        "print(X_combined[-3:])"
      ],
      "execution_count": 111,
      "outputs": [
        {
          "output_type": "stream",
          "text": [
            "2320 (2320,)\n",
            "['Pics from the Tibetan protests   more graphic than Wikileaks  nsfw  graphic ', 'MI5 linked to Max Mosley s Nazi style  sadomasochistic sex orgy  Mosley s father led the British Union of Fascists in the 30s and 40s  His mother was a great admirer of Adolf Hitler  NSFW ', 'Tabloid Horrifies Germany  Poland s Yellow Press Turns Blood Red  if you follow the link to the gallery  4th picture is NSFW in the US ']\n",
            "['The Indian state of Kerala is famous as the land of coconuts  But climbing trees has been the only way to pick them  Until now   ', 'Swine flu spread over time  Map ', 'Australia  Wildfire Death Toll Rises To 200  Police']\n"
          ],
          "name": "stdout"
        }
      ]
    },
    {
      "cell_type": "code",
      "metadata": {
        "colab": {
          "base_uri": "https://localhost:8080/"
        },
        "id": "x_xAPi6ty6vM",
        "outputId": "24fa4a5e-28cb-4d64-9b6d-79fccc0f0397"
      },
      "source": [
        "X_matrix = vectorizer.transform(X_combined)\n",
        "Y_matrix = np.array(Y_combined)\n",
        "print(X_matrix.shape, Y_matrix.shape)"
      ],
      "execution_count": 112,
      "outputs": [
        {
          "output_type": "stream",
          "text": [
            "Numer of samples with no words found: 2 / 2320\n",
            "(2320, 100) (2320,)\n"
          ],
          "name": "stdout"
        }
      ]
    },
    {
      "cell_type": "markdown",
      "metadata": {
        "id": "SJegsQ_xTppz"
      },
      "source": [
        "### Pipeline training and evaluation\n",
        "\n",
        "We use pipeline construct to make training and testing easier. Input data is normalized to have mean 0 and variance 1. We use support vector classifier as it performs well on low data regimes and is known to have good performance for classification tasks. We tried various kernels and rbf kernel performs much better than others. Hyperparameters to tune are gamma and C. We use Grid search to find the best values.\n",
        "\n",
        "We use F1 score to select the best hyperparameter rather than accuracy because the data is imbalanced.\n",
        "\n",
        "*Handling very large data:*\n",
        "\n",
        "In this example we sample the input to pick only ~2000 examples to train the model. This is because of very less (320) positive examples. If the ratio of positive and negative examples was better, we could have used more data to train the classifier. In that case, it would be better to use online training models like SGDClassifier which allows partial training over a chunk of training data."
      ]
    },
    {
      "cell_type": "code",
      "metadata": {
        "colab": {
          "base_uri": "https://localhost:8080/"
        },
        "id": "anDtzmLC1uFL",
        "outputId": "7d18247f-0ab7-4b02-b475-6eebdbac7105"
      },
      "source": [
        "from sklearn.svm import SVC\n",
        "from sklearn.preprocessing import StandardScaler\n",
        "from sklearn.datasets import make_classification\n",
        "from sklearn.model_selection import train_test_split\n",
        "from sklearn.pipeline import Pipeline\n",
        "from sklearn.model_selection import GridSearchCV\n",
        "\n",
        "X_train, X_test, y_train, y_test = train_test_split(X_matrix, Y_matrix, random_state=0,\n",
        "                                                    train_size=0.80)\n",
        "\n",
        "# to normalize the data.\n",
        "scalar = StandardScaler()\n",
        "\n",
        "# our binary classifier with class weights because data is not balanced.\n",
        "svc = SVC(class_weight='balanced', kernel='rbf') \n",
        "\n",
        "# To find the best parameter using grid search. We use F1 score as the scoring metric\n",
        "# because of unbalanced classes. Optimizing on accuracy is not correct here.\n",
        "param_grid = {'C': [0.1, 1, 10, 100], 'gamma': [1, 0.1, 0.01, 0.001]}\n",
        "grid_search_svc = GridSearchCV(estimator=svc, param_grid=param_grid, scoring='f1')\n",
        "\n",
        "pipe = Pipeline([('scaler', scalar), ('grid_search_svc', grid_search_svc)])\n",
        "\n",
        "# The pipeline can be used as any other estimator\n",
        "# and avoids leaking the test set into the train set\n",
        "pipe.fit(X_train, y_train)"
      ],
      "execution_count": 113,
      "outputs": [
        {
          "output_type": "execute_result",
          "data": {
            "text/plain": [
              "Pipeline(memory=None,\n",
              "         steps=[('scaler',\n",
              "                 StandardScaler(copy=True, with_mean=True, with_std=True)),\n",
              "                ('grid_search_svc',\n",
              "                 GridSearchCV(cv=None, error_score=nan,\n",
              "                              estimator=SVC(C=1.0, break_ties=False,\n",
              "                                            cache_size=200,\n",
              "                                            class_weight='balanced', coef0=0.0,\n",
              "                                            decision_function_shape='ovr',\n",
              "                                            degree=3, gamma='scale',\n",
              "                                            kernel='rbf', max_iter=-1,\n",
              "                                            probability=False,\n",
              "                                            random_state=None, shrinking=True,\n",
              "                                            tol=0.001, verbose=False),\n",
              "                              iid='deprecated', n_jobs=None,\n",
              "                              param_grid={'C': [0.1, 1, 10, 100],\n",
              "                                          'gamma': [1, 0.1, 0.01, 0.001]},\n",
              "                              pre_dispatch='2*n_jobs', refit=True,\n",
              "                              return_train_score=False, scoring='f1',\n",
              "                              verbose=0))],\n",
              "         verbose=False)"
            ]
          },
          "metadata": {
            "tags": []
          },
          "execution_count": 113
        }
      ]
    },
    {
      "cell_type": "code",
      "metadata": {
        "colab": {
          "base_uri": "https://localhost:8080/"
        },
        "id": "1E_QY0izJLdD",
        "outputId": "3fd58ade-f551-4e6d-e384-2980f4858332"
      },
      "source": [
        "print(pipe.named_steps.grid_search_svc.best_params_)\n",
        "print(pipe.named_steps.grid_search_svc.best_estimator_)"
      ],
      "execution_count": 114,
      "outputs": [
        {
          "output_type": "stream",
          "text": [
            "{'C': 1, 'gamma': 0.01}\n",
            "SVC(C=1, break_ties=False, cache_size=200, class_weight='balanced', coef0=0.0,\n",
            "    decision_function_shape='ovr', degree=3, gamma=0.01, kernel='rbf',\n",
            "    max_iter=-1, probability=False, random_state=None, shrinking=True,\n",
            "    tol=0.001, verbose=False)\n"
          ],
          "name": "stdout"
        }
      ]
    },
    {
      "cell_type": "code",
      "metadata": {
        "colab": {
          "base_uri": "https://localhost:8080/"
        },
        "id": "ZfFpwk3s5FH4",
        "outputId": "5814d012-099e-403f-86c5-2c98e54b5a24"
      },
      "source": [
        "from sklearn.metrics import f1_score\n",
        "\n",
        "y_test_pred = pipe.predict(X_test)\n",
        "print('Mean average accuracy:', np.mean(y_test_pred == y_test))\n",
        "print('F1 score:', f1_score(y_true=y_test, y_pred=y_test_pred), pipe.score(X_test, y_test))"
      ],
      "execution_count": 115,
      "outputs": [
        {
          "output_type": "stream",
          "text": [
            "Mean average accuracy: 0.8728448275862069\n",
            "F1 score: 0.556390977443609 0.556390977443609\n"
          ],
          "name": "stdout"
        }
      ]
    },
    {
      "cell_type": "code",
      "metadata": {
        "id": "r7UrQTXGDgOw"
      },
      "source": [
        "'''\n",
        "For a given title array having multiple titles, tell if they are over_18 or not.\n",
        "Input:\n",
        "    title_array = A list of strings where each string is s title. Length of array is n.\n",
        "Returns:\n",
        "    over_18_array (ndarray): Array of shape (n,). Value 1 indicates over_18 title\n",
        "        and 0 indicates not over_18 title.\n",
        "'''\n",
        "def predict_title_class(title_array):\n",
        "    title_x = vectorizer.transform(title_array)\n",
        "    title_y = pipe.predict(title_x)\n",
        "    return title_y"
      ],
      "execution_count": 116,
      "outputs": []
    },
    {
      "cell_type": "code",
      "metadata": {
        "colab": {
          "base_uri": "https://localhost:8080/"
        },
        "id": "kB03Av7QKyhn",
        "outputId": "a5f22737-f52e-48bf-d229-338381b48454"
      },
      "source": [
        "# Use the classifier to predict some random example sentences. These examples are not\n",
        "# part of the dataset.\n",
        "predict_title_class([\"the usa bombed on someone. what to in crisis? \",\n",
        "                     \"the baseball match was a fun event\",\n",
        "                     \"The woman was found playing in her room.\",\n",
        "                     \"The man was found dead, shot in the head, and naked.\",\n",
        "                     \"sex and the city\",\n",
        "                     \"The man was found with child porn and his penis was cut\",\n",
        "                     \"Machine learning is the new electricity and has huge potential.\"])"
      ],
      "execution_count": 117,
      "outputs": [
        {
          "output_type": "stream",
          "text": [
            "Numer of samples with no words found: 0 / 7\n"
          ],
          "name": "stdout"
        },
        {
          "output_type": "execute_result",
          "data": {
            "text/plain": [
              "array([0., 1., 0., 1., 0., 1., 0.])"
            ]
          },
          "metadata": {
            "tags": []
          },
          "execution_count": 117
        }
      ]
    },
    {
      "cell_type": "code",
      "metadata": {
        "colab": {
          "base_uri": "https://localhost:8080/"
        },
        "id": "m0YTNFUmK7pc",
        "outputId": "59e85722-1862-46fa-c0fd-431e03e99690"
      },
      "source": [
        "'''\n",
        "We picked the training and testing data from the first 100,000 examples. So we use the \n",
        "next 100,000 examples to see the model's performance on them. We precison, recall, F1 scores\n",
        "for 0 (not over18) and 1 (over18) labels.\n",
        "\n",
        "Analysis:\n",
        "The F1 score for label=1 is very low (<0.02). This is because the input data is highly \n",
        "skewed. label_1:label_0 = 75:99925. But the recall on label=1 is high (~0.88) which \n",
        "indicates that an over_18 title is mostly identified correctly.\n",
        "'''\n",
        "\n",
        "from sklearn.metrics import precision_recall_fscore_support\n",
        "\n",
        "# Let's see how our model performs against unseen data.\n",
        "for chunk_no, chunk in enumerate(pd.read_csv(filename, sep=',', header=0, chunksize=100_000)):\n",
        "    # Since we picked train-test data from chunk 0, we use other chunks to test performance.\n",
        "    if chunk_no > 0:\n",
        "        y_test = []\n",
        "        x_test = []\n",
        "        for over_18, title in zip(chunk['over_18'], chunk['title']):\n",
        "            y_test.append(1 if over_18 else 0)\n",
        "            x_test.append(re.sub(r'[^\\w ]', ' ', title))\n",
        "        y_test_pred = predict_title_class(x_test)\n",
        "        # print(y_test)\n",
        "        # print(y_test_pred)\n",
        "        precision, recall, f1score, support = precision_recall_fscore_support(\n",
        "            y_true=y_test, y_pred=y_test_pred, average=None\n",
        "        )\n",
        "        print('precion={}, recall={}, F1={}, support={}'.format(\n",
        "            precision, recall, f1score, support\n",
        "        ))\n",
        "        # Just see performance for 100,000 examples.\n",
        "        break"
      ],
      "execution_count": 118,
      "outputs": [
        {
          "output_type": "stream",
          "text": [
            "Numer of samples with no words found: 10 / 100000\n",
            "precion=[0.99995541 0.00689655], recall=[0.89768326 0.94666667], F1=[0.94606339 0.01369335], support=[99925    75]\n"
          ],
          "name": "stdout"
        }
      ]
    },
    {
      "cell_type": "code",
      "metadata": {
        "id": "tKXTcBNXOnkz"
      },
      "source": [
        ""
      ],
      "execution_count": 118,
      "outputs": []
    }
  ]
}